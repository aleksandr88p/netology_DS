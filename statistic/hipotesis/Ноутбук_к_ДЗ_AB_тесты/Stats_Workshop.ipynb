{
 "cells": [
  {
   "cell_type": "markdown",
   "metadata": {},
   "source": [
    "<h1 style=\"text-align: center;\"><b>Практические примеры использовния статистических тестов\n",
    "</b></h1>"
   ]
  },
  {
   "cell_type": "code",
   "execution_count": null,
   "metadata": {},
   "outputs": [],
   "source": [
    "import numpy as np\n",
    "import pandas as pd\n",
    "import scipy.stats as st\n",
    "import seaborn as sns\n",
    "import datetime\n",
    "import matplotlib.pyplot as plt\n",
    "import plotly.graph_objects as go\n",
    "import plotly.express as px\n",
    "import plotly.io as pio\n",
    "import warnings\n",
    "\n",
    "sns.set_style(\"whitegrid\")\n",
    "pd.options.display.max_colwidth = 18\n",
    "pd.options.display.max_columns = 50\n",
    "pio.templates.default = 'plotly_white'"
   ]
  },
  {
   "cell_type": "code",
   "execution_count": null,
   "metadata": {},
   "outputs": [],
   "source": [
    "\n",
    "\n",
    "\n",
    "\n",
    "\n",
    "\n",
    "\n"
   ]
  },
  {
   "cell_type": "markdown",
   "metadata": {},
   "source": [
    "## 1. Сравнение эффетиквности стратегий в онлайн магазине"
   ]
  },
  {
   "cell_type": "markdown",
   "metadata": {},
   "source": [
    "Компания представила новую стратегию рекомендаций для своего онлайн магазина. Было решено провести A/B тест для сравнения эффективности новой стратегии с предыдущей. Тест выполнялся в течение одного месяца, были собранны данные от 30 клиентов по каждой стратегии и теперь их необходимо проанализировать."
   ]
  },
  {
   "cell_type": "markdown",
   "metadata": {},
   "source": [
    "#### Импорт данных"
   ]
  },
  {
   "cell_type": "code",
   "execution_count": null,
   "metadata": {},
   "outputs": [],
   "source": [
    "df_control = pd.read_csv('control_group.csv', sep = \";\")\n",
    "df_control.head()"
   ]
  },
  {
   "cell_type": "markdown",
   "metadata": {},
   "source": [
    "Иногда для удобства можно переименовать столбцы"
   ]
  },
  {
   "cell_type": "code",
   "execution_count": null,
   "metadata": {},
   "outputs": [],
   "source": [
    "df_control.rename(columns = {'Name':'Имя', 'Date': 'Дата','Spent [USD]': 'Расход USD',\\\n",
    "                             '# of Impressions':'Кол-во показов','Reach':'Охват','# of Clicks':'Кол-во кликов',\\\n",
    "                             '# of Searches':'Кол-во запросов','# of Views':'Кол-во просмотров',\n",
    "                             '# of Add to Cart':'В корзине','# of Purchase':'Кол-во покупок'}, inplace = True)"
   ]
  },
  {
   "cell_type": "code",
   "execution_count": null,
   "metadata": {},
   "outputs": [],
   "source": [
    "df_control.info()"
   ]
  },
  {
   "cell_type": "code",
   "execution_count": null,
   "metadata": {},
   "outputs": [],
   "source": [
    "df_test = pd.read_csv('test_group.csv', sep = \";\")\n",
    "df_test.head()"
   ]
  },
  {
   "cell_type": "code",
   "execution_count": null,
   "metadata": {},
   "outputs": [],
   "source": [
    "df_test.rename(columns = {'Name':'Имя', 'Date': 'Дата','Spent [USD]': 'Расход USD',\\\n",
    "                             '# of Impressions':'Кол-во показов','Reach':'Охват','# of Clicks':'Кол-во кликов',\\\n",
    "                             '# of Searches':'Кол-во запросов','# of Views':'Кол-во просмотров',\n",
    "                             '# of Add to Cart':'В корзине','# of Purchase':'Кол-во покупок'}, inplace = True)"
   ]
  },
  {
   "cell_type": "code",
   "execution_count": null,
   "metadata": {},
   "outputs": [],
   "source": [
    "df_test.info()"
   ]
  },
  {
   "cell_type": "markdown",
   "metadata": {},
   "source": [
    "#### Обработка пропусков в данных"
   ]
  },
  {
   "cell_type": "markdown",
   "metadata": {},
   "source": [
    "1. Если пропусков мало, то такие строки можно просто удалить"
   ]
  },
  {
   "cell_type": "code",
   "execution_count": null,
   "metadata": {},
   "outputs": [],
   "source": [
    "df_drop = df_control.dropna().reset_index(drop = True)"
   ]
  },
  {
   "cell_type": "code",
   "execution_count": null,
   "metadata": {},
   "outputs": [],
   "source": [
    "df_drop.describe()"
   ]
  },
  {
   "cell_type": "markdown",
   "metadata": {},
   "source": [
    "2. Но если данных мало, то стоит поискать альтернативные варианты - например, заполнение похожими значениями"
   ]
  },
  {
   "cell_type": "code",
   "execution_count": null,
   "metadata": {},
   "outputs": [],
   "source": [
    "from sklearn.impute import KNNImputer"
   ]
  },
  {
   "cell_type": "code",
   "execution_count": null,
   "metadata": {},
   "outputs": [],
   "source": [
    "imputer = KNNImputer(weights='distance')"
   ]
  },
  {
   "cell_type": "code",
   "execution_count": null,
   "metadata": {},
   "outputs": [],
   "source": [
    "columns_to_impute = df_control.columns[2:10]\n",
    "imputed_data = imputer.fit_transform(df_control[columns_to_impute])\n",
    "\n",
    "imputed_df = pd.DataFrame(imputed_data, columns=columns_to_impute)"
   ]
  },
  {
   "cell_type": "code",
   "execution_count": null,
   "metadata": {},
   "outputs": [],
   "source": [
    "df_control[columns_to_impute] = imputed_df"
   ]
  },
  {
   "cell_type": "code",
   "execution_count": null,
   "metadata": {},
   "outputs": [],
   "source": [
    "df_control.describe()"
   ]
  },
  {
   "cell_type": "markdown",
   "metadata": {},
   "source": [
    "#### Подготовка данных к анализу"
   ]
  },
  {
   "cell_type": "markdown",
   "metadata": {},
   "source": [
    "Объединим данные в один фрейм и рассчитаем несколько ключевых характеристик"
   ]
  },
  {
   "cell_type": "code",
   "execution_count": null,
   "metadata": {},
   "outputs": [],
   "source": [
    "df = pd.concat([df_test,df_control])\n",
    "df = df.reset_index()\n",
    "\n",
    "df['USD за покупку'] = round(df['Расход USD']/df['Кол-во покупок'],2)\n",
    "\n",
    "df['CTR(%)'] = round(df['Кол-во кликов']*100/df['Кол-во показов'],2)\n",
    "\n",
    "df['Конверсия(%)'] = round(df['Кол-во покупок']*100/df['Кол-во кликов'],2)"
   ]
  },
  {
   "cell_type": "code",
   "execution_count": null,
   "metadata": {
    "scrolled": true
   },
   "outputs": [],
   "source": [
    "df = df.drop(['index'], axis=1)\n",
    "df"
   ]
  },
  {
   "cell_type": "markdown",
   "metadata": {},
   "source": [
    "#### Визуализация данных"
   ]
  },
  {
   "cell_type": "markdown",
   "metadata": {},
   "source": [
    "Целью данного этапа яявляется проверка адекватности собранных данных, а также выявление идей для дальнейшего анализа"
   ]
  },
  {
   "cell_type": "code",
   "execution_count": null,
   "metadata": {},
   "outputs": [],
   "source": [
    "sns.set_theme(style=\"ticks\")\n",
    "g = sns.jointplot(\n",
    "    data=df,\n",
    "    x=\"CTR(%)\", y=\"Конверсия(%)\", hue=\"Имя\",\n",
    "    kind=\"kde\",\n",
    ")\n",
    "plt.show()"
   ]
  },
  {
   "cell_type": "code",
   "execution_count": null,
   "metadata": {},
   "outputs": [],
   "source": [
    "sns.set_theme(style=\"ticks\")\n",
    "g = sns.jointplot(\n",
    "    data=df,\n",
    "    x=\"Кол-во кликов\", y=\"Кол-во покупок\", hue=\"Имя\",\n",
    "    kind=\"kde\",\n",
    ")\n",
    "plt.show()"
   ]
  },
  {
   "cell_type": "code",
   "execution_count": null,
   "metadata": {},
   "outputs": [],
   "source": [
    "sns.set_theme(style=\"ticks\")\n",
    "g = sns.jointplot(\n",
    "    data=df,\n",
    "    x=\"В корзине\", y=\"Кол-во покупок\", hue=\"Имя\",\n",
    "    kind=\"kde\",\n",
    ")\n",
    "plt.show()"
   ]
  },
  {
   "cell_type": "code",
   "execution_count": null,
   "metadata": {},
   "outputs": [],
   "source": [
    "sns.set_theme(style=\"ticks\")\n",
    "g = sns.jointplot(\n",
    "    data=df,\n",
    "    x=\"Расход USD\", y=\"USD за покупку\", hue=\"Имя\",\n",
    "    kind=\"kde\",\n",
    ")\n",
    "plt.show()"
   ]
  },
  {
   "cell_type": "code",
   "execution_count": null,
   "metadata": {},
   "outputs": [],
   "source": [
    "sns.set_theme(style=\"ticks\")\n",
    "g = sns.jointplot(\n",
    "    data=df,\n",
    "    x=\"Кол-во показов\", y=\"Охват\", hue=\"Имя\",\n",
    "    kind=\"kde\",\n",
    ")\n",
    "plt.show()"
   ]
  },
  {
   "cell_type": "markdown",
   "metadata": {},
   "source": [
    "#### Проверка гипотез"
   ]
  },
  {
   "cell_type": "markdown",
   "metadata": {},
   "source": [
    "<b>Идея 1.</b> Проверка новой и старой кампаний на предмет эффективности расходов. "
   ]
  },
  {
   "cell_type": "code",
   "execution_count": null,
   "metadata": {},
   "outputs": [],
   "source": [
    "total_spend = df.groupby(['Имя'])['Расход USD'].sum().reset_index()\n",
    "total_spend"
   ]
  },
  {
   "cell_type": "code",
   "execution_count": null,
   "metadata": {},
   "outputs": [],
   "source": [
    "spend_per_purchase = df.groupby(['Имя'])['USD за покупку'].mean().reset_index()\n",
    "spend_per_purchase"
   ]
  },
  {
   "cell_type": "markdown",
   "metadata": {},
   "source": [
    "Из цифр видно, что тестовая компания требует больших расходов, но является ли эта разница статистически значимой или скорее случайной?\n",
    "Чтобы ответить на этот вопрос, проведем статистический тест. "
   ]
  },
  {
   "cell_type": "markdown",
   "metadata": {},
   "source": [
    "Для начала определимся с распределением данных"
   ]
  },
  {
   "cell_type": "code",
   "execution_count": null,
   "metadata": {},
   "outputs": [],
   "source": [
    "data_1 = df.loc[df['Имя']=='Control Campaign']['USD за покупку'].values\n",
    "data_2 = df.loc[df['Имя']=='Test Campaign']['USD за покупку'].values"
   ]
  },
  {
   "cell_type": "code",
   "execution_count": null,
   "metadata": {},
   "outputs": [],
   "source": [
    "sns.kdeplot(data_1, label=\"Control\", fill = True, color = '#000000')\n",
    "sns.kdeplot(data_2, label=\"Test\", fill = True, color = '#B22222')\n",
    "plt.legend()\n",
    "plt.show()"
   ]
  },
  {
   "cell_type": "code",
   "execution_count": null,
   "metadata": {},
   "outputs": [],
   "source": [
    "stat, p = st.shapiro(data_1)\n",
    "\n",
    "print(f'stat = {stat:.3f}, p = {p:.5f}')\n",
    "if p > 0.05:\n",
    "    print('Вероятно нормальное распределение')\n",
    "else:\n",
    "    print('Вероятно не нормальное распределение')"
   ]
  },
  {
   "cell_type": "code",
   "execution_count": null,
   "metadata": {},
   "outputs": [],
   "source": [
    "stat, p = st.shapiro(data_2)\n",
    "\n",
    "print(f'stat = {stat:.3f}, p = {p:.5f}')\n",
    "if p > 0.05:\n",
    "    print('Вероятно нормальное распределение')\n",
    "else:\n",
    "    print('Вероятно не нормальное распределение')"
   ]
  },
  {
   "cell_type": "markdown",
   "metadata": {},
   "source": [
    "Распределение ненормальное, поэтому будем использовать критерий Манна-Уитни"
   ]
  },
  {
   "cell_type": "code",
   "execution_count": null,
   "metadata": {},
   "outputs": [],
   "source": [
    "stat, p = st.mannwhitneyu(data_1, data_2)\n",
    "\n",
    "print(f\"Статистика = {stat:.5f}, p = {p:.5f}\")\n",
    "\n",
    "if p > 0.05:\n",
    "    print('Не отклоняем нулевую гипотезу, распределения, вероятно, одинаковые')\n",
    "else:\n",
    "    print('Отклоняем нулевую гипотезу, распределения, вероятно, различаются')"
   ]
  },
  {
   "cell_type": "markdown",
   "metadata": {},
   "source": [
    "<b>Вывод.</b> Тест не показал наличие статистически значимой разницы в расходах - при текущих данных мы не можем утверждать, что тестовая компания будет обходится нам дороже. "
   ]
  },
  {
   "cell_type": "markdown",
   "metadata": {},
   "source": [
    "<b>Идея 2.</b> Проверка новой и старой кампаний на предмет увеличения числа покупок. "
   ]
  },
  {
   "cell_type": "code",
   "execution_count": null,
   "metadata": {},
   "outputs": [],
   "source": [
    "num_of_purchase = df.groupby(['Имя'])['Кол-во покупок'].sum().reset_index()\n",
    "num_of_purchase"
   ]
  },
  {
   "cell_type": "markdown",
   "metadata": {},
   "source": [
    "Цифры показывают незначительное падение продаж для новой кампании, но является ли оно статистически значимым?"
   ]
  },
  {
   "cell_type": "code",
   "execution_count": null,
   "metadata": {},
   "outputs": [],
   "source": [
    "data_1 = df.loc[df['Имя']=='Control Campaign']['Кол-во покупок'].values\n",
    "data_2 = df.loc[df['Имя']=='Test Campaign']['Кол-во покупок'].values"
   ]
  },
  {
   "cell_type": "code",
   "execution_count": null,
   "metadata": {},
   "outputs": [],
   "source": [
    "sns.kdeplot(data_1, label=\"Control\", fill = True, color = '#000000')\n",
    "sns.kdeplot(data_2, label=\"Test\", fill = True, color = '#B22222')\n",
    "plt.legend()\n",
    "plt.show()"
   ]
  },
  {
   "cell_type": "code",
   "execution_count": null,
   "metadata": {},
   "outputs": [],
   "source": [
    "stat, p = st.shapiro(data_1)\n",
    "\n",
    "print(f\"Статистика = {stat:.5f}, p = {p:.5f}\")\n",
    "if p > 0.05:\n",
    "    print('Вероятно нормальное распределение')\n",
    "else:\n",
    "    print('Вероятно не нормальное распределение')"
   ]
  },
  {
   "cell_type": "code",
   "execution_count": null,
   "metadata": {},
   "outputs": [],
   "source": [
    "stat, p = st.shapiro(data_2)\n",
    "\n",
    "print(f\"Статистика = {stat:.5f}, p = {p:.5f}\")\n",
    "if p > 0.05:\n",
    "    print('Вероятно нормальное распределение')\n",
    "else:\n",
    "    print('Вероятно не нормальное распределение')"
   ]
  },
  {
   "cell_type": "markdown",
   "metadata": {},
   "source": [
    "Распределение ненормальное, поэтому будем использовать критерий Манна-Уитни"
   ]
  },
  {
   "cell_type": "code",
   "execution_count": null,
   "metadata": {},
   "outputs": [],
   "source": [
    "stat, p = st.mannwhitneyu(data_1, data_2)\n",
    "\n",
    "print(f\"Статистика = {stat:.5f}, p = {p:.5f}\")\n",
    "\n",
    "if p > 0.05:\n",
    "    print('Не отклоняем нулевую гипотезу, распределения, вероятно, одинаковые')\n",
    "else:\n",
    "    print('Отклоняем нулевую гипотезу, распределения, вероятно, различаются')"
   ]
  },
  {
   "cell_type": "markdown",
   "metadata": {},
   "source": [
    "<b>Вывод.</b> Тест не показал наличие статистически значимой разницы в продажах - при текущих данных мы не можем утверждать, что тестовая компания уменьшает или увеличивает продажи. "
   ]
  },
  {
   "cell_type": "markdown",
   "metadata": {},
   "source": [
    "<b>Идея 3.</b> Проверка новой и старой кампаний на предмет увеличения конверсии клиентов. "
   ]
  },
  {
   "cell_type": "code",
   "execution_count": null,
   "metadata": {},
   "outputs": [],
   "source": [
    "df_2 = df.copy()\n",
    "df_2 = df_2.drop(['Дата'], axis=1)\n",
    "df_2['Имя'] = pd.get_dummies(df_2['Имя'], drop_first=True)\n",
    "df_2 = df_2.reset_index(drop=True)\n",
    "test_g = df_2[df_2['Имя']==1]\n",
    "control_g = df_2[df_2['Имя']==0]"
   ]
  },
  {
   "cell_type": "code",
   "execution_count": null,
   "metadata": {},
   "outputs": [],
   "source": [
    "test_group = test_g['Конверсия(%)']\n",
    "test_group.describe()"
   ]
  },
  {
   "cell_type": "code",
   "execution_count": null,
   "metadata": {},
   "outputs": [],
   "source": [
    "control_group = control_g['Конверсия(%)']\n",
    "control_group.describe()"
   ]
  },
  {
   "cell_type": "code",
   "execution_count": null,
   "metadata": {},
   "outputs": [],
   "source": [
    "sns.kdeplot(control_group, label=\"Control\", fill = True, color = '#000000')\n",
    "sns.kdeplot(test_group, label=\"Test\", fill = True, color = '#B22222')\n",
    "plt.legend()\n",
    "plt.show()"
   ]
  },
  {
   "cell_type": "code",
   "execution_count": null,
   "metadata": {
    "scrolled": false
   },
   "outputs": [],
   "source": [
    "sns.boxplot(df['Конверсия(%)']);"
   ]
  },
  {
   "cell_type": "markdown",
   "metadata": {},
   "source": [
    "Наблюдаем несколько необычно больших значений конверсии. Такие события происходят редко, поэтому мы можем исключить их из рассмотрения."
   ]
  },
  {
   "cell_type": "code",
   "execution_count": null,
   "metadata": {},
   "outputs": [],
   "source": [
    "print(np.where(df['Конверсия(%)']>25))"
   ]
  },
  {
   "cell_type": "code",
   "execution_count": null,
   "metadata": {},
   "outputs": [],
   "source": [
    "df_2 = df_2[df_2['Конверсия(%)']<25]\n",
    "test_g = df_2[df_2['Имя']==1]\n",
    "control_g = df_2[df_2['Имя']==0]\n",
    "test_group = test_g['Конверсия(%)']\n",
    "control_group = control_g['Конверсия(%)']"
   ]
  },
  {
   "cell_type": "code",
   "execution_count": null,
   "metadata": {},
   "outputs": [],
   "source": [
    "sns.kdeplot(control_group, label=\"Control\", fill = True, color = '#000000')\n",
    "sns.kdeplot(test_group, label=\"Test\", fill = True, color = '#B22222')\n",
    "plt.legend()\n",
    "plt.show()"
   ]
  },
  {
   "cell_type": "code",
   "execution_count": null,
   "metadata": {},
   "outputs": [],
   "source": [
    "stat, p = st.shapiro(test_group)\n",
    "\n",
    "print(f\"Статистика = {stat:.5f}, p = {p:.5f}\")\n",
    "if p > 0.05:\n",
    "    print('Вероятно нормальное распределение')\n",
    "else:\n",
    "    print('Вероятно не нормальное распределение')"
   ]
  },
  {
   "cell_type": "code",
   "execution_count": null,
   "metadata": {},
   "outputs": [],
   "source": [
    "stat, p = st.shapiro(control_group)\n",
    "\n",
    "print(f\"Статистика = {stat:.5f}, p = {p:.5f}\")\n",
    "if p > 0.05:\n",
    "    print('Вероятно нормальное распределение')\n",
    "else:\n",
    "    print('Вероятно не нормальное распределение')"
   ]
  },
  {
   "cell_type": "markdown",
   "metadata": {},
   "source": [
    "Используем критерий Манна-Уитни. "
   ]
  },
  {
   "cell_type": "code",
   "execution_count": null,
   "metadata": {},
   "outputs": [],
   "source": [
    "stat, p = st.mannwhitneyu(control_group, test_group)\n",
    "\n",
    "print(f\"Статистика = {stat:.5f}, p = {p:.5f}\")\n",
    "\n",
    "if p > 0.05:\n",
    "    print('Не отклоняем нулевую гипотезу, распределения, вероятно, одинаковые')\n",
    "else:\n",
    "    print('Отклоняем нулевую гипотезу, распределения, вероятно, различаются')"
   ]
  },
  {
   "cell_type": "markdown",
   "metadata": {},
   "source": [
    "А что если использовать тест Стъюдента, ведь распределения данных близк к нормальным. Для этого необходимо вначале проверить равенство вариаций. "
   ]
  },
  {
   "cell_type": "code",
   "execution_count": null,
   "metadata": {},
   "outputs": [],
   "source": [
    "stat, p = st.levene(control_group, test_group)\n",
    "\n",
    "print(f\"Статистика = {stat:.5f}, p = {p:.5f}\")\n",
    "\n",
    "if p > 0.05:\n",
    "    print(\"Не отклоняем нулевую гипотезу >> Вариация в группах одинаковая\")\n",
    "else:\n",
    "    print(\"Отклоняем нулевую гипотезу >> Вариация в группах различается\")"
   ]
  },
  {
   "cell_type": "code",
   "execution_count": null,
   "metadata": {},
   "outputs": [],
   "source": [
    "stat, p = st.ttest_ind(control_group, test_group)\n",
    "\n",
    "print(f\"Статистика = {stat:.5f}, p = {p:.5f}\")\n",
    "\n",
    "if p > 0.05:\n",
    "    print('Не отклоняем нулевую гипотезу, распределения, вероятно, одинаковые')\n",
    "else:\n",
    "    print('Отклоняем нулевую гипотезу, распределения, вероятно, различаются')"
   ]
  },
  {
   "cell_type": "markdown",
   "metadata": {},
   "source": [
    "<b>Вывод.</b> Тест не показал наличие статистически значимой разницы в конверсии. На основе трех проведенных исследований можно утверждать, что новая кампания не позволяет улучшить показатели ни по одному из трех критериев. "
   ]
  },
  {
   "cell_type": "markdown",
   "metadata": {},
   "source": [
    "<b>Анализ трендов.</b> Наличие или отстутсвие эффекта при текущих данных не означает сохранение эффекта в будущем. Для простого анализа тенденций можно использовать линейные регрессионные модели. "
   ]
  },
  {
   "cell_type": "code",
   "execution_count": null,
   "metadata": {},
   "outputs": [],
   "source": [
    "warnings.filterwarnings(\"ignore\", category = FutureWarning, module=\"plotly\")"
   ]
  },
  {
   "cell_type": "code",
   "execution_count": null,
   "metadata": {},
   "outputs": [],
   "source": [
    "fig = px.scatter(data_frame=df, \n",
    "                 x = 'Кол-во показов',\n",
    "                 y = 'Расход USD',\n",
    "                 size = 'Расход USD',\n",
    "                 color = 'Имя',\n",
    "                 trendline = 'ols'\n",
    "                )\n",
    "fig.show()"
   ]
  },
  {
   "cell_type": "code",
   "execution_count": null,
   "metadata": {},
   "outputs": [],
   "source": [
    "fig = px.scatter(df, x='Кол-во показов', \n",
    "                 y='Кол-во кликов', \n",
    "                 size='Кол-во кликов', \n",
    "                 color='Имя', trendline='ols')\n",
    "fig.show()"
   ]
  },
  {
   "cell_type": "code",
   "execution_count": null,
   "metadata": {},
   "outputs": [],
   "source": [
    "fig = px.scatter(df, x='В корзине', \n",
    "                 y='Кол-во покупок', \n",
    "                 size='Кол-во покупок', \n",
    "                 color='Имя', trendline='ols')\n",
    "fig.show()"
   ]
  },
  {
   "cell_type": "markdown",
   "metadata": {},
   "source": [
    "## 2. Анализ качества продукции в фармацевтической компании"
   ]
  },
  {
   "cell_type": "markdown",
   "metadata": {},
   "source": [
    "Фармацевтическая компания обеспокоена качеством изготавливаемой продукции на разных производственных линиях. Руководство хочет сравнить продукцию, выпускаемую в разные смены на разных линиях на предмет концентрации активного ингридиента в таблетках как с точки зрения среднего значения, так и по уровню вариации. \n",
    "\n",
    "Критическим считается различием более чем в одну $\\sigma$ (стандартное отклонение).  Для достоверности исследования мощность должна составлять не менее $80\\%$"
   ]
  },
  {
   "cell_type": "code",
   "execution_count": null,
   "metadata": {},
   "outputs": [],
   "source": [
    "import numpy as np\n",
    "import scipy.stats as st\n",
    "import statsmodels.api\n",
    "import pandas as pd\n",
    "import statsmodels.api as sm\n",
    "import pylab as py\n",
    "from statsmodels.stats.power import FTestAnovaPower\n",
    "from statsmodels.stats.oneway import effectsize_oneway"
   ]
  },
  {
   "cell_type": "markdown",
   "metadata": {},
   "source": [
    "#### Анализ мощности"
   ]
  },
  {
   "cell_type": "markdown",
   "metadata": {},
   "source": [
    "Сбор данных на производстве может быть дорогостоящим, поэтому необходимо заранее понимать какая точность анализа необходима и сколько нужно собрать данных для достижения этой точности. "
   ]
  },
  {
   "cell_type": "markdown",
   "metadata": {},
   "source": [
    "Сначала необходимо определить величину эффекта - какую разницу мы хотим, чтобы наш тест обнаружил. "
   ]
  },
  {
   "cell_type": "code",
   "execution_count": null,
   "metadata": {},
   "outputs": [],
   "source": [
    "nobs = np.array([10, 10, 10])\n",
    "delta = 1.5 \n",
    "means_alt = np.array([-1, 0, 1]) * delta\n",
    "vars_ = np.arange(1, len(means_alt) + 1)\n",
    "\n",
    "effect = effectsize_oneway(means_alt, vars_, nobs, use_var=\"equal\")\n",
    "effect"
   ]
  },
  {
   "cell_type": "markdown",
   "metadata": {},
   "source": [
    "Теперь определим требуемый размер выборки"
   ]
  },
  {
   "cell_type": "code",
   "execution_count": null,
   "metadata": {},
   "outputs": [],
   "source": [
    "alpha = 0.05\n",
    "power = 0.80\n",
    "\n",
    "analysis = FTestAnovaPower()\n",
    "result = np.ceil(analysis.solve_power(effect, power=power, nobs=None, alpha=alpha, k_groups=3))\n",
    "print(f\"Необходимый размер выборки: {result:.0f}\")"
   ]
  },
  {
   "cell_type": "code",
   "execution_count": null,
   "metadata": {},
   "outputs": [],
   "source": [
    "from numpy import array\n",
    "from matplotlib import pyplot\n",
    "\n",
    "effect_sizes = array([effect])\n",
    "sample_sizes = array(range(10, 40))\n",
    "\n",
    "analysis = FTestAnovaPower()\n",
    "analysis.plot_power(dep_var='nobs', nobs=sample_sizes, effect_size=effect_sizes)\n",
    "pyplot.show()"
   ]
  },
  {
   "cell_type": "markdown",
   "metadata": {},
   "source": [
    "Также можно построить обратный график - зависимость мощности от величины эффекта"
   ]
  },
  {
   "cell_type": "code",
   "execution_count": null,
   "metadata": {},
   "outputs": [],
   "source": [
    "import numpy as np\n",
    "from matplotlib import pyplot as plt\n",
    "from statsmodels.stats.power import FTestAnovaPower\n",
    "\n",
    "# Define the effect sizes and sample size\n",
    "effect_sizes = np.linspace(0.01, 1.0, num=50)  # Example effect sizes\n",
    "sample_size = 30  # Example sample size\n",
    "\n",
    "fig, ax = plt.subplots()\n",
    "\n",
    "# Create an instance of the FTestAnovaPower class\n",
    "analysis = FTestAnovaPower()\n",
    "\n",
    "# Initialize lists to store effect sizes and power values\n",
    "effect_list = []\n",
    "power_list = []\n",
    "\n",
    "# Calculate power for each effect size\n",
    "for effect in effect_sizes:\n",
    "    power = analysis.power(effect_size=effect, nobs=sample_size, alpha = alpha)\n",
    "    effect_list.append(effect)\n",
    "    power_list.append(power)\n",
    "\n",
    "# Plot a joined line connecting the points\n",
    "ax.plot(effect_list, power_list, linestyle='-', label='Power vs Effect Size')\n",
    "\n",
    "# Add labels and legend\n",
    "ax.set_xlabel('Effect Size')\n",
    "ax.set_ylabel('Power')\n",
    "ax.set_title('Power Analysis')\n",
    "\n",
    "# Show the plot\n",
    "plt.show()\n"
   ]
  },
  {
   "cell_type": "markdown",
   "metadata": {},
   "source": [
    "Теперь когда мы знаем сколько данных нам необходимо, давайте из соберем и проанализируем. "
   ]
  },
  {
   "cell_type": "markdown",
   "metadata": {},
   "source": [
    "#### Импорт данных"
   ]
  },
  {
   "cell_type": "code",
   "execution_count": null,
   "metadata": {},
   "outputs": [],
   "source": [
    "df = pd.read_excel('actIngrid.xlsx')\n",
    "df.head()"
   ]
  },
  {
   "cell_type": "code",
   "execution_count": null,
   "metadata": {},
   "outputs": [],
   "source": [
    "df.info()"
   ]
  },
  {
   "cell_type": "code",
   "execution_count": null,
   "metadata": {},
   "outputs": [],
   "source": [
    "import matplotlib.pyplot as plt\n",
    "import seaborn as sns"
   ]
  },
  {
   "cell_type": "code",
   "execution_count": null,
   "metadata": {
    "scrolled": false
   },
   "outputs": [],
   "source": [
    "sns.relplot(data=df, x=df['Shift'], y=df['Ingredient']);"
   ]
  },
  {
   "cell_type": "code",
   "execution_count": null,
   "metadata": {},
   "outputs": [],
   "source": [
    "sns.relplot(data=df, x=df['Shift'], y=df['Ingredient'], kind = \"line\");"
   ]
  },
  {
   "cell_type": "markdown",
   "metadata": {},
   "source": [
    "Графики показывают, что есть заметная разница между средними значениями трех групп. Определим, является ли данная разница статистически значимой. "
   ]
  },
  {
   "cell_type": "markdown",
   "metadata": {},
   "source": [
    "#### Дисперсионный анализ (ANOVA) "
   ]
  },
  {
   "cell_type": "code",
   "execution_count": null,
   "metadata": {},
   "outputs": [],
   "source": [
    "data_1 = df.loc[df['Shift']=='A']['Ingredient'].values\n",
    "data_2 = df.loc[df['Shift']=='B']['Ingredient'].values\n",
    "data_3 = df.loc[df['Shift']=='C']['Ingredient'].values"
   ]
  },
  {
   "cell_type": "markdown",
   "metadata": {},
   "source": [
    "Проверим распределения данных с помощью графика и с помощью тестов. "
   ]
  },
  {
   "cell_type": "code",
   "execution_count": null,
   "metadata": {},
   "outputs": [],
   "source": [
    "res1 = st.probplot(data_1, plot=plt)"
   ]
  },
  {
   "cell_type": "code",
   "execution_count": null,
   "metadata": {},
   "outputs": [],
   "source": [
    "stat, p = st.shapiro(data_1)\n",
    "\n",
    "print(f\"Статистика = {stat:.5f}, p = {p:.5f}\")\n",
    "\n",
    "if p > 0.05:\n",
    "    print('Вероятно нормальное распределение')\n",
    "else:\n",
    "    print('Вероятно не нормальное распределение')"
   ]
  },
  {
   "cell_type": "code",
   "execution_count": null,
   "metadata": {},
   "outputs": [],
   "source": [
    "res2 = st.probplot(data_2, plot=plt)"
   ]
  },
  {
   "cell_type": "code",
   "execution_count": null,
   "metadata": {},
   "outputs": [],
   "source": [
    "stat, p = st.shapiro(data_2)\n",
    "\n",
    "print(f\"Статистика = {stat:.5f}, p = {p:.5f}\")\n",
    "\n",
    "if p > 0.05:\n",
    "    print('Вероятно нормальное распределение')\n",
    "else:\n",
    "    print('Вероятно не нормальное распределение')"
   ]
  },
  {
   "cell_type": "code",
   "execution_count": null,
   "metadata": {},
   "outputs": [],
   "source": [
    "res3 = st.probplot(data_3, plot=plt)"
   ]
  },
  {
   "cell_type": "code",
   "execution_count": null,
   "metadata": {},
   "outputs": [],
   "source": [
    "stat, p = st.shapiro(data_3)\n",
    "\n",
    "print(f\"Статистика = {stat:.5f}, p = {p:.5f}\")\n",
    "\n",
    "if p > 0.05:\n",
    "    print('Вероятно нормальное распределение')\n",
    "else:\n",
    "    print('Вероятно не нормальное распределение')"
   ]
  },
  {
   "cell_type": "markdown",
   "metadata": {},
   "source": [
    "Прежде чем переходить к дисперсионному анализу, проверим равенство вариаций. "
   ]
  },
  {
   "cell_type": "code",
   "execution_count": null,
   "metadata": {},
   "outputs": [],
   "source": [
    "stat, p = st.levene(data_1,data_2,data_3)\n",
    "\n",
    "print(f\"Статистика = {stat:.5f}, p = {p:.5f}\")\n",
    "\n",
    "if p <0.05:\n",
    "    print(\"Отклоняем нулевую гипотезу >> Вариация в группах раличается\")\n",
    "else:\n",
    "    print(\"Не отклоняем нулевую гипотезу >> Вариация в группах одинаковая\")"
   ]
  },
  {
   "cell_type": "markdown",
   "metadata": {},
   "source": [
    "Теперь используем однофакторный дисперсионный анализ."
   ]
  },
  {
   "cell_type": "code",
   "execution_count": null,
   "metadata": {},
   "outputs": [],
   "source": [
    "fvalue, pvalue = st.f_oneway(data_1,data_2,data_3)\n",
    "\n",
    "print(f\"Статистика = {fvalue:.5f}, p = {pvalue:.5f}\")\n",
    "\n",
    "if pvalue > 0.05:\n",
    "    print('Не отклоняем нулевую гипотезу, средние, вероятно, одинаковые')\n",
    "else:\n",
    "    print('Отклоняем нулевую гипотезу, средние, вероятно, различаются')"
   ]
  },
  {
   "cell_type": "markdown",
   "metadata": {},
   "source": [
    "То же самое, но более профессионально. Подход с использованием обощенных линейных моделей позволяет решать более продвинутые задачи и моделировать более сложные процессы. Для успешного использования необходимы углубленные знания статистики. Иногда продвинутые модели легче использовать в специальных статистических пакетах, например Minitab. "
   ]
  },
  {
   "cell_type": "code",
   "execution_count": null,
   "metadata": {},
   "outputs": [],
   "source": [
    "from statsmodels.formula.api import ols"
   ]
  },
  {
   "cell_type": "code",
   "execution_count": null,
   "metadata": {},
   "outputs": [],
   "source": [
    "model = ols('Ingredient ~ C(Shift)',\n",
    "            data=df).fit()\n",
    "result = sm.stats.anova_lm(model, type=1)\n",
    "  \n",
    "# Print the result\n",
    "print(result)"
   ]
  },
  {
   "cell_type": "code",
   "execution_count": null,
   "metadata": {},
   "outputs": [],
   "source": [
    "print(str(model.summary()))"
   ]
  },
  {
   "cell_type": "markdown",
   "metadata": {},
   "source": [
    "После обнаружения статистически значимого эффекта необходимо дополнительное исследование с учетом проблемы множественного сравнения. "
   ]
  },
  {
   "cell_type": "markdown",
   "metadata": {},
   "source": [
    "#### Множественное сравнения - критерий Тьюки"
   ]
  },
  {
   "cell_type": "code",
   "execution_count": null,
   "metadata": {},
   "outputs": [],
   "source": [
    "from statsmodels.stats.multicomp import pairwise_tukeyhsd\n",
    "\n",
    "tukey = pairwise_tukeyhsd(endog=df['Ingredient'].values,\n",
    "                          groups=df['Shift'],\n",
    "                          alpha=0.05)\n",
    "print(tukey)"
   ]
  },
  {
   "cell_type": "code",
   "execution_count": null,
   "metadata": {},
   "outputs": [],
   "source": [
    "tukey.plot_simultaneous(comparison_name=\"B\");"
   ]
  },
  {
   "cell_type": "markdown",
   "metadata": {},
   "source": [
    "#### Выводы"
   ]
  },
  {
   "cell_type": "markdown",
   "metadata": {},
   "source": [
    "Мы обнаружили, что одна из линий статистически отличается по концетрации активного вещества от двух других в меньшую сторону. Это может говорить об ухудшении качества продукции. \n",
    "\n",
    "При сравнении числа групп больше 2 использование дисперсионного анализа является предпочтительным по причине неточностей, возникающих при множественном сравнении. В общем случае нормальность данных неявляется критическим условием при больших размерах выборки. "
   ]
  },
  {
   "cell_type": "markdown",
   "metadata": {},
   "source": [
    "## 3. Оптимизаци маркетинговой стратегии"
   ]
  },
  {
   "cell_type": "markdown",
   "metadata": {},
   "source": [
    "Компания анализирует свои расходы на рекламу с целью оптимизации маркетинговой стратегии. У нас есть данные по двум группам людей - кому показали рекламу (ad) и кому показали просто публичное объявление (psa). Для каждого учатсника эксперимента оценивается конверсия. Дополнительная информация:\n",
    "* Total ads. Сколько раз человек видел рекламу/объявление.\n",
    "* Most ads day. В какой день человек видел наибольшее число рекламы/объявлений.\n",
    "* Most ads hour. В какой час человек видел наибольшее число рекламы/объявлений."
   ]
  },
  {
   "cell_type": "code",
   "execution_count": null,
   "metadata": {},
   "outputs": [],
   "source": [
    "import pandas as pd\n",
    "import numpy as np\n",
    "import matplotlib.pyplot as plt\n",
    "import seaborn as sns\n",
    "from scipy.stats import norm\n",
    "from statsmodels.stats import power\n",
    "from statsmodels.stats.proportion import proportions_ztest\n",
    "sns.set_style(\"whitegrid\")"
   ]
  },
  {
   "cell_type": "code",
   "execution_count": null,
   "metadata": {},
   "outputs": [],
   "source": [
    "df = pd.read_csv('marketing.csv')\n",
    "df.head()"
   ]
  },
  {
   "cell_type": "code",
   "execution_count": null,
   "metadata": {},
   "outputs": [],
   "source": [
    "df.info()"
   ]
  },
  {
   "cell_type": "markdown",
   "metadata": {},
   "source": [
    "#### Подготовка данных"
   ]
  },
  {
   "cell_type": "markdown",
   "metadata": {},
   "source": [
    "Удалим дублирующий первый столбец"
   ]
  },
  {
   "cell_type": "code",
   "execution_count": null,
   "metadata": {},
   "outputs": [],
   "source": [
    "df = df.drop(columns = ['Unnamed: 0'])\n",
    "df.head()"
   ]
  },
  {
   "cell_type": "markdown",
   "metadata": {},
   "source": [
    "Иногда для удобства можно автоматически превращать имена столбцов в одной слово, заменяя пробелы на подчеркивания"
   ]
  },
  {
   "cell_type": "code",
   "execution_count": null,
   "metadata": {},
   "outputs": [],
   "source": [
    "df.columns = df.columns.str.replace(' ', '_')\n",
    "df.head()"
   ]
  },
  {
   "cell_type": "markdown",
   "metadata": {},
   "source": [
    "Проверка на наличие дублирующихся записей"
   ]
  },
  {
   "cell_type": "code",
   "execution_count": null,
   "metadata": {},
   "outputs": [],
   "source": [
    "df[df.duplicated()]"
   ]
  },
  {
   "cell_type": "markdown",
   "metadata": {},
   "source": [
    "Проверка на наличие пропусков"
   ]
  },
  {
   "cell_type": "code",
   "execution_count": null,
   "metadata": {},
   "outputs": [],
   "source": [
    "df.isna().sum()"
   ]
  },
  {
   "cell_type": "markdown",
   "metadata": {},
   "source": [
    "Проверка адекватности данных с помощью описательной статистики"
   ]
  },
  {
   "cell_type": "code",
   "execution_count": null,
   "metadata": {},
   "outputs": [],
   "source": [
    "df.total_ads.describe()"
   ]
  },
  {
   "cell_type": "code",
   "execution_count": null,
   "metadata": {},
   "outputs": [],
   "source": [
    "sns.histplot(df.total_ads)\n",
    "plt.title('Распределение числа показов рекламы/объявлений')\n",
    "plt.show()"
   ]
  },
  {
   "cell_type": "markdown",
   "metadata": {},
   "source": [
    "Показ рекламы более 2000 раз в день - явная ошибка. Необходимо подчистить выбросы"
   ]
  },
  {
   "cell_type": "code",
   "execution_count": null,
   "metadata": {},
   "outputs": [],
   "source": [
    "df[df.total_ads > df.total_ads.quantile(q=0.97)].groupby('test_group')['total_ads'].agg(['mean', 'min', 'max'])"
   ]
  },
  {
   "cell_type": "code",
   "execution_count": null,
   "metadata": {},
   "outputs": [],
   "source": [
    "df2 = df[df.total_ads < df.total_ads.quantile(q=0.99)]\n",
    "df2.total_ads.describe()"
   ]
  },
  {
   "cell_type": "code",
   "execution_count": null,
   "metadata": {},
   "outputs": [],
   "source": [
    "sns.histplot(df2.total_ads)\n",
    "plt.title('Распределение числа показов рекламы/объявлений')\n",
    "plt.show()"
   ]
  },
  {
   "cell_type": "markdown",
   "metadata": {},
   "source": [
    "Проверка адекватности категориальных данных"
   ]
  },
  {
   "cell_type": "code",
   "execution_count": null,
   "metadata": {},
   "outputs": [],
   "source": [
    "for col in ['test_group', 'converted', 'most_ads_day', 'most_ads_hour']:\n",
    "    print(col, 'distribution')\n",
    "    print(df2[col].value_counts())\n",
    "    print()"
   ]
  },
  {
   "cell_type": "markdown",
   "metadata": {},
   "source": [
    "Расчет общей конверсии"
   ]
  },
  {
   "cell_type": "code",
   "execution_count": null,
   "metadata": {},
   "outputs": [],
   "source": [
    "df2.converted.value_counts(normalize=True)"
   ]
  },
  {
   "cell_type": "markdown",
   "metadata": {},
   "source": [
    "Конверсия внутри каждой группы"
   ]
  },
  {
   "cell_type": "code",
   "execution_count": null,
   "metadata": {},
   "outputs": [],
   "source": [
    "df2.groupby('test_group')['converted'].mean()"
   ]
  },
  {
   "cell_type": "code",
   "execution_count": null,
   "metadata": {},
   "outputs": [],
   "source": [
    "ax = sns.countplot(x=\"converted\", hue=\"test_group\", data=df)\n",
    "\n",
    "counts = df.groupby([\"test_group\", \"converted\"]).size().reset_index(name=\"count\")\n",
    "\n",
    "for i, bar in enumerate(ax.containers):\n",
    "    for j, count in enumerate(bar):\n",
    "        height = count.get_height()\n",
    "        ax.annotate(counts.iloc[i*2+j][\"count\"], xy=(count.get_x() + count.get_width() / 2, height),\n",
    "                    xytext=(0, 3), textcoords=\"offset points\", ha=\"center\", va=\"bottom\")\n",
    "\n",
    "plt.show()"
   ]
  },
  {
   "cell_type": "code",
   "execution_count": null,
   "metadata": {},
   "outputs": [],
   "source": [
    "ax = sns.barplot(x=df2.groupby('test_group')['converted'].mean().index,\n",
    "            y=df2.groupby('test_group')['converted'].mean()*100)\n",
    "\n",
    "rects = ax.patches\n",
    "labels = [str(i) + ' %' for i in round(df2.groupby('test_group')['converted'].mean()*100, 2)]\n",
    "\n",
    "for rect, label in zip(rects, labels):\n",
    "    height = rect.get_height()\n",
    "    ax.text(\n",
    "        rect.get_x() + rect.get_width() / 2, height, label, ha=\"center\", va=\"bottom\"\n",
    "    )\n",
    "plt.title('Конверсия в разных группах', va='bottom' )\n",
    "plt.ylabel('Коэффициент конверсии')\n",
    "plt.show()"
   ]
  },
  {
   "cell_type": "markdown",
   "metadata": {},
   "source": [
    "Размер эффекта между двумя пропорциями (Cohen's h)"
   ]
  },
  {
   "cell_type": "code",
   "execution_count": null,
   "metadata": {},
   "outputs": [],
   "source": [
    "test = df2.test_group == 'ad'\n",
    "control = df2.test_group == 'psa'\n",
    "\n",
    "n_control = len(df2[control])\n",
    "n_test = len(df2[test])\n",
    "p_control = round(df2[control]['converted'].mean(),4)\n",
    "p_test = round(df2[test]['converted'].mean(),4)\n",
    "print(\"Размер контрольной группы -\", n_control)\n",
    "print(\"Размер тестовой группы -\", n_test)\n",
    "print(\"Пропорция (конверсия) контрольной группы -\", p_control)\n",
    "print(\"Пропорция (конверсия) тестовой группы -\", p_test)"
   ]
  },
  {
   "cell_type": "code",
   "execution_count": null,
   "metadata": {},
   "outputs": [],
   "source": [
    "from statsmodels.stats.proportion import proportion_effectsize\n",
    "effect_size = proportion_effectsize(p_control, p_test)\n",
    "\n",
    "delta_p = p_test - p_control\n",
    "print('Абсолютная разница в пропорциях: ', abs(round((delta_p)*100,2)), '%')\n",
    "print('Размер эффекта:', abs(round(effect_size,2)))\n",
    "\n",
    "if effect_size > 0.8:\n",
    "  print('Размер эффекта большой')\n",
    "elif effect_size > 0.5:\n",
    "  print('Размер эффекта средний')\n",
    "elif effect_size > 0.2:\n",
    "  print('Размер эффекта маленький')\n",
    "else:\n",
    "  print('Размер эффекта очень маленький')"
   ]
  },
  {
   "cell_type": "markdown",
   "metadata": {},
   "source": [
    "Важно проверить качество обеих групп. Нет ли критических различий между группами, которые бы могли влиять на результаты эксперимента, мешая понять обособленную роль рекламы. В первую очередь проверим число показа рекламы/объявлений по группам."
   ]
  },
  {
   "cell_type": "code",
   "execution_count": null,
   "metadata": {},
   "outputs": [],
   "source": [
    "df2.groupby('test_group')['total_ads'].mean()"
   ]
  },
  {
   "cell_type": "code",
   "execution_count": null,
   "metadata": {},
   "outputs": [],
   "source": [
    "sns.boxplot(data=df2, y='test_group', x='total_ads', showmeans=True);"
   ]
  },
  {
   "cell_type": "markdown",
   "metadata": {},
   "source": [
    "Затем проверим время показа и расперделение по дням и по часам внутри каждого дня"
   ]
  },
  {
   "cell_type": "code",
   "execution_count": null,
   "metadata": {},
   "outputs": [],
   "source": [
    "round(pd.crosstab(df.test_group, df.most_ads_day, normalize='index') * 100, 2)"
   ]
  },
  {
   "cell_type": "code",
   "execution_count": null,
   "metadata": {},
   "outputs": [],
   "source": [
    "round(pd.crosstab(df.test_group, df.most_ads_hour, normalize='index') * 100, 2)"
   ]
  },
  {
   "cell_type": "markdown",
   "metadata": {},
   "source": [
    "Расчет минимально необходимого числа замеров"
   ]
  },
  {
   "cell_type": "code",
   "execution_count": null,
   "metadata": {},
   "outputs": [],
   "source": [
    "alpha = 0.05\n",
    "beta = 0.1\n",
    "\n",
    "sample_size = power.TTestIndPower().solve_power(nobs1=None, effect_size=effect_size, alpha=alpha, power=1-beta)\n",
    "n_required = round(sample_size)\n",
    "print(n_required)"
   ]
  },
  {
   "cell_type": "markdown",
   "metadata": {},
   "source": [
    "Для начала проведем тест с необходимым размером выборки. "
   ]
  },
  {
   "cell_type": "markdown",
   "metadata": {},
   "source": [
    "Двусторонний тест:\n",
    "\n",
    "Нулевая гипотеза Hₒ: p2 - p1 = 0 .\n",
    "Альтернативная гипотеза Hₐ: p2 - p1 ≠ 0"
   ]
  },
  {
   "cell_type": "code",
   "execution_count": null,
   "metadata": {},
   "outputs": [],
   "source": [
    "df2[df2.test_group == 'ad']['converted'].sample(n=n_required, random_state=42).sum()/n_required"
   ]
  },
  {
   "cell_type": "code",
   "execution_count": null,
   "metadata": {},
   "outputs": [],
   "source": [
    "df2[df2.test_group == 'psa']['converted'].sample(n=n_required).sum()/n_required"
   ]
  },
  {
   "cell_type": "code",
   "execution_count": null,
   "metadata": {},
   "outputs": [],
   "source": [
    "test = df2[df2.test_group == 'ad']['converted'].sample(n=n_required).sum()/n_required\n",
    "control = df2[df2.test_group == 'psa']['converted'].sample(n=n_required).sum()/n_required\n",
    "\n",
    "z_stat, p_value = proportions_ztest([control, test], nobs=[n_required, n_required], alternative='two-sided')\n",
    "\n",
    "print(f'z = {z_stat}')\n",
    "print(f'p-value = {p_value}')\n",
    "\n",
    "if p_value > 0.05:\n",
    "    print('Не отклоняем нулевую гипотезу, пропорции, вероятно, одинаковые')\n",
    "else:\n",
    "    print('Отклоняем нулевую гипотезу, пропорции, вероятно, различаются')"
   ]
  },
  {
   "cell_type": "markdown",
   "metadata": {},
   "source": [
    "А что если использовать все данные? Наш размер превосходит достаточный для определение данного эффекта. В очень много раз. Это значит, что есть большой шанс получить разницу, которая статистичски значимая, но практически - незначимая."
   ]
  },
  {
   "cell_type": "code",
   "execution_count": null,
   "metadata": {},
   "outputs": [],
   "source": [
    "test = df2[df2.test_group == 'ad']['converted'].sum() \n",
    "control = df2[df2.test_group == 'psa']['converted'].sum()\n",
    "\n",
    "z_stat, p_value = proportions_ztest([control, test], nobs=[n_control, n_test] ,\n",
    "                                  alternative='two-sided')\n",
    "print(f'z = {z_stat}')\n",
    "print(f'p-value = {p_value}')\n",
    "\n",
    "if p_value > 0.05:\n",
    "    print('Не отклоняем нулевую гипотезу, пропорции, вероятно, одинаковые')\n",
    "else:\n",
    "    print('Отклоняем нулевую гипотезу, пропорции, вероятно, различаются')"
   ]
  },
  {
   "cell_type": "code",
   "execution_count": null,
   "metadata": {},
   "outputs": [],
   "source": [
    "p_pooled = round((n_control * p_control + n_test * p_test)/(n_control + n_test),3)\n",
    "se = round(np.sqrt(p_pooled*(1 - p_pooled) * (1/n_control + 1/n_test)),3)\n",
    "mu_delta = 0\n",
    "cutoff_left = round(norm.ppf(alpha/2, loc=mu_delta, scale=se),3)\n",
    "cutoff_right = round(norm.ppf(1 - alpha/2, loc=mu_delta, scale=se),3)\n",
    "delta = p_test - p_control\n",
    "\n",
    "print('Общая объединенная доля =', p_pooled)\n",
    "print('Общая объединенная стандартная ошибка =', se)\n",
    "print('Критические значения = ', cutoff_left, 'и', cutoff_right)\n",
    "print('Наблюдаемая разница =', delta)"
   ]
  },
  {
   "cell_type": "code",
   "execution_count": null,
   "metadata": {
    "scrolled": false
   },
   "outputs": [],
   "source": [
    "# График распределения\n",
    "fig, ax = plt.subplots()\n",
    "\n",
    "\n",
    "x = np.linspace( mu_delta - 8.5*se, mu_delta + 8.5*se, 1000)\n",
    "y = norm.pdf(x, loc=mu_delta, scale= se)\n",
    "sns.lineplot(x=x, y=y, ax=ax)\n",
    "\n",
    "#mu delta\n",
    "ax.axvline(mu_delta, linestyle='--')\n",
    "\n",
    "#x ticks\n",
    "plt.xticks([delta, cutoff_left, mu_delta, cutoff_right])\n",
    "plt.xticks(fontsize=10)\n",
    "plt.yticks(fontsize=10)\n",
    "plt.plot(delta, 0, \"b^\", markersize=15)\n",
    "plt.annotate(\"Разница\", xy=(0.0079, 10), xytext=(0.0055, 95), \n",
    "            arrowprops={\"arrowstyle\":\"->\", \"color\":\"gray\"},\n",
    "             fontsize=10)\n",
    "\n",
    "#alpha\n",
    "alpha_x = np.linspace(cutoff_right, mu_delta + 8.5 * se, 1000)\n",
    "alpha_y = norm.pdf(alpha_x, loc = mu_delta, scale= se)\n",
    "plt.fill_between(alpha_x, alpha_y, color='red', alpha=0.5)\n",
    "\n",
    "alpha_x2 = np.linspace(mu_delta - 8.5 * se, cutoff_left, 1000)\n",
    "alpha_y2 = norm.pdf(alpha_x2, loc = mu_delta, scale= se)\n",
    "plt.fill_between(alpha_x2, alpha_y2, color='red', alpha=0.5)\n",
    "\n",
    "plt.text(-0.0055, 20, 'Alpha / 2', color='red', fontsize=10)\n",
    "plt.text(0.003, 20, 'Alpha / 2', color='red', fontsize=10)\n",
    "\n",
    "#H null\n",
    "plt.text(0.003, 360, 'Ho: (p2 - p1) = 0')\n",
    "\n",
    "#labels\n",
    "plt.xlabel('Разница пропорций (Нулевая гипотеза)')\n",
    "plt.ylabel('PDF')\n",
    "\n",
    "plt.autoscale(enable=True, axis='both', tight=True) \n"
   ]
  },
  {
   "cell_type": "markdown",
   "metadata": {},
   "source": [
    "# Выводы"
   ]
  },
  {
   "cell_type": "markdown",
   "metadata": {},
   "source": [
    "Нам удалось обнаружить статистически значимую разницу, но нужно учитывать, что такая разница достигнута за счет очень большого размера выборок. Такой результат на практике скорее всего не будет иметь значения."
   ]
  },
  {
   "cell_type": "code",
   "execution_count": null,
   "metadata": {},
   "outputs": [],
   "source": []
  }
 ],
 "metadata": {
  "kernelspec": {
   "display_name": "Python 3 (ipykernel)",
   "language": "python",
   "name": "python3"
  },
  "language_info": {
   "codemirror_mode": {
    "name": "ipython",
    "version": 3
   },
   "file_extension": ".py",
   "mimetype": "text/x-python",
   "name": "python",
   "nbconvert_exporter": "python",
   "pygments_lexer": "ipython3",
   "version": "3.10.9"
  }
 },
 "nbformat": 4,
 "nbformat_minor": 4
}
