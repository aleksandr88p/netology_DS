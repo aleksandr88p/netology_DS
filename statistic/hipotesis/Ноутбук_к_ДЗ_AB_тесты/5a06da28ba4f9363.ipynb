{
  "cells": [
    {
      "cell_type": "markdown",
      "metadata": {
        "id": "SOZozVNIGZwQ"
      },
      "source": [
        "## Домашнее задание к занятию \"A/B-тесты\""
      ]
    },
    {
      "cell_type": "markdown",
      "metadata": {
        "id": "N5Z4Rg7PGZwR"
      },
      "source": [
        "### Описание задачи\n",
        "\n",
        "![banner](https://storage.googleapis.com/kaggle-datasets-images/635/1204/126be74882028aac7241553cef0e27a7/dataset-original.jpg)\n",
        "\n",
        "Покемоны - это маленькие существа, которые сражаются друг с другом на соревнованиях. Все покемоны имеют разные характеристики (сила атаки, защиты и т. д.) И относятся к одному или двум так называемым классам (вода, огонь и т. д.).\n",
        "Профессор Оук является изобретателем Pokedex - портативного устройства, которое хранит информацию обо всех существующих покемонах. Как его ведущий специалист по данным, Вы только что получили от него запрос с просьбой осуществить аналитику данных на всех устройствах Pokedex.\n",
        "\n",
        "### Описание набора данных\n",
        "Профессор Оук скопировал все содержимое в память одного устройства Pokedex, в результате чего получился набор данных, с которым Вы будете работать в этой задаче. В этом файле каждая строка представляет характеристики одного покемона:\n",
        "\n",
        "* `pid`: Numeric - ID покемона\n",
        "* `HP`: Numeric - Очки здоровья\n",
        "* `Attack`: Numeric - Сила обычной атаки\n",
        "* `Defense`: Numeric - Сила обычной защиты\n",
        "* `Sp. Atk`: Numeric - Сила специальной атаки\n",
        "* `Sp. Def`: Numeric - Сила специальной защиты\n",
        "* `Speed`: Numeric - Скорость движений\n",
        "* `Legendary`: Boolean - «True», если покемон редкий\n",
        "* `Class 1`: Categorical - Класс покемона\n",
        "* `Class 2`: Categorical - Класс покемона"
      ]
    },
    {
      "cell_type": "code",
      "execution_count": 44,
      "metadata": {},
      "outputs": [],
      "source": [
        "import seaborn as sns\n",
        "import matplotlib.pyplot as plt\n",
        "import pandas as pd\n",
        "import numpy as np\n",
        "\n",
        "from scipy.stats import ttest_ind, f_oneway, shapiro"
      ]
    },
    {
      "cell_type": "code",
      "execution_count": 2,
      "metadata": {
        "colab": {
          "base_uri": "https://localhost:8080/",
          "height": 172
        },
        "id": "op1t0-0QGZwS",
        "outputId": "be3029cf-0c41-4bea-815f-ef74130e754a"
      },
      "outputs": [
        {
          "data": {
            "text/html": [
              "<div>\n",
              "<style scoped>\n",
              "    .dataframe tbody tr th:only-of-type {\n",
              "        vertical-align: middle;\n",
              "    }\n",
              "\n",
              "    .dataframe tbody tr th {\n",
              "        vertical-align: top;\n",
              "    }\n",
              "\n",
              "    .dataframe thead th {\n",
              "        text-align: right;\n",
              "    }\n",
              "</style>\n",
              "<table border=\"1\" class=\"dataframe\">\n",
              "  <thead>\n",
              "    <tr style=\"text-align: right;\">\n",
              "      <th></th>\n",
              "      <th>pid</th>\n",
              "      <th>Name</th>\n",
              "      <th>Class 1</th>\n",
              "      <th>Class 2</th>\n",
              "      <th>HP</th>\n",
              "      <th>Attack</th>\n",
              "      <th>Defense</th>\n",
              "      <th>Sp. Atk</th>\n",
              "      <th>Sp. Def</th>\n",
              "      <th>Speed</th>\n",
              "      <th>Legendary</th>\n",
              "    </tr>\n",
              "  </thead>\n",
              "  <tbody>\n",
              "    <tr>\n",
              "      <th>0</th>\n",
              "      <td>1</td>\n",
              "      <td>Bulbasaur</td>\n",
              "      <td>Grass</td>\n",
              "      <td>Poison</td>\n",
              "      <td>45</td>\n",
              "      <td>49</td>\n",
              "      <td>49</td>\n",
              "      <td>65</td>\n",
              "      <td>65</td>\n",
              "      <td>45</td>\n",
              "      <td>False</td>\n",
              "    </tr>\n",
              "    <tr>\n",
              "      <th>1</th>\n",
              "      <td>2</td>\n",
              "      <td>Ivysaur</td>\n",
              "      <td>Grass</td>\n",
              "      <td>Poison</td>\n",
              "      <td>60</td>\n",
              "      <td>62</td>\n",
              "      <td>63</td>\n",
              "      <td>80</td>\n",
              "      <td>80</td>\n",
              "      <td>60</td>\n",
              "      <td>False</td>\n",
              "    </tr>\n",
              "    <tr>\n",
              "      <th>2</th>\n",
              "      <td>3</td>\n",
              "      <td>Venusaur</td>\n",
              "      <td>Grass</td>\n",
              "      <td>Poison</td>\n",
              "      <td>80</td>\n",
              "      <td>82</td>\n",
              "      <td>83</td>\n",
              "      <td>100</td>\n",
              "      <td>100</td>\n",
              "      <td>80</td>\n",
              "      <td>False</td>\n",
              "    </tr>\n",
              "    <tr>\n",
              "      <th>3</th>\n",
              "      <td>4</td>\n",
              "      <td>Mega Venusaur</td>\n",
              "      <td>Grass</td>\n",
              "      <td>Poison</td>\n",
              "      <td>80</td>\n",
              "      <td>100</td>\n",
              "      <td>123</td>\n",
              "      <td>122</td>\n",
              "      <td>120</td>\n",
              "      <td>80</td>\n",
              "      <td>False</td>\n",
              "    </tr>\n",
              "    <tr>\n",
              "      <th>4</th>\n",
              "      <td>5</td>\n",
              "      <td>Charmander</td>\n",
              "      <td>Fire</td>\n",
              "      <td>NaN</td>\n",
              "      <td>39</td>\n",
              "      <td>52</td>\n",
              "      <td>43</td>\n",
              "      <td>60</td>\n",
              "      <td>50</td>\n",
              "      <td>65</td>\n",
              "      <td>False</td>\n",
              "    </tr>\n",
              "  </tbody>\n",
              "</table>\n",
              "</div>"
            ],
            "text/plain": [
              "   pid           Name Class 1 Class 2  HP  Attack  Defense  Sp. Atk  Sp. Def  \\\n",
              "0    1      Bulbasaur   Grass  Poison  45      49       49       65       65   \n",
              "1    2        Ivysaur   Grass  Poison  60      62       63       80       80   \n",
              "2    3       Venusaur   Grass  Poison  80      82       83      100      100   \n",
              "3    4  Mega Venusaur   Grass  Poison  80     100      123      122      120   \n",
              "4    5     Charmander    Fire     NaN  39      52       43       60       50   \n",
              "\n",
              "   Speed  Legendary  \n",
              "0     45      False  \n",
              "1     60      False  \n",
              "2     80      False  \n",
              "3     80      False  \n",
              "4     65      False  "
            ]
          },
          "execution_count": 2,
          "metadata": {},
          "output_type": "execute_result"
        }
      ],
      "source": [
        "import warnings\n",
        "# Отключение предупреждений (warnings)\n",
        "warnings.filterwarnings(\"ignore\")\n",
        "\n",
        "\n",
        "\n",
        "pokemon = pd.read_csv('https://raw.githubusercontent.com/a-milenkin/datasets_for_t-tests/main/pokemon.csv', on_bad_lines='skip')  # Откроем датасет\n",
        "pokemon.head()\n",
        "\n",
        "# Обратите внимание, что у покемона может быть один или два класса.\n",
        "# Если у покемона два класса, считается, что они имеют одинаковую значимость."
      ]
    },
    {
      "cell_type": "markdown",
      "metadata": {
        "id": "8KytW3mUGZwT"
      },
      "source": [
        "### Задачи"
      ]
    },
    {
      "cell_type": "markdown",
      "metadata": {
        "id": "i72--cvLGZwT"
      },
      "source": [
        "<div class=\"alert alert-info\">\n",
        "<b>Задание № 1:</b>\n",
        "    \n",
        "Профессор Оук подозревает, что покемоны в классе `Grass` имеют более сильную обычную атаку, чем покемоны в классе `Rock`. Проверьте, прав ли он, и убедите его в своём выводе статистически.\n",
        "    \n",
        "    \n",
        "Примечание: если есть покемоны, которые относятся к обоим классам, просто выбросьте их;\n",
        "    \n",
        "Вы можете предположить, что распределение обычных атак является нормальным для всех классов покемонов.\n",
        "\n",
        "</div>"
      ]
    },
    {
      "cell_type": "code",
      "execution_count": 3,
      "metadata": {
        "id": "h6s6LL6mt17A"
      },
      "outputs": [
        {
          "data": {
            "text/plain": [
              "array(['Grass', 'Fire', 'Water', 'Bug', 'Normal', 'Poison', 'Electric',\n",
              "       'Ground', 'Fairy', 'Fighting', 'Psychic', 'Rock', 'Ghost', 'Ice',\n",
              "       'Dragon', 'Dark', 'Steel', 'Flying'], dtype=object)"
            ]
          },
          "execution_count": 3,
          "metadata": {},
          "output_type": "execute_result"
        }
      ],
      "source": [
        "pokemon['Class 1'].unique()"
      ]
    },
    {
      "cell_type": "code",
      "execution_count": 4,
      "metadata": {},
      "outputs": [
        {
          "data": {
            "text/plain": [
              "array(['Poison', nan, 'Flying', 'Dragon', 'Ground', 'Fairy', 'Grass',\n",
              "       'Fighting', 'Psychic', 'Steel', 'Ice', 'Rock', 'Dark', 'Water',\n",
              "       'Electric', 'Fire', 'Ghost', 'Bug', 'Normal'], dtype=object)"
            ]
          },
          "execution_count": 4,
          "metadata": {},
          "output_type": "execute_result"
        }
      ],
      "source": [
        "pokemon['Class 2'].unique()"
      ]
    },
    {
      "cell_type": "code",
      "execution_count": 5,
      "metadata": {},
      "outputs": [
        {
          "data": {
            "text/plain": [
              "(800, 11)"
            ]
          },
          "execution_count": 5,
          "metadata": {},
          "output_type": "execute_result"
        }
      ],
      "source": [
        "pokemon.shape"
      ]
    },
    {
      "cell_type": "code",
      "execution_count": 6,
      "metadata": {},
      "outputs": [
        {
          "name": "stdout",
          "output_type": "stream",
          "text": [
            "(95, 11)\n",
            "(58, 11)\n"
          ]
        }
      ],
      "source": [
        "# pokemon[pokemon['Class 1'] == 'Grass']\n",
        "grass_pokemon = pokemon[(pokemon['Class 1'] == 'Grass') | (pokemon['Class 2'] == 'Grass')]\n",
        "rock_pokemon = pokemon[(pokemon['Class 1'] == 'Rock') | (pokemon['Class 2'] == 'Rock')]\n",
        "print(grass_pokemon.shape)\n",
        "print(rock_pokemon.shape)"
      ]
    },
    {
      "cell_type": "code",
      "execution_count": 7,
      "metadata": {},
      "outputs": [
        {
          "name": "stdout",
          "output_type": "stream",
          "text": [
            "(93, 11)\n",
            "(56, 11)\n"
          ]
        }
      ],
      "source": [
        "# удалю покемонов еслии у него встречается Rock\n",
        "grass_pokemon = grass_pokemon[grass_pokemon['Class 2'] != 'Rock']\n",
        "grass_pokemon = grass_pokemon[grass_pokemon['Class 1'] != 'Rock']\n",
        "\n",
        "# удалю покемонов еслии у него встречается Grass\n",
        "rock_pokemon = rock_pokemon[rock_pokemon['Class 2'] != 'Grass']\n",
        "rock_pokemon = rock_pokemon[rock_pokemon['Class 1'] != 'Grass']\n",
        "\n",
        "print(grass_pokemon.shape)\n",
        "print(rock_pokemon.shape)\n"
      ]
    },
    {
      "cell_type": "code",
      "execution_count": 8,
      "metadata": {},
      "outputs": [
        {
          "name": "stdout",
          "output_type": "stream",
          "text": [
            "Grass покемоны:\n",
            "Среднее значение атаки: 73.73118279569893\n",
            "Медиана атаки: 70.0\n",
            "\n",
            "Rock покемоны:\n",
            "Среднее значение атаки: 91.78571428571429\n",
            "Медиана атаки: 92.5\n"
          ]
        }
      ],
      "source": [
        "# Для травяных покемонов\n",
        "print(\"Grass покемоны:\")\n",
        "print(\"Среднее значение атаки:\", grass_pokemon['Attack'].mean())\n",
        "print(\"Медиана атаки:\", grass_pokemon['Attack'].median())\n",
        "\n",
        "# Для каменных покемонов\n",
        "print(\"\\nRock покемоны:\")\n",
        "print(\"Среднее значение атаки:\", rock_pokemon['Attack'].mean())\n",
        "print(\"Медиана атаки:\", rock_pokemon['Attack'].median())"
      ]
    },
    {
      "cell_type": "code",
      "execution_count": 9,
      "metadata": {},
      "outputs": [
        {
          "data": {
            "image/png": "[encoded data removed]",
            "text/plain": [
              "<Figure size 640x480 with 1 Axes>"
            ]
          },
          "metadata": {},
          "output_type": "display_data"
        },
        {
          "data": {
            "image/png": "[encoded data removed]",
            "text/plain": [
              "<Figure size 640x480 with 1 Axes>"
            ]
          },
          "metadata": {},
          "output_type": "display_data"
        }
      ],
      "source": [
        "# Проверяем нормальность (хотя если я правильно понял, то это не нужно, так как в задании сказано что распределение нормальное)\n",
        "\n",
        "\n",
        "# Для травяных покемонов\n",
        "sns.histplot(grass_pokemon['Attack'])\n",
        "plt.title('Распределение атаки травяных покемонов')\n",
        "plt.show()\n",
        "\n",
        "# Для каменных покемонов\n",
        "sns.histplot(rock_pokemon['Attack'])\n",
        "plt.title('Распределение атаки каменных покемонов')\n",
        "plt.show()"
      ]
    },
    {
      "cell_type": "code",
      "execution_count": 10,
      "metadata": {},
      "outputs": [
        {
          "name": "stdout",
          "output_type": "stream",
          "text": [
            "p-value = 0.00027\n",
            "Отклоняем нулевую гипотезу - есть статистически значимая разница\n"
          ]
        }
      ],
      "source": [
        "from scipy.stats import ttest_ind\n",
        "stat, p = ttest_ind(grass_pokemon['Attack'], rock_pokemon['Attack'])\n",
        "\n",
        "print(f\"p-value = {p:.5f}\")\n",
        "if p > 0.05:\n",
        "    print('Не отклоняем нулевую гипотезу - разницы нет')\n",
        "else:\n",
        "    print('Отклоняем нулевую гипотезу - есть статистически значимая разница') "
      ]
    },
    {
      "cell_type": "code",
      "execution_count": 11,
      "metadata": {},
      "outputs": [
        {
          "data": {
            "image/png": "[encoded data removed]",
            "text/plain": [
              "<Figure size 1000x600 with 1 Axes>"
            ]
          },
          "metadata": {},
          "output_type": "display_data"
        }
      ],
      "source": [
        "plt.figure(figsize=(10, 6))\n",
        "plt.boxplot([grass_pokemon['Attack'], rock_pokemon['Attack']], \n",
        "            labels=['Grass', 'Rock'])\n",
        "\n",
        "# Добавляем заголовок и подписи осей\n",
        "plt.title('Сравнение атаки травяных и каменных покемонов')\n",
        "plt.ylabel('Значение атаки')\n",
        "plt.show()"
      ]
    },
    {
      "cell_type": "markdown",
      "metadata": {},
      "source": [
        "#### проффесор Оук не прав в своем предположении, анализ показал что средняя атака травянных покемонов ниже чем у каменных, так же медиана атаки травянных покемонов ниже чем у каменных. И есть статистически значимая разница в атаке между травяными и каменными покемонами, это значит разница не случайная."
      ]
    },
    {
      "cell_type": "markdown",
      "metadata": {
        "id": "KS2OVjmFGZwV"
      },
      "source": [
        "<div class=\"alert alert-info\">\n",
        "<b>Задание № 2:</b>\n",
        "    \n",
        "Профессор Оук уже долго не может спать по ночам, ведь его волнует вопрос, а правда ли, что покемоны в классе `Water` в среднем быстрее, чем покемоны в классе `Normal`.\n",
        "    \n",
        "    \n",
        "Проверьте, прав ли он, и убедите его в своём выводе статистически.\n",
        "    \n",
        "Примечание: если есть покемоны, которые относятся к обоим классам, выбросьте их;\n",
        "    \n",
        "Вы можете предположить, что распределение скорости движения является нормальным для всех классов покемонов.\n",
        "</div>"
      ]
    },
    {
      "cell_type": "code",
      "execution_count": 12,
      "metadata": {
        "id": "h_p9DQRzt3o_"
      },
      "outputs": [
        {
          "data": {
            "text/html": [
              "<div>\n",
              "<style scoped>\n",
              "    .dataframe tbody tr th:only-of-type {\n",
              "        vertical-align: middle;\n",
              "    }\n",
              "\n",
              "    .dataframe tbody tr th {\n",
              "        vertical-align: top;\n",
              "    }\n",
              "\n",
              "    .dataframe thead th {\n",
              "        text-align: right;\n",
              "    }\n",
              "</style>\n",
              "<table border=\"1\" class=\"dataframe\">\n",
              "  <thead>\n",
              "    <tr style=\"text-align: right;\">\n",
              "      <th></th>\n",
              "      <th>pid</th>\n",
              "      <th>Name</th>\n",
              "      <th>Class 1</th>\n",
              "      <th>Class 2</th>\n",
              "      <th>HP</th>\n",
              "      <th>Attack</th>\n",
              "      <th>Defense</th>\n",
              "      <th>Sp. Atk</th>\n",
              "      <th>Sp. Def</th>\n",
              "      <th>Speed</th>\n",
              "      <th>Legendary</th>\n",
              "    </tr>\n",
              "  </thead>\n",
              "  <tbody>\n",
              "    <tr>\n",
              "      <th>0</th>\n",
              "      <td>1</td>\n",
              "      <td>Bulbasaur</td>\n",
              "      <td>Grass</td>\n",
              "      <td>Poison</td>\n",
              "      <td>45</td>\n",
              "      <td>49</td>\n",
              "      <td>49</td>\n",
              "      <td>65</td>\n",
              "      <td>65</td>\n",
              "      <td>45</td>\n",
              "      <td>False</td>\n",
              "    </tr>\n",
              "  </tbody>\n",
              "</table>\n",
              "</div>"
            ],
            "text/plain": [
              "   pid       Name Class 1 Class 2  HP  Attack  Defense  Sp. Atk  Sp. Def  \\\n",
              "0    1  Bulbasaur   Grass  Poison  45      49       49       65       65   \n",
              "\n",
              "   Speed  Legendary  \n",
              "0     45      False  "
            ]
          },
          "execution_count": 12,
          "metadata": {},
          "output_type": "execute_result"
        }
      ],
      "source": [
        "pokemon.head(1)"
      ]
    },
    {
      "cell_type": "code",
      "execution_count": 13,
      "metadata": {},
      "outputs": [
        {
          "name": "stdout",
          "output_type": "stream",
          "text": [
            "0\n",
            "386\n"
          ]
        }
      ],
      "source": [
        "print(pokemon['Class 1'].isna().sum())\n",
        "print(pokemon['Class 2'].isna().sum())\n"
      ]
    },
    {
      "cell_type": "code",
      "execution_count": 14,
      "metadata": {},
      "outputs": [
        {
          "name": "stdout",
          "output_type": "stream",
          "text": [
            "(126, 11)\n",
            "(102, 11)\n",
            "(125, 11)\n",
            "(101, 11)\n"
          ]
        }
      ],
      "source": [
        "water_pokemon = pokemon[(pokemon['Class 1'] == 'Water') | (pokemon['Class 2'] == 'Water')]\n",
        "normal_pokemon = pokemon[(pokemon['Class 1'] == 'Normal') | (pokemon['Class 2'] == 'Normal')]\n",
        "print(water_pokemon.shape)\n",
        "print(normal_pokemon.shape)\n",
        "water_pokemon = water_pokemon[water_pokemon['Class 2'] != 'Normal']\n",
        "water_pokemon = water_pokemon[water_pokemon['Class 1'] != 'Normal']\n",
        "\n",
        "normal_pokemon = normal_pokemon[normal_pokemon['Class 2'] != 'Water']\n",
        "normal_pokemon = normal_pokemon[normal_pokemon['Class 1'] != 'Water']\n",
        "\n",
        "print(water_pokemon.shape)\n",
        "print(normal_pokemon.shape)\n"
      ]
    },
    {
      "cell_type": "code",
      "execution_count": 15,
      "metadata": {},
      "outputs": [
        {
          "name": "stdout",
          "output_type": "stream",
          "text": [
            "Water покемоны:\n",
            "Средняя скорость: 64.936\n",
            "Медиана скорости: 65.0\n",
            "\n",
            "Normal покемоны:\n",
            "Средняя скорость: 72.25742574257426\n",
            "Медиана скорости: 72.0\n"
          ]
        }
      ],
      "source": [
        "print(\"Water покемоны:\")\n",
        "print(\"Средняя скорость:\", water_pokemon['Speed'].mean())\n",
        "print(\"Медиана скорости:\", water_pokemon['Speed'].median())\n",
        "\n",
        "print(\"\\nNormal покемоны:\")\n",
        "print(\"Средняя скорость:\", normal_pokemon['Speed'].mean())\n",
        "print(\"Медиана скорости:\", normal_pokemon['Speed'].median())"
      ]
    },
    {
      "cell_type": "code",
      "execution_count": 16,
      "metadata": {},
      "outputs": [
        {
          "name": "stdout",
          "output_type": "stream",
          "text": [
            "\n",
            "p-value = 0.03255\n"
          ]
        },
        {
          "data": {
            "image/png": "[encoded data removed]",
            "text/plain": [
              "<Figure size 1000x600 with 1 Axes>"
            ]
          },
          "metadata": {},
          "output_type": "display_data"
        }
      ],
      "source": [
        "stat, p = ttest_ind(water_pokemon['Speed'], normal_pokemon['Speed'])\n",
        "print(f\"\\np-value = {p:.5f}\")\n",
        "\n",
        "plt.figure(figsize=(10, 6))\n",
        "plt.boxplot([water_pokemon['Speed'], normal_pokemon['Speed']], \n",
        "            labels=['Water', 'Normal'])\n",
        "plt.title('Сравнение скорости водных и обычных покемонов')\n",
        "plt.ylabel('Значение скорости')\n",
        "plt.show()"
      ]
    },
    {
      "cell_type": "markdown",
      "metadata": {},
      "source": [
        "#### Профессор Оук не прав. p-value меньше 0.05, что доказывает статистически значимую разницу в скорости, но в обратную сторону - обычные покемоны оказались быстрее водных"
      ]
    },
    {
      "cell_type": "markdown",
      "metadata": {
        "id": "p9VPcdu-GZwb"
      },
      "source": [
        "<div class=\"alert alert-info\">\n",
        "<b>Задание № 3:</b>\n",
        "    \n",
        "Профессор Оук тот еще безумец. Он изобрёл сыворотку, способную ускорить покемона. Однако мы усомнились в эффективности его вакцины. Професоор дал эту сыворотку следующим покемонам: смотри массив `treathed_pokemon`. Проверьте, работает ли вообще его сыворотка, убедите всех в своём выводе статистически.\n",
        "    \n",
        "    \n",
        "Вы можете предположить, что распределение скорости движения является нормальным для всех классов покемонов.\n",
        "\n",
        "</div>"
      ]
    },
    {
      "cell_type": "code",
      "execution_count": 17,
      "metadata": {},
      "outputs": [
        {
          "data": {
            "text/html": [
              "<div>\n",
              "<style scoped>\n",
              "    .dataframe tbody tr th:only-of-type {\n",
              "        vertical-align: middle;\n",
              "    }\n",
              "\n",
              "    .dataframe tbody tr th {\n",
              "        vertical-align: top;\n",
              "    }\n",
              "\n",
              "    .dataframe thead th {\n",
              "        text-align: right;\n",
              "    }\n",
              "</style>\n",
              "<table border=\"1\" class=\"dataframe\">\n",
              "  <thead>\n",
              "    <tr style=\"text-align: right;\">\n",
              "      <th></th>\n",
              "      <th>pid</th>\n",
              "      <th>Name</th>\n",
              "      <th>Class 1</th>\n",
              "      <th>Class 2</th>\n",
              "      <th>HP</th>\n",
              "      <th>Attack</th>\n",
              "      <th>Defense</th>\n",
              "      <th>Sp. Atk</th>\n",
              "      <th>Sp. Def</th>\n",
              "      <th>Speed</th>\n",
              "      <th>Legendary</th>\n",
              "    </tr>\n",
              "  </thead>\n",
              "  <tbody>\n",
              "    <tr>\n",
              "      <th>0</th>\n",
              "      <td>1</td>\n",
              "      <td>Bulbasaur</td>\n",
              "      <td>Grass</td>\n",
              "      <td>Poison</td>\n",
              "      <td>45</td>\n",
              "      <td>49</td>\n",
              "      <td>49</td>\n",
              "      <td>65</td>\n",
              "      <td>65</td>\n",
              "      <td>45</td>\n",
              "      <td>False</td>\n",
              "    </tr>\n",
              "  </tbody>\n",
              "</table>\n",
              "</div>"
            ],
            "text/plain": [
              "   pid       Name Class 1 Class 2  HP  Attack  Defense  Sp. Atk  Sp. Def  \\\n",
              "0    1  Bulbasaur   Grass  Poison  45      49       49       65       65   \n",
              "\n",
              "   Speed  Legendary  \n",
              "0     45      False  "
            ]
          },
          "execution_count": 17,
          "metadata": {},
          "output_type": "execute_result"
        }
      ],
      "source": [
        "pokemon.head(1)"
      ]
    },
    {
      "cell_type": "code",
      "execution_count": 18,
      "metadata": {},
      "outputs": [
        {
          "data": {
            "text/plain": [
              "65.0"
            ]
          },
          "execution_count": 18,
          "metadata": {},
          "output_type": "execute_result"
        }
      ],
      "source": [
        "pokemon.Speed.median()"
      ]
    },
    {
      "cell_type": "code",
      "execution_count": 19,
      "metadata": {},
      "outputs": [
        {
          "data": {
            "image/png": "[encoded data removed]",
            "text/plain": [
              "<Figure size 1000x600 with 1 Axes>"
            ]
          },
          "metadata": {},
          "output_type": "display_data"
        }
      ],
      "source": [
        "# боксплот для скорости для всех покемонов\n",
        "plt.figure(figsize=(10, 6))\n",
        "plt.boxplot(pokemon['Speed'])\n",
        "plt.title('Сравнение скорости всех покемонов')\n",
        "plt.ylabel('Значение скорости')\n",
        "plt.show()\n"
      ]
    },
    {
      "cell_type": "code",
      "execution_count": 20,
      "metadata": {},
      "outputs": [
        {
          "data": {
            "text/html": [
              "<div>\n",
              "<style scoped>\n",
              "    .dataframe tbody tr th:only-of-type {\n",
              "        vertical-align: middle;\n",
              "    }\n",
              "\n",
              "    .dataframe tbody tr th {\n",
              "        vertical-align: top;\n",
              "    }\n",
              "\n",
              "    .dataframe thead th {\n",
              "        text-align: right;\n",
              "    }\n",
              "</style>\n",
              "<table border=\"1\" class=\"dataframe\">\n",
              "  <thead>\n",
              "    <tr style=\"text-align: right;\">\n",
              "      <th></th>\n",
              "      <th>pid</th>\n",
              "      <th>Name</th>\n",
              "      <th>Class 1</th>\n",
              "      <th>Class 2</th>\n",
              "      <th>HP</th>\n",
              "      <th>Attack</th>\n",
              "      <th>Defense</th>\n",
              "      <th>Sp. Atk</th>\n",
              "      <th>Sp. Def</th>\n",
              "      <th>Speed</th>\n",
              "      <th>Legendary</th>\n",
              "    </tr>\n",
              "  </thead>\n",
              "  <tbody>\n",
              "    <tr>\n",
              "      <th>431</th>\n",
              "      <td>432</td>\n",
              "      <td>Deoxys Speed Forme</td>\n",
              "      <td>Psychic</td>\n",
              "      <td>NaN</td>\n",
              "      <td>50</td>\n",
              "      <td>95</td>\n",
              "      <td>90</td>\n",
              "      <td>95</td>\n",
              "      <td>90</td>\n",
              "      <td>180</td>\n",
              "      <td>True</td>\n",
              "    </tr>\n",
              "    <tr>\n",
              "      <th>315</th>\n",
              "      <td>316</td>\n",
              "      <td>Ninjask</td>\n",
              "      <td>Bug</td>\n",
              "      <td>Flying</td>\n",
              "      <td>61</td>\n",
              "      <td>90</td>\n",
              "      <td>45</td>\n",
              "      <td>50</td>\n",
              "      <td>50</td>\n",
              "      <td>160</td>\n",
              "      <td>False</td>\n",
              "    </tr>\n",
              "    <tr>\n",
              "      <th>428</th>\n",
              "      <td>429</td>\n",
              "      <td>Deoxys Normal Forme</td>\n",
              "      <td>Psychic</td>\n",
              "      <td>NaN</td>\n",
              "      <td>50</td>\n",
              "      <td>150</td>\n",
              "      <td>50</td>\n",
              "      <td>150</td>\n",
              "      <td>50</td>\n",
              "      <td>150</td>\n",
              "      <td>True</td>\n",
              "    </tr>\n",
              "    <tr>\n",
              "      <th>154</th>\n",
              "      <td>155</td>\n",
              "      <td>Mega Aerodactyl</td>\n",
              "      <td>Rock</td>\n",
              "      <td>Flying</td>\n",
              "      <td>80</td>\n",
              "      <td>135</td>\n",
              "      <td>85</td>\n",
              "      <td>70</td>\n",
              "      <td>95</td>\n",
              "      <td>150</td>\n",
              "      <td>False</td>\n",
              "    </tr>\n",
              "    <tr>\n",
              "      <th>71</th>\n",
              "      <td>72</td>\n",
              "      <td>Mega Alakazam</td>\n",
              "      <td>Psychic</td>\n",
              "      <td>NaN</td>\n",
              "      <td>55</td>\n",
              "      <td>50</td>\n",
              "      <td>65</td>\n",
              "      <td>175</td>\n",
              "      <td>95</td>\n",
              "      <td>150</td>\n",
              "      <td>False</td>\n",
              "    </tr>\n",
              "    <tr>\n",
              "      <th>429</th>\n",
              "      <td>430</td>\n",
              "      <td>DeoxysAttack Forme</td>\n",
              "      <td>Psychic</td>\n",
              "      <td>NaN</td>\n",
              "      <td>50</td>\n",
              "      <td>180</td>\n",
              "      <td>20</td>\n",
              "      <td>180</td>\n",
              "      <td>20</td>\n",
              "      <td>150</td>\n",
              "      <td>True</td>\n",
              "    </tr>\n",
              "    <tr>\n",
              "      <th>19</th>\n",
              "      <td>20</td>\n",
              "      <td>Mega Beedrill</td>\n",
              "      <td>Bug</td>\n",
              "      <td>Poison</td>\n",
              "      <td>65</td>\n",
              "      <td>150</td>\n",
              "      <td>40</td>\n",
              "      <td>15</td>\n",
              "      <td>80</td>\n",
              "      <td>145</td>\n",
              "      <td>False</td>\n",
              "    </tr>\n",
              "    <tr>\n",
              "      <th>275</th>\n",
              "      <td>276</td>\n",
              "      <td>Mega Sceptile</td>\n",
              "      <td>Grass</td>\n",
              "      <td>Dragon</td>\n",
              "      <td>70</td>\n",
              "      <td>110</td>\n",
              "      <td>75</td>\n",
              "      <td>145</td>\n",
              "      <td>85</td>\n",
              "      <td>145</td>\n",
              "      <td>False</td>\n",
              "    </tr>\n",
              "    <tr>\n",
              "      <th>678</th>\n",
              "      <td>679</td>\n",
              "      <td>Accelgor</td>\n",
              "      <td>Bug</td>\n",
              "      <td>NaN</td>\n",
              "      <td>80</td>\n",
              "      <td>70</td>\n",
              "      <td>40</td>\n",
              "      <td>100</td>\n",
              "      <td>60</td>\n",
              "      <td>145</td>\n",
              "      <td>False</td>\n",
              "    </tr>\n",
              "    <tr>\n",
              "      <th>164</th>\n",
              "      <td>165</td>\n",
              "      <td>Mega Mewtwo Y</td>\n",
              "      <td>Psychic</td>\n",
              "      <td>NaN</td>\n",
              "      <td>106</td>\n",
              "      <td>150</td>\n",
              "      <td>70</td>\n",
              "      <td>194</td>\n",
              "      <td>120</td>\n",
              "      <td>140</td>\n",
              "      <td>True</td>\n",
              "    </tr>\n",
              "  </tbody>\n",
              "</table>\n",
              "</div>"
            ],
            "text/plain": [
              "     pid                 Name  Class 1 Class 2   HP  Attack  Defense  Sp. Atk  \\\n",
              "431  432   Deoxys Speed Forme  Psychic     NaN   50      95       90       95   \n",
              "315  316              Ninjask      Bug  Flying   61      90       45       50   \n",
              "428  429  Deoxys Normal Forme  Psychic     NaN   50     150       50      150   \n",
              "154  155      Mega Aerodactyl     Rock  Flying   80     135       85       70   \n",
              "71    72        Mega Alakazam  Psychic     NaN   55      50       65      175   \n",
              "429  430   DeoxysAttack Forme  Psychic     NaN   50     180       20      180   \n",
              "19    20        Mega Beedrill      Bug  Poison   65     150       40       15   \n",
              "275  276        Mega Sceptile    Grass  Dragon   70     110       75      145   \n",
              "678  679             Accelgor      Bug     NaN   80      70       40      100   \n",
              "164  165        Mega Mewtwo Y  Psychic     NaN  106     150       70      194   \n",
              "\n",
              "     Sp. Def  Speed  Legendary  \n",
              "431       90    180       True  \n",
              "315       50    160      False  \n",
              "428       50    150       True  \n",
              "154       95    150      False  \n",
              "71        95    150      False  \n",
              "429       20    150       True  \n",
              "19        80    145      False  \n",
              "275       85    145      False  \n",
              "678       60    145      False  \n",
              "164      120    140       True  "
            ]
          },
          "execution_count": 20,
          "metadata": {},
          "output_type": "execute_result"
        }
      ],
      "source": [
        "# отсортированный датафрейм по скорости в порядке убывания\n",
        "pokemon_sorted = pokemon.sort_values(by='Speed', ascending=False)\n",
        "pokemon_sorted.head(10)"
      ]
    },
    {
      "cell_type": "code",
      "execution_count": 21,
      "metadata": {},
      "outputs": [
        {
          "data": {
            "text/plain": [
              "19    145\n",
              "Name: Speed, dtype: int64"
            ]
          },
          "execution_count": 21,
          "metadata": {},
          "output_type": "execute_result"
        }
      ],
      "source": [
        "pokemon[pokemon['Name'] == 'Mega Beedrill']['Speed']\n"
      ]
    },
    {
      "cell_type": "code",
      "execution_count": 22,
      "metadata": {
        "id": "olGBBpq2GZwb"
      },
      "outputs": [],
      "source": [
        "# Покемоны, которые принимали сыворотку увеличения скорости\n",
        "treathed_pokemon = ['Mega Beedrill', 'Mega Alakazam',\n",
        "                    'Deoxys Normal Forme', 'Mega Lopunny']"
      ]
    },
    {
      "cell_type": "code",
      "execution_count": 23,
      "metadata": {
        "id": "2hxZ3wbxt5T7"
      },
      "outputs": [
        {
          "name": "stdout",
          "output_type": "stream",
          "text": [
            "Mega Beedrill - скорость: 145\n",
            "Mega Alakazam - скорость: 150\n",
            "Deoxys Normal Forme - скорость: 150\n",
            "Mega Lopunny - скорость: 135\n",
            "*******************\n",
            "средняя и медиана скорости всех покемонов\n",
            "68.2775\n",
            "65.0\n"
          ]
        }
      ],
      "source": [
        "speed_mean = pokemon['Speed'].mean()\n",
        "speed_median = pokemon['Speed'].median()\n",
        "\n",
        "\n",
        "treathed_pokemon_speed = []\n",
        "for pokemon_name in treathed_pokemon:\n",
        "\n",
        "    current_speed = pokemon[pokemon['Name'] == pokemon_name]['Speed'].values[0]\n",
        "    treathed_pokemon_speed.append(current_speed)\n",
        "    print(f'{pokemon_name} - скорость: {current_speed}')\n",
        "\n",
        "print(\"*******************\")\n",
        "print('средняя и медиана скорости всех покемонов')\n",
        "print(speed_mean)\n",
        "print(speed_median)"
      ]
    },
    {
      "cell_type": "code",
      "execution_count": 24,
      "metadata": {},
      "outputs": [
        {
          "name": "stdout",
          "output_type": "stream",
          "text": [
            "67.89195979899498\n",
            "65.0\n",
            "p-value = 0.00000\n"
          ]
        }
      ],
      "source": [
        "# покемоны которые не принимали сыворотку\n",
        "print(pokemon[~pokemon['Name'].isin(treathed_pokemon)]['Speed'].mean())\n",
        "print(pokemon[~pokemon['Name'].isin(treathed_pokemon)]['Speed'].median())\n",
        "\n",
        "control_speeds = pokemon[~pokemon['Name'].isin(treathed_pokemon)]['Speed'].values\n",
        "\n",
        "stat, p = ttest_ind(treathed_pokemon_speed, control_speeds)\n",
        "print(f\"p-value = {p:.5f}\")"
      ]
    },
    {
      "cell_type": "code",
      "execution_count": 25,
      "metadata": {},
      "outputs": [
        {
          "name": "stdout",
          "output_type": "stream",
          "text": [
            "Размер группы с сывороткой: 4\n",
            "Размер контрольной группы: 796\n",
            "\n",
            "Средняя скорость с сывороткой: 145.0\n",
            "Средняя скорость без сыворотки: 67.89195979899498\n"
          ]
        }
      ],
      "source": [
        "print(\"Размер группы с сывороткой:\", len(treathed_pokemon_speed))\n",
        "print(\"Размер контрольной группы:\", len(control_speeds))\n",
        "print(\"\\nСредняя скорость с сывороткой:\", np.mean(treathed_pokemon_speed))\n",
        "print(\"Средняя скорость без сыворотки:\", np.mean(control_speeds))"
      ]
    },
    {
      "cell_type": "markdown",
      "metadata": {},
      "source": [
        "#### Сыворотка профессора Оука действительно работает. Покемоны с сывороткой имеют среднюю скорость 145,  в два раза больше средней скорости обычных покемонов (67.9). Эта разница статистически значима (p-value = 0)."
      ]
    },
    {
      "cell_type": "code",
      "execution_count": null,
      "metadata": {},
      "outputs": [],
      "source": []
    },
    {
      "cell_type": "markdown",
      "metadata": {
        "id": "IpgS6yk9GZwc"
      },
      "source": [
        "<div class=\"alert alert-info\">\n",
        "<b>Задание № 4:</b>\n",
        "    \n",
        "Профессор Оук всегда любил истории про легендарных покемонов. Однако профессор не очень уверен, что они лучше остальных покемонов. Оук предложил разобраться в этом нам. Проверьте, действительно ли сумма характеристик `HP`,`Attack`,`Defense` у легендарных покемонов выше, чем у других покемонов?\n",
        "\n",
        "А произведение этих же параметров?\n",
        "\n",
        "Найдите ответы на эти вопросы и убедите всех в своём выводе статистически.\n",
        "   \n",
        "\n",
        "Вы можете предположить, что распределение сум и произведений этих параметров является нормальным для всех классов покемонов.\n",
        "\n",
        "</div>"
      ]
    },
    {
      "cell_type": "code",
      "execution_count": 26,
      "metadata": {
        "id": "ah5AoxB1t8tA"
      },
      "outputs": [
        {
          "data": {
            "text/html": [
              "<div>\n",
              "<style scoped>\n",
              "    .dataframe tbody tr th:only-of-type {\n",
              "        vertical-align: middle;\n",
              "    }\n",
              "\n",
              "    .dataframe tbody tr th {\n",
              "        vertical-align: top;\n",
              "    }\n",
              "\n",
              "    .dataframe thead th {\n",
              "        text-align: right;\n",
              "    }\n",
              "</style>\n",
              "<table border=\"1\" class=\"dataframe\">\n",
              "  <thead>\n",
              "    <tr style=\"text-align: right;\">\n",
              "      <th></th>\n",
              "      <th>pid</th>\n",
              "      <th>Name</th>\n",
              "      <th>Class 1</th>\n",
              "      <th>Class 2</th>\n",
              "      <th>HP</th>\n",
              "      <th>Attack</th>\n",
              "      <th>Defense</th>\n",
              "      <th>Sp. Atk</th>\n",
              "      <th>Sp. Def</th>\n",
              "      <th>Speed</th>\n",
              "      <th>Legendary</th>\n",
              "    </tr>\n",
              "  </thead>\n",
              "  <tbody>\n",
              "    <tr>\n",
              "      <th>0</th>\n",
              "      <td>1</td>\n",
              "      <td>Bulbasaur</td>\n",
              "      <td>Grass</td>\n",
              "      <td>Poison</td>\n",
              "      <td>45</td>\n",
              "      <td>49</td>\n",
              "      <td>49</td>\n",
              "      <td>65</td>\n",
              "      <td>65</td>\n",
              "      <td>45</td>\n",
              "      <td>False</td>\n",
              "    </tr>\n",
              "  </tbody>\n",
              "</table>\n",
              "</div>"
            ],
            "text/plain": [
              "   pid       Name Class 1 Class 2  HP  Attack  Defense  Sp. Atk  Sp. Def  \\\n",
              "0    1  Bulbasaur   Grass  Poison  45      49       49       65       65   \n",
              "\n",
              "   Speed  Legendary  \n",
              "0     45      False  "
            ]
          },
          "execution_count": 26,
          "metadata": {},
          "output_type": "execute_result"
        }
      ],
      "source": [
        "pokemon.head(1)"
      ]
    },
    {
      "cell_type": "markdown",
      "metadata": {},
      "source": [
        "что мне надо сделать?\n",
        "1) разделить покемоны на легендарные и не легендарные\n",
        "2) сложить характеристики HP, Attack, Defense для каждой группы\n",
        "3) посчитать произведение характеристик HP, Attack, Defense для каждой группы\n",
        "4) и потом проверить эти цифры? типа больше или нет?\n",
        "а что еще?\n"
      ]
    },
    {
      "cell_type": "code",
      "execution_count": 27,
      "metadata": {},
      "outputs": [],
      "source": [
        "# тут я делаю на легендарных и не легендарных покемонов\n",
        "legendary_pokemons = pokemon[pokemon['Legendary'] == True]\n",
        "non_legendary_pokemons = pokemon[pokemon['Legendary'] == False]\n",
        "\n",
        "# тут я считаю сумму характеристик HP, Attack, Defense для каждой группы\n",
        "legendary_pokemons['sum_hp_attack_defense'] = legendary_pokemons['HP'] + legendary_pokemons['Attack'] + legendary_pokemons['Defense']\n",
        "non_legendary_pokemons['sum_hp_attack_defense'] = non_legendary_pokemons['HP'] + non_legendary_pokemons['Attack'] + non_legendary_pokemons['Defense']\n",
        "\n",
        "# тут я считаю произведение характеристик HP, Attack, Defense для каждой группы\n",
        "legendary_pokemons['mult_hp_attack_defense'] = legendary_pokemons['HP'] * legendary_pokemons['Attack'] * legendary_pokemons['Defense']\n",
        "non_legendary_pokemons['mult_hp_attack_defense'] = non_legendary_pokemons['HP'] * non_legendary_pokemons['Attack'] * non_legendary_pokemons['Defense']\n",
        "\n",
        "\n"
      ]
    },
    {
      "cell_type": "code",
      "execution_count": 28,
      "metadata": {},
      "outputs": [
        {
          "name": "stdout",
          "output_type": "stream",
          "text": [
            "легендарные покемоны сумма и произведение характеристик среднее\n",
            "309.0769230769231\n",
            "1085941.6153846155\n",
            "легендарные покемоны сумма и произведение характеристик медиана\n",
            "305.0\n",
            "1000000.0\n",
            "не легендарные покемоны сумма и произведение характеристик среднее\n",
            "214.4108843537415\n",
            "425041.38911564625\n",
            "не легендарные покемоны сумма и произведение характеристик медиана\n",
            "213.0\n",
            "331500.0\n"
          ]
        }
      ],
      "source": [
        "print(\"легендарные покемоны сумма и произведение характеристик среднее\")\n",
        "print(legendary_pokemons['sum_hp_attack_defense'].mean())\n",
        "print(legendary_pokemons['mult_hp_attack_defense'].mean())\n",
        "\n",
        "print(\"легендарные покемоны сумма и произведение характеристик медиана\")\n",
        "print(legendary_pokemons['sum_hp_attack_defense'].median())\n",
        "print(legendary_pokemons['mult_hp_attack_defense'].median())\n",
        "\n",
        "print(\"не легендарные покемоны сумма и произведение характеристик среднее\")\n",
        "print(non_legendary_pokemons['sum_hp_attack_defense'].mean())\n",
        "print(non_legendary_pokemons['mult_hp_attack_defense'].mean())\n",
        "\n",
        "print(\"не легендарные покемоны сумма и произведение характеристик медиана\")\n",
        "print(non_legendary_pokemons['sum_hp_attack_defense'].median())\n",
        "print(non_legendary_pokemons['mult_hp_attack_defense'].median())\n"
      ]
    },
    {
      "cell_type": "code",
      "execution_count": 29,
      "metadata": {},
      "outputs": [
        {
          "name": "stdout",
          "output_type": "stream",
          "text": [
            "p-value = 0.00000\n",
            "p-value = 0.00000\n"
          ]
        }
      ],
      "source": [
        "# тут я проверяю гипотезу что сумма характеристик легендарных покемонов больше чем у не легендарных\n",
        "stat, p = ttest_ind(legendary_pokemons['sum_hp_attack_defense'], non_legendary_pokemons['sum_hp_attack_defense'])\n",
        "print(f\"p-value = {p:.5f}\")\n",
        "\n",
        "# тут я проверяю гипотезу что произведение характеристик легендарных покемонов больше чем у не легендарных\n",
        "stat, p = ttest_ind(legendary_pokemons['mult_hp_attack_defense'], non_legendary_pokemons['mult_hp_attack_defense'])\n",
        "print(f\"p-value = {p:.5f}\")\n"
      ]
    },
    {
      "cell_type": "code",
      "execution_count": 30,
      "metadata": {},
      "outputs": [
        {
          "data": {
            "image/png": "[encoded data removed]",
            "text/plain": [
              "<Figure size 1000x600 with 2 Axes>"
            ]
          },
          "metadata": {},
          "output_type": "display_data"
        }
      ],
      "source": [
        "plt.figure(figsize=(10, 6))\n",
        "plt.subplot(1, 2, 1)  \n",
        "plt.boxplot([legendary_pokemons['sum_hp_attack_defense'], \n",
        "            non_legendary_pokemons['sum_hp_attack_defense']], \n",
        "            labels=['Legendary', 'Non-Legendary'])\n",
        "plt.title('Сравнение суммы характеристик')\n",
        "plt.ylabel('Сумма (HP + Attack + Defense)')\n",
        "\n",
        "plt.subplot(1, 2, 2)  \n",
        "plt.boxplot([legendary_pokemons['mult_hp_attack_defense'], \n",
        "            non_legendary_pokemons['mult_hp_attack_defense']], \n",
        "            labels=['Legendary', 'Non-Legendary'])\n",
        "plt.title('Сравнение произведения характеристик')\n",
        "plt.ylabel('Произведение (HP * Attack * Defense)')\n",
        "\n",
        "plt.tight_layout()\n",
        "plt.show()"
      ]
    },
    {
      "cell_type": "markdown",
      "metadata": {},
      "source": [
        "\n",
        "    после анализа видно, что легендарные покемоны действительно превосходят обычных покемонов по характеристикам:По сумме базовых характеристик (HP + Attack + Defense):\n",
        "    Легендарные покемоны имеют медиану около 300\n",
        "    Обычные покемоны имеют медиану около 210\n",
        "    По произведению характеристик (HP × Attack × Defense) разница еще более выраженная\n",
        "    Эти различия статистически значимы (p-value = 0), значит нет шансов получить такую разницу случайно.\n",
        "    Визуализация через boxplot тоже показывает превосходство легендарных покемонов по обоим показателям."
      ]
    },
    {
      "cell_type": "markdown",
      "metadata": {
        "id": "g9GwcheAGZwc"
      },
      "source": [
        "<div class=\"alert alert-info\">\n",
        "<b>Задание № 5:</b>\n",
        "    \n",
        "Профессор Оук частенько наблюдает за боями покемонов. После очередных таких боёв Оук выделил четыре класса `best_defence_class`, которые на его взгляд одинаковы по \"силе обычной защиты\" `Defense`.\n",
        "\n",
        "Проверьте, действительно ли эти классы покемонов не отличаются по уровню защиты статистически значимо? Всё та же статистика вам в помощь!\n",
        "   \n",
        "\n",
        "Вы можете предположить, что распределение параметров защитных характеристик является нормальным для всех классов покемонов.\n",
        "\n",
        "</div>"
      ]
    },
    {
      "cell_type": "code",
      "execution_count": 31,
      "metadata": {
        "colab": {
          "base_uri": "https://localhost:8080/"
        },
        "id": "F0w6ipNBGZwd",
        "outputId": "e20a4efd-dcf6-4730-8730-91f7fec544ea"
      },
      "outputs": [
        {
          "data": {
            "text/plain": [
              "['Rock', 'Ground', 'Steel', 'Ice']"
            ]
          },
          "execution_count": 31,
          "metadata": {},
          "output_type": "execute_result"
        }
      ],
      "source": [
        "best_defence_class = ['Rock', 'Ground', 'Steel', 'Ice']\n",
        "best_defence_class"
      ]
    },
    {
      "cell_type": "code",
      "execution_count": 34,
      "metadata": {
        "id": "pYOPHA9Xt_eF"
      },
      "outputs": [
        {
          "name": "stdout",
          "output_type": "stream",
          "text": [
            "(58, 11)\n",
            "(67, 11)\n",
            "(49, 11)\n",
            "(38, 11)\n"
          ]
        }
      ],
      "source": [
        "rock_pokemon = pokemon[(pokemon['Class 1'] == 'Rock') | (pokemon['Class 2'] == 'Rock')]\n",
        "ground_pokemon = pokemon[(pokemon['Class 1'] == 'Ground') | (pokemon['Class 2'] == 'Ground')]\n",
        "steel_pokemon = pokemon[(pokemon['Class 1'] == 'Steel') | (pokemon['Class 2'] == 'Steel')]\n",
        "ice_pokemon = pokemon[(pokemon['Class 1'] == 'Ice') | (pokemon['Class 2'] == 'Ice')]\n",
        "\n",
        "print(rock_pokemon.shape)\n",
        "print(ground_pokemon.shape)\n",
        "print(steel_pokemon.shape)\n",
        "print(ice_pokemon.shape)\n"
      ]
    },
    {
      "cell_type": "code",
      "execution_count": 36,
      "metadata": {},
      "outputs": [
        {
          "name": "stdout",
          "output_type": "stream",
          "text": [
            "Rock покемоны: 41\n",
            "Ground покемоны: 52\n",
            "Steel покемоны: 40\n",
            "Ice покемоны: 33\n"
          ]
        }
      ],
      "source": [
        "# Очищаем группу Rock\n",
        "rock_pokemon = rock_pokemon[rock_pokemon['Class 2'] != 'Ground']\n",
        "rock_pokemon = rock_pokemon[rock_pokemon['Class 2'] != 'Steel']\n",
        "rock_pokemon = rock_pokemon[rock_pokemon['Class 2'] != 'Ice']\n",
        "rock_pokemon = rock_pokemon[rock_pokemon['Class 1'] != 'Ground']\n",
        "rock_pokemon = rock_pokemon[rock_pokemon['Class 1'] != 'Steel']\n",
        "rock_pokemon = rock_pokemon[rock_pokemon['Class 1'] != 'Ice']\n",
        "\n",
        "# Очищаем группу Ground\n",
        "ground_pokemon = ground_pokemon[ground_pokemon['Class 2'] != 'Rock']\n",
        "ground_pokemon = ground_pokemon[ground_pokemon['Class 2'] != 'Steel']\n",
        "ground_pokemon = ground_pokemon[ground_pokemon['Class 2'] != 'Ice']\n",
        "ground_pokemon = ground_pokemon[ground_pokemon['Class 1'] != 'Rock']\n",
        "ground_pokemon = ground_pokemon[ground_pokemon['Class 1'] != 'Steel']\n",
        "ground_pokemon = ground_pokemon[ground_pokemon['Class 1'] != 'Ice']\n",
        "\n",
        "# Очищаем группу Steel\n",
        "steel_pokemon = steel_pokemon[steel_pokemon['Class 2'] != 'Rock']\n",
        "steel_pokemon = steel_pokemon[steel_pokemon['Class 2'] != 'Ground']\n",
        "steel_pokemon = steel_pokemon[steel_pokemon['Class 2'] != 'Ice']\n",
        "steel_pokemon = steel_pokemon[steel_pokemon['Class 1'] != 'Rock']\n",
        "steel_pokemon = steel_pokemon[steel_pokemon['Class 1'] != 'Ground']\n",
        "steel_pokemon = steel_pokemon[steel_pokemon['Class 1'] != 'Ice']\n",
        "\n",
        "# Очищаем группу Ice\n",
        "ice_pokemon = ice_pokemon[ice_pokemon['Class 2'] != 'Rock']\n",
        "ice_pokemon = ice_pokemon[ice_pokemon['Class 2'] != 'Ground']\n",
        "ice_pokemon = ice_pokemon[ice_pokemon['Class 2'] != 'Steel']\n",
        "ice_pokemon = ice_pokemon[ice_pokemon['Class 1'] != 'Rock']\n",
        "ice_pokemon = ice_pokemon[ice_pokemon['Class 1'] != 'Ground']\n",
        "ice_pokemon = ice_pokemon[ice_pokemon['Class 1'] != 'Steel']\n",
        "\n",
        "# Проверяем размеры получившихся групп\n",
        "print(\"Rock покемоны:\", rock_pokemon.shape[0])\n",
        "print(\"Ground покемоны:\", ground_pokemon.shape[0])\n",
        "print(\"Steel покемоны:\", steel_pokemon.shape[0])\n",
        "print(\"Ice покемоны:\", ice_pokemon.shape[0])"
      ]
    },
    {
      "cell_type": "code",
      "execution_count": 38,
      "metadata": {},
      "outputs": [
        {
          "name": "stdout",
          "output_type": "stream",
          "text": [
            "rock pokemon defense mean 104.09756097560975\n",
            "rock pokemon defense median 100.0\n",
            "ground pokemon defense mean 81.07692307692308\n",
            "ground pokemon defense median 80.0\n",
            "steel pokemon defense mean 109.325\n",
            "steel pokemon defense median 100.0\n",
            "ice pokemon defense mean 78.51515151515152\n",
            "ice pokemon defense median 80.0\n"
          ]
        }
      ],
      "source": [
        "print('rock pokemon defense mean', rock_pokemon['Defense'].mean())\n",
        "print('rock pokemon defense median', rock_pokemon['Defense'].median())\n",
        "print('ground pokemon defense mean', ground_pokemon['Defense'].mean())\n",
        "print('ground pokemon defense median', ground_pokemon['Defense'].median())\n",
        "print('steel pokemon defense mean', steel_pokemon['Defense'].mean())\n",
        "print('steel pokemon defense median', steel_pokemon['Defense'].median())\n",
        "print('ice pokemon defense mean', ice_pokemon['Defense'].mean())\n",
        "print('ice pokemon defense median', ice_pokemon['Defense'].median())"
      ]
    },
    {
      "cell_type": "code",
      "execution_count": 41,
      "metadata": {},
      "outputs": [
        {
          "data": {
            "image/png": "[encoded data removed]",
            "text/plain": [
              "<Figure size 1000x600 with 1 Axes>"
            ]
          },
          "metadata": {},
          "output_type": "display_data"
        }
      ],
      "source": [
        "plt.figure(figsize=(10, 6))\n",
        "plt.boxplot([rock_pokemon['Defense'], \n",
        "             ground_pokemon['Defense'], \n",
        "             steel_pokemon['Defense'], \n",
        "             ice_pokemon['Defense']], \n",
        "            labels=['Rock', 'Ground', 'Steel', 'Ice'])\n",
        "plt.title('Сравнение защиты покемонов')\n",
        "plt.ylabel('Значение защиты')\n",
        "plt.show()"
      ]
    },
    {
      "cell_type": "markdown",
      "metadata": {},
      "source": [
        "    судя по боксплоту, они не выглядят одинаковыми, rock и stell похожи, но ground и ice выглядят хуже.\n",
        "    надо проверить статистически\n"
      ]
    },
    {
      "cell_type": "code",
      "execution_count": 42,
      "metadata": {},
      "outputs": [
        {
          "name": "stdout",
          "output_type": "stream",
          "text": [
            "p-value = 0.00002\n",
            "Отклоняем нулевую гипотезу - есть статистически значимая разница\n"
          ]
        }
      ],
      "source": [
        "stat, p = f_oneway(rock_pokemon['Defense'], ground_pokemon['Defense'], steel_pokemon['Defense'], ice_pokemon['Defense'])\n",
        "print(f\"p-value = {p:.5f}\")\n",
        "if p > 0.05:\n",
        "    print('Не отклоняем нулевую гипотезу - разницы нет')\n",
        "else:\n",
        "    print('Отклоняем нулевую гипотезу - есть статистически значимая разница') \n"
      ]
    },
    {
      "cell_type": "markdown",
      "metadata": {},
      "source": [
        "    профессор Оук не прав, между классами есть статистически значимая разница"
      ]
    },
    {
      "cell_type": "code",
      "execution_count": null,
      "metadata": {},
      "outputs": [],
      "source": []
    },
    {
      "cell_type": "markdown",
      "metadata": {
        "id": "If3qgUORDFBb"
      },
      "source": [
        "# **Примечание:**\n",
        "\n",
        "Домашнее задание сдается ссылкой [Google Colab](https://colab.research.google.com/). Мы не сможем проверить его или помочь, если вы пришлете:\n",
        "\n",
        "*   файлы;\n",
        "*   архивы;\n",
        "*   скриншоты кода.\n",
        "\n",
        "Все обсуждения и консультации по выполнению домашнего задания ведутся только на соответствующем канале в Discord.\n",
        "\n",
        "**Как правильно задавать вопросы аспирантам, преподавателям и коллегам:**\n",
        "\n",
        "Прежде чем задать вопрос, попробуйте найти ответ в интернете. Навык самостоятельного поиска информации — один из важнейших. Каждый практикующий специалист любого уровня делает это ежедневно.\n",
        "\n",
        "Сформулируйте вопрос по алгоритму:\n",
        "\n",
        "1.   Что я делаю?\n",
        "2.   Какого результата я ожидаю?\n",
        "3.   Как фактический результат отличается от ожидаемого?\n",
        "4.   Что я уже попробовал сделать, чтобы исправить проблему?\n",
        "\n",
        "По возможности прикрепите к вопросу скриншоты либо ссылки на код. Не выкладывайте все решение, оставляйте только проблемный и воспроизводимый участок кода."
      ]
    }
  ],
  "metadata": {
    "colab": {
      "provenance": []
    },
    "kernelspec": {
      "display_name": "Python 3",
      "language": "python",
      "name": "python3"
    },
    "language_info": {
      "codemirror_mode": {
        "name": "ipython",
        "version": 3
      },
      "file_extension": ".py",
      "mimetype": "text/x-python",
      "name": "python",
      "nbconvert_exporter": "python",
      "pygments_lexer": "ipython3",
      "version": "3.11.7"
    },
    "toc": {
      "base_numbering": 1,
      "nav_menu": {},
      "number_sections": true,
      "sideBar": true,
      "skip_h1_title": false,
      "title_cell": "Table of Contents",
      "title_sidebar": "Contents",
      "toc_cell": false,
      "toc_position": {},
      "toc_section_display": true,
      "toc_window_display": false
    }
  },
  "nbformat": 4,
  "nbformat_minor": 0
}
