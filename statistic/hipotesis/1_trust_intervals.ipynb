{
 "cells": [
  {
   "cell_type": "code",
   "execution_count": 2,
   "id": "6593631f",
   "metadata": {},
   "outputs": [],
   "source": [
    "import pandas as pd\n",
    "import scipy.stats as st\n",
    "import numpy as np\n",
    "import math\n",
    "import matplotlib.pyplot as plt"
   ]
  },
  {
   "cell_type": "code",
   "execution_count": 3,
   "id": "82bfd6c0",
   "metadata": {},
   "outputs": [
    {
     "data": {
      "text/plain": [
       "1.959963984540054"
      ]
     },
     "execution_count": 3,
     "metadata": {},
     "output_type": "execute_result"
    }
   ],
   "source": [
    "st.norm.ppf(.975)"
   ]
  },
  {
   "cell_type": "markdown",
   "id": "38147c59",
   "metadata": {},
   "source": [
    "Определите размер необходимой выборки для исследования среднего чека за кофе в городе N, если известны следующие параметры:\n",
    "\n",
    "погрешность (Δ);\n",
    "дисперсия (σ2);\n",
    "уровень доверия (1-α).\n",
    "Распределение считаем нормальным.\n",
    "\n",
    "Внимание: не удаляйте код ниже, а дополните его. Функция нужна для проверки вашего решения."
   ]
  },
  {
   "cell_type": "code",
   "execution_count": 4,
   "id": "d97cfee2",
   "metadata": {},
   "outputs": [],
   "source": [
    "\n",
    "\n",
    "\n",
    "import numpy as np\n",
    "from scipy import stats\n",
    "\n",
    "\n",
    "def sample(delta, sigsqr, conf):\n",
    "    \"\"\"\n",
    "    delta: погрешность (Δ)\n",
    "    sigsqr: дисперсия (σ²)\n",
    "    conf: уровень доверия (1-α)\n",
    "    \"\"\"\n",
    "    # 1. Стандартное отклонение\n",
    "    sigma = np.sqrt(sigsqr)\n",
    "    \n",
    "    # 2. Критическое значение Z\n",
    "    z = norm.ppf(1 - (1 - conf) / 2)  # Двусторонний интервал\n",
    "    \n",
    "    # 3. Расчет размера выборки\n",
    "    n = (z * sigma / delta) ** 2\n",
    "    \n",
    "    return int(np.ceil(n))  # Округляем до целого числа"
   ]
  },
  {
   "cell_type": "code",
   "execution_count": 5,
   "id": "3c57bae1",
   "metadata": {},
   "outputs": [],
   "source": [
    "\n",
    "def interval(n, mean, sig, conf):\n",
    "    h = (sig / np.sqrt(n)) * (stats.norm.ppf((1 + conf)/2))\n",
    "    low = mean - h\n",
    "    up = mean + h\n",
    "    len = np.round(up - low)\n",
    "    return len\n"
   ]
  },
  {
   "cell_type": "code",
   "execution_count": 6,
   "id": "a04be8e3",
   "metadata": {},
   "outputs": [],
   "source": [
    "def interval(n, mean, sig, conf):\n",
    "    # Определяем число степеней свободы\n",
    "    df = n - 1\n",
    "    \n",
    "    # Находим критическое значение t\n",
    "    t_value = stats.t.ppf((1+conf)/2, df=df)\n",
    "    \n",
    "    # Расчет половины длины интервала (h)\n",
    "    h = t_value * (sig / np.sqrt(n))\n",
    "    \n",
    "    # Длина интервала - разница между верхним и нижним концом\n",
    "    length = 2 * h\n",
    "    \n",
    "    return length"
   ]
  },
  {
   "cell_type": "code",
   "execution_count": null,
   "id": "fb0774df",
   "metadata": {},
   "outputs": [],
   "source": []
  }
 ],
 "metadata": {
  "kernelspec": {
   "display_name": "Python 3 (ipykernel)",
   "language": "python",
   "name": "python3"
  },
  "language_info": {
   "codemirror_mode": {
    "name": "ipython",
    "version": 3
   },
   "file_extension": ".py",
   "mimetype": "text/x-python",
   "name": "python",
   "nbconvert_exporter": "python",
   "pygments_lexer": "ipython3",
   "version": "3.11.7"
  }
 },
 "nbformat": 4,
 "nbformat_minor": 5
}
