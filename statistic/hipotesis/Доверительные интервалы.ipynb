{
 "cells": [
  {
   "cell_type": "markdown",
   "metadata": {
    "id": "zGyXoiAL5fru"
   },
   "source": [
    "<p style=\"align: center;\"><img align=center src=\"https://netology.ru/backend/tilda/images/tild3439-3364-4535-b334-656263633534__main.svg\"  width=900></p>\n",
    "<h3 style=\"text-align: center;\"><b>«Практическое занятие по доверительным интервалам»</b></h3>"
   ]
  },
  {
   "cell_type": "code",
   "execution_count": 1,
   "metadata": {
    "id": "x5fGD1il5fr2"
   },
   "outputs": [],
   "source": [
    "import numpy as np\n",
    "import scipy.stats as st\n",
    "import pandas as pd\n",
    "import math\n",
    "import matplotlib.pyplot as plt"
   ]
  },
  {
   "cell_type": "markdown",
   "metadata": {
    "id": "4-1CdRRx5fr6"
   },
   "source": [
    "## Расчет по формуле"
   ]
  },
  {
   "cell_type": "code",
   "execution_count": null,
   "metadata": {
    "colab": {
     "base_uri": "https://localhost:8080/"
    },
    "executionInfo": {
     "elapsed": 4,
     "status": "ok",
     "timestamp": 1669127270361,
     "user": {
      "displayName": "Виктория Сухорукова",
      "userId": "12182369867649867455"
     },
     "user_tz": -180
    },
    "id": "0NUjsx_l5fr7",
    "outputId": "6ee72b90-a98a-4575-8218-f10f9a095aa6"
   },
   "outputs": [
    {
     "data": {
      "text/plain": [
       "1.959963984540054"
      ]
     },
     "execution_count": 6,
     "metadata": {},
     "output_type": "execute_result"
    }
   ],
   "source": [
    "st.norm.ppf(.975)"
   ]
  },
  {
   "cell_type": "markdown",
   "metadata": {
    "id": "IY5qUOuL5fr8"
   },
   "source": [
    "<b>Пример.</b> По данным $7$ измерений некоторой величины найдены средняя результатов\n",
    "измерений, равная $30$ и выборочная дисперсия, равная $36$. Найдите границы, в которых с\n",
    "надежностью $0,95$ заключено истинное значение измеряемой величины. "
   ]
  },
  {
   "cell_type": "code",
   "execution_count": null,
   "metadata": {
    "id": "V-2857LT5fr9"
   },
   "outputs": [],
   "source": [
    "n = 7 # Размер выборки\n",
    "dof = n - 1 # Число степеней свободы \n",
    "mn = 30 # Среднее значение\n",
    "sigma = np.sqrt(36) # Стандартное отклонение\n",
    "T = 2.45  # Параметр t распределения. Таблицу значений можно легко найти в поисковике"
   ]
  },
  {
   "cell_type": "code",
   "execution_count": null,
   "metadata": {
    "colab": {
     "base_uri": "https://localhost:8080/"
    },
    "executionInfo": {
     "elapsed": 832,
     "status": "ok",
     "timestamp": 1669127305381,
     "user": {
      "displayName": "Виктория Сухорукова",
      "userId": "12182369867649867455"
     },
     "user_tz": -180
    },
    "id": "0Grh_EhI5fr-",
    "outputId": "9a2f2515-a92c-4ed5-9e14-afd443d394bf"
   },
   "outputs": [
    {
     "data": {
      "text/plain": [
       "(24.44392224676436, 35.55607775323564)"
      ]
     },
     "execution_count": 8,
     "metadata": {},
     "output_type": "execute_result"
    }
   ],
   "source": [
    "(mn - T*sigma/np.sqrt(7), mn + T*sigma/np.sqrt(7))"
   ]
  },
  {
   "cell_type": "markdown",
   "metadata": {
    "id": "967wJHRL5fsA"
   },
   "source": [
    "## Собственная функция"
   ]
  },
  {
   "cell_type": "markdown",
   "metadata": {
    "id": "KxS5nPsc5fsB"
   },
   "source": [
    "Вспомогательная функция для подсчета доверительного интервала для маленьких выборок (до 30 элементов, t распределение)."
   ]
  },
  {
   "cell_type": "code",
   "execution_count": null,
   "metadata": {
    "id": "J8Y3aYe85fsD"
   },
   "outputs": [],
   "source": [
    "def mean_confidence_interval(data, confidence=0.95): \n",
    "    n = len(data)\n",
    "    m, se = np.mean(data), st.sem(data)\n",
    "    h = se * st.t.ppf((1 + confidence)/2, n-1)  #  функция ppf из scipy возвращает нам перцентиль\n",
    "    return m-h, m, m+h "
   ]
  },
  {
   "cell_type": "code",
   "execution_count": null,
   "metadata": {
    "colab": {
     "base_uri": "https://localhost:8080/"
    },
    "executionInfo": {
     "elapsed": 425,
     "status": "ok",
     "timestamp": 1669127440592,
     "user": {
      "displayName": "Виктория Сухорукова",
      "userId": "12182369867649867455"
     },
     "user_tz": -180
    },
    "id": "-DQpwJTs5fsE",
    "outputId": "3a143008-a816-4885-a2ca-b644b8576593"
   },
   "outputs": [
    {
     "name": "stdout",
     "output_type": "stream",
     "text": [
      "(11.707199792530355, 12.391304347826088, 13.07540890312182)\n",
      "(11.02260721314349, 12.391304347826088, 13.760001482508686)\n",
      "(10.1445373309875, 12.391304347826088, 14.638071364664675)\n"
     ]
    }
   ],
   "source": [
    "a =  [5,7,7,9,10,16,7,14,13,15,16,15,\n",
    "     16,17,18,13,14,15,6,13, 14, 12 ,13 ]\n",
    "\n",
    "print(mean_confidence_interval(a, 0.60))\n",
    "print(mean_confidence_interval(a, 0.90))\n",
    "print(mean_confidence_interval(a, 0.99))"
   ]
  },
  {
   "cell_type": "markdown",
   "metadata": {
    "id": "A5VWeAT45fsF"
   },
   "source": [
    "<b>Пример.</b> Попробуем с помощью доверительного интервала оценить результаты выборов."
   ]
  },
  {
   "cell_type": "markdown",
   "metadata": {
    "id": "lUu0O3Eg5fsG"
   },
   "source": [
    "<p style=\"align: center;\"><img align=center src=\"https://www.englisch-hilfen.de/images/usa/states/map.gif\"  width=400></p>"
   ]
  },
  {
   "cell_type": "code",
   "execution_count": null,
   "metadata": {
    "colab": {
     "base_uri": "https://localhost:8080/",
     "height": 206
    },
    "executionInfo": {
     "elapsed": 299,
     "status": "ok",
     "timestamp": 1669127507038,
     "user": {
      "displayName": "Виктория Сухорукова",
      "userId": "12182369867649867455"
     },
     "user_tz": -180
    },
    "id": "YliuPrEt5fsG",
    "outputId": "9f4bee00-735a-4c36-d103-2a178c7c82ea"
   },
   "outputs": [
    {
     "data": {
      "text/html": [
       "\n",
       "  <div id=\"df-bca5358a-d823-47dd-add9-6033add5edae\">\n",
       "    <div class=\"colab-df-container\">\n",
       "      <div>\n",
       "<style scoped>\n",
       "    .dataframe tbody tr th:only-of-type {\n",
       "        vertical-align: middle;\n",
       "    }\n",
       "\n",
       "    .dataframe tbody tr th {\n",
       "        vertical-align: top;\n",
       "    }\n",
       "\n",
       "    .dataframe thead th {\n",
       "        text-align: right;\n",
       "    }\n",
       "</style>\n",
       "<table border=\"1\" class=\"dataframe\">\n",
       "  <thead>\n",
       "    <tr style=\"text-align: right;\">\n",
       "      <th></th>\n",
       "      <th>State Postal</th>\n",
       "      <th>County Name</th>\n",
       "      <th>FIPS</th>\n",
       "      <th>Obama vote</th>\n",
       "      <th>%</th>\n",
       "      <th>Romney vote</th>\n",
       "      <th>%.1</th>\n",
       "    </tr>\n",
       "  </thead>\n",
       "  <tbody>\n",
       "    <tr>\n",
       "      <th>0</th>\n",
       "      <td>AK</td>\n",
       "      <td>Alaska</td>\n",
       "      <td>0</td>\n",
       "      <td>91,696</td>\n",
       "      <td>41.6</td>\n",
       "      <td>121,234</td>\n",
       "      <td>55</td>\n",
       "    </tr>\n",
       "    <tr>\n",
       "      <th>1</th>\n",
       "      <td>AK</td>\n",
       "      <td>Alaska</td>\n",
       "      <td>2000</td>\n",
       "      <td>91,696</td>\n",
       "      <td>41.6</td>\n",
       "      <td>121,234</td>\n",
       "      <td>55</td>\n",
       "    </tr>\n",
       "    <tr>\n",
       "      <th>2</th>\n",
       "      <td>AL</td>\n",
       "      <td>Alabama</td>\n",
       "      <td>0</td>\n",
       "      <td>793,620</td>\n",
       "      <td>38.4</td>\n",
       "      <td>1,252,453</td>\n",
       "      <td>60.7</td>\n",
       "    </tr>\n",
       "    <tr>\n",
       "      <th>3</th>\n",
       "      <td>AL</td>\n",
       "      <td>Autauga</td>\n",
       "      <td>1001</td>\n",
       "      <td>6,354</td>\n",
       "      <td>26.6</td>\n",
       "      <td>17,366</td>\n",
       "      <td>72.6</td>\n",
       "    </tr>\n",
       "    <tr>\n",
       "      <th>4</th>\n",
       "      <td>AL</td>\n",
       "      <td>Baldwin</td>\n",
       "      <td>1003</td>\n",
       "      <td>18,329</td>\n",
       "      <td>21.6</td>\n",
       "      <td>65,772</td>\n",
       "      <td>77.4</td>\n",
       "    </tr>\n",
       "  </tbody>\n",
       "</table>\n",
       "</div>\n",
       "      <button class=\"colab-df-convert\" onclick=\"convertToInteractive('df-bca5358a-d823-47dd-add9-6033add5edae')\"\n",
       "              title=\"Convert this dataframe to an interactive table.\"\n",
       "              style=\"display:none;\">\n",
       "        \n",
       "  <svg xmlns=\"http://www.w3.org/2000/svg\" height=\"24px\"viewBox=\"0 0 24 24\"\n",
       "       width=\"24px\">\n",
       "    <path d=\"M0 0h24v24H0V0z\" fill=\"none\"/>\n",
       "    <path d=\"M18.56 5.44l.94 2.06.94-2.06 2.06-.94-2.06-.94-.94-2.06-.94 2.06-2.06.94zm-11 1L8.5 8.5l.94-2.06 2.06-.94-2.06-.94L8.5 2.5l-.94 2.06-2.06.94zm10 10l.94 2.06.94-2.06 2.06-.94-2.06-.94-.94-2.06-.94 2.06-2.06.94z\"/><path d=\"M17.41 7.96l-1.37-1.37c-.4-.4-.92-.59-1.43-.59-.52 0-1.04.2-1.43.59L10.3 9.45l-7.72 7.72c-.78.78-.78 2.05 0 2.83L4 21.41c.39.39.9.59 1.41.59.51 0 1.02-.2 1.41-.59l7.78-7.78 2.81-2.81c.8-.78.8-2.07 0-2.86zM5.41 20L4 18.59l7.72-7.72 1.47 1.35L5.41 20z\"/>\n",
       "  </svg>\n",
       "      </button>\n",
       "      \n",
       "  <style>\n",
       "    .colab-df-container {\n",
       "      display:flex;\n",
       "      flex-wrap:wrap;\n",
       "      gap: 12px;\n",
       "    }\n",
       "\n",
       "    .colab-df-convert {\n",
       "      background-color: #E8F0FE;\n",
       "      border: none;\n",
       "      border-radius: 50%;\n",
       "      cursor: pointer;\n",
       "      display: none;\n",
       "      fill: #1967D2;\n",
       "      height: 32px;\n",
       "      padding: 0 0 0 0;\n",
       "      width: 32px;\n",
       "    }\n",
       "\n",
       "    .colab-df-convert:hover {\n",
       "      background-color: #E2EBFA;\n",
       "      box-shadow: 0px 1px 2px rgba(60, 64, 67, 0.3), 0px 1px 3px 1px rgba(60, 64, 67, 0.15);\n",
       "      fill: #174EA6;\n",
       "    }\n",
       "\n",
       "    [theme=dark] .colab-df-convert {\n",
       "      background-color: #3B4455;\n",
       "      fill: #D2E3FC;\n",
       "    }\n",
       "\n",
       "    [theme=dark] .colab-df-convert:hover {\n",
       "      background-color: #434B5C;\n",
       "      box-shadow: 0px 1px 3px 1px rgba(0, 0, 0, 0.15);\n",
       "      filter: drop-shadow(0px 1px 2px rgba(0, 0, 0, 0.3));\n",
       "      fill: #FFFFFF;\n",
       "    }\n",
       "  </style>\n",
       "\n",
       "      <script>\n",
       "        const buttonEl =\n",
       "          document.querySelector('#df-bca5358a-d823-47dd-add9-6033add5edae button.colab-df-convert');\n",
       "        buttonEl.style.display =\n",
       "          google.colab.kernel.accessAllowed ? 'block' : 'none';\n",
       "\n",
       "        async function convertToInteractive(key) {\n",
       "          const element = document.querySelector('#df-bca5358a-d823-47dd-add9-6033add5edae');\n",
       "          const dataTable =\n",
       "            await google.colab.kernel.invokeFunction('convertToInteractive',\n",
       "                                                     [key], {});\n",
       "          if (!dataTable) return;\n",
       "\n",
       "          const docLinkHtml = 'Like what you see? Visit the ' +\n",
       "            '<a target=\"_blank\" href=https://colab.research.google.com/notebooks/data_table.ipynb>data table notebook</a>'\n",
       "            + ' to learn more about interactive tables.';\n",
       "          element.innerHTML = '';\n",
       "          dataTable['output_type'] = 'display_data';\n",
       "          await google.colab.output.renderOutput(dataTable, element);\n",
       "          const docLink = document.createElement('div');\n",
       "          docLink.innerHTML = docLinkHtml;\n",
       "          element.appendChild(docLink);\n",
       "        }\n",
       "      </script>\n",
       "    </div>\n",
       "  </div>\n",
       "  "
      ],
      "text/plain": [
       "  State Postal County Name  FIPS Obama vote     % Romney vote   %.1\n",
       "0           AK      Alaska     0     91,696  41.6     121,234    55\n",
       "1           AK      Alaska  2000     91,696  41.6     121,234    55\n",
       "2           AL     Alabama     0    793,620  38.4   1,252,453  60.7\n",
       "3           AL     Autauga  1001      6,354  26.6      17,366  72.6\n",
       "4           AL     Baldwin  1003     18,329  21.6      65,772  77.4"
      ]
     },
     "execution_count": 13,
     "metadata": {},
     "output_type": "execute_result"
    }
   ],
   "source": [
    "US_elect_county = 'https://raw.githubusercontent.com/a-milenkin/datasets_for_t-tests/main/2012_US_elect_county.csv'\n",
    " \n",
    "df = pd.read_csv(US_elect_county, sep=',') # Откроем датасет\n",
    "df.head()"
   ]
  },
  {
   "cell_type": "code",
   "execution_count": null,
   "metadata": {
    "colab": {
     "base_uri": "https://localhost:8080/",
     "height": 206
    },
    "executionInfo": {
     "elapsed": 292,
     "status": "ok",
     "timestamp": 1669127521708,
     "user": {
      "displayName": "Виктория Сухорукова",
      "userId": "12182369867649867455"
     },
     "user_tz": -180
    },
    "id": "xFehg7Xb5fsI",
    "outputId": "b900dd6c-9209-4bc9-f281-a6e2af4c9468"
   },
   "outputs": [
    {
     "data": {
      "text/html": [
       "\n",
       "  <div id=\"df-eeddc26a-0ffd-4b0b-b64e-8b5f5ea9e322\">\n",
       "    <div class=\"colab-df-container\">\n",
       "      <div>\n",
       "<style scoped>\n",
       "    .dataframe tbody tr th:only-of-type {\n",
       "        vertical-align: middle;\n",
       "    }\n",
       "\n",
       "    .dataframe tbody tr th {\n",
       "        vertical-align: top;\n",
       "    }\n",
       "\n",
       "    .dataframe thead th {\n",
       "        text-align: right;\n",
       "    }\n",
       "</style>\n",
       "<table border=\"1\" class=\"dataframe\">\n",
       "  <thead>\n",
       "    <tr style=\"text-align: right;\">\n",
       "      <th></th>\n",
       "      <th>State Postal</th>\n",
       "      <th>County Name</th>\n",
       "      <th>%</th>\n",
       "    </tr>\n",
       "  </thead>\n",
       "  <tbody>\n",
       "    <tr>\n",
       "      <th>0</th>\n",
       "      <td>AK</td>\n",
       "      <td>Alaska</td>\n",
       "      <td>41.6</td>\n",
       "    </tr>\n",
       "    <tr>\n",
       "      <th>1</th>\n",
       "      <td>AK</td>\n",
       "      <td>Alaska</td>\n",
       "      <td>41.6</td>\n",
       "    </tr>\n",
       "    <tr>\n",
       "      <th>2</th>\n",
       "      <td>AL</td>\n",
       "      <td>Alabama</td>\n",
       "      <td>38.4</td>\n",
       "    </tr>\n",
       "    <tr>\n",
       "      <th>3</th>\n",
       "      <td>AL</td>\n",
       "      <td>Autauga</td>\n",
       "      <td>26.6</td>\n",
       "    </tr>\n",
       "    <tr>\n",
       "      <th>4</th>\n",
       "      <td>AL</td>\n",
       "      <td>Baldwin</td>\n",
       "      <td>21.6</td>\n",
       "    </tr>\n",
       "  </tbody>\n",
       "</table>\n",
       "</div>\n",
       "      <button class=\"colab-df-convert\" onclick=\"convertToInteractive('df-eeddc26a-0ffd-4b0b-b64e-8b5f5ea9e322')\"\n",
       "              title=\"Convert this dataframe to an interactive table.\"\n",
       "              style=\"display:none;\">\n",
       "        \n",
       "  <svg xmlns=\"http://www.w3.org/2000/svg\" height=\"24px\"viewBox=\"0 0 24 24\"\n",
       "       width=\"24px\">\n",
       "    <path d=\"M0 0h24v24H0V0z\" fill=\"none\"/>\n",
       "    <path d=\"M18.56 5.44l.94 2.06.94-2.06 2.06-.94-2.06-.94-.94-2.06-.94 2.06-2.06.94zm-11 1L8.5 8.5l.94-2.06 2.06-.94-2.06-.94L8.5 2.5l-.94 2.06-2.06.94zm10 10l.94 2.06.94-2.06 2.06-.94-2.06-.94-.94-2.06-.94 2.06-2.06.94z\"/><path d=\"M17.41 7.96l-1.37-1.37c-.4-.4-.92-.59-1.43-.59-.52 0-1.04.2-1.43.59L10.3 9.45l-7.72 7.72c-.78.78-.78 2.05 0 2.83L4 21.41c.39.39.9.59 1.41.59.51 0 1.02-.2 1.41-.59l7.78-7.78 2.81-2.81c.8-.78.8-2.07 0-2.86zM5.41 20L4 18.59l7.72-7.72 1.47 1.35L5.41 20z\"/>\n",
       "  </svg>\n",
       "      </button>\n",
       "      \n",
       "  <style>\n",
       "    .colab-df-container {\n",
       "      display:flex;\n",
       "      flex-wrap:wrap;\n",
       "      gap: 12px;\n",
       "    }\n",
       "\n",
       "    .colab-df-convert {\n",
       "      background-color: #E8F0FE;\n",
       "      border: none;\n",
       "      border-radius: 50%;\n",
       "      cursor: pointer;\n",
       "      display: none;\n",
       "      fill: #1967D2;\n",
       "      height: 32px;\n",
       "      padding: 0 0 0 0;\n",
       "      width: 32px;\n",
       "    }\n",
       "\n",
       "    .colab-df-convert:hover {\n",
       "      background-color: #E2EBFA;\n",
       "      box-shadow: 0px 1px 2px rgba(60, 64, 67, 0.3), 0px 1px 3px 1px rgba(60, 64, 67, 0.15);\n",
       "      fill: #174EA6;\n",
       "    }\n",
       "\n",
       "    [theme=dark] .colab-df-convert {\n",
       "      background-color: #3B4455;\n",
       "      fill: #D2E3FC;\n",
       "    }\n",
       "\n",
       "    [theme=dark] .colab-df-convert:hover {\n",
       "      background-color: #434B5C;\n",
       "      box-shadow: 0px 1px 3px 1px rgba(0, 0, 0, 0.15);\n",
       "      filter: drop-shadow(0px 1px 2px rgba(0, 0, 0, 0.3));\n",
       "      fill: #FFFFFF;\n",
       "    }\n",
       "  </style>\n",
       "\n",
       "      <script>\n",
       "        const buttonEl =\n",
       "          document.querySelector('#df-eeddc26a-0ffd-4b0b-b64e-8b5f5ea9e322 button.colab-df-convert');\n",
       "        buttonEl.style.display =\n",
       "          google.colab.kernel.accessAllowed ? 'block' : 'none';\n",
       "\n",
       "        async function convertToInteractive(key) {\n",
       "          const element = document.querySelector('#df-eeddc26a-0ffd-4b0b-b64e-8b5f5ea9e322');\n",
       "          const dataTable =\n",
       "            await google.colab.kernel.invokeFunction('convertToInteractive',\n",
       "                                                     [key], {});\n",
       "          if (!dataTable) return;\n",
       "\n",
       "          const docLinkHtml = 'Like what you see? Visit the ' +\n",
       "            '<a target=\"_blank\" href=https://colab.research.google.com/notebooks/data_table.ipynb>data table notebook</a>'\n",
       "            + ' to learn more about interactive tables.';\n",
       "          element.innerHTML = '';\n",
       "          dataTable['output_type'] = 'display_data';\n",
       "          await google.colab.output.renderOutput(dataTable, element);\n",
       "          const docLink = document.createElement('div');\n",
       "          docLink.innerHTML = docLinkHtml;\n",
       "          element.appendChild(docLink);\n",
       "        }\n",
       "      </script>\n",
       "    </div>\n",
       "  </div>\n",
       "  "
      ],
      "text/plain": [
       "  State Postal County Name     %\n",
       "0           AK      Alaska  41.6\n",
       "1           AK      Alaska  41.6\n",
       "2           AL     Alabama  38.4\n",
       "3           AL     Autauga  26.6\n",
       "4           AL     Baldwin  21.6"
      ]
     },
     "execution_count": 14,
     "metadata": {},
     "output_type": "execute_result"
    }
   ],
   "source": [
    "df.dropna(how='any',inplace=True)  #Удалим пустые значения\n",
    "df=df[df['%']!='#DIV/0!'][['State Postal','County Name','%']] #Удалим мусор из данных и оставим только нужное\n",
    "df['%'] = df['%'].astype(float) # Приведем к численному значению результаты голосования\n",
    "df.head()"
   ]
  },
  {
   "cell_type": "code",
   "execution_count": null,
   "metadata": {
    "colab": {
     "base_uri": "https://localhost:8080/",
     "height": 282
    },
    "executionInfo": {
     "elapsed": 790,
     "status": "ok",
     "timestamp": 1669127558701,
     "user": {
      "displayName": "Виктория Сухорукова",
      "userId": "12182369867649867455"
     },
     "user_tz": -180
    },
    "id": "V3TKwVvV5fsJ",
    "outputId": "d9b86ca9-4020-47e0-906e-c56ddee521df"
   },
   "outputs": [
    {
     "name": "stdout",
     "output_type": "stream",
     "text": [
      "Среднее по всей выборке: 44.079\n"
     ]
    },
    {
     "data": {
      "image/png": "[encoded data removed]",
      "text/plain": [
       "<Figure size 432x288 with 1 Axes>"
      ]
     },
     "metadata": {
      "needs_background": "light"
     },
     "output_type": "display_data"
    }
   ],
   "source": [
    "df['%'].hist(bins=15)\n",
    "print(f\"Среднее по всей выборке: {df['%'].mean():.3f}\")"
   ]
  },
  {
   "cell_type": "code",
   "execution_count": null,
   "metadata": {
    "colab": {
     "base_uri": "https://localhost:8080/"
    },
    "executionInfo": {
     "elapsed": 287,
     "status": "ok",
     "timestamp": 1669127596621,
     "user": {
      "displayName": "Виктория Сухорукова",
      "userId": "12182369867649867455"
     },
     "user_tz": -180
    },
    "id": "8p-qjOgG5fsK",
    "outputId": "d175aac6-05a2-4942-c0be-bdc6ad7a15f6"
   },
   "outputs": [
    {
     "data": {
      "text/plain": [
       "(47.331589662725435, 48.45610425240055, 49.580618842075665)"
      ]
     },
     "execution_count": 18,
     "metadata": {},
     "output_type": "execute_result"
    }
   ],
   "source": [
    "some_states = ['AK','OH','WV','ME','CA','MD']\n",
    "\n",
    "sub_df = df.loc[df['State Postal'].isin(some_states)]  # Выборка по нескольким штатам\n",
    "\n",
    "l, s, r=mean_confidence_interval(sub_df['%'], 0.99)\n",
    "l, s, r"
   ]
  },
  {
   "cell_type": "markdown",
   "metadata": {
    "id": "OkW-_n4h5fsK"
   },
   "source": [
    "## Встроенные функции scipy.stats"
   ]
  },
  {
   "cell_type": "markdown",
   "metadata": {
    "id": "3sk1cVSD5fsL"
   },
   "source": [
    "### Расчет с использованием нормального распределения\n",
    "\n",
    "Длина выборки более 30 элементов."
   ]
  },
  {
   "cell_type": "markdown",
   "metadata": {
    "id": "LhvYQjbM5fsL"
   },
   "source": [
    "<b>Пример.</b> Используем выборку размером $n=100$ и определим $90\\%$ и $99\\%$ доверительные интервалы, используя нормальное распределение."
   ]
  },
  {
   "cell_type": "code",
   "execution_count": null,
   "metadata": {
    "id": "c7vZRosI5fsM"
   },
   "outputs": [],
   "source": [
    "np.random.seed(54)  # Закрепим seed для воспроизводимости результата.\n",
    "\n",
    "# Генерируем случайное множество с нормальным распределением, где среднее = loc, а стандартное отклонение = scale\n",
    "dataN = st.norm.rvs(loc=25, scale=5, size=100)"
   ]
  },
  {
   "cell_type": "code",
   "execution_count": null,
   "metadata": {
    "colab": {
     "base_uri": "https://localhost:8080/"
    },
    "executionInfo": {
     "elapsed": 6,
     "status": "ok",
     "timestamp": 1669127823397,
     "user": {
      "displayName": "Виктория Сухорукова",
      "userId": "12182369867649867455"
     },
     "user_tz": -180
    },
    "id": "wg31trEM5fsM",
    "outputId": "8ab4d790-5e71-4d36-ad58-12b40861b982"
   },
   "outputs": [
    {
     "name": "stdout",
     "output_type": "stream",
     "text": [
      "Мы уверены на 90%, что истинное среднее значение генеральной совокупности находится в диапазоне между 23.677 и 25.221\n"
     ]
    }
   ],
   "source": [
    "ci_lower, ci_upper = st.norm.interval(alpha=0.90, loc=np.mean(dataN), scale=st.sem(dataN))\n",
    "print(f'Мы уверены на 90%, что истинное среднее значение генеральной совокупности находится в диапазоне между {ci_lower:5.3f} и {ci_upper:5.3f}')"
   ]
  },
  {
   "cell_type": "code",
   "execution_count": null,
   "metadata": {
    "colab": {
     "base_uri": "https://localhost:8080/"
    },
    "executionInfo": {
     "elapsed": 337,
     "status": "ok",
     "timestamp": 1669127844526,
     "user": {
      "displayName": "Виктория Сухорукова",
      "userId": "12182369867649867455"
     },
     "user_tz": -180
    },
    "id": "JnH8ztL-5fsN",
    "outputId": "f5835ffd-6b45-4bed-e929-c930e1a0c7ec"
   },
   "outputs": [
    {
     "name": "stdout",
     "output_type": "stream",
     "text": [
      "Мы уверены на 99%, что истинное среднее значение генеральной совокупности находится в диапазоне между 23.240 и 25.658\n"
     ]
    }
   ],
   "source": [
    "ci_lower, ci_upper = st.norm.interval(alpha=0.99, loc=np.mean(dataN), scale=st.sem(dataN))\n",
    "print(f'Мы уверены на 99%, что истинное среднее значение генеральной совокупности находится в диапазоне между {ci_lower:5.3f} и {ci_upper:5.3f}')"
   ]
  },
  {
   "cell_type": "markdown",
   "metadata": {
    "id": "zQy7NQ6t5fsN"
   },
   "source": [
    "### Расчет с использованием t-распределения\n",
    "\n",
    "Длина выборки менее 30 элементов. "
   ]
  },
  {
   "cell_type": "markdown",
   "metadata": {
    "id": "K9kX5t755fsN"
   },
   "source": [
    "<b>Пример.</b> Используем выборку размером $n=20$ и определим $90\\%$ и $99\\%$ доверительные интервалы, используя t-распределение."
   ]
  },
  {
   "cell_type": "code",
   "execution_count": null,
   "metadata": {
    "colab": {
     "base_uri": "https://localhost:8080/"
    },
    "executionInfo": {
     "elapsed": 259,
     "status": "ok",
     "timestamp": 1669127926345,
     "user": {
      "displayName": "Виктория Сухорукова",
      "userId": "12182369867649867455"
     },
     "user_tz": -180
    },
    "id": "BurkrF7g5fsO",
    "outputId": "fc26a7b0-a0ba-47ec-c647-ed8bf6073bf2"
   },
   "outputs": [
    {
     "data": {
      "text/plain": [
       "array([15.73894628, 19.59500504, 25.39281913, 18.22932204, 28.1307423 ,\n",
       "       28.66693776, 17.64510722, 16.62290224, 27.91513782, 21.61269469,\n",
       "       28.38777594, 25.92764723, 19.2158274 , 20.90224588, 20.48267271,\n",
       "       22.35407158, 23.12972966, 23.19403118, 21.09564881, 37.54233791])"
      ]
     },
     "execution_count": 24,
     "metadata": {},
     "output_type": "execute_result"
    }
   ],
   "source": [
    "np.random.seed(54)  # Закрепим seed для воспроизводимости результата.\n",
    "\n",
    "# Генерируем случайное множество с нормальным распределением, где среднее = loc, а стандартное отклонение = scale\n",
    "dataT = st.norm.rvs(loc=25, scale=5, size=20)\n",
    "dataT"
   ]
  },
  {
   "cell_type": "code",
   "execution_count": null,
   "metadata": {
    "colab": {
     "base_uri": "https://localhost:8080/"
    },
    "executionInfo": {
     "elapsed": 371,
     "status": "ok",
     "timestamp": 1669127943249,
     "user": {
      "displayName": "Виктория Сухорукова",
      "userId": "12182369867649867455"
     },
     "user_tz": -180
    },
    "id": "0EAIgNrZ5fsO",
    "outputId": "df1c1edd-d537-4a0f-d122-e204c56be644"
   },
   "outputs": [
    {
     "name": "stdout",
     "output_type": "stream",
     "text": [
      "Мы уверены на 90%, что истинное среднее значение генеральной совокупности находится в диапазоне между 21.057 и 25.121\n"
     ]
    }
   ],
   "source": [
    "ci_lower, ci_upper = st.t.interval(alpha=0.90, df=len(dataT)-1, loc=np.mean(dataT), scale=st.sem(dataT))\n",
    "print(f'Мы уверены на 90%, что истинное среднее значение генеральной совокупности находится в диапазоне между {ci_lower:4.3f} и {ci_upper:5.3f}')"
   ]
  },
  {
   "cell_type": "code",
   "execution_count": null,
   "metadata": {
    "colab": {
     "base_uri": "https://localhost:8080/"
    },
    "executionInfo": {
     "elapsed": 303,
     "status": "ok",
     "timestamp": 1669127955411,
     "user": {
      "displayName": "Виктория Сухорукова",
      "userId": "12182369867649867455"
     },
     "user_tz": -180
    },
    "id": "vGZdTuKf5fsO",
    "outputId": "04d64ef2-31ec-4ddc-bb83-607e224375bd"
   },
   "outputs": [
    {
     "name": "stdout",
     "output_type": "stream",
     "text": [
      "Мы уверены на 99%, что истинное среднее значение генеральной совокупности находится в диапазоне между 19.727 и 26.451\n"
     ]
    }
   ],
   "source": [
    "ci_lower, ci_upper = st.t.interval(alpha=0.99, df=len(dataT)-1, loc=np.mean(dataT), scale=st.sem(dataT))\n",
    "print(f'Мы уверены на 99%, что истинное среднее значение генеральной совокупности находится в диапазоне между {ci_lower:4.3f} и {ci_upper:5.3f}')"
   ]
  },
  {
   "cell_type": "markdown",
   "metadata": {
    "id": "JP8VyNpL5fsP"
   },
   "source": [
    "## Определение размера выборки"
   ]
  },
  {
   "cell_type": "markdown",
   "metadata": {
    "id": "46PlegiU5fsP"
   },
   "source": [
    "<b>Пример.</b> Допустим, Вы журналист и оказались в 2016 году в преддверии выборов президента в США. Вы хотите по результатам своих исследований достаточно точно определить, кто победит на этих выборах. Сколько вам необходимо опросить людей, чтобы назвать будущего президента с точность в 95%?\n",
    "\n",
    "Результаты предшествующих исследований свидетельствуют, что стандартное отклонение генеральной совокупности приблизительно равно 15. Пусть погрешность измерений $\\Delta$ = 5. Таким образом, обозначим стандартное отклонение $\\sigma$ = 15 и квантиль нормального распределения Z = 1,96."
   ]
  },
  {
   "cell_type": "markdown",
   "metadata": {
    "id": "FJg-tKTO5fsP"
   },
   "source": [
    "$$ n = (\\frac{Z*\\sigma}{\\Delta})^2$$\n",
    "- $\\Delta$ - допустимая ошибка/погрешность, \n",
    "\n",
    "- $\\sigma$ - стандартное отклонение, \n",
    "\n",
    "- Z - квантиль нормального распределения\n"
   ]
  },
  {
   "cell_type": "code",
   "execution_count": null,
   "metadata": {
    "id": "Z9kNvKIC5fsP"
   },
   "outputs": [],
   "source": [
    "sigma = 15  # Стандартное отклонение\n",
    "Z = 1.96  # Квантиль нормального распределения. \n",
    "Delta = 8 # Погрешность"
   ]
  },
  {
   "cell_type": "code",
   "execution_count": null,
   "metadata": {
    "colab": {
     "base_uri": "https://localhost:8080/"
    },
    "executionInfo": {
     "elapsed": 296,
     "status": "ok",
     "timestamp": 1669128030058,
     "user": {
      "displayName": "Виктория Сухорукова",
      "userId": "12182369867649867455"
     },
     "user_tz": -180
    },
    "id": "x7s-b2dw5fsQ",
    "outputId": "46a4ae40-2d92-4dfb-932a-db126f562b3f"
   },
   "outputs": [
    {
     "data": {
      "text/plain": [
       "14"
      ]
     },
     "execution_count": 28,
     "metadata": {},
     "output_type": "execute_result"
    }
   ],
   "source": [
    "N = int(np.ceil(((sigma*Z)/Delta)**2))\n",
    "N"
   ]
  },
  {
   "cell_type": "markdown",
   "metadata": {
    "id": "jOuYhNqU5fsQ"
   },
   "source": [
    "Сравним полученные результаты с генеральной совокупностью."
   ]
  },
  {
   "cell_type": "code",
   "execution_count": null,
   "metadata": {
    "colab": {
     "base_uri": "https://localhost:8080/",
     "height": 300
    },
    "executionInfo": {
     "elapsed": 304,
     "status": "ok",
     "timestamp": 1669128038622,
     "user": {
      "displayName": "Виктория Сухорукова",
      "userId": "12182369867649867455"
     },
     "user_tz": -180
    },
    "id": "I1ZFAZiK5fsQ",
    "outputId": "685304d9-b7df-492e-a06d-5a0056e40803"
   },
   "outputs": [
    {
     "name": "stdout",
     "output_type": "stream",
     "text": [
      "Стандартное отклонение: 15.742\n",
      "Среднее: 44.079\n"
     ]
    },
    {
     "data": {
      "image/png": "[encoded data removed]",
      "text/plain": [
       "<Figure size 432x288 with 1 Axes>"
      ]
     },
     "metadata": {
      "needs_background": "light"
     },
     "output_type": "display_data"
    }
   ],
   "source": [
    "print(f\"Стандартное отклонение: {df['%'].std():.3f}\")\n",
    "print(f\"Среднее: {df['%'].mean():.3f}\")\n",
    "df['%'].hist(bins=30);"
   ]
  },
  {
   "cell_type": "code",
   "execution_count": null,
   "metadata": {
    "colab": {
     "base_uri": "https://localhost:8080/"
    },
    "executionInfo": {
     "elapsed": 256,
     "status": "ok",
     "timestamp": 1669128069492,
     "user": {
      "displayName": "Виктория Сухорукова",
      "userId": "12182369867649867455"
     },
     "user_tz": -180
    },
    "id": "Q2ZmE6Y85fsR",
    "outputId": "f484771b-308e-4ab7-d9e0-ff5c5cc3bf61"
   },
   "outputs": [
    {
     "name": "stdout",
     "output_type": "stream",
     "text": [
      "Среднее выборки: 43.643\n",
      "Среднее генеральной совокупности: 44.079\n",
      "Доверительный интервал: (35.643, 51.643)\n"
     ]
    }
   ],
   "source": [
    "np.random.seed(67)  # Закрепим seed для воспроизводимости результата.\n",
    "\n",
    "mn = df['%'].sample(n = int(14)).mean()  # Возьмем выборку из случайных n значений\n",
    "print(f\"Среднее выборки: {mn:.3f}\")\n",
    "print(f\"Среднее генеральной совокупности: {df['%'].mean():.3f}\")\n",
    "print(f\"Доверительный интервал: ({mn-Delta:.3f}, {mn+Delta:.3f})\")"
   ]
  },
  {
   "cell_type": "markdown",
   "metadata": {
    "id": "SzC1pvdz5fsR"
   },
   "source": [
    "<b>Пример.</b> Часто возникают ситуации, когда размер выборки может зависеть от оценки размера генеральной совокупности. Например, если мы хотим провести опрос клиентов банка на предмет удобства или качества обслуживания. Неужели размер выборки будет одинаковый если у нас 10 000 клиентов или 1 000 000 клиентов?\n",
    "\n",
    "В этом случае для определения размера выборки можно использовать оценку размера генеральной совокупности по следующей формуле."
   ]
  },
  {
   "cell_type": "code",
   "execution_count": null,
   "metadata": {
    "id": "Xi9Wv8M65fsR"
   },
   "outputs": [],
   "source": [
    "p = 0.5 # распределение голосов\n",
    "Ddec = Delta/100.\n",
    "Pop = 1000000 # Оценка размера генеральной совокупности"
   ]
  },
  {
   "cell_type": "code",
   "execution_count": null,
   "metadata": {
    "colab": {
     "base_uri": "https://localhost:8080/"
    },
    "executionInfo": {
     "elapsed": 5,
     "status": "ok",
     "timestamp": 1669128133362,
     "user": {
      "displayName": "Виктория Сухорукова",
      "userId": "12182369867649867455"
     },
     "user_tz": -180
    },
    "id": "2WDqOkU55fsS",
    "outputId": "468104ba-fdfd-4dcf-ffdb-52948adae457"
   },
   "outputs": [
    {
     "data": {
      "text/plain": [
       "151"
      ]
     },
     "execution_count": 32,
     "metadata": {},
     "output_type": "execute_result"
    }
   ],
   "source": [
    "int(np.ceil((Z**2*p*(1-p)/Ddec**2)/(1+(Z**2*p*(1-p)/(Pop*Ddec**2)))))"
   ]
  },
  {
   "cell_type": "code",
   "execution_count": null,
   "metadata": {
    "id": "42Fhsbcx5fsS"
   },
   "outputs": [],
   "source": []
  }
 ],
 "metadata": {
  "colab": {
   "provenance": []
  },
  "kernelspec": {
   "display_name": "Python 3 (ipykernel)",
   "language": "python",
   "name": "python3"
  },
  "language_info": {
   "codemirror_mode": {
    "name": "ipython",
    "version": 3
   },
   "file_extension": ".py",
   "mimetype": "text/x-python",
   "name": "python",
   "nbconvert_exporter": "python",
   "pygments_lexer": "ipython3",
   "version": "3.11.7"
  }
 },
 "nbformat": 4,
 "nbformat_minor": 1
}
