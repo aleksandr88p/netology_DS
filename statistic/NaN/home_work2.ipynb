{
 "cells": [
  {
   "cell_type": "code",
   "execution_count": 1,
   "id": "d7422894",
   "metadata": {},
   "outputs": [],
   "source": [
    "import pandas as pd\n"
   ]
  },
  {
   "cell_type": "code",
   "execution_count": 112,
   "id": "0ab16304",
   "metadata": {},
   "outputs": [],
   "source": [
    "car = pd.read_csv('german_used_cars.csv')\n",
    "sal = pd.read_csv('salary_dataset.csv')"
   ]
  },
  {
   "cell_type": "code",
   "execution_count": 3,
   "id": "20080e80",
   "metadata": {},
   "outputs": [
    {
     "data": {
      "text/html": [
       "<div>\n",
       "<style scoped>\n",
       "    .dataframe tbody tr th:only-of-type {\n",
       "        vertical-align: middle;\n",
       "    }\n",
       "\n",
       "    .dataframe tbody tr th {\n",
       "        vertical-align: top;\n",
       "    }\n",
       "\n",
       "    .dataframe thead th {\n",
       "        text-align: right;\n",
       "    }\n",
       "</style>\n",
       "<table border=\"1\" class=\"dataframe\">\n",
       "  <thead>\n",
       "    <tr style=\"text-align: right;\">\n",
       "      <th></th>\n",
       "      <th>Unnamed: 0</th>\n",
       "      <th>brand</th>\n",
       "      <th>model</th>\n",
       "      <th>color</th>\n",
       "      <th>registration_date</th>\n",
       "      <th>year</th>\n",
       "      <th>price_in_euro</th>\n",
       "      <th>power_kw</th>\n",
       "      <th>power_ps</th>\n",
       "      <th>transmission_type</th>\n",
       "      <th>fuel_type</th>\n",
       "      <th>fuel_consumption_l_100km</th>\n",
       "      <th>fuel_consumption_g_km</th>\n",
       "      <th>mileage_in_km</th>\n",
       "      <th>offer_description</th>\n",
       "    </tr>\n",
       "  </thead>\n",
       "  <tbody>\n",
       "    <tr>\n",
       "      <th>0</th>\n",
       "      <td>0</td>\n",
       "      <td>alfa-romeo</td>\n",
       "      <td>Alfa Romeo GTV</td>\n",
       "      <td>red</td>\n",
       "      <td>10/1995</td>\n",
       "      <td>1995</td>\n",
       "      <td>1300</td>\n",
       "      <td>148</td>\n",
       "      <td>201</td>\n",
       "      <td>Manual</td>\n",
       "      <td>Petrol</td>\n",
       "      <td>10,9 l/100 km</td>\n",
       "      <td>260 g/km</td>\n",
       "      <td>160500.0</td>\n",
       "      <td>2.0 V6 TB</td>\n",
       "    </tr>\n",
       "    <tr>\n",
       "      <th>1</th>\n",
       "      <td>1</td>\n",
       "      <td>alfa-romeo</td>\n",
       "      <td>Alfa Romeo 164</td>\n",
       "      <td>black</td>\n",
       "      <td>02/1995</td>\n",
       "      <td>1995</td>\n",
       "      <td>24900</td>\n",
       "      <td>191</td>\n",
       "      <td>260</td>\n",
       "      <td>Manual</td>\n",
       "      <td>Petrol</td>\n",
       "      <td>NaN</td>\n",
       "      <td>- (g/km)</td>\n",
       "      <td>190000.0</td>\n",
       "      <td>Q4 Allrad, 3.2L GTA</td>\n",
       "    </tr>\n",
       "    <tr>\n",
       "      <th>2</th>\n",
       "      <td>2</td>\n",
       "      <td>alfa-romeo</td>\n",
       "      <td>Alfa Romeo Spider</td>\n",
       "      <td>black</td>\n",
       "      <td>02/1995</td>\n",
       "      <td>1995</td>\n",
       "      <td>5900</td>\n",
       "      <td>110</td>\n",
       "      <td>150</td>\n",
       "      <td>Unknown</td>\n",
       "      <td>Petrol</td>\n",
       "      <td>NaN</td>\n",
       "      <td>- (g/km)</td>\n",
       "      <td>129000.0</td>\n",
       "      <td>ALFA ROME 916</td>\n",
       "    </tr>\n",
       "    <tr>\n",
       "      <th>3</th>\n",
       "      <td>3</td>\n",
       "      <td>alfa-romeo</td>\n",
       "      <td>Alfa Romeo Spider</td>\n",
       "      <td>black</td>\n",
       "      <td>07/1995</td>\n",
       "      <td>1995</td>\n",
       "      <td>4900</td>\n",
       "      <td>110</td>\n",
       "      <td>150</td>\n",
       "      <td>Manual</td>\n",
       "      <td>Petrol</td>\n",
       "      <td>9,5 l/100 km</td>\n",
       "      <td>225 g/km</td>\n",
       "      <td>189500.0</td>\n",
       "      <td>2.0 16V Twin Spark L</td>\n",
       "    </tr>\n",
       "    <tr>\n",
       "      <th>4</th>\n",
       "      <td>4</td>\n",
       "      <td>alfa-romeo</td>\n",
       "      <td>Alfa Romeo 164</td>\n",
       "      <td>red</td>\n",
       "      <td>11/1996</td>\n",
       "      <td>1996</td>\n",
       "      <td>17950</td>\n",
       "      <td>132</td>\n",
       "      <td>179</td>\n",
       "      <td>Manual</td>\n",
       "      <td>Petrol</td>\n",
       "      <td>7,2 l/100 km</td>\n",
       "      <td>- (g/km)</td>\n",
       "      <td>96127.0</td>\n",
       "      <td>3.0i Super V6, absoluter Topzustand !</td>\n",
       "    </tr>\n",
       "  </tbody>\n",
       "</table>\n",
       "</div>"
      ],
      "text/plain": [
       "   Unnamed: 0       brand              model  color registration_date  year  \\\n",
       "0           0  alfa-romeo     Alfa Romeo GTV    red           10/1995  1995   \n",
       "1           1  alfa-romeo     Alfa Romeo 164  black           02/1995  1995   \n",
       "2           2  alfa-romeo  Alfa Romeo Spider  black           02/1995  1995   \n",
       "3           3  alfa-romeo  Alfa Romeo Spider  black           07/1995  1995   \n",
       "4           4  alfa-romeo     Alfa Romeo 164    red           11/1996  1996   \n",
       "\n",
       "  price_in_euro power_kw power_ps transmission_type fuel_type  \\\n",
       "0          1300      148      201            Manual    Petrol   \n",
       "1         24900      191      260            Manual    Petrol   \n",
       "2          5900      110      150           Unknown    Petrol   \n",
       "3          4900      110      150            Manual    Petrol   \n",
       "4         17950      132      179            Manual    Petrol   \n",
       "\n",
       "  fuel_consumption_l_100km fuel_consumption_g_km  mileage_in_km  \\\n",
       "0            10,9 l/100 km              260 g/km       160500.0   \n",
       "1                      NaN              - (g/km)       190000.0   \n",
       "2                      NaN              - (g/km)       129000.0   \n",
       "3             9,5 l/100 km              225 g/km       189500.0   \n",
       "4             7,2 l/100 km              - (g/km)        96127.0   \n",
       "\n",
       "                       offer_description  \n",
       "0                              2.0 V6 TB  \n",
       "1                    Q4 Allrad, 3.2L GTA  \n",
       "2                          ALFA ROME 916  \n",
       "3                   2.0 16V Twin Spark L  \n",
       "4  3.0i Super V6, absoluter Topzustand !  "
      ]
     },
     "execution_count": 3,
     "metadata": {},
     "output_type": "execute_result"
    }
   ],
   "source": [
    "car.head()"
   ]
  },
  {
   "cell_type": "markdown",
   "id": "842655a0",
   "metadata": {},
   "source": [
    "# Salary"
   ]
  },
  {
   "cell_type": "code",
   "execution_count": 4,
   "id": "2dabae8c",
   "metadata": {},
   "outputs": [
    {
     "data": {
      "text/html": [
       "<div>\n",
       "<style scoped>\n",
       "    .dataframe tbody tr th:only-of-type {\n",
       "        vertical-align: middle;\n",
       "    }\n",
       "\n",
       "    .dataframe tbody tr th {\n",
       "        vertical-align: top;\n",
       "    }\n",
       "\n",
       "    .dataframe thead th {\n",
       "        text-align: right;\n",
       "    }\n",
       "</style>\n",
       "<table border=\"1\" class=\"dataframe\">\n",
       "  <thead>\n",
       "    <tr style=\"text-align: right;\">\n",
       "      <th></th>\n",
       "      <th>Unnamed: 0</th>\n",
       "      <th>Age</th>\n",
       "      <th>Gender</th>\n",
       "      <th>Education Level</th>\n",
       "      <th>Job Title</th>\n",
       "      <th>Years of Experience</th>\n",
       "      <th>Salary</th>\n",
       "      <th>Country</th>\n",
       "      <th>Race</th>\n",
       "    </tr>\n",
       "  </thead>\n",
       "  <tbody>\n",
       "    <tr>\n",
       "      <th>0</th>\n",
       "      <td>0</td>\n",
       "      <td>32.0</td>\n",
       "      <td>Male</td>\n",
       "      <td>Bachelor's</td>\n",
       "      <td>Software Engineer</td>\n",
       "      <td>5.0</td>\n",
       "      <td>90000.0</td>\n",
       "      <td>UK</td>\n",
       "      <td>White</td>\n",
       "    </tr>\n",
       "    <tr>\n",
       "      <th>1</th>\n",
       "      <td>1</td>\n",
       "      <td>28.0</td>\n",
       "      <td>Female</td>\n",
       "      <td>Master's</td>\n",
       "      <td>Data Analyst</td>\n",
       "      <td>3.0</td>\n",
       "      <td>65000.0</td>\n",
       "      <td>USA</td>\n",
       "      <td>Hispanic</td>\n",
       "    </tr>\n",
       "    <tr>\n",
       "      <th>2</th>\n",
       "      <td>2</td>\n",
       "      <td>45.0</td>\n",
       "      <td>Male</td>\n",
       "      <td>PhD</td>\n",
       "      <td>Senior Manager</td>\n",
       "      <td>15.0</td>\n",
       "      <td>150000.0</td>\n",
       "      <td>Canada</td>\n",
       "      <td>White</td>\n",
       "    </tr>\n",
       "    <tr>\n",
       "      <th>3</th>\n",
       "      <td>3</td>\n",
       "      <td>36.0</td>\n",
       "      <td>Female</td>\n",
       "      <td>Bachelor's</td>\n",
       "      <td>Sales Associate</td>\n",
       "      <td>7.0</td>\n",
       "      <td>60000.0</td>\n",
       "      <td>USA</td>\n",
       "      <td>Hispanic</td>\n",
       "    </tr>\n",
       "    <tr>\n",
       "      <th>4</th>\n",
       "      <td>4</td>\n",
       "      <td>52.0</td>\n",
       "      <td>Male</td>\n",
       "      <td>Master's</td>\n",
       "      <td>Director</td>\n",
       "      <td>20.0</td>\n",
       "      <td>200000.0</td>\n",
       "      <td>USA</td>\n",
       "      <td>Asian</td>\n",
       "    </tr>\n",
       "  </tbody>\n",
       "</table>\n",
       "</div>"
      ],
      "text/plain": [
       "   Unnamed: 0   Age  Gender Education Level          Job Title  \\\n",
       "0           0  32.0    Male      Bachelor's  Software Engineer   \n",
       "1           1  28.0  Female        Master's       Data Analyst   \n",
       "2           2  45.0    Male             PhD     Senior Manager   \n",
       "3           3  36.0  Female      Bachelor's    Sales Associate   \n",
       "4           4  52.0    Male        Master's           Director   \n",
       "\n",
       "   Years of Experience    Salary Country      Race  \n",
       "0                  5.0   90000.0      UK     White  \n",
       "1                  3.0   65000.0     USA  Hispanic  \n",
       "2                 15.0  150000.0  Canada     White  \n",
       "3                  7.0   60000.0     USA  Hispanic  \n",
       "4                 20.0  200000.0     USA     Asian  "
      ]
     },
     "execution_count": 4,
     "metadata": {},
     "output_type": "execute_result"
    }
   ],
   "source": [
    "sal.head()"
   ]
  },
  {
   "cell_type": "code",
   "execution_count": 5,
   "id": "8d0ec794",
   "metadata": {},
   "outputs": [
    {
     "name": "stdout",
     "output_type": "stream",
     "text": [
      "<class 'pandas.core.frame.DataFrame'>\n",
      "RangeIndex: 6704 entries, 0 to 6703\n",
      "Data columns (total 9 columns):\n",
      " #   Column               Non-Null Count  Dtype  \n",
      "---  ------               --------------  -----  \n",
      " 0   Unnamed: 0           6704 non-null   int64  \n",
      " 1   Age                  6702 non-null   float64\n",
      " 2   Gender               6702 non-null   object \n",
      " 3   Education Level      6701 non-null   object \n",
      " 4   Job Title            6702 non-null   object \n",
      " 5   Years of Experience  6701 non-null   float64\n",
      " 6   Salary               6699 non-null   float64\n",
      " 7   Country              6704 non-null   object \n",
      " 8   Race                 6704 non-null   object \n",
      "dtypes: float64(3), int64(1), object(5)\n",
      "memory usage: 471.5+ KB\n"
     ]
    }
   ],
   "source": [
    "sal.info()"
   ]
  },
  {
   "cell_type": "code",
   "execution_count": 6,
   "id": "9bfebdd9",
   "metadata": {},
   "outputs": [
    {
     "data": {
      "text/plain": [
       "Unnamed: 0             0\n",
       "Age                    2\n",
       "Gender                 2\n",
       "Education Level        3\n",
       "Job Title              2\n",
       "Years of Experience    3\n",
       "Salary                 5\n",
       "Country                0\n",
       "Race                   0\n",
       "dtype: int64"
      ]
     },
     "execution_count": 6,
     "metadata": {},
     "output_type": "execute_result"
    }
   ],
   "source": [
    "sal.isna().sum()"
   ]
  },
  {
   "cell_type": "code",
   "execution_count": 7,
   "id": "c5f35485",
   "metadata": {},
   "outputs": [
    {
     "data": {
      "text/plain": [
       "(6704, 9)"
      ]
     },
     "execution_count": 7,
     "metadata": {},
     "output_type": "execute_result"
    }
   ],
   "source": [
    "sal.shape"
   ]
  },
  {
   "cell_type": "code",
   "execution_count": 8,
   "id": "d0780f3f",
   "metadata": {},
   "outputs": [
    {
     "data": {
      "text/html": [
       "<div>\n",
       "<style scoped>\n",
       "    .dataframe tbody tr th:only-of-type {\n",
       "        vertical-align: middle;\n",
       "    }\n",
       "\n",
       "    .dataframe tbody tr th {\n",
       "        vertical-align: top;\n",
       "    }\n",
       "\n",
       "    .dataframe thead th {\n",
       "        text-align: right;\n",
       "    }\n",
       "</style>\n",
       "<table border=\"1\" class=\"dataframe\">\n",
       "  <thead>\n",
       "    <tr style=\"text-align: right;\">\n",
       "      <th></th>\n",
       "      <th>Unnamed: 0</th>\n",
       "      <th>Age</th>\n",
       "      <th>Years of Experience</th>\n",
       "      <th>Salary</th>\n",
       "    </tr>\n",
       "  </thead>\n",
       "  <tbody>\n",
       "    <tr>\n",
       "      <th>count</th>\n",
       "      <td>6704.000000</td>\n",
       "      <td>6702.000000</td>\n",
       "      <td>6701.000000</td>\n",
       "      <td>6699.000000</td>\n",
       "    </tr>\n",
       "    <tr>\n",
       "      <th>mean</th>\n",
       "      <td>3351.500000</td>\n",
       "      <td>33.620859</td>\n",
       "      <td>8.094687</td>\n",
       "      <td>115326.964771</td>\n",
       "    </tr>\n",
       "    <tr>\n",
       "      <th>std</th>\n",
       "      <td>1935.422435</td>\n",
       "      <td>7.614633</td>\n",
       "      <td>6.059003</td>\n",
       "      <td>52786.183911</td>\n",
       "    </tr>\n",
       "    <tr>\n",
       "      <th>min</th>\n",
       "      <td>0.000000</td>\n",
       "      <td>21.000000</td>\n",
       "      <td>0.000000</td>\n",
       "      <td>350.000000</td>\n",
       "    </tr>\n",
       "    <tr>\n",
       "      <th>25%</th>\n",
       "      <td>1675.750000</td>\n",
       "      <td>28.000000</td>\n",
       "      <td>3.000000</td>\n",
       "      <td>70000.000000</td>\n",
       "    </tr>\n",
       "    <tr>\n",
       "      <th>50%</th>\n",
       "      <td>3351.500000</td>\n",
       "      <td>32.000000</td>\n",
       "      <td>7.000000</td>\n",
       "      <td>115000.000000</td>\n",
       "    </tr>\n",
       "    <tr>\n",
       "      <th>75%</th>\n",
       "      <td>5027.250000</td>\n",
       "      <td>38.000000</td>\n",
       "      <td>12.000000</td>\n",
       "      <td>160000.000000</td>\n",
       "    </tr>\n",
       "    <tr>\n",
       "      <th>max</th>\n",
       "      <td>6703.000000</td>\n",
       "      <td>62.000000</td>\n",
       "      <td>34.000000</td>\n",
       "      <td>250000.000000</td>\n",
       "    </tr>\n",
       "  </tbody>\n",
       "</table>\n",
       "</div>"
      ],
      "text/plain": [
       "        Unnamed: 0          Age  Years of Experience         Salary\n",
       "count  6704.000000  6702.000000          6701.000000    6699.000000\n",
       "mean   3351.500000    33.620859             8.094687  115326.964771\n",
       "std    1935.422435     7.614633             6.059003   52786.183911\n",
       "min       0.000000    21.000000             0.000000     350.000000\n",
       "25%    1675.750000    28.000000             3.000000   70000.000000\n",
       "50%    3351.500000    32.000000             7.000000  115000.000000\n",
       "75%    5027.250000    38.000000            12.000000  160000.000000\n",
       "max    6703.000000    62.000000            34.000000  250000.000000"
      ]
     },
     "execution_count": 8,
     "metadata": {},
     "output_type": "execute_result"
    }
   ],
   "source": [
    "sal.describe()"
   ]
  },
  {
   "cell_type": "code",
   "execution_count": 9,
   "id": "cc8ed6c2",
   "metadata": {},
   "outputs": [
    {
     "data": {
      "text/plain": [
       "Index(['Unnamed: 0', 'Age', 'Gender', 'Education Level', 'Job Title',\n",
       "       'Years of Experience', 'Salary', 'Country', 'Race'],\n",
       "      dtype='object')"
      ]
     },
     "execution_count": 9,
     "metadata": {},
     "output_type": "execute_result"
    }
   ],
   "source": [
    "\n",
    "sal.columns"
   ]
  },
  {
   "cell_type": "code",
   "execution_count": 10,
   "id": "e56a510d",
   "metadata": {},
   "outputs": [
    {
     "data": {
      "text/html": [
       "<div>\n",
       "<style scoped>\n",
       "    .dataframe tbody tr th:only-of-type {\n",
       "        vertical-align: middle;\n",
       "    }\n",
       "\n",
       "    .dataframe tbody tr th {\n",
       "        vertical-align: top;\n",
       "    }\n",
       "\n",
       "    .dataframe thead th {\n",
       "        text-align: right;\n",
       "    }\n",
       "</style>\n",
       "<table border=\"1\" class=\"dataframe\">\n",
       "  <thead>\n",
       "    <tr style=\"text-align: right;\">\n",
       "      <th></th>\n",
       "      <th>Gender</th>\n",
       "      <th>Education Level</th>\n",
       "      <th>Job Title</th>\n",
       "      <th>Country</th>\n",
       "      <th>Race</th>\n",
       "    </tr>\n",
       "  </thead>\n",
       "  <tbody>\n",
       "    <tr>\n",
       "      <th>count</th>\n",
       "      <td>6702</td>\n",
       "      <td>6701</td>\n",
       "      <td>6702</td>\n",
       "      <td>6704</td>\n",
       "      <td>6704</td>\n",
       "    </tr>\n",
       "    <tr>\n",
       "      <th>unique</th>\n",
       "      <td>3</td>\n",
       "      <td>7</td>\n",
       "      <td>193</td>\n",
       "      <td>5</td>\n",
       "      <td>10</td>\n",
       "    </tr>\n",
       "    <tr>\n",
       "      <th>top</th>\n",
       "      <td>Male</td>\n",
       "      <td>Bachelor's Degree</td>\n",
       "      <td>Software Engineer</td>\n",
       "      <td>USA</td>\n",
       "      <td>White</td>\n",
       "    </tr>\n",
       "    <tr>\n",
       "      <th>freq</th>\n",
       "      <td>3674</td>\n",
       "      <td>2267</td>\n",
       "      <td>518</td>\n",
       "      <td>1360</td>\n",
       "      <td>1968</td>\n",
       "    </tr>\n",
       "  </tbody>\n",
       "</table>\n",
       "</div>"
      ],
      "text/plain": [
       "       Gender    Education Level          Job Title Country   Race\n",
       "count    6702               6701               6702    6704   6704\n",
       "unique      3                  7                193       5     10\n",
       "top      Male  Bachelor's Degree  Software Engineer     USA  White\n",
       "freq     3674               2267                518    1360   1968"
      ]
     },
     "execution_count": 10,
     "metadata": {},
     "output_type": "execute_result"
    }
   ],
   "source": [
    "sal.describe(include='object')"
   ]
  },
  {
   "cell_type": "code",
   "execution_count": 11,
   "id": "799b64a6",
   "metadata": {},
   "outputs": [
    {
     "data": {
      "text/plain": [
       "array(['UK', 'USA', 'Canada', 'China', 'Australia'], dtype=object)"
      ]
     },
     "execution_count": 11,
     "metadata": {},
     "output_type": "execute_result"
    }
   ],
   "source": [
    "sal.Country.unique()"
   ]
  },
  {
   "cell_type": "code",
   "execution_count": 12,
   "id": "53c9ea7f",
   "metadata": {},
   "outputs": [
    {
     "data": {
      "text/plain": [
       "array(['Male', 'Female', nan, 'Other'], dtype=object)"
      ]
     },
     "execution_count": 12,
     "metadata": {},
     "output_type": "execute_result"
    }
   ],
   "source": [
    "sal.Gender.unique()"
   ]
  },
  {
   "cell_type": "code",
   "execution_count": 13,
   "id": "f91ab209",
   "metadata": {},
   "outputs": [
    {
     "data": {
      "text/plain": [
       "array(['White', 'Hispanic', 'Asian', 'Korean', 'Chinese', 'Australian',\n",
       "       'Welsh', 'African American', 'Mixed', 'Black'], dtype=object)"
      ]
     },
     "execution_count": 13,
     "metadata": {},
     "output_type": "execute_result"
    }
   ],
   "source": [
    "sal.Race.unique()"
   ]
  },
  {
   "cell_type": "markdown",
   "id": "6008a363",
   "metadata": {},
   "source": [
    "### Гипотеза 1: мужчины чаще женщин занимают руководящие должности\n",
    "    для этого я возьму только те вакансии где есть слово Senior или Director в названии вакансии\n",
    "    я построю бар плот. и посмотрю кого там больше, мужчин или женщин"
   ]
  },
  {
   "cell_type": "code",
   "execution_count": 14,
   "id": "4b899467",
   "metadata": {},
   "outputs": [],
   "source": [
    "\n",
    "filtered_jobs = sal[sal['Job Title'].str.contains('Senior|Director', na=False, regex=True)]"
   ]
  },
  {
   "cell_type": "code",
   "execution_count": 15,
   "id": "577bb500",
   "metadata": {},
   "outputs": [
    {
     "data": {
      "text/html": [
       "<div>\n",
       "<style scoped>\n",
       "    .dataframe tbody tr th:only-of-type {\n",
       "        vertical-align: middle;\n",
       "    }\n",
       "\n",
       "    .dataframe tbody tr th {\n",
       "        vertical-align: top;\n",
       "    }\n",
       "\n",
       "    .dataframe thead th {\n",
       "        text-align: right;\n",
       "    }\n",
       "</style>\n",
       "<table border=\"1\" class=\"dataframe\">\n",
       "  <thead>\n",
       "    <tr style=\"text-align: right;\">\n",
       "      <th></th>\n",
       "      <th>Unnamed: 0</th>\n",
       "      <th>Age</th>\n",
       "      <th>Gender</th>\n",
       "      <th>Education Level</th>\n",
       "      <th>Job Title</th>\n",
       "      <th>Years of Experience</th>\n",
       "      <th>Salary</th>\n",
       "      <th>Country</th>\n",
       "      <th>Race</th>\n",
       "    </tr>\n",
       "  </thead>\n",
       "  <tbody>\n",
       "    <tr>\n",
       "      <th>2</th>\n",
       "      <td>2</td>\n",
       "      <td>45.0</td>\n",
       "      <td>Male</td>\n",
       "      <td>PhD</td>\n",
       "      <td>Senior Manager</td>\n",
       "      <td>15.0</td>\n",
       "      <td>150000.0</td>\n",
       "      <td>Canada</td>\n",
       "      <td>White</td>\n",
       "    </tr>\n",
       "    <tr>\n",
       "      <th>4</th>\n",
       "      <td>4</td>\n",
       "      <td>52.0</td>\n",
       "      <td>Male</td>\n",
       "      <td>Master's</td>\n",
       "      <td>Director</td>\n",
       "      <td>20.0</td>\n",
       "      <td>200000.0</td>\n",
       "      <td>USA</td>\n",
       "      <td>Asian</td>\n",
       "    </tr>\n",
       "    <tr>\n",
       "      <th>9</th>\n",
       "      <td>9</td>\n",
       "      <td>38.0</td>\n",
       "      <td>Male</td>\n",
       "      <td>PhD</td>\n",
       "      <td>Senior Scientist</td>\n",
       "      <td>10.0</td>\n",
       "      <td>110000.0</td>\n",
       "      <td>Australia</td>\n",
       "      <td>Australian</td>\n",
       "    </tr>\n",
       "    <tr>\n",
       "      <th>17</th>\n",
       "      <td>17</td>\n",
       "      <td>39.0</td>\n",
       "      <td>Male</td>\n",
       "      <td>PhD</td>\n",
       "      <td>Senior Engineer</td>\n",
       "      <td>12.0</td>\n",
       "      <td>115000.0</td>\n",
       "      <td>UK</td>\n",
       "      <td>Mixed</td>\n",
       "    </tr>\n",
       "    <tr>\n",
       "      <th>19</th>\n",
       "      <td>19</td>\n",
       "      <td>51.0</td>\n",
       "      <td>Male</td>\n",
       "      <td>Bachelor's</td>\n",
       "      <td>Sales Director</td>\n",
       "      <td>22.0</td>\n",
       "      <td>180000.0</td>\n",
       "      <td>Australia</td>\n",
       "      <td>Asian</td>\n",
       "    </tr>\n",
       "    <tr>\n",
       "      <th>...</th>\n",
       "      <td>...</td>\n",
       "      <td>...</td>\n",
       "      <td>...</td>\n",
       "      <td>...</td>\n",
       "      <td>...</td>\n",
       "      <td>...</td>\n",
       "      <td>...</td>\n",
       "      <td>...</td>\n",
       "      <td>...</td>\n",
       "    </tr>\n",
       "    <tr>\n",
       "      <th>6684</th>\n",
       "      <td>6684</td>\n",
       "      <td>37.0</td>\n",
       "      <td>Male</td>\n",
       "      <td>Bachelor's Degree</td>\n",
       "      <td>Sales Director</td>\n",
       "      <td>7.0</td>\n",
       "      <td>90000.0</td>\n",
       "      <td>China</td>\n",
       "      <td>Chinese</td>\n",
       "    </tr>\n",
       "    <tr>\n",
       "      <th>6685</th>\n",
       "      <td>6685</td>\n",
       "      <td>49.0</td>\n",
       "      <td>Female</td>\n",
       "      <td>PhD</td>\n",
       "      <td>Senior Product Marketing Manager</td>\n",
       "      <td>20.0</td>\n",
       "      <td>200000.0</td>\n",
       "      <td>China</td>\n",
       "      <td>White</td>\n",
       "    </tr>\n",
       "    <tr>\n",
       "      <th>6688</th>\n",
       "      <td>6688</td>\n",
       "      <td>46.0</td>\n",
       "      <td>Male</td>\n",
       "      <td>Master's Degree</td>\n",
       "      <td>Director of Marketing</td>\n",
       "      <td>16.0</td>\n",
       "      <td>160000.0</td>\n",
       "      <td>China</td>\n",
       "      <td>Chinese</td>\n",
       "    </tr>\n",
       "    <tr>\n",
       "      <th>6697</th>\n",
       "      <td>6697</td>\n",
       "      <td>51.0</td>\n",
       "      <td>Female</td>\n",
       "      <td>Master's Degree</td>\n",
       "      <td>Senior Product Marketing Manager</td>\n",
       "      <td>19.0</td>\n",
       "      <td>190000.0</td>\n",
       "      <td>UK</td>\n",
       "      <td>White</td>\n",
       "    </tr>\n",
       "    <tr>\n",
       "      <th>6699</th>\n",
       "      <td>6699</td>\n",
       "      <td>49.0</td>\n",
       "      <td>Female</td>\n",
       "      <td>PhD</td>\n",
       "      <td>Director of Marketing</td>\n",
       "      <td>20.0</td>\n",
       "      <td>200000.0</td>\n",
       "      <td>UK</td>\n",
       "      <td>Mixed</td>\n",
       "    </tr>\n",
       "  </tbody>\n",
       "</table>\n",
       "<p>1407 rows × 9 columns</p>\n",
       "</div>"
      ],
      "text/plain": [
       "      Unnamed: 0   Age  Gender    Education Level  \\\n",
       "2              2  45.0    Male                PhD   \n",
       "4              4  52.0    Male           Master's   \n",
       "9              9  38.0    Male                PhD   \n",
       "17            17  39.0    Male                PhD   \n",
       "19            19  51.0    Male         Bachelor's   \n",
       "...          ...   ...     ...                ...   \n",
       "6684        6684  37.0    Male  Bachelor's Degree   \n",
       "6685        6685  49.0  Female                PhD   \n",
       "6688        6688  46.0    Male    Master's Degree   \n",
       "6697        6697  51.0  Female    Master's Degree   \n",
       "6699        6699  49.0  Female                PhD   \n",
       "\n",
       "                             Job Title  Years of Experience    Salary  \\\n",
       "2                       Senior Manager                 15.0  150000.0   \n",
       "4                             Director                 20.0  200000.0   \n",
       "9                     Senior Scientist                 10.0  110000.0   \n",
       "17                     Senior Engineer                 12.0  115000.0   \n",
       "19                      Sales Director                 22.0  180000.0   \n",
       "...                                ...                  ...       ...   \n",
       "6684                    Sales Director                  7.0   90000.0   \n",
       "6685  Senior Product Marketing Manager                 20.0  200000.0   \n",
       "6688             Director of Marketing                 16.0  160000.0   \n",
       "6697  Senior Product Marketing Manager                 19.0  190000.0   \n",
       "6699             Director of Marketing                 20.0  200000.0   \n",
       "\n",
       "        Country        Race  \n",
       "2        Canada       White  \n",
       "4           USA       Asian  \n",
       "9     Australia  Australian  \n",
       "17           UK       Mixed  \n",
       "19    Australia       Asian  \n",
       "...         ...         ...  \n",
       "6684      China     Chinese  \n",
       "6685      China       White  \n",
       "6688      China     Chinese  \n",
       "6697         UK       White  \n",
       "6699         UK       Mixed  \n",
       "\n",
       "[1407 rows x 9 columns]"
      ]
     },
     "execution_count": 15,
     "metadata": {},
     "output_type": "execute_result"
    }
   ],
   "source": [
    "filtered_jobs"
   ]
  },
  {
   "cell_type": "code",
   "execution_count": 31,
   "id": "dfa2c1e2",
   "metadata": {},
   "outputs": [
    {
     "data": {
      "image/png": "[encoded data removed]",
      "text/plain": [
       "<Figure size 1000x600 with 1 Axes>"
      ]
     },
     "metadata": {},
     "output_type": "display_data"
    }
   ],
   "source": [
    "\n",
    "import seaborn as sns\n",
    "\n",
    "plt.figure(figsize=(10, 6)) # размер графика\n",
    "sns.set_style(\"whitegrid\") # стиль графика\n",
    "sns.set_palette(\"husl\") # палитра цветов\n",
    "\n",
    "ax = sns.barplot(x=filtered_jobs.Gender.value_counts(normalize=True).index, \n",
    "                 y=filtered_jobs.Gender.value_counts(normalize=True).values)\n",
    "\n",
    "plt.title('Распределение руководящих должностей по полу', fontsize=14, pad=15)\n",
    "plt.xlabel('Пол', fontsize=12)\n",
    "plt.ylabel('Доля позиций, %', fontsize=12)\n",
    "\n",
    "# добавляю проценты над столбцами\n",
    "for i, v in enumerate(filtered_jobs.Gender.value_counts(normalize=True).values):\n",
    "    ax.text(i, v, f'{v:.1%}', ha='center', va='bottom')\n",
    "\n",
    "# удаляю верхнюю и правую границы графика\n",
    "sns.despine()\n",
    "\n",
    "# устанавливаю цвета для столбцов\n",
    "ax.patches[0].set_facecolor('#0066CC')  # синий для мужчин\n",
    "ax.patches[1].set_facecolor('#FF69B4')  # розовый для женщин\n",
    "ax.patches[2].set_facecolor('#32CD32')  # зеленый для other\n",
    "plt.tight_layout() # улучшает расположение подписей\n",
    "plt.show() # показывает график\n"
   ]
  },
  {
   "cell_type": "markdown",
   "id": "66198427",
   "metadata": {},
   "source": [
    "    на графике видно, что мужчины занимают большинство руководящих должностей"
   ]
  },
  {
   "cell_type": "markdown",
   "id": "234b9423",
   "metadata": {},
   "source": [
    "### Гипотеза 2: Белые занимают большинство руководящих должностей\n",
    "    принцип такой же как и в предыдущем графике\n"
   ]
  },
  {
   "cell_type": "code",
   "execution_count": 34,
   "id": "fae7b82b",
   "metadata": {},
   "outputs": [
    {
     "data": {
      "image/png": "[encoded data removed]",
      "text/plain": [
       "<Figure size 1000x600 with 1 Axes>"
      ]
     },
     "metadata": {},
     "output_type": "display_data"
    }
   ],
   "source": [
    "\n",
    "import seaborn as sns\n",
    "\n",
    "plt.figure(figsize=(10, 6)) # размер графика\n",
    "sns.set_style(\"whitegrid\") # стиль графика\n",
    "sns.set_palette(\"husl\") # палитра цветов\n",
    "\n",
    "ax = sns.barplot(x=filtered_jobs.Race.value_counts(normalize=True).index, \n",
    "                 y=filtered_jobs.Race.value_counts(normalize=True).values)\n",
    "\n",
    "plt.title('Распределение руководящих должностей по расе', fontsize=14, pad=15)\n",
    "plt.xlabel('Раса', fontsize=12)\n",
    "plt.ylabel('Доля позиций, %', fontsize=12)\n",
    "\n",
    "# добавляю проценты над столбцами\n",
    "for i, v in enumerate(filtered_jobs.Race.value_counts(normalize=True).values):\n",
    "    ax.text(i, v, f'{v:.1%}', ha='center', va='bottom')\n",
    "\n",
    "# удаляю верхнюю и правую границы графика\n",
    "sns.despine()\n",
    "\n",
    "\n",
    "plt.tight_layout() # улучшает расположение подписей\n",
    "plt.show() # показывает график"
   ]
  },
  {
   "cell_type": "code",
   "execution_count": 35,
   "id": "9a468f8c",
   "metadata": {},
   "outputs": [
    {
     "data": {
      "text/html": [
       "<div>\n",
       "<style scoped>\n",
       "    .dataframe tbody tr th:only-of-type {\n",
       "        vertical-align: middle;\n",
       "    }\n",
       "\n",
       "    .dataframe tbody tr th {\n",
       "        vertical-align: top;\n",
       "    }\n",
       "\n",
       "    .dataframe thead th {\n",
       "        text-align: right;\n",
       "    }\n",
       "</style>\n",
       "<table border=\"1\" class=\"dataframe\">\n",
       "  <thead>\n",
       "    <tr style=\"text-align: right;\">\n",
       "      <th></th>\n",
       "      <th>Unnamed: 0</th>\n",
       "      <th>Age</th>\n",
       "      <th>Gender</th>\n",
       "      <th>Education Level</th>\n",
       "      <th>Job Title</th>\n",
       "      <th>Years of Experience</th>\n",
       "      <th>Salary</th>\n",
       "      <th>Country</th>\n",
       "      <th>Race</th>\n",
       "    </tr>\n",
       "  </thead>\n",
       "  <tbody>\n",
       "    <tr>\n",
       "      <th>0</th>\n",
       "      <td>0</td>\n",
       "      <td>32.0</td>\n",
       "      <td>Male</td>\n",
       "      <td>Bachelor's</td>\n",
       "      <td>Software Engineer</td>\n",
       "      <td>5.0</td>\n",
       "      <td>90000.0</td>\n",
       "      <td>UK</td>\n",
       "      <td>White</td>\n",
       "    </tr>\n",
       "    <tr>\n",
       "      <th>1</th>\n",
       "      <td>1</td>\n",
       "      <td>28.0</td>\n",
       "      <td>Female</td>\n",
       "      <td>Master's</td>\n",
       "      <td>Data Analyst</td>\n",
       "      <td>3.0</td>\n",
       "      <td>65000.0</td>\n",
       "      <td>USA</td>\n",
       "      <td>Hispanic</td>\n",
       "    </tr>\n",
       "    <tr>\n",
       "      <th>2</th>\n",
       "      <td>2</td>\n",
       "      <td>45.0</td>\n",
       "      <td>Male</td>\n",
       "      <td>PhD</td>\n",
       "      <td>Senior Manager</td>\n",
       "      <td>15.0</td>\n",
       "      <td>150000.0</td>\n",
       "      <td>Canada</td>\n",
       "      <td>White</td>\n",
       "    </tr>\n",
       "    <tr>\n",
       "      <th>3</th>\n",
       "      <td>3</td>\n",
       "      <td>36.0</td>\n",
       "      <td>Female</td>\n",
       "      <td>Bachelor's</td>\n",
       "      <td>Sales Associate</td>\n",
       "      <td>7.0</td>\n",
       "      <td>60000.0</td>\n",
       "      <td>USA</td>\n",
       "      <td>Hispanic</td>\n",
       "    </tr>\n",
       "    <tr>\n",
       "      <th>4</th>\n",
       "      <td>4</td>\n",
       "      <td>52.0</td>\n",
       "      <td>Male</td>\n",
       "      <td>Master's</td>\n",
       "      <td>Director</td>\n",
       "      <td>20.0</td>\n",
       "      <td>200000.0</td>\n",
       "      <td>USA</td>\n",
       "      <td>Asian</td>\n",
       "    </tr>\n",
       "  </tbody>\n",
       "</table>\n",
       "</div>"
      ],
      "text/plain": [
       "   Unnamed: 0   Age  Gender Education Level          Job Title  \\\n",
       "0           0  32.0    Male      Bachelor's  Software Engineer   \n",
       "1           1  28.0  Female        Master's       Data Analyst   \n",
       "2           2  45.0    Male             PhD     Senior Manager   \n",
       "3           3  36.0  Female      Bachelor's    Sales Associate   \n",
       "4           4  52.0    Male        Master's           Director   \n",
       "\n",
       "   Years of Experience    Salary Country      Race  \n",
       "0                  5.0   90000.0      UK     White  \n",
       "1                  3.0   65000.0     USA  Hispanic  \n",
       "2                 15.0  150000.0  Canada     White  \n",
       "3                  7.0   60000.0     USA  Hispanic  \n",
       "4                 20.0  200000.0     USA     Asian  "
      ]
     },
     "execution_count": 35,
     "metadata": {},
     "output_type": "execute_result"
    }
   ],
   "source": [
    "sal.head()\n",
    "    "
   ]
  },
  {
   "cell_type": "markdown",
   "id": "1cd2b3db",
   "metadata": {},
   "source": [
    "### Гипотеза 3: Средняя зарплата в США выше чем в других странах\n",
    "    для этого построю график распределения средней зарплаты по странам"
   ]
  },
  {
   "cell_type": "code",
   "execution_count": 40,
   "id": "bb5bb528",
   "metadata": {},
   "outputs": [
    {
     "data": {
      "text/plain": [
       "Country\n",
       "Canada       116556.732830\n",
       "China        116271.373790\n",
       "UK           115939.161677\n",
       "Australia    114917.382485\n",
       "USA          112995.487859\n",
       "Name: Salary, dtype: float64"
      ]
     },
     "execution_count": 40,
     "metadata": {},
     "output_type": "execute_result"
    }
   ],
   "source": [
    "sal.groupby('Country')['Salary'].mean().sort_values(ascending=False) # короче график не нужен и так все видно"
   ]
  },
  {
   "cell_type": "markdown",
   "id": "990205ab",
   "metadata": {},
   "source": [
    "### Гипотеза 4: Влияние образования на зарплату\n",
    "    для этого построю график распределения средней зарплаты по образованию\n"
   ]
  },
  {
   "cell_type": "code",
   "execution_count": 48,
   "id": "d644377f",
   "metadata": {},
   "outputs": [
    {
     "data": {
      "text/plain": [
       "Education Level\n",
       "PhD                  165684.828947\n",
       "Master's             157604.166667\n",
       "Master's Degree      125075.333969\n",
       "Bachelor's           124767.658730\n",
       "phD                  120000.000000\n",
       "Bachelor's Degree     85174.886093\n",
       "High School           36706.694196\n",
       "Name: Salary, dtype: float64"
      ]
     },
     "execution_count": 48,
     "metadata": {},
     "output_type": "execute_result"
    }
   ],
   "source": [
    "\n",
    "sal.groupby('Education Level')['Salary'].mean().sort_values(ascending=False) \n",
    "# тут мне кажется нужно объеденить некоторые категории образования. потому что  видно что в категориях есть опечатки\n",
    "# \"Bachelor's\", \"Master's\", 'PhD', nan, \"Bachelor's Degree\", \"Master's Degree\", 'High School', 'phD'"
   ]
  },
  {
   "cell_type": "code",
   "execution_count": 62,
   "id": "ed979f59",
   "metadata": {},
   "outputs": [],
   "source": [
    "sal['new_education'] = sal['Education Level'].replace([\"Bachelor's\",  \"Bachelor's Degree\",],'Bachelor')\n",
    "sal['new_education'] = sal['new_education'].replace([\"Master's\",  \"Master's Degree\",],'Master')\n",
    "sal['new_education'] = sal['new_education'].replace(['PhD', 'phD'],'PhD')"
   ]
  },
  {
   "cell_type": "code",
   "execution_count": 63,
   "id": "554fc5b9",
   "metadata": {},
   "outputs": [
    {
     "data": {
      "text/plain": [
       "array(['Bachelor', 'Master', 'PhD', nan, 'High School'], dtype=object)"
      ]
     },
     "execution_count": 63,
     "metadata": {},
     "output_type": "execute_result"
    }
   ],
   "source": [
    "\n",
    "\n",
    "sal['new_education'].unique()\n"
   ]
  },
  {
   "cell_type": "code",
   "execution_count": 67,
   "id": "bf1876a0",
   "metadata": {},
   "outputs": [
    {
     "data": {
      "text/plain": [
       "new_education\n",
       "Bachelor       3023\n",
       "Master         1861\n",
       "PhD            1369\n",
       "High School     448\n",
       "Name: count, dtype: int64"
      ]
     },
     "execution_count": 67,
     "metadata": {},
     "output_type": "execute_result"
    }
   ],
   "source": [
    "sal['new_education'].value_counts()"
   ]
  },
  {
   "cell_type": "code",
   "execution_count": 69,
   "id": "e473c94f",
   "metadata": {},
   "outputs": [
    {
     "data": {
      "text/plain": [
       "new_education\n",
       "PhD            165651.457999\n",
       "Master         130112.056452\n",
       "Bachelor        95082.908640\n",
       "High School     36706.694196\n",
       "Name: Salary, dtype: float64"
      ]
     },
     "execution_count": 69,
     "metadata": {},
     "output_type": "execute_result"
    }
   ],
   "source": [
    "sal.groupby('new_education')['Salary'].mean().sort_values(ascending=False) \n"
   ]
  },
  {
   "cell_type": "code",
   "execution_count": 77,
   "id": "4981e9f8",
   "metadata": {},
   "outputs": [
    {
     "data": {
      "image/png": "[encoded data removed]",
      "text/plain": [
       "<Figure size 1000x600 with 1 Axes>"
      ]
     },
     "metadata": {},
     "output_type": "display_data"
    }
   ],
   "source": [
    "import seaborn as sns\n",
    "\n",
    "plt.figure(figsize=(10, 6))\n",
    "\n",
    "\n",
    "sns.barplot(x=sal.groupby('new_education')['Salary'].mean().index, \n",
    "            y=sal.groupby('new_education')['Salary'].mean().values)\n",
    "plt.title('Средняя зарплата по образованию')\n",
    "plt.xlabel('Образование')\n",
    "plt.ylabel('Средняя зарплата')\n",
    "plt.tight_layout()\n",
    "plt.show()\n"
   ]
  },
  {
   "cell_type": "markdown",
   "id": "529f993b",
   "metadata": {},
   "source": [
    "    видно что средняя зарплата выше у людей с высшим образованием"
   ]
  },
  {
   "cell_type": "markdown",
   "id": "09a60a97",
   "metadata": {},
   "source": [
    "# CAR"
   ]
  },
  {
   "cell_type": "code",
   "execution_count": 79,
   "id": "5eb86e41",
   "metadata": {},
   "outputs": [
    {
     "data": {
      "text/html": [
       "<div>\n",
       "<style scoped>\n",
       "    .dataframe tbody tr th:only-of-type {\n",
       "        vertical-align: middle;\n",
       "    }\n",
       "\n",
       "    .dataframe tbody tr th {\n",
       "        vertical-align: top;\n",
       "    }\n",
       "\n",
       "    .dataframe thead th {\n",
       "        text-align: right;\n",
       "    }\n",
       "</style>\n",
       "<table border=\"1\" class=\"dataframe\">\n",
       "  <thead>\n",
       "    <tr style=\"text-align: right;\">\n",
       "      <th></th>\n",
       "      <th>Unnamed: 0</th>\n",
       "      <th>brand</th>\n",
       "      <th>model</th>\n",
       "      <th>color</th>\n",
       "      <th>registration_date</th>\n",
       "      <th>year</th>\n",
       "      <th>price_in_euro</th>\n",
       "      <th>power_kw</th>\n",
       "      <th>power_ps</th>\n",
       "      <th>transmission_type</th>\n",
       "      <th>fuel_type</th>\n",
       "      <th>fuel_consumption_l_100km</th>\n",
       "      <th>fuel_consumption_g_km</th>\n",
       "      <th>mileage_in_km</th>\n",
       "      <th>offer_description</th>\n",
       "    </tr>\n",
       "  </thead>\n",
       "  <tbody>\n",
       "    <tr>\n",
       "      <th>0</th>\n",
       "      <td>0</td>\n",
       "      <td>alfa-romeo</td>\n",
       "      <td>Alfa Romeo GTV</td>\n",
       "      <td>red</td>\n",
       "      <td>10/1995</td>\n",
       "      <td>1995</td>\n",
       "      <td>1300</td>\n",
       "      <td>148</td>\n",
       "      <td>201</td>\n",
       "      <td>Manual</td>\n",
       "      <td>Petrol</td>\n",
       "      <td>10,9 l/100 km</td>\n",
       "      <td>260 g/km</td>\n",
       "      <td>160500.0</td>\n",
       "      <td>2.0 V6 TB</td>\n",
       "    </tr>\n",
       "    <tr>\n",
       "      <th>1</th>\n",
       "      <td>1</td>\n",
       "      <td>alfa-romeo</td>\n",
       "      <td>Alfa Romeo 164</td>\n",
       "      <td>black</td>\n",
       "      <td>02/1995</td>\n",
       "      <td>1995</td>\n",
       "      <td>24900</td>\n",
       "      <td>191</td>\n",
       "      <td>260</td>\n",
       "      <td>Manual</td>\n",
       "      <td>Petrol</td>\n",
       "      <td>NaN</td>\n",
       "      <td>- (g/km)</td>\n",
       "      <td>190000.0</td>\n",
       "      <td>Q4 Allrad, 3.2L GTA</td>\n",
       "    </tr>\n",
       "    <tr>\n",
       "      <th>2</th>\n",
       "      <td>2</td>\n",
       "      <td>alfa-romeo</td>\n",
       "      <td>Alfa Romeo Spider</td>\n",
       "      <td>black</td>\n",
       "      <td>02/1995</td>\n",
       "      <td>1995</td>\n",
       "      <td>5900</td>\n",
       "      <td>110</td>\n",
       "      <td>150</td>\n",
       "      <td>Unknown</td>\n",
       "      <td>Petrol</td>\n",
       "      <td>NaN</td>\n",
       "      <td>- (g/km)</td>\n",
       "      <td>129000.0</td>\n",
       "      <td>ALFA ROME 916</td>\n",
       "    </tr>\n",
       "    <tr>\n",
       "      <th>3</th>\n",
       "      <td>3</td>\n",
       "      <td>alfa-romeo</td>\n",
       "      <td>Alfa Romeo Spider</td>\n",
       "      <td>black</td>\n",
       "      <td>07/1995</td>\n",
       "      <td>1995</td>\n",
       "      <td>4900</td>\n",
       "      <td>110</td>\n",
       "      <td>150</td>\n",
       "      <td>Manual</td>\n",
       "      <td>Petrol</td>\n",
       "      <td>9,5 l/100 km</td>\n",
       "      <td>225 g/km</td>\n",
       "      <td>189500.0</td>\n",
       "      <td>2.0 16V Twin Spark L</td>\n",
       "    </tr>\n",
       "    <tr>\n",
       "      <th>4</th>\n",
       "      <td>4</td>\n",
       "      <td>alfa-romeo</td>\n",
       "      <td>Alfa Romeo 164</td>\n",
       "      <td>red</td>\n",
       "      <td>11/1996</td>\n",
       "      <td>1996</td>\n",
       "      <td>17950</td>\n",
       "      <td>132</td>\n",
       "      <td>179</td>\n",
       "      <td>Manual</td>\n",
       "      <td>Petrol</td>\n",
       "      <td>7,2 l/100 km</td>\n",
       "      <td>- (g/km)</td>\n",
       "      <td>96127.0</td>\n",
       "      <td>3.0i Super V6, absoluter Topzustand !</td>\n",
       "    </tr>\n",
       "  </tbody>\n",
       "</table>\n",
       "</div>"
      ],
      "text/plain": [
       "   Unnamed: 0       brand              model  color registration_date  year  \\\n",
       "0           0  alfa-romeo     Alfa Romeo GTV    red           10/1995  1995   \n",
       "1           1  alfa-romeo     Alfa Romeo 164  black           02/1995  1995   \n",
       "2           2  alfa-romeo  Alfa Romeo Spider  black           02/1995  1995   \n",
       "3           3  alfa-romeo  Alfa Romeo Spider  black           07/1995  1995   \n",
       "4           4  alfa-romeo     Alfa Romeo 164    red           11/1996  1996   \n",
       "\n",
       "  price_in_euro power_kw power_ps transmission_type fuel_type  \\\n",
       "0          1300      148      201            Manual    Petrol   \n",
       "1         24900      191      260            Manual    Petrol   \n",
       "2          5900      110      150           Unknown    Petrol   \n",
       "3          4900      110      150            Manual    Petrol   \n",
       "4         17950      132      179            Manual    Petrol   \n",
       "\n",
       "  fuel_consumption_l_100km fuel_consumption_g_km  mileage_in_km  \\\n",
       "0            10,9 l/100 km              260 g/km       160500.0   \n",
       "1                      NaN              - (g/km)       190000.0   \n",
       "2                      NaN              - (g/km)       129000.0   \n",
       "3             9,5 l/100 km              225 g/km       189500.0   \n",
       "4             7,2 l/100 km              - (g/km)        96127.0   \n",
       "\n",
       "                       offer_description  \n",
       "0                              2.0 V6 TB  \n",
       "1                    Q4 Allrad, 3.2L GTA  \n",
       "2                          ALFA ROME 916  \n",
       "3                   2.0 16V Twin Spark L  \n",
       "4  3.0i Super V6, absoluter Topzustand !  "
      ]
     },
     "execution_count": 79,
     "metadata": {},
     "output_type": "execute_result"
    }
   ],
   "source": [
    "car.head()"
   ]
  },
  {
   "cell_type": "code",
   "execution_count": 87,
   "id": "8aa92302",
   "metadata": {},
   "outputs": [
    {
     "name": "stdout",
     "output_type": "stream",
     "text": [
      "<class 'pandas.core.frame.DataFrame'>\n",
      "RangeIndex: 251079 entries, 0 to 251078\n",
      "Data columns (total 15 columns):\n",
      " #   Column                    Non-Null Count   Dtype  \n",
      "---  ------                    --------------   -----  \n",
      " 0   Unnamed: 0                251079 non-null  int64  \n",
      " 1   brand                     251079 non-null  object \n",
      " 2   model                     251079 non-null  object \n",
      " 3   color                     250913 non-null  object \n",
      " 4   registration_date         251075 non-null  object \n",
      " 5   year                      251079 non-null  object \n",
      " 6   price_in_euro             251079 non-null  object \n",
      " 7   power_kw                  250945 non-null  object \n",
      " 8   power_ps                  250950 non-null  object \n",
      " 9   transmission_type         251079 non-null  object \n",
      " 10  fuel_type                 251079 non-null  object \n",
      " 11  fuel_consumption_l_100km  224206 non-null  object \n",
      " 12  fuel_consumption_g_km     251079 non-null  object \n",
      " 13  mileage_in_km             250927 non-null  float64\n",
      " 14  offer_description         251078 non-null  object \n",
      "dtypes: float64(1), int64(1), object(13)\n",
      "memory usage: 28.7+ MB\n"
     ]
    },
    {
     "data": {
      "text/plain": [
       "Index(['Unnamed: 0', 'brand', 'model', 'color', 'registration_date', 'year',\n",
       "       'price_in_euro', 'power_kw', 'power_ps', 'transmission_type',\n",
       "       'fuel_type', 'fuel_consumption_l_100km', 'fuel_consumption_g_km',\n",
       "       'mileage_in_km', 'offer_description'],\n",
       "      dtype='object')"
      ]
     },
     "execution_count": 87,
     "metadata": {},
     "output_type": "execute_result"
    }
   ],
   "source": [
    "car.info()\n",
    "car.columns\n"
   ]
  },
  {
   "cell_type": "code",
   "execution_count": 82,
   "id": "e110b61c",
   "metadata": {},
   "outputs": [
    {
     "data": {
      "text/plain": [
       "Unnamed: 0                      0\n",
       "brand                           0\n",
       "model                           0\n",
       "color                         166\n",
       "registration_date               4\n",
       "year                            0\n",
       "price_in_euro                   0\n",
       "power_kw                      134\n",
       "power_ps                      129\n",
       "transmission_type               0\n",
       "fuel_type                       0\n",
       "fuel_consumption_l_100km    26873\n",
       "fuel_consumption_g_km           0\n",
       "mileage_in_km                 152\n",
       "offer_description               1\n",
       "dtype: int64"
      ]
     },
     "execution_count": 82,
     "metadata": {},
     "output_type": "execute_result"
    }
   ],
   "source": [
    "car.isna().sum()\n"
   ]
  },
  {
   "cell_type": "code",
   "execution_count": 83,
   "id": "ed4f5faa",
   "metadata": {},
   "outputs": [
    {
     "data": {
      "text/plain": [
       "(251079, 15)"
      ]
     },
     "execution_count": 83,
     "metadata": {},
     "output_type": "execute_result"
    }
   ],
   "source": [
    "car.shape\n"
   ]
  },
  {
   "cell_type": "code",
   "execution_count": 84,
   "id": "cf60d182",
   "metadata": {},
   "outputs": [
    {
     "data": {
      "text/html": [
       "<div>\n",
       "<style scoped>\n",
       "    .dataframe tbody tr th:only-of-type {\n",
       "        vertical-align: middle;\n",
       "    }\n",
       "\n",
       "    .dataframe tbody tr th {\n",
       "        vertical-align: top;\n",
       "    }\n",
       "\n",
       "    .dataframe thead th {\n",
       "        text-align: right;\n",
       "    }\n",
       "</style>\n",
       "<table border=\"1\" class=\"dataframe\">\n",
       "  <thead>\n",
       "    <tr style=\"text-align: right;\">\n",
       "      <th></th>\n",
       "      <th>Unnamed: 0</th>\n",
       "      <th>mileage_in_km</th>\n",
       "    </tr>\n",
       "  </thead>\n",
       "  <tbody>\n",
       "    <tr>\n",
       "      <th>count</th>\n",
       "      <td>251079.000000</td>\n",
       "      <td>2.509270e+05</td>\n",
       "    </tr>\n",
       "    <tr>\n",
       "      <th>mean</th>\n",
       "      <td>125539.000000</td>\n",
       "      <td>8.534002e+04</td>\n",
       "    </tr>\n",
       "    <tr>\n",
       "      <th>std</th>\n",
       "      <td>72480.408456</td>\n",
       "      <td>7.871706e+04</td>\n",
       "    </tr>\n",
       "    <tr>\n",
       "      <th>min</th>\n",
       "      <td>0.000000</td>\n",
       "      <td>0.000000e+00</td>\n",
       "    </tr>\n",
       "    <tr>\n",
       "      <th>25%</th>\n",
       "      <td>62769.500000</td>\n",
       "      <td>2.490400e+04</td>\n",
       "    </tr>\n",
       "    <tr>\n",
       "      <th>50%</th>\n",
       "      <td>125539.000000</td>\n",
       "      <td>6.750000e+04</td>\n",
       "    </tr>\n",
       "    <tr>\n",
       "      <th>75%</th>\n",
       "      <td>188308.500000</td>\n",
       "      <td>1.265000e+05</td>\n",
       "    </tr>\n",
       "    <tr>\n",
       "      <th>max</th>\n",
       "      <td>251078.000000</td>\n",
       "      <td>3.800000e+06</td>\n",
       "    </tr>\n",
       "  </tbody>\n",
       "</table>\n",
       "</div>"
      ],
      "text/plain": [
       "          Unnamed: 0  mileage_in_km\n",
       "count  251079.000000   2.509270e+05\n",
       "mean   125539.000000   8.534002e+04\n",
       "std     72480.408456   7.871706e+04\n",
       "min         0.000000   0.000000e+00\n",
       "25%     62769.500000   2.490400e+04\n",
       "50%    125539.000000   6.750000e+04\n",
       "75%    188308.500000   1.265000e+05\n",
       "max    251078.000000   3.800000e+06"
      ]
     },
     "execution_count": 84,
     "metadata": {},
     "output_type": "execute_result"
    }
   ],
   "source": [
    "car.describe()\n"
   ]
  },
  {
   "cell_type": "code",
   "execution_count": 85,
   "id": "10ed16fc",
   "metadata": {},
   "outputs": [
    {
     "data": {
      "text/html": [
       "<div>\n",
       "<style scoped>\n",
       "    .dataframe tbody tr th:only-of-type {\n",
       "        vertical-align: middle;\n",
       "    }\n",
       "\n",
       "    .dataframe tbody tr th {\n",
       "        vertical-align: top;\n",
       "    }\n",
       "\n",
       "    .dataframe thead th {\n",
       "        text-align: right;\n",
       "    }\n",
       "</style>\n",
       "<table border=\"1\" class=\"dataframe\">\n",
       "  <thead>\n",
       "    <tr style=\"text-align: right;\">\n",
       "      <th></th>\n",
       "      <th>brand</th>\n",
       "      <th>model</th>\n",
       "      <th>color</th>\n",
       "      <th>registration_date</th>\n",
       "      <th>year</th>\n",
       "      <th>price_in_euro</th>\n",
       "      <th>power_kw</th>\n",
       "      <th>power_ps</th>\n",
       "      <th>transmission_type</th>\n",
       "      <th>fuel_type</th>\n",
       "      <th>fuel_consumption_l_100km</th>\n",
       "      <th>fuel_consumption_g_km</th>\n",
       "      <th>offer_description</th>\n",
       "    </tr>\n",
       "  </thead>\n",
       "  <tbody>\n",
       "    <tr>\n",
       "      <th>count</th>\n",
       "      <td>251079</td>\n",
       "      <td>251079</td>\n",
       "      <td>250913</td>\n",
       "      <td>251075</td>\n",
       "      <td>251079</td>\n",
       "      <td>251079</td>\n",
       "      <td>250945</td>\n",
       "      <td>250950</td>\n",
       "      <td>251079</td>\n",
       "      <td>251079</td>\n",
       "      <td>224206</td>\n",
       "      <td>251079</td>\n",
       "      <td>251078</td>\n",
       "    </tr>\n",
       "    <tr>\n",
       "      <th>unique</th>\n",
       "      <td>47</td>\n",
       "      <td>1312</td>\n",
       "      <td>14</td>\n",
       "      <td>433</td>\n",
       "      <td>91</td>\n",
       "      <td>18228</td>\n",
       "      <td>596</td>\n",
       "      <td>578</td>\n",
       "      <td>4</td>\n",
       "      <td>136</td>\n",
       "      <td>621</td>\n",
       "      <td>1500</td>\n",
       "      <td>200945</td>\n",
       "    </tr>\n",
       "    <tr>\n",
       "      <th>top</th>\n",
       "      <td>volkswagen</td>\n",
       "      <td>Volkswagen Golf</td>\n",
       "      <td>black</td>\n",
       "      <td>03/2023</td>\n",
       "      <td>2019</td>\n",
       "      <td>19990</td>\n",
       "      <td>110</td>\n",
       "      <td>150</td>\n",
       "      <td>Automatic</td>\n",
       "      <td>Petrol</td>\n",
       "      <td>4,9 l/100 km</td>\n",
       "      <td>- (g/km)</td>\n",
       "      <td>Titanium</td>\n",
       "    </tr>\n",
       "    <tr>\n",
       "      <th>freq</th>\n",
       "      <td>33281</td>\n",
       "      <td>7588</td>\n",
       "      <td>58720</td>\n",
       "      <td>4746</td>\n",
       "      <td>29225</td>\n",
       "      <td>1592</td>\n",
       "      <td>25986</td>\n",
       "      <td>25987</td>\n",
       "      <td>131749</td>\n",
       "      <td>143280</td>\n",
       "      <td>8158</td>\n",
       "      <td>35809</td>\n",
       "      <td>174</td>\n",
       "    </tr>\n",
       "  </tbody>\n",
       "</table>\n",
       "</div>"
      ],
      "text/plain": [
       "             brand            model   color registration_date    year  \\\n",
       "count       251079           251079  250913            251075  251079   \n",
       "unique          47             1312      14               433      91   \n",
       "top     volkswagen  Volkswagen Golf   black           03/2023    2019   \n",
       "freq         33281             7588   58720              4746   29225   \n",
       "\n",
       "       price_in_euro power_kw power_ps transmission_type fuel_type  \\\n",
       "count         251079   250945   250950            251079    251079   \n",
       "unique         18228      596      578                 4       136   \n",
       "top            19990      110      150         Automatic    Petrol   \n",
       "freq            1592    25986    25987            131749    143280   \n",
       "\n",
       "       fuel_consumption_l_100km fuel_consumption_g_km offer_description  \n",
       "count                    224206                251079            251078  \n",
       "unique                      621                  1500            200945  \n",
       "top                4,9 l/100 km              - (g/km)          Titanium  \n",
       "freq                       8158                 35809               174  "
      ]
     },
     "execution_count": 85,
     "metadata": {},
     "output_type": "execute_result"
    }
   ],
   "source": [
    "car.describe(include='object')"
   ]
  },
  {
   "cell_type": "code",
   "execution_count": 86,
   "id": "5703b2d6",
   "metadata": {},
   "outputs": [
    {
     "data": {
      "text/html": [
       "<div>\n",
       "<style scoped>\n",
       "    .dataframe tbody tr th:only-of-type {\n",
       "        vertical-align: middle;\n",
       "    }\n",
       "\n",
       "    .dataframe tbody tr th {\n",
       "        vertical-align: top;\n",
       "    }\n",
       "\n",
       "    .dataframe thead th {\n",
       "        text-align: right;\n",
       "    }\n",
       "</style>\n",
       "<table border=\"1\" class=\"dataframe\">\n",
       "  <thead>\n",
       "    <tr style=\"text-align: right;\">\n",
       "      <th></th>\n",
       "      <th>Unnamed: 0</th>\n",
       "      <th>brand</th>\n",
       "      <th>model</th>\n",
       "      <th>color</th>\n",
       "      <th>registration_date</th>\n",
       "      <th>year</th>\n",
       "      <th>price_in_euro</th>\n",
       "      <th>power_kw</th>\n",
       "      <th>power_ps</th>\n",
       "      <th>transmission_type</th>\n",
       "      <th>fuel_type</th>\n",
       "      <th>fuel_consumption_l_100km</th>\n",
       "      <th>fuel_consumption_g_km</th>\n",
       "      <th>mileage_in_km</th>\n",
       "      <th>offer_description</th>\n",
       "    </tr>\n",
       "  </thead>\n",
       "  <tbody>\n",
       "    <tr>\n",
       "      <th>0</th>\n",
       "      <td>0</td>\n",
       "      <td>alfa-romeo</td>\n",
       "      <td>Alfa Romeo GTV</td>\n",
       "      <td>red</td>\n",
       "      <td>10/1995</td>\n",
       "      <td>1995</td>\n",
       "      <td>1300</td>\n",
       "      <td>148</td>\n",
       "      <td>201</td>\n",
       "      <td>Manual</td>\n",
       "      <td>Petrol</td>\n",
       "      <td>10,9 l/100 km</td>\n",
       "      <td>260 g/km</td>\n",
       "      <td>160500.0</td>\n",
       "      <td>2.0 V6 TB</td>\n",
       "    </tr>\n",
       "    <tr>\n",
       "      <th>1</th>\n",
       "      <td>1</td>\n",
       "      <td>alfa-romeo</td>\n",
       "      <td>Alfa Romeo 164</td>\n",
       "      <td>black</td>\n",
       "      <td>02/1995</td>\n",
       "      <td>1995</td>\n",
       "      <td>24900</td>\n",
       "      <td>191</td>\n",
       "      <td>260</td>\n",
       "      <td>Manual</td>\n",
       "      <td>Petrol</td>\n",
       "      <td>NaN</td>\n",
       "      <td>- (g/km)</td>\n",
       "      <td>190000.0</td>\n",
       "      <td>Q4 Allrad, 3.2L GTA</td>\n",
       "    </tr>\n",
       "    <tr>\n",
       "      <th>2</th>\n",
       "      <td>2</td>\n",
       "      <td>alfa-romeo</td>\n",
       "      <td>Alfa Romeo Spider</td>\n",
       "      <td>black</td>\n",
       "      <td>02/1995</td>\n",
       "      <td>1995</td>\n",
       "      <td>5900</td>\n",
       "      <td>110</td>\n",
       "      <td>150</td>\n",
       "      <td>Unknown</td>\n",
       "      <td>Petrol</td>\n",
       "      <td>NaN</td>\n",
       "      <td>- (g/km)</td>\n",
       "      <td>129000.0</td>\n",
       "      <td>ALFA ROME 916</td>\n",
       "    </tr>\n",
       "    <tr>\n",
       "      <th>3</th>\n",
       "      <td>3</td>\n",
       "      <td>alfa-romeo</td>\n",
       "      <td>Alfa Romeo Spider</td>\n",
       "      <td>black</td>\n",
       "      <td>07/1995</td>\n",
       "      <td>1995</td>\n",
       "      <td>4900</td>\n",
       "      <td>110</td>\n",
       "      <td>150</td>\n",
       "      <td>Manual</td>\n",
       "      <td>Petrol</td>\n",
       "      <td>9,5 l/100 km</td>\n",
       "      <td>225 g/km</td>\n",
       "      <td>189500.0</td>\n",
       "      <td>2.0 16V Twin Spark L</td>\n",
       "    </tr>\n",
       "    <tr>\n",
       "      <th>4</th>\n",
       "      <td>4</td>\n",
       "      <td>alfa-romeo</td>\n",
       "      <td>Alfa Romeo 164</td>\n",
       "      <td>red</td>\n",
       "      <td>11/1996</td>\n",
       "      <td>1996</td>\n",
       "      <td>17950</td>\n",
       "      <td>132</td>\n",
       "      <td>179</td>\n",
       "      <td>Manual</td>\n",
       "      <td>Petrol</td>\n",
       "      <td>7,2 l/100 km</td>\n",
       "      <td>- (g/km)</td>\n",
       "      <td>96127.0</td>\n",
       "      <td>3.0i Super V6, absoluter Topzustand !</td>\n",
       "    </tr>\n",
       "    <tr>\n",
       "      <th>...</th>\n",
       "      <td>...</td>\n",
       "      <td>...</td>\n",
       "      <td>...</td>\n",
       "      <td>...</td>\n",
       "      <td>...</td>\n",
       "      <td>...</td>\n",
       "      <td>...</td>\n",
       "      <td>...</td>\n",
       "      <td>...</td>\n",
       "      <td>...</td>\n",
       "      <td>...</td>\n",
       "      <td>...</td>\n",
       "      <td>...</td>\n",
       "      <td>...</td>\n",
       "      <td>...</td>\n",
       "    </tr>\n",
       "    <tr>\n",
       "      <th>251074</th>\n",
       "      <td>251074</td>\n",
       "      <td>volvo</td>\n",
       "      <td>Volvo XC40</td>\n",
       "      <td>white</td>\n",
       "      <td>04/2023</td>\n",
       "      <td>2023</td>\n",
       "      <td>57990</td>\n",
       "      <td>192</td>\n",
       "      <td>261</td>\n",
       "      <td>Automatic</td>\n",
       "      <td>Hybrid</td>\n",
       "      <td>NaN</td>\n",
       "      <td>43 km Reichweite</td>\n",
       "      <td>1229.0</td>\n",
       "      <td>Plus Bright T5 Recharge Intellisafe*Surround+P...</td>\n",
       "    </tr>\n",
       "    <tr>\n",
       "      <th>251075</th>\n",
       "      <td>251075</td>\n",
       "      <td>volvo</td>\n",
       "      <td>Volvo XC90</td>\n",
       "      <td>white</td>\n",
       "      <td>03/2023</td>\n",
       "      <td>2023</td>\n",
       "      <td>89690</td>\n",
       "      <td>173</td>\n",
       "      <td>235</td>\n",
       "      <td>Automatic</td>\n",
       "      <td>Diesel</td>\n",
       "      <td>7,6 l/100 km</td>\n",
       "      <td>202 g/km</td>\n",
       "      <td>4900.0</td>\n",
       "      <td>B5 AWD Diesel Ultimate Dark 7-Sitzer Massage F...</td>\n",
       "    </tr>\n",
       "    <tr>\n",
       "      <th>251076</th>\n",
       "      <td>251076</td>\n",
       "      <td>volvo</td>\n",
       "      <td>Volvo V60</td>\n",
       "      <td>white</td>\n",
       "      <td>05/2023</td>\n",
       "      <td>2023</td>\n",
       "      <td>61521</td>\n",
       "      <td>145</td>\n",
       "      <td>197</td>\n",
       "      <td>Automatic</td>\n",
       "      <td>Diesel</td>\n",
       "      <td>4,7 l/100 km</td>\n",
       "      <td>125 g/km</td>\n",
       "      <td>1531.0</td>\n",
       "      <td>B4 D Plus Dark 145 kW, 5-türig (Diesel)</td>\n",
       "    </tr>\n",
       "    <tr>\n",
       "      <th>251077</th>\n",
       "      <td>251077</td>\n",
       "      <td>volvo</td>\n",
       "      <td>Volvo XC40</td>\n",
       "      <td>white</td>\n",
       "      <td>05/2023</td>\n",
       "      <td>2023</td>\n",
       "      <td>57890</td>\n",
       "      <td>132</td>\n",
       "      <td>179</td>\n",
       "      <td>Automatic</td>\n",
       "      <td>Hybrid</td>\n",
       "      <td>NaN</td>\n",
       "      <td>45 km Reichweite</td>\n",
       "      <td>1500.0</td>\n",
       "      <td>T5 Recharge Plus Dark *Standh*360°*beh.Lenk</td>\n",
       "    </tr>\n",
       "    <tr>\n",
       "      <th>251078</th>\n",
       "      <td>251078</td>\n",
       "      <td>volvo</td>\n",
       "      <td>Volvo XC40</td>\n",
       "      <td>gold</td>\n",
       "      <td>03/2023</td>\n",
       "      <td>2023</td>\n",
       "      <td>52900</td>\n",
       "      <td>160</td>\n",
       "      <td>218</td>\n",
       "      <td>Automatic</td>\n",
       "      <td>Electric</td>\n",
       "      <td>NaN</td>\n",
       "      <td>438 km Reichweite</td>\n",
       "      <td>50.0</td>\n",
       "      <td>Ultimate Recharge Twin Motor AHK GJR</td>\n",
       "    </tr>\n",
       "  </tbody>\n",
       "</table>\n",
       "<p>251079 rows × 15 columns</p>\n",
       "</div>"
      ],
      "text/plain": [
       "        Unnamed: 0       brand              model  color registration_date  \\\n",
       "0                0  alfa-romeo     Alfa Romeo GTV    red           10/1995   \n",
       "1                1  alfa-romeo     Alfa Romeo 164  black           02/1995   \n",
       "2                2  alfa-romeo  Alfa Romeo Spider  black           02/1995   \n",
       "3                3  alfa-romeo  Alfa Romeo Spider  black           07/1995   \n",
       "4                4  alfa-romeo     Alfa Romeo 164    red           11/1996   \n",
       "...            ...         ...                ...    ...               ...   \n",
       "251074      251074       volvo         Volvo XC40  white           04/2023   \n",
       "251075      251075       volvo         Volvo XC90  white           03/2023   \n",
       "251076      251076       volvo          Volvo V60  white           05/2023   \n",
       "251077      251077       volvo         Volvo XC40  white           05/2023   \n",
       "251078      251078       volvo         Volvo XC40   gold           03/2023   \n",
       "\n",
       "        year price_in_euro power_kw power_ps transmission_type fuel_type  \\\n",
       "0       1995          1300      148      201            Manual    Petrol   \n",
       "1       1995         24900      191      260            Manual    Petrol   \n",
       "2       1995          5900      110      150           Unknown    Petrol   \n",
       "3       1995          4900      110      150            Manual    Petrol   \n",
       "4       1996         17950      132      179            Manual    Petrol   \n",
       "...      ...           ...      ...      ...               ...       ...   \n",
       "251074  2023         57990      192      261         Automatic    Hybrid   \n",
       "251075  2023         89690      173      235         Automatic    Diesel   \n",
       "251076  2023         61521      145      197         Automatic    Diesel   \n",
       "251077  2023         57890      132      179         Automatic    Hybrid   \n",
       "251078  2023         52900      160      218         Automatic  Electric   \n",
       "\n",
       "       fuel_consumption_l_100km fuel_consumption_g_km  mileage_in_km  \\\n",
       "0                 10,9 l/100 km              260 g/km       160500.0   \n",
       "1                           NaN              - (g/km)       190000.0   \n",
       "2                           NaN              - (g/km)       129000.0   \n",
       "3                  9,5 l/100 km              225 g/km       189500.0   \n",
       "4                  7,2 l/100 km              - (g/km)        96127.0   \n",
       "...                         ...                   ...            ...   \n",
       "251074                      NaN      43 km Reichweite         1229.0   \n",
       "251075             7,6 l/100 km              202 g/km         4900.0   \n",
       "251076             4,7 l/100 km              125 g/km         1531.0   \n",
       "251077                      NaN      45 km Reichweite         1500.0   \n",
       "251078                      NaN     438 km Reichweite           50.0   \n",
       "\n",
       "                                        offer_description  \n",
       "0                                               2.0 V6 TB  \n",
       "1                                     Q4 Allrad, 3.2L GTA  \n",
       "2                                           ALFA ROME 916  \n",
       "3                                    2.0 16V Twin Spark L  \n",
       "4                   3.0i Super V6, absoluter Topzustand !  \n",
       "...                                                   ...  \n",
       "251074  Plus Bright T5 Recharge Intellisafe*Surround+P...  \n",
       "251075  B5 AWD Diesel Ultimate Dark 7-Sitzer Massage F...  \n",
       "251076            B4 D Plus Dark 145 kW, 5-türig (Diesel)  \n",
       "251077        T5 Recharge Plus Dark *Standh*360°*beh.Lenk  \n",
       "251078               Ultimate Recharge Twin Motor AHK GJR  \n",
       "\n",
       "[251079 rows x 15 columns]"
      ]
     },
     "execution_count": 86,
     "metadata": {},
     "output_type": "execute_result"
    }
   ],
   "source": [
    "car"
   ]
  },
  {
   "cell_type": "code",
   "execution_count": 89,
   "id": "93a0026f",
   "metadata": {},
   "outputs": [
    {
     "data": {
      "text/plain": [
       "transmission_type\n",
       "Automatic         131749\n",
       "Manual            117869\n",
       "Unknown             1144\n",
       "Semi-automatic       317\n",
       "Name: count, dtype: int64"
      ]
     },
     "execution_count": 89,
     "metadata": {},
     "output_type": "execute_result"
    }
   ],
   "source": [
    "car['transmission_type'].value_counts()\n",
    "\n"
   ]
  },
  {
   "cell_type": "markdown",
   "id": "839aa8c6",
   "metadata": {},
   "source": [
    "#### Гипотеза 1: Альфа Ромео чаще встречается с механической коробкой передач\n",
    "    знаю, так себе гипотеза, но у меня была альфа и хотел бы попрактиковаться в построении графиков на ней\n"
   ]
  },
  {
   "cell_type": "code",
   "execution_count": 96,
   "id": "ef5f30e7",
   "metadata": {},
   "outputs": [
    {
     "data": {
      "text/html": [
       "<div>\n",
       "<style scoped>\n",
       "    .dataframe tbody tr th:only-of-type {\n",
       "        vertical-align: middle;\n",
       "    }\n",
       "\n",
       "    .dataframe tbody tr th {\n",
       "        vertical-align: top;\n",
       "    }\n",
       "\n",
       "    .dataframe thead th {\n",
       "        text-align: right;\n",
       "    }\n",
       "</style>\n",
       "<table border=\"1\" class=\"dataframe\">\n",
       "  <thead>\n",
       "    <tr style=\"text-align: right;\">\n",
       "      <th></th>\n",
       "      <th>Unnamed: 0</th>\n",
       "      <th>brand</th>\n",
       "      <th>model</th>\n",
       "      <th>color</th>\n",
       "      <th>registration_date</th>\n",
       "      <th>year</th>\n",
       "      <th>price_in_euro</th>\n",
       "      <th>power_kw</th>\n",
       "      <th>power_ps</th>\n",
       "      <th>fuel_type</th>\n",
       "      <th>fuel_consumption_l_100km</th>\n",
       "      <th>fuel_consumption_g_km</th>\n",
       "      <th>mileage_in_km</th>\n",
       "      <th>offer_description</th>\n",
       "    </tr>\n",
       "    <tr>\n",
       "      <th>transmission_type</th>\n",
       "      <th></th>\n",
       "      <th></th>\n",
       "      <th></th>\n",
       "      <th></th>\n",
       "      <th></th>\n",
       "      <th></th>\n",
       "      <th></th>\n",
       "      <th></th>\n",
       "      <th></th>\n",
       "      <th></th>\n",
       "      <th></th>\n",
       "      <th></th>\n",
       "      <th></th>\n",
       "      <th></th>\n",
       "    </tr>\n",
       "  </thead>\n",
       "  <tbody>\n",
       "    <tr>\n",
       "      <th>Automatic</th>\n",
       "      <td>894</td>\n",
       "      <td>894</td>\n",
       "      <td>894</td>\n",
       "      <td>894</td>\n",
       "      <td>894</td>\n",
       "      <td>894</td>\n",
       "      <td>894</td>\n",
       "      <td>892</td>\n",
       "      <td>892</td>\n",
       "      <td>894</td>\n",
       "      <td>830</td>\n",
       "      <td>894</td>\n",
       "      <td>893</td>\n",
       "      <td>894</td>\n",
       "    </tr>\n",
       "    <tr>\n",
       "      <th>Manual</th>\n",
       "      <td>524</td>\n",
       "      <td>524</td>\n",
       "      <td>524</td>\n",
       "      <td>524</td>\n",
       "      <td>524</td>\n",
       "      <td>524</td>\n",
       "      <td>524</td>\n",
       "      <td>524</td>\n",
       "      <td>524</td>\n",
       "      <td>524</td>\n",
       "      <td>497</td>\n",
       "      <td>524</td>\n",
       "      <td>524</td>\n",
       "      <td>524</td>\n",
       "    </tr>\n",
       "    <tr>\n",
       "      <th>Semi-automatic</th>\n",
       "      <td>5</td>\n",
       "      <td>5</td>\n",
       "      <td>5</td>\n",
       "      <td>5</td>\n",
       "      <td>5</td>\n",
       "      <td>5</td>\n",
       "      <td>5</td>\n",
       "      <td>5</td>\n",
       "      <td>5</td>\n",
       "      <td>5</td>\n",
       "      <td>4</td>\n",
       "      <td>5</td>\n",
       "      <td>5</td>\n",
       "      <td>5</td>\n",
       "    </tr>\n",
       "    <tr>\n",
       "      <th>Unknown</th>\n",
       "      <td>14</td>\n",
       "      <td>14</td>\n",
       "      <td>14</td>\n",
       "      <td>14</td>\n",
       "      <td>14</td>\n",
       "      <td>14</td>\n",
       "      <td>14</td>\n",
       "      <td>14</td>\n",
       "      <td>14</td>\n",
       "      <td>14</td>\n",
       "      <td>12</td>\n",
       "      <td>14</td>\n",
       "      <td>14</td>\n",
       "      <td>14</td>\n",
       "    </tr>\n",
       "  </tbody>\n",
       "</table>\n",
       "</div>"
      ],
      "text/plain": [
       "                   Unnamed: 0  brand  model  color  registration_date  year  \\\n",
       "transmission_type                                                             \n",
       "Automatic                 894    894    894    894                894   894   \n",
       "Manual                    524    524    524    524                524   524   \n",
       "Semi-automatic              5      5      5      5                  5     5   \n",
       "Unknown                    14     14     14     14                 14    14   \n",
       "\n",
       "                   price_in_euro  power_kw  power_ps  fuel_type  \\\n",
       "transmission_type                                                 \n",
       "Automatic                    894       892       892        894   \n",
       "Manual                       524       524       524        524   \n",
       "Semi-automatic                 5         5         5          5   \n",
       "Unknown                       14        14        14         14   \n",
       "\n",
       "                   fuel_consumption_l_100km  fuel_consumption_g_km  \\\n",
       "transmission_type                                                    \n",
       "Automatic                               830                    894   \n",
       "Manual                                  497                    524   \n",
       "Semi-automatic                            4                      5   \n",
       "Unknown                                  12                     14   \n",
       "\n",
       "                   mileage_in_km  offer_description  \n",
       "transmission_type                                    \n",
       "Automatic                    893                894  \n",
       "Manual                       524                524  \n",
       "Semi-automatic                 5                  5  \n",
       "Unknown                       14                 14  "
      ]
     },
     "execution_count": 96,
     "metadata": {},
     "output_type": "execute_result"
    }
   ],
   "source": [
    "car[car['brand'] == 'alfa-romeo'].groupby('transmission_type').count() # в общем график не нужен"
   ]
  },
  {
   "cell_type": "markdown",
   "id": "cc0c77c2",
   "metadata": {},
   "source": [
    "#### Гипотеза 2: машины с автоматической коробкой дороже машин с механической коробкой\n",
    "    я построю график распределения цен в зависимости от типа коробки передач"
   ]
  },
  {
   "cell_type": "code",
   "execution_count": 104,
   "id": "65318708",
   "metadata": {},
   "outputs": [
    {
     "name": "stdout",
     "output_type": "stream",
     "text": [
      "<class 'pandas.core.series.Series'>\n",
      "RangeIndex: 251079 entries, 0 to 251078\n",
      "Series name: price_in_euro\n",
      "Non-Null Count   Dtype \n",
      "--------------   ----- \n",
      "251079 non-null  object\n",
      "dtypes: object(1)\n",
      "memory usage: 1.9+ MB\n"
     ]
    }
   ],
   "source": [
    "# оказалось после нескольких запусков разных строчек кода. что price_in_euro типа object\n",
    "# поэтому я привожу его к типу int\n",
    "car['price_in_euro'].info()\n"
   ]
  },
  {
   "cell_type": "code",
   "execution_count": 113,
   "id": "a8996e7c",
   "metadata": {},
   "outputs": [
    {
     "name": "stdout",
     "output_type": "stream",
     "text": [
      "transmission_type\n",
      "Automatic         35919.724992\n",
      "Manual            15151.109900\n",
      "Semi-automatic    37085.984227\n",
      "Unknown           28571.258093\n",
      "Name: price_in_euro, dtype: float64\n"
     ]
    }
   ],
   "source": [
    "# заменю все не числовые значения на NaN \n",
    "car['price_in_euro'] = pd.to_numeric(car['price_in_euro'].str.replace(' ', ''), errors='coerce')\n",
    "\n",
    "# Теперь вы можете проверить среднюю цену в зависимости от типа коробки передач\n",
    "mean_price_by_transmission = car.groupby('transmission_type')['price_in_euro'].mean()\n",
    "print(mean_price_by_transmission)"
   ]
  },
  {
   "cell_type": "code",
   "execution_count": 117,
   "id": "8ec6e3f9",
   "metadata": {},
   "outputs": [
    {
     "data": {
      "text/plain": [
       "transmission_type\n",
       "Automatic         131749\n",
       "Manual            117869\n",
       "Unknown             1144\n",
       "Semi-automatic       317\n",
       "Name: count, dtype: int64"
      ]
     },
     "execution_count": 117,
     "metadata": {},
     "output_type": "execute_result"
    }
   ],
   "source": [
    "car['transmission_type'].value_counts()\n",
    "\n"
   ]
  },
  {
   "cell_type": "code",
   "execution_count": 118,
   "id": "c6c8979b",
   "metadata": {},
   "outputs": [
    {
     "data": {
      "image/png": "[encoded data removed]",
      "text/plain": [
       "<Figure size 1000x600 with 1 Axes>"
      ]
     },
     "metadata": {},
     "output_type": "display_data"
    }
   ],
   "source": [
    "# график средней цены в зависимости от типа коробки передач\n",
    "plt.figure(figsize=(10, 6))\n",
    "sns.barplot(x=car.groupby('transmission_type')['price_in_euro'].mean().index, \n",
    "            y=car.groupby('transmission_type')['price_in_euro'].mean().values)\n",
    "plt.title('Средняя цена в зависимости от типа коробки передач')\n",
    "plt.xlabel('Тип коробки передач')\n",
    "plt.ylabel('Средняя цена')\n",
    "plt.tight_layout()\n",
    "plt.show()"
   ]
  },
  {
   "cell_type": "markdown",
   "id": "6c4d20ae",
   "metadata": {},
   "source": [
    "    если не брать в расчет Unknown, то машины с автоматической коробкой дороже машин с механической коробкой"
   ]
  },
  {
   "cell_type": "markdown",
   "id": "9b583501",
   "metadata": {},
   "source": [
    "#### Гипотеза 4: машины с большим пробегом дороже машин с маленьким пробегом"
   ]
  },
  {
   "cell_type": "code",
   "execution_count": 123,
   "id": "cb90a172",
   "metadata": {},
   "outputs": [
    {
     "name": "stdout",
     "output_type": "stream",
     "text": [
      "<class 'pandas.core.series.Series'>\n",
      "RangeIndex: 251079 entries, 0 to 251078\n",
      "Series name: mileage_in_km\n",
      "Non-Null Count   Dtype  \n",
      "--------------   -----  \n",
      "250927 non-null  float64\n",
      "dtypes: float64(1)\n",
      "memory usage: 1.9 MB\n"
     ]
    }
   ],
   "source": [
    "car['mileage_in_km'].info()\n"
   ]
  },
  {
   "cell_type": "code",
   "execution_count": 125,
   "id": "12afb859",
   "metadata": {},
   "outputs": [
    {
     "data": {
      "text/plain": [
       "152"
      ]
     },
     "execution_count": 125,
     "metadata": {},
     "output_type": "execute_result"
    }
   ],
   "source": [
    "car['mileage_in_km'].isna().sum()\n",
    "\n"
   ]
  },
  {
   "cell_type": "code",
   "execution_count": 128,
   "id": "27e6c432",
   "metadata": {},
   "outputs": [
    {
     "data": {
      "text/plain": [
       "3800000.0"
      ]
     },
     "execution_count": 128,
     "metadata": {},
     "output_type": "execute_result"
    }
   ],
   "source": [
    "car['mileage_in_km'].max()\n",
    "\n"
   ]
  },
  {
   "cell_type": "code",
   "execution_count": 129,
   "id": "a5e73600",
   "metadata": {},
   "outputs": [
    {
     "data": {
      "text/plain": [
       "mileage_category\n",
       "0-75       135362\n",
       "75-150      70085\n",
       "150-300     41900\n",
       "300+         3378\n",
       "Name: count, dtype: int64"
      ]
     },
     "execution_count": 129,
     "metadata": {},
     "output_type": "execute_result"
    }
   ],
   "source": [
    "# пока создам 4 категории пробега типа от 0 до 75  тысяч, от 75 до 150, от 150 до 300 и свыше 300 тысяч\n",
    "car['mileage_category'] = pd.cut(car['mileage_in_km'], bins=[0, 75000, 150000, 300000, float('inf')], \n",
    "                                labels=['0-75', '75-150', '150-300', '300+'])\n",
    "\n",
    "car['mileage_category'].value_counts()"
   ]
  },
  {
   "cell_type": "code",
   "execution_count": 145,
   "id": "40943a90",
   "metadata": {},
   "outputs": [
    {
     "name": "stderr",
     "output_type": "stream",
     "text": [
      "/home/alekspy/anaconda3/lib/python3.11/site-packages/seaborn/categorical.py:641: FutureWarning: The default of observed=False is deprecated and will be changed to True in a future version of pandas. Pass observed=False to retain current behavior or observed=True to adopt the future default and silence this warning.\n",
      "  grouped_vals = vals.groupby(grouper)\n"
     ]
    },
    {
     "data": {
      "image/png": "[encoded data removed]",
      "text/plain": [
       "<Figure size 1000x600 with 1 Axes>"
      ]
     },
     "metadata": {},
     "output_type": "display_data"
    }
   ],
   "source": [
    "import seaborn as sns\n",
    "\n",
    "plt.figure(figsize=(10, 6))\n",
    "sns.barplot(x=car.groupby('mileage_category', observed=False)['price_in_euro'].mean().index, \n",
    "            y=car.groupby('mileage_category', observed=False)['price_in_euro'].mean().values)\n",
    "plt.title('Средняя цена в зависимости от категории пробега')\n",
    "plt.xlabel('тысяч километров')\n",
    "plt.ylabel('Средняя цена')\n",
    "plt.tight_layout()\n",
    "plt.show()\n"
   ]
  },
  {
   "cell_type": "code",
   "execution_count": 132,
   "id": "3a5f6039",
   "metadata": {},
   "outputs": [
    {
     "data": {
      "text/plain": [
       "Index(['Unnamed: 0', 'brand', 'model', 'color', 'registration_date', 'year',\n",
       "       'price_in_euro', 'power_kw', 'power_ps', 'transmission_type',\n",
       "       'fuel_type', 'fuel_consumption_l_100km', 'fuel_consumption_g_km',\n",
       "       'mileage_in_km', 'offer_description', 'mileage_category'],\n",
       "      dtype='object')"
      ]
     },
     "execution_count": 132,
     "metadata": {},
     "output_type": "execute_result"
    }
   ],
   "source": [
    "car.columns\n"
   ]
  },
  {
   "cell_type": "code",
   "execution_count": 133,
   "id": "fde6e8ae",
   "metadata": {},
   "outputs": [
    {
     "data": {
      "text/plain": [
       "color\n",
       "black     58720\n",
       "grey      46786\n",
       "white     40640\n",
       "silver    34362\n",
       "blue      32092\n",
       "red       21258\n",
       "brown      4415\n",
       "green      3500\n",
       "orange     3367\n",
       "beige      2420\n",
       "yellow     1779\n",
       "bronze      586\n",
       "gold        580\n",
       "violet      408\n",
       "Name: count, dtype: int64"
      ]
     },
     "execution_count": 133,
     "metadata": {},
     "output_type": "execute_result"
    }
   ],
   "source": [
    "car['color'].value_counts()"
   ]
  },
  {
   "cell_type": "markdown",
   "id": "7520e6ea",
   "metadata": {},
   "source": [
    "#### Гипотеза 5: машины красного цвета дороже машин других цветов\n",
    "    я построю график распределения цен в зависимости от цвета\n",
    "\n"
   ]
  },
  {
   "cell_type": "code",
   "execution_count": 140,
   "id": "d190a5dd",
   "metadata": {},
   "outputs": [
    {
     "data": {
      "image/png": "[encoded data removed]",
      "text/plain": [
       "<Figure size 1000x600 with 1 Axes>"
      ]
     },
     "metadata": {},
     "output_type": "display_data"
    }
   ],
   "source": [
    "import seaborn as sns\n",
    "\n",
    "plt.figure(figsize=(10, 6), facecolor='lightgrey')\n",
    "\n",
    "\n",
    "color_palette = {\n",
    "    'beige': '#f5f5dc',\n",
    "    'black': '#000000',\n",
    "    'blue': '#0000ff',\n",
    "    'bronze': '#cd7f32',\n",
    "    'brown': '#a52a2a',\n",
    "    'green': '#008000',\n",
    "    'grey': '#808080',\n",
    "    'orange': '#ffa500',\n",
    "    'red': '#ff0000',\n",
    "    'silver': '#c0c0c0',\n",
    "    'violet': '#ee82ee',\n",
    "    'white': '#ffffff',\n",
    "    'yellow': '#ffff00',\n",
    "    'gold': '#ffd700',  \n",
    "}\n",
    "barplot = sns.barplot(x=car.groupby('color')['price_in_euro'].mean().index,\n",
    "                      y=car.groupby('color')['price_in_euro'].mean().values,\n",
    "                      palette=color_palette)\n",
    "\n",
    "#  контуры\n",
    "for bar in barplot.patches:\n",
    "    bar.set_edgecolor('black')  #  цвет контура\n",
    "    bar.set_linewidth(1)  #  толщину контура\n",
    "\n",
    "plt.title('Средняя цена в зависимости от цвета')\n",
    "plt.xlabel('Цвет')\n",
    "plt.ylabel('Средняя цена')\n",
    "plt.tight_layout()\n",
    "plt.show()"
   ]
  },
  {
   "cell_type": "markdown",
   "id": "328a4c7a",
   "metadata": {},
   "source": [
    "судя по графику машины зеленого цвета дороже машин других цветов\n",
    "но этих машин не так много. ттак что я построю тоже самое но для машин вот этих\n",
    "black     58720\n",
    "grey      46786\n",
    "white     40640\n",
    "silver    34362\n",
    "blue      32092\n",
    "red       21258\n"
   ]
  },
  {
   "cell_type": "code",
   "execution_count": 144,
   "id": "3c7f0b64",
   "metadata": {},
   "outputs": [
    {
     "data": {
      "text/plain": [
       "<Figure size 1000x600 with 0 Axes>"
      ]
     },
     "metadata": {},
     "output_type": "display_data"
    },
    {
     "data": {
      "image/png": "[encoded data removed]",
      "text/plain": [
       "<Figure size 1000x600 with 1 Axes>"
      ]
     },
     "metadata": {},
     "output_type": "display_data"
    }
   ],
   "source": [
    "import seaborn as sns\n",
    "import matplotlib.pyplot as plt\n",
    "\n",
    "plt.figure(figsize=(10, 6), facecolor='lightgrey')\n",
    "\n",
    "color_palette = {\n",
    "    'beige': '#f5f5dc',\n",
    "    'black': '#000000',\n",
    "    'blue': '#0000ff',\n",
    "    'bronze': '#cd7f32',\n",
    "    'brown': '#a52a2a',\n",
    "    'green': '#008000',\n",
    "    'grey': '#808080',\n",
    "    'orange': '#ffa500',\n",
    "    'red': '#ff0000',\n",
    "    'silver': '#c0c0c0',\n",
    "    'violet': '#ee82ee',\n",
    "    'white': '#ffffff',\n",
    "    'yellow': '#ffff00',\n",
    "    'gold': '#ffd700',\n",
    "}\n",
    "\n",
    "# считаю количество машин для каждого цвета\n",
    "car_counts = car['color'].value_counts()\n",
    "\n",
    "# Фильтруую если цвета с количеством машин больше 20,000\n",
    "filtered_colors = car_counts[car_counts > 20000].index\n",
    "\n",
    "# Группирую данные только для отфильтрованных цветов\n",
    "mean_prices = car.groupby('color')['price_in_euro'].mean()\n",
    "filtered_mean_prices = mean_prices[mean_prices.index.isin(filtered_colors)]\n",
    "\n",
    "plt.figure(figsize=(10, 6), facecolor='lightgrey')\n",
    "\n",
    "\n",
    "barplot = sns.barplot(x=filtered_mean_prices.index, y=filtered_mean_prices.values, palette=color_palette)\n",
    "\n",
    "#  контуры\n",
    "for bar in barplot.patches:\n",
    "    bar.set_edgecolor('black')  # цвет контура\n",
    "    bar.set_linewidth(1)  #  толщину контура\n",
    "\n",
    "plt.title('Средняя цена в зависимости от цвета (только для популярных цветов)')\n",
    "plt.xlabel('Цвет')\n",
    "plt.ylabel('Средняя цена')\n",
    "plt.tight_layout()\n",
    "plt.show()"
   ]
  },
  {
   "cell_type": "markdown",
   "id": "d4aff18d",
   "metadata": {},
   "source": [
    "    получаеся машины красного цвета в среднем немного дороже машин других цветов"
   ]
  },
  {
   "cell_type": "markdown",
   "id": "bec90edb",
   "metadata": {},
   "source": []
  }
 ],
 "metadata": {
  "kernelspec": {
   "display_name": "Python 3 (ipykernel)",
   "language": "python",
   "name": "python3"
  },
  "language_info": {
   "codemirror_mode": {
    "name": "ipython",
    "version": 3
   },
   "file_extension": ".py",
   "mimetype": "text/x-python",
   "name": "python",
   "nbconvert_exporter": "python",
   "pygments_lexer": "ipython3",
   "version": "3.11.7"
  }
 },
 "nbformat": 4,
 "nbformat_minor": 5
}
