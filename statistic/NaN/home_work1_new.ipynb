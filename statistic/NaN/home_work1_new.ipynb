{
 "cells": [
  {
   "cell_type": "code",
   "execution_count": 1,
   "metadata": {},
   "outputs": [],
   "source": [
    "import pandas as pd \n",
    "import numpy as np\n"
   ]
  },
  {
   "cell_type": "code",
   "execution_count": 2,
   "metadata": {},
   "outputs": [],
   "source": [
    "horse_file = 'horse_data.csv'\n",
    "full_df = pd.read_csv(horse_file, header=None, na_values='?')"
   ]
  },
  {
   "cell_type": "code",
   "execution_count": 3,
   "metadata": {},
   "outputs": [
    {
     "data": {
      "text/html": [
       "<div>\n",
       "<style scoped>\n",
       "    .dataframe tbody tr th:only-of-type {\n",
       "        vertical-align: middle;\n",
       "    }\n",
       "\n",
       "    .dataframe tbody tr th {\n",
       "        vertical-align: top;\n",
       "    }\n",
       "\n",
       "    .dataframe thead th {\n",
       "        text-align: right;\n",
       "    }\n",
       "</style>\n",
       "<table border=\"1\" class=\"dataframe\">\n",
       "  <thead>\n",
       "    <tr style=\"text-align: right;\">\n",
       "      <th></th>\n",
       "      <th>surgery</th>\n",
       "      <th>age</th>\n",
       "      <th>rectal_temperature</th>\n",
       "      <th>pulse</th>\n",
       "      <th>respiratory_rate</th>\n",
       "      <th>temperature_of_extremities</th>\n",
       "      <th>pain</th>\n",
       "      <th>outcome</th>\n",
       "    </tr>\n",
       "  </thead>\n",
       "  <tbody>\n",
       "    <tr>\n",
       "      <th>0</th>\n",
       "      <td>2.0</td>\n",
       "      <td>1</td>\n",
       "      <td>38.5</td>\n",
       "      <td>66.0</td>\n",
       "      <td>28.0</td>\n",
       "      <td>3.0</td>\n",
       "      <td>5.0</td>\n",
       "      <td>2.0</td>\n",
       "    </tr>\n",
       "    <tr>\n",
       "      <th>1</th>\n",
       "      <td>1.0</td>\n",
       "      <td>1</td>\n",
       "      <td>39.2</td>\n",
       "      <td>88.0</td>\n",
       "      <td>20.0</td>\n",
       "      <td>NaN</td>\n",
       "      <td>3.0</td>\n",
       "      <td>3.0</td>\n",
       "    </tr>\n",
       "    <tr>\n",
       "      <th>2</th>\n",
       "      <td>2.0</td>\n",
       "      <td>1</td>\n",
       "      <td>38.3</td>\n",
       "      <td>40.0</td>\n",
       "      <td>24.0</td>\n",
       "      <td>1.0</td>\n",
       "      <td>3.0</td>\n",
       "      <td>1.0</td>\n",
       "    </tr>\n",
       "    <tr>\n",
       "      <th>3</th>\n",
       "      <td>1.0</td>\n",
       "      <td>9</td>\n",
       "      <td>39.1</td>\n",
       "      <td>164.0</td>\n",
       "      <td>84.0</td>\n",
       "      <td>4.0</td>\n",
       "      <td>2.0</td>\n",
       "      <td>2.0</td>\n",
       "    </tr>\n",
       "    <tr>\n",
       "      <th>4</th>\n",
       "      <td>2.0</td>\n",
       "      <td>1</td>\n",
       "      <td>37.3</td>\n",
       "      <td>104.0</td>\n",
       "      <td>35.0</td>\n",
       "      <td>NaN</td>\n",
       "      <td>NaN</td>\n",
       "      <td>2.0</td>\n",
       "    </tr>\n",
       "    <tr>\n",
       "      <th>...</th>\n",
       "      <td>...</td>\n",
       "      <td>...</td>\n",
       "      <td>...</td>\n",
       "      <td>...</td>\n",
       "      <td>...</td>\n",
       "      <td>...</td>\n",
       "      <td>...</td>\n",
       "      <td>...</td>\n",
       "    </tr>\n",
       "    <tr>\n",
       "      <th>295</th>\n",
       "      <td>1.0</td>\n",
       "      <td>1</td>\n",
       "      <td>NaN</td>\n",
       "      <td>120.0</td>\n",
       "      <td>70.0</td>\n",
       "      <td>4.0</td>\n",
       "      <td>2.0</td>\n",
       "      <td>3.0</td>\n",
       "    </tr>\n",
       "    <tr>\n",
       "      <th>296</th>\n",
       "      <td>2.0</td>\n",
       "      <td>1</td>\n",
       "      <td>37.2</td>\n",
       "      <td>72.0</td>\n",
       "      <td>24.0</td>\n",
       "      <td>3.0</td>\n",
       "      <td>4.0</td>\n",
       "      <td>3.0</td>\n",
       "    </tr>\n",
       "    <tr>\n",
       "      <th>297</th>\n",
       "      <td>1.0</td>\n",
       "      <td>1</td>\n",
       "      <td>37.5</td>\n",
       "      <td>72.0</td>\n",
       "      <td>30.0</td>\n",
       "      <td>4.0</td>\n",
       "      <td>4.0</td>\n",
       "      <td>2.0</td>\n",
       "    </tr>\n",
       "    <tr>\n",
       "      <th>298</th>\n",
       "      <td>1.0</td>\n",
       "      <td>1</td>\n",
       "      <td>36.5</td>\n",
       "      <td>100.0</td>\n",
       "      <td>24.0</td>\n",
       "      <td>3.0</td>\n",
       "      <td>3.0</td>\n",
       "      <td>1.0</td>\n",
       "    </tr>\n",
       "    <tr>\n",
       "      <th>299</th>\n",
       "      <td>1.0</td>\n",
       "      <td>1</td>\n",
       "      <td>37.2</td>\n",
       "      <td>40.0</td>\n",
       "      <td>20.0</td>\n",
       "      <td>NaN</td>\n",
       "      <td>NaN</td>\n",
       "      <td>3.0</td>\n",
       "    </tr>\n",
       "  </tbody>\n",
       "</table>\n",
       "<p>300 rows × 8 columns</p>\n",
       "</div>"
      ],
      "text/plain": [
       "     surgery  age  rectal_temperature  pulse  respiratory_rate  \\\n",
       "0        2.0    1                38.5   66.0              28.0   \n",
       "1        1.0    1                39.2   88.0              20.0   \n",
       "2        2.0    1                38.3   40.0              24.0   \n",
       "3        1.0    9                39.1  164.0              84.0   \n",
       "4        2.0    1                37.3  104.0              35.0   \n",
       "..       ...  ...                 ...    ...               ...   \n",
       "295      1.0    1                 NaN  120.0              70.0   \n",
       "296      2.0    1                37.2   72.0              24.0   \n",
       "297      1.0    1                37.5   72.0              30.0   \n",
       "298      1.0    1                36.5  100.0              24.0   \n",
       "299      1.0    1                37.2   40.0              20.0   \n",
       "\n",
       "     temperature_of_extremities  pain  outcome  \n",
       "0                           3.0   5.0      2.0  \n",
       "1                           NaN   3.0      3.0  \n",
       "2                           1.0   3.0      1.0  \n",
       "3                           4.0   2.0      2.0  \n",
       "4                           NaN   NaN      2.0  \n",
       "..                          ...   ...      ...  \n",
       "295                         4.0   2.0      3.0  \n",
       "296                         3.0   4.0      3.0  \n",
       "297                         4.0   4.0      2.0  \n",
       "298                         3.0   3.0      1.0  \n",
       "299                         NaN   NaN      3.0  \n",
       "\n",
       "[300 rows x 8 columns]"
      ]
     },
     "execution_count": 3,
     "metadata": {},
     "output_type": "execute_result"
    }
   ],
   "source": [
    "# дам имена столбцам\n",
    "columns = [\n",
    "    \"surgery\", \"age\", \"hospital_number\", \"rectal_temperature\", \"pulse\", \n",
    "    \"respiratory_rate\", \"temperature_of_extremities\", \"peripheral_pulse\", \n",
    "    \"mucous_membranes\", \"capillary_refill_time\", \"pain\", \"peristalsis\", \n",
    "    \"abdominal_distension\", \"nasogastric_tube\", \"nasogastric_reflux\", \n",
    "    \"nasogastric_reflux_ph\", \"rectal_examination_feces\", \"abdomen\", \n",
    "    \"packed_cell_volume\", \"total_protein\", \"abdominocentesis_appearance\", \n",
    "    \"abdomcentesis_total_protein\", \"outcome\", \"surgical_lesion\", \n",
    "    \"type_of_lesion_1\", \"type_of_lesion_2\", \"type_of_lesion_3\", \"cp_data\"\n",
    "]\n",
    "full_df.columns = columns\n",
    "df = (full_df[[\n",
    "    'surgery', 'age','rectal_temperature', 'pulse', \n",
    "    'respiratory_rate', 'temperature_of_extremities', 'pain', 'outcome']].copy())\n",
    "df\n"
   ]
  },
  {
   "cell_type": "markdown",
   "metadata": {},
   "source": [
    "# Задание 2. Первичное изучение данных\n",
    "Проанализировать значения по столбцам, рассчитать базовые статистики, найти выбросы."
   ]
  },
  {
   "cell_type": "code",
   "execution_count": 4,
   "metadata": {},
   "outputs": [
    {
     "data": {
      "text/plain": [
       "Index(['surgery', 'age', 'rectal_temperature', 'pulse', 'respiratory_rate',\n",
       "       'temperature_of_extremities', 'pain', 'outcome'],\n",
       "      dtype='object')"
      ]
     },
     "execution_count": 4,
     "metadata": {},
     "output_type": "execute_result"
    }
   ],
   "source": [
    "df.columns"
   ]
  },
  {
   "cell_type": "code",
   "execution_count": 5,
   "metadata": {},
   "outputs": [],
   "source": [
    "continuos_var = ['rectal_temperature', 'pulse', 'respiratory_rate']\n",
    "categorical_var = ['surgery', 'age', 'temperature_of_extremities', 'pain', 'outcome']"
   ]
  },
  {
   "cell_type": "markdown",
   "metadata": {},
   "source": [
    "### непрерывные переменные"
   ]
  },
  {
   "cell_type": "code",
   "execution_count": 6,
   "metadata": {},
   "outputs": [
    {
     "data": {
      "text/html": [
       "<div>\n",
       "<style scoped>\n",
       "    .dataframe tbody tr th:only-of-type {\n",
       "        vertical-align: middle;\n",
       "    }\n",
       "\n",
       "    .dataframe tbody tr th {\n",
       "        vertical-align: top;\n",
       "    }\n",
       "\n",
       "    .dataframe thead th {\n",
       "        text-align: right;\n",
       "    }\n",
       "</style>\n",
       "<table border=\"1\" class=\"dataframe\">\n",
       "  <thead>\n",
       "    <tr style=\"text-align: right;\">\n",
       "      <th></th>\n",
       "      <th>rectal_temperature</th>\n",
       "      <th>pulse</th>\n",
       "      <th>respiratory_rate</th>\n",
       "    </tr>\n",
       "  </thead>\n",
       "  <tbody>\n",
       "    <tr>\n",
       "      <th>count</th>\n",
       "      <td>240.000000</td>\n",
       "      <td>276.000000</td>\n",
       "      <td>242.000000</td>\n",
       "    </tr>\n",
       "    <tr>\n",
       "      <th>mean</th>\n",
       "      <td>38.167917</td>\n",
       "      <td>71.913043</td>\n",
       "      <td>30.417355</td>\n",
       "    </tr>\n",
       "    <tr>\n",
       "      <th>std</th>\n",
       "      <td>0.732289</td>\n",
       "      <td>28.630557</td>\n",
       "      <td>17.642231</td>\n",
       "    </tr>\n",
       "    <tr>\n",
       "      <th>min</th>\n",
       "      <td>35.400000</td>\n",
       "      <td>30.000000</td>\n",
       "      <td>8.000000</td>\n",
       "    </tr>\n",
       "    <tr>\n",
       "      <th>25%</th>\n",
       "      <td>37.800000</td>\n",
       "      <td>48.000000</td>\n",
       "      <td>18.500000</td>\n",
       "    </tr>\n",
       "    <tr>\n",
       "      <th>50%</th>\n",
       "      <td>38.200000</td>\n",
       "      <td>64.000000</td>\n",
       "      <td>24.500000</td>\n",
       "    </tr>\n",
       "    <tr>\n",
       "      <th>75%</th>\n",
       "      <td>38.500000</td>\n",
       "      <td>88.000000</td>\n",
       "      <td>36.000000</td>\n",
       "    </tr>\n",
       "    <tr>\n",
       "      <th>max</th>\n",
       "      <td>40.800000</td>\n",
       "      <td>184.000000</td>\n",
       "      <td>96.000000</td>\n",
       "    </tr>\n",
       "  </tbody>\n",
       "</table>\n",
       "</div>"
      ],
      "text/plain": [
       "       rectal_temperature       pulse  respiratory_rate\n",
       "count          240.000000  276.000000        242.000000\n",
       "mean            38.167917   71.913043         30.417355\n",
       "std              0.732289   28.630557         17.642231\n",
       "min             35.400000   30.000000          8.000000\n",
       "25%             37.800000   48.000000         18.500000\n",
       "50%             38.200000   64.000000         24.500000\n",
       "75%             38.500000   88.000000         36.000000\n",
       "max             40.800000  184.000000         96.000000"
      ]
     },
     "execution_count": 6,
     "metadata": {},
     "output_type": "execute_result"
    }
   ],
   "source": [
    "df[continuos_var].describe()"
   ]
  },
  {
   "cell_type": "code",
   "execution_count": 7,
   "metadata": {},
   "outputs": [],
   "source": [
    "def remove_outliers(df, column):\n",
    "    q1 = df[column].quantile(0.25)\n",
    "    q3 = df[column].quantile(0.75)\n",
    "    iqr = q3 - q1\n",
    "    lower_b = q1 - (1.5 * iqr)\n",
    "    upper_b = q3 + (1.5 * iqr)\n",
    "    return df[df[column].between(lower_b, upper_b, inclusive=\"both\")]\n",
    "\n",
    "remove_outliers_respiratory_rate = remove_outliers(df, 'respiratory_rate')\n",
    "remove_outliers_rectal_temperature = remove_outliers(df, 'rectal_temperature')\n",
    "remove_outliers_pulse = remove_outliers(df, 'pulse')\n"
   ]
  },
  {
   "cell_type": "code",
   "execution_count": 8,
   "metadata": {},
   "outputs": [
    {
     "name": "stdout",
     "output_type": "stream",
     "text": [
      "До удаления выбросов: 300\n",
      "После удаления выбросов (respiratory_rate): 225\n",
      "После удаления выбросов (rectal_temperature): 226\n",
      "После удаления выбросов (pulse): 271\n"
     ]
    }
   ],
   "source": [
    "print(f\"До удаления выбросов: {len(df)}\")\n",
    "print(f\"После удаления выбросов (respiratory_rate): {len(remove_outliers_respiratory_rate)}\")\n",
    "print(f\"После удаления выбросов (rectal_temperature): {len(remove_outliers_rectal_temperature)}\")\n",
    "print(f\"После удаления выбросов (pulse): {len(remove_outliers_pulse)}\")"
   ]
  },
  {
   "cell_type": "code",
   "execution_count": 9,
   "metadata": {},
   "outputs": [
    {
     "name": "stdout",
     "output_type": "stream",
     "text": [
      "26.715555555555557 24.0 20.0\n",
      "-------------------------\n",
      "30.417355371900825 24.5 20.0\n"
     ]
    }
   ],
   "source": [
    "print(remove_outliers_respiratory_rate['respiratory_rate'].mean(), \n",
    "     remove_outliers_respiratory_rate['respiratory_rate'].median(),\n",
    "     remove_outliers_respiratory_rate['respiratory_rate'].mode()[0])\n",
    "print(\"-------------------------\")\n",
    "print(df['respiratory_rate'].mean(), df['respiratory_rate'].median(), df['respiratory_rate'].mode()[0])"
   ]
  },
  {
   "cell_type": "code",
   "execution_count": 10,
   "metadata": {},
   "outputs": [
    {
     "name": "stdout",
     "output_type": "stream",
     "text": [
      "38.16902654867257 38.2 38.0\n",
      "-------------------------\n",
      "38.16791666666667 38.2 38.0\n"
     ]
    }
   ],
   "source": [
    "print(remove_outliers_rectal_temperature['rectal_temperature'].mean(), \n",
    "     remove_outliers_rectal_temperature['rectal_temperature'].median(),\n",
    "     remove_outliers_rectal_temperature['rectal_temperature'].mode()[0])\n",
    "print(\"-------------------------\")\n",
    "print(df['rectal_temperature'].mean(), df['rectal_temperature'].median(), df['rectal_temperature'].mode()[0])"
   ]
  },
  {
   "cell_type": "code",
   "execution_count": 11,
   "metadata": {},
   "outputs": [
    {
     "name": "stdout",
     "output_type": "stream",
     "text": [
      "70.25830258302582 64.0 48.0\n",
      "-------------------------\n",
      "71.91304347826087 64.0 48.0\n"
     ]
    }
   ],
   "source": [
    "print(remove_outliers_pulse['pulse'].mean(), \n",
    "     remove_outliers_pulse['pulse'].median(),\n",
    "     remove_outliers_pulse['pulse'].mode()[0])\n",
    "print(\"-------------------------\")\n",
    "print(df['pulse'].mean(), df['pulse'].median(), df['pulse'].mode()[0])"
   ]
  },
  {
   "cell_type": "markdown",
   "metadata": {},
   "source": [
    "    мода не меняется. но я думаю что в непрерывных переменных она и не изменится если оствить или убрать выбросы.\n",
    "    среднее меняется. Иногда даже сильно. Так что я думаю, что это указывает на влияние выбросов. \n",
    "    медиана не меняется или меняется на 0.5, для меня это поддтверждает ее устройчивость. поэтому буду заполянть потом пропуски в непрерывных переменных МЕДИАНОЙ."
   ]
  },
  {
   "cell_type": "markdown",
   "metadata": {},
   "source": [
    "### категориальные переменные"
   ]
  },
  {
   "cell_type": "code",
   "execution_count": 12,
   "metadata": {},
   "outputs": [
    {
     "name": "stdout",
     "output_type": "stream",
     "text": [
      "столбец SURGERY 300 299\n",
      "surgery\n",
      "1.0    180\n",
      "2.0    119\n",
      "Name: count, dtype: int64\n",
      "УНИКАЛЬНЫЕ [ 2.  1. nan]\n",
      "МОДА 1.0\n",
      "*****************\n",
      "столбец AGE 300 300\n",
      "age\n",
      "1    276\n",
      "9     24\n",
      "Name: count, dtype: int64\n",
      "УНИКАЛЬНЫЕ [1 9]\n",
      "МОДА 1\n",
      "*****************\n",
      "столбец TEMPERATURE_OF_EXTREMITIES 300 244\n",
      "temperature_of_extremities\n",
      "3.0    109\n",
      "1.0     78\n",
      "2.0     30\n",
      "4.0     27\n",
      "Name: count, dtype: int64\n",
      "УНИКАЛЬНЫЕ [ 3. nan  1.  4.  2.]\n",
      "МОДА 3.0\n",
      "*****************\n",
      "столбец PAIN 300 245\n",
      "pain\n",
      "3.0    67\n",
      "2.0    59\n",
      "5.0    42\n",
      "4.0    39\n",
      "1.0    38\n",
      "Name: count, dtype: int64\n",
      "УНИКАЛЬНЫЕ [ 5.  3.  2. nan  4.  1.]\n",
      "МОДА 3.0\n",
      "*****************\n",
      "столбец OUTCOME 300 299\n",
      "outcome\n",
      "1.0    178\n",
      "2.0     77\n",
      "3.0     44\n",
      "Name: count, dtype: int64\n",
      "УНИКАЛЬНЫЕ [ 2.  3.  1. nan]\n",
      "МОДА 1.0\n",
      "*****************\n"
     ]
    }
   ],
   "source": [
    "for col_name in categorical_var:\n",
    "    print(f\"столбец {col_name.upper()} {len(df[col_name])} {df[col_name].value_counts().sum()}\")\n",
    "    print(df[col_name].value_counts())\n",
    "    print(f\"УНИКАЛЬНЫЕ {df[col_name].unique()}\")\n",
    "    print(f\"МОДА {df[col_name].mode()[0]}\")\n",
    "    print(\"*****************\")"
   ]
  },
  {
   "cell_type": "code",
   "execution_count": 13,
   "metadata": {},
   "outputs": [],
   "source": [
    "df['age'] = df['age'].replace(9, 2)"
   ]
  },
  {
   "cell_type": "code",
   "execution_count": 14,
   "metadata": {},
   "outputs": [
    {
     "data": {
      "text/plain": [
       "age\n",
       "1    276\n",
       "2     24\n",
       "Name: count, dtype: int64"
      ]
     },
     "execution_count": 14,
     "metadata": {},
     "output_type": "execute_result"
    }
   ],
   "source": [
    "df['age'].value_counts() # заменяю 9 на 2, так как в описании было сказано что есть только два варианта. 1 и 2"
   ]
  },
  {
   "cell_type": "markdown",
   "metadata": {},
   "source": [
    "    по статистикам по категориальным переменным понятно что надо было заменить 9 на 2 в переменной age\n",
    "    так же я вижу моду и уникальные значения, которые мне не дают какой то информации, кроме того что теперь я знаю какие значения ожидать в столбцах. И вижу как часто то или иное значение встречалось в данных"
   ]
  },
  {
   "cell_type": "markdown",
   "metadata": {},
   "source": [
    "# Задание 3. Работа с пропусками\n",
    "\n",
    "Рассчитать количество пропусков для всех выбранных столбцов. Принять и обосновать решение о методе заполнения пропусков по каждому столбцу на основе рассчитанных статистик и возможной взаимосвязи значений в них. Сформировать датафрейм, в котором пропуски будут отсутствовать.\n"
   ]
  },
  {
   "cell_type": "code",
   "execution_count": 15,
   "metadata": {},
   "outputs": [
    {
     "data": {
      "text/plain": [
       "surgery  pain  temperature_of_extremities\n",
       "1.0      5.0   3.0                           19\n",
       "         3.0   1.0                           16\n",
       "         2.0   3.0                           13\n",
       "         4.0   3.0                           12\n",
       "         3.0   3.0                           12\n",
       "         2.0   4.0                            7\n",
       "               1.0                            7\n",
       "         4.0   1.0                            7\n",
       "         1.0   1.0                            5\n",
       "         5.0   4.0                            5\n",
       "               1.0                            5\n",
       "         3.0   4.0                            4\n",
       "         4.0   4.0                            3\n",
       "         3.0   2.0                            3\n",
       "         4.0   2.0                            2\n",
       "         2.0   2.0                            2\n",
       "         1.0   3.0                            2\n",
       "               2.0                            1\n",
       "         5.0   2.0                            1\n",
       "2.0      1.0   1.0                           13\n",
       "         3.0   3.0                           11\n",
       "         2.0   3.0                           11\n",
       "         3.0   1.0                           10\n",
       "         1.0   2.0                           10\n",
       "         2.0   1.0                            9\n",
       "         4.0   3.0                            7\n",
       "         5.0   3.0                            7\n",
       "         3.0   2.0                            6\n",
       "         1.0   3.0                            5\n",
       "         2.0   2.0                            2\n",
       "               4.0                            2\n",
       "         4.0   2.0                            1\n",
       "               4.0                            1\n",
       "         5.0   1.0                            1\n",
       "               4.0                            1\n",
       "Name: count, dtype: int64"
      ]
     },
     "execution_count": 15,
     "metadata": {},
     "output_type": "execute_result"
    }
   ],
   "source": [
    "df.groupby('surgery')[['pain', 'temperature_of_extremities']].value_counts()\n"
   ]
  },
  {
   "cell_type": "code",
   "execution_count": 16,
   "metadata": {},
   "outputs": [
    {
     "data": {
      "text/plain": [
       "outcome  pain  temperature_of_extremities\n",
       "1.0      3.0   1.0                           25\n",
       "         1.0   1.0                           17\n",
       "         2.0   1.0                           14\n",
       "         3.0   3.0                           14\n",
       "         1.0   2.0                           11\n",
       "         2.0   3.0                            9\n",
       "         5.0   3.0                            8\n",
       "         3.0   2.0                            7\n",
       "         4.0   3.0                            5\n",
       "         1.0   3.0                            5\n",
       "         3.0   4.0                            4\n",
       "         4.0   2.0                            3\n",
       "         2.0   4.0                            3\n",
       "               2.0                            3\n",
       "         5.0   1.0                            3\n",
       "2.0      5.0   3.0                           17\n",
       "         2.0   3.0                           10\n",
       "         4.0   1.0                            7\n",
       "               3.0                            6\n",
       "         3.0   3.0                            5\n",
       "         5.0   4.0                            4\n",
       "         2.0   4.0                            3\n",
       "         3.0   2.0                            2\n",
       "         5.0   1.0                            2\n",
       "         4.0   4.0                            2\n",
       "         5.0   2.0                            1\n",
       "         3.0   1.0                            1\n",
       "         1.0   3.0                            1\n",
       "               1.0                            1\n",
       "3.0      4.0   3.0                            8\n",
       "         2.0   3.0                            5\n",
       "         3.0   3.0                            4\n",
       "         2.0   4.0                            3\n",
       "               1.0                            2\n",
       "         4.0   4.0                            2\n",
       "         5.0   4.0                            2\n",
       "         1.0   3.0                            1\n",
       "         2.0   2.0                            1\n",
       "         5.0   1.0                            1\n",
       "               3.0                            1\n",
       "Name: count, dtype: int64"
      ]
     },
     "execution_count": 16,
     "metadata": {},
     "output_type": "execute_result"
    }
   ],
   "source": [
    "df.groupby('outcome')[['pain', 'temperature_of_extremities']].value_counts()"
   ]
  },
  {
   "cell_type": "code",
   "execution_count": 17,
   "metadata": {},
   "outputs": [
    {
     "data": {
      "text/html": [
       "<div>\n",
       "<style scoped>\n",
       "    .dataframe tbody tr th:only-of-type {\n",
       "        vertical-align: middle;\n",
       "    }\n",
       "\n",
       "    .dataframe tbody tr th {\n",
       "        vertical-align: top;\n",
       "    }\n",
       "\n",
       "    .dataframe thead th {\n",
       "        text-align: right;\n",
       "    }\n",
       "</style>\n",
       "<table border=\"1\" class=\"dataframe\">\n",
       "  <thead>\n",
       "    <tr style=\"text-align: right;\">\n",
       "      <th></th>\n",
       "      <th>surgery</th>\n",
       "      <th>age</th>\n",
       "      <th>rectal_temperature</th>\n",
       "      <th>pulse</th>\n",
       "      <th>respiratory_rate</th>\n",
       "      <th>temperature_of_extremities</th>\n",
       "      <th>pain</th>\n",
       "      <th>outcome</th>\n",
       "    </tr>\n",
       "  </thead>\n",
       "  <tbody>\n",
       "    <tr>\n",
       "      <th>132</th>\n",
       "      <td>NaN</td>\n",
       "      <td>1</td>\n",
       "      <td>38.0</td>\n",
       "      <td>48.0</td>\n",
       "      <td>20.0</td>\n",
       "      <td>3.0</td>\n",
       "      <td>4.0</td>\n",
       "      <td>NaN</td>\n",
       "    </tr>\n",
       "  </tbody>\n",
       "</table>\n",
       "</div>"
      ],
      "text/plain": [
       "     surgery  age  rectal_temperature  pulse  respiratory_rate  \\\n",
       "132      NaN    1                38.0   48.0              20.0   \n",
       "\n",
       "     temperature_of_extremities  pain  outcome  \n",
       "132                         3.0   4.0      NaN  "
      ]
     },
     "execution_count": 17,
     "metadata": {},
     "output_type": "execute_result"
    }
   ],
   "source": [
    "df[df['surgery'].isna()]"
   ]
  },
  {
   "cell_type": "markdown",
   "metadata": {},
   "source": [
    "    заполню surgery значением 1, так как pain в пропущенном surgery равняется 4, а 4 чаще встречается у лошадей у которых была операция. так же temperature_of_extremities = 3 холодные конечности, часто связаны с операциейей. так же чаще встречается у тех лошадей у которых была операцция.\n",
    "    \n",
    "    Пропуск в outcome заполнен значением 2, так как для условий pain=4 и temperature_of_extremities=3 это значение встречается чаще (2 раза), чем 3.0 (1 раз). Решение основано на анализе распределения данных который я сдела на пару ячеек выше.\n",
    "    \n",
    "    \n",
    "    получается мои теории здесь:\n",
    "        1) если у лошади сильная боль и у нее холодные конечности, то она перенесла операцию.\n",
    "        данные выше показали что pain 4 and temperature_of_extremities 3 чаще встречаются у лошадей перенесших операцию\n",
    "        \n",
    "        2) так же для outcome моя теория была что если лошадь с pain 4 and temperature_of_extremities 3, то она умерла, я просто посмотрел, что чаще встречается. умерла сама или сделали эвтаназию.\n",
    "        \n",
    "    "
   ]
  },
  {
   "cell_type": "code",
   "execution_count": 18,
   "metadata": {},
   "outputs": [],
   "source": [
    "df.loc[df['surgery'].isna(), 'surgery'] = 1\n",
    "df.loc[df['outcome'].isna(), 'outcome'] = 2\n"
   ]
  },
  {
   "cell_type": "code",
   "execution_count": 19,
   "metadata": {},
   "outputs": [
    {
     "data": {
      "text/html": [
       "<div>\n",
       "<style scoped>\n",
       "    .dataframe tbody tr th:only-of-type {\n",
       "        vertical-align: middle;\n",
       "    }\n",
       "\n",
       "    .dataframe tbody tr th {\n",
       "        vertical-align: top;\n",
       "    }\n",
       "\n",
       "    .dataframe thead th {\n",
       "        text-align: right;\n",
       "    }\n",
       "</style>\n",
       "<table border=\"1\" class=\"dataframe\">\n",
       "  <thead>\n",
       "    <tr style=\"text-align: right;\">\n",
       "      <th></th>\n",
       "      <th>surgery</th>\n",
       "      <th>age</th>\n",
       "      <th>rectal_temperature</th>\n",
       "      <th>pulse</th>\n",
       "      <th>respiratory_rate</th>\n",
       "      <th>temperature_of_extremities</th>\n",
       "      <th>pain</th>\n",
       "      <th>outcome</th>\n",
       "    </tr>\n",
       "  </thead>\n",
       "  <tbody>\n",
       "  </tbody>\n",
       "</table>\n",
       "</div>"
      ],
      "text/plain": [
       "Empty DataFrame\n",
       "Columns: [surgery, age, rectal_temperature, pulse, respiratory_rate, temperature_of_extremities, pain, outcome]\n",
       "Index: []"
      ]
     },
     "execution_count": 19,
     "metadata": {},
     "output_type": "execute_result"
    }
   ],
   "source": [
    "df[df['outcome'].isna()]"
   ]
  },
  {
   "cell_type": "code",
   "execution_count": 20,
   "metadata": {},
   "outputs": [
    {
     "data": {
      "text/plain": [
       "surgery                        0\n",
       "age                            0\n",
       "rectal_temperature            60\n",
       "pulse                         24\n",
       "respiratory_rate              58\n",
       "temperature_of_extremities    56\n",
       "pain                          55\n",
       "outcome                        0\n",
       "dtype: int64"
      ]
     },
     "execution_count": 20,
     "metadata": {},
     "output_type": "execute_result"
    }
   ],
   "source": [
    "df.isna().sum()"
   ]
  },
  {
   "cell_type": "markdown",
   "metadata": {},
   "source": [
    "    непрерывные переменные continuos_var = ['rectal_temperature', 'pulse', 'respiratory_rate']\n",
    "    я решил выше заполнить медианой, потому что среднее менялось когда смотрел с выбросами и нет, мода здесь не подходит, а медиана практически не менялась или менялась не значительно"
   ]
  },
  {
   "cell_type": "code",
   "execution_count": 21,
   "metadata": {},
   "outputs": [
    {
     "data": {
      "text/plain": [
       "(64.0, 38.2, 24.5)"
      ]
     },
     "execution_count": 21,
     "metadata": {},
     "output_type": "execute_result"
    }
   ],
   "source": [
    "median_pulse = df['pulse'].median()\n",
    "median_rectal_temperature = df['rectal_temperature'].median()\n",
    "median_respiratory_rate = df['respiratory_rate'].median()\n",
    "median_pulse, median_rectal_temperature, median_respiratory_rate"
   ]
  },
  {
   "cell_type": "code",
   "execution_count": 22,
   "metadata": {},
   "outputs": [],
   "source": [
    "df['pulse'].fillna(median_pulse, inplace=True)\n",
    "df['rectal_temperature'].fillna(median_rectal_temperature, inplace=True)\n",
    "df['respiratory_rate'].fillna(median_respiratory_rate, inplace=True)"
   ]
  },
  {
   "cell_type": "code",
   "execution_count": 23,
   "metadata": {},
   "outputs": [
    {
     "data": {
      "text/plain": [
       "surgery                        0\n",
       "age                            0\n",
       "rectal_temperature             0\n",
       "pulse                          0\n",
       "respiratory_rate               0\n",
       "temperature_of_extremities    56\n",
       "pain                          55\n",
       "outcome                        0\n",
       "dtype: int64"
      ]
     },
     "execution_count": 23,
     "metadata": {},
     "output_type": "execute_result"
    }
   ],
   "source": [
    "df.isna().sum()"
   ]
  },
  {
   "cell_type": "code",
   "execution_count": 48,
   "metadata": {},
   "outputs": [
    {
     "name": "stdout",
     "output_type": "stream",
     "text": [
      "surgery*****************pain\n",
      "surgery  pain\n",
      "1.0      3.0     39\n",
      "         2.0     34\n",
      "         5.0     33\n",
      "         4.0     29\n",
      "         1.0      9\n",
      "2.0      1.0     29\n",
      "         3.0     28\n",
      "         2.0     25\n",
      "         4.0     10\n",
      "         5.0      9\n",
      "Name: count, dtype: int64\n",
      "outcome*****************pain\n",
      "outcome  pain\n",
      "1.0      3.0     54\n",
      "         1.0     35\n",
      "         2.0     33\n",
      "         5.0     12\n",
      "         4.0     10\n",
      "2.0      5.0     24\n",
      "         4.0     18\n",
      "         2.0     14\n",
      "         3.0      8\n",
      "         1.0      2\n",
      "3.0      2.0     12\n",
      "         4.0     11\n",
      "         5.0      6\n",
      "         3.0      5\n",
      "         1.0      1\n",
      "Name: count, dtype: int64\n",
      "temperature_of_extremities*****************pain\n",
      "temperature_of_extremities  pain\n",
      "1.0                         3.0     26\n",
      "                            1.0     18\n",
      "                            2.0     16\n",
      "                            4.0      7\n",
      "                            5.0      6\n",
      "2.0                         1.0     11\n",
      "                            3.0      9\n",
      "                            2.0      4\n",
      "                            4.0      3\n",
      "                            5.0      1\n",
      "3.0                         5.0     26\n",
      "                            2.0     24\n",
      "                            3.0     23\n",
      "                            4.0     20\n",
      "                            1.0      7\n",
      "4.0                         2.0      9\n",
      "                            5.0      6\n",
      "                            3.0      4\n",
      "                            4.0      4\n",
      "Name: count, dtype: int64\n"
     ]
    }
   ],
   "source": [
    "print(\"surgery*****************pain\")\n",
    "print(df.groupby('surgery')['pain'].value_counts())\n",
    "print(\"outcome*****************pain\")\n",
    "print(df.groupby('outcome')['pain'].value_counts())\n",
    "print(\"temperature_of_extremities*****************pain\")\n",
    "print(df.groupby('temperature_of_extremities')['pain'].value_counts())\n",
    "\n"
   ]
  },
  {
   "cell_type": "code",
   "execution_count": 58,
   "metadata": {},
   "outputs": [],
   "source": [
    "\n",
    "# создам группы для rectal_temperature что бы потом посмотреть как влияет это на температуру в конечностях\n",
    "def categorize_temp(temp):\n",
    "    if temp < 37.8:\n",
    "        return 'Low'\n",
    "    elif 37.8 <= temp <= 38.5:\n",
    "        return 'Normal'\n",
    "    else:\n",
    "        return 'High'\n",
    "\n",
    "df['temp_group'] = df['rectal_temperature'].apply(categorize_temp)"
   ]
  },
  {
   "cell_type": "code",
   "execution_count": 61,
   "metadata": {},
   "outputs": [
    {
     "data": {
      "text/plain": [
       "temp_group  temperature_of_extremities\n",
       "High        3.0                           21\n",
       "            1.0                           12\n",
       "            2.0                            9\n",
       "            4.0                            7\n",
       "Low         3.0                           23\n",
       "            1.0                           12\n",
       "            2.0                            6\n",
       "            4.0                            3\n",
       "Normal      3.0                           65\n",
       "            1.0                           54\n",
       "            4.0                           17\n",
       "            2.0                           15\n",
       "Name: count, dtype: int64"
      ]
     },
     "execution_count": 61,
     "metadata": {},
     "output_type": "execute_result"
    }
   ],
   "source": [
    "df.groupby('temp_group')['temperature_of_extremities'].value_counts()\n"
   ]
  },
  {
   "cell_type": "markdown",
   "metadata": {},
   "source": [
    "    я не увидел закономерности между прохладными или нет конечностями и температурой."
   ]
  },
  {
   "cell_type": "code",
   "execution_count": 62,
   "metadata": {},
   "outputs": [
    {
     "data": {
      "text/plain": [
       "surgery  temperature_of_extremities\n",
       "1.0      3.0                           67\n",
       "         1.0                           43\n",
       "         4.0                           20\n",
       "         2.0                           11\n",
       "2.0      3.0                           42\n",
       "         1.0                           35\n",
       "         2.0                           19\n",
       "         4.0                            7\n",
       "Name: count, dtype: int64"
      ]
     },
     "execution_count": 62,
     "metadata": {},
     "output_type": "execute_result"
    }
   ],
   "source": [
    "df.groupby('surgery')['temperature_of_extremities'].value_counts()"
   ]
  },
  {
   "cell_type": "code",
   "execution_count": 65,
   "metadata": {},
   "outputs": [
    {
     "data": {
      "text/plain": [
       "outcome  temperature_of_extremities\n",
       "1.0      1.0                           63\n",
       "         3.0                           46\n",
       "         2.0                           26\n",
       "         4.0                           11\n",
       "2.0      3.0                           42\n",
       "         1.0                           11\n",
       "         4.0                            9\n",
       "         2.0                            3\n",
       "3.0      3.0                           21\n",
       "         4.0                            7\n",
       "         1.0                            4\n",
       "         2.0                            1\n",
       "Name: count, dtype: int64"
      ]
     },
     "execution_count": 65,
     "metadata": {},
     "output_type": "execute_result"
    }
   ],
   "source": [
    "# если лошадь жива, то температура конечностей нормальная(глупо звучит, но все же)\n",
    "df.groupby('outcome')['temperature_of_extremities'].value_counts()"
   ]
  },
  {
   "cell_type": "code",
   "execution_count": 78,
   "metadata": {},
   "outputs": [
    {
     "data": {
      "text/plain": [
       "outcome  surgery  temperature_of_extremities\n",
       "1.0      1.0      1.0                           30\n",
       "                  3.0                           30\n",
       "                  2.0                            8\n",
       "                  4.0                            7\n",
       "         2.0      1.0                           33\n",
       "                  2.0                           18\n",
       "                  3.0                           16\n",
       "                  4.0                            4\n",
       "2.0      1.0      3.0                           28\n",
       "                  1.0                           10\n",
       "                  4.0                            8\n",
       "                  2.0                            2\n",
       "         2.0      3.0                           14\n",
       "                  1.0                            1\n",
       "                  2.0                            1\n",
       "                  4.0                            1\n",
       "3.0      1.0      3.0                            9\n",
       "                  4.0                            5\n",
       "                  1.0                            3\n",
       "                  2.0                            1\n",
       "         2.0      3.0                           12\n",
       "                  4.0                            2\n",
       "                  1.0                            1\n",
       "Name: count, dtype: int64"
      ]
     },
     "execution_count": 78,
     "metadata": {},
     "output_type": "execute_result"
    }
   ],
   "source": [
    "df.groupby(['outcome', 'surgery'])['temperature_of_extremities'].value_counts()"
   ]
  },
  {
   "cell_type": "markdown",
   "metadata": {},
   "source": [
    "    на основвании этих данных, заполню пропуски temperature_of_extremities так. если лошадь жива, то теммпература конечностей 1, а в остальных случаях 3"
   ]
  },
  {
   "cell_type": "code",
   "execution_count": 80,
   "metadata": {},
   "outputs": [],
   "source": [
    "def fill_temp_ext(row):\n",
    "    if pd.isna(row['temperature_of_extremities']):  # Проверяем, является ли значение NaN\n",
    "        if row['outcome'] == 1:\n",
    "            row['temperature_of_extremities'] = 1.0\n",
    "        elif row['outcome'] in [2,3]:\n",
    "            row['temperature_of_extremities'] = 3.0\n",
    "    return row\n"
   ]
  },
  {
   "cell_type": "code",
   "execution_count": 83,
   "metadata": {},
   "outputs": [],
   "source": [
    "df = df.apply(fill_temp_ext, axis=1)\n"
   ]
  },
  {
   "cell_type": "code",
   "execution_count": 84,
   "metadata": {},
   "outputs": [
    {
     "data": {
      "text/plain": [
       "temperature_of_extremities\n",
       "3.0    133\n",
       "1.0    110\n",
       "2.0     30\n",
       "4.0     27\n",
       "Name: count, dtype: int64"
      ]
     },
     "execution_count": 84,
     "metadata": {},
     "output_type": "execute_result"
    }
   ],
   "source": [
    "df['temperature_of_extremities'].value_counts()"
   ]
  },
  {
   "cell_type": "code",
   "execution_count": 104,
   "metadata": {},
   "outputs": [
    {
     "data": {
      "text/plain": [
       "pain\n",
       "1.0    1.0\n",
       "2.0    1.0\n",
       "3.0    1.0\n",
       "4.0    2.0\n",
       "5.0    2.0\n",
       "Name: outcome, dtype: float64"
      ]
     },
     "execution_count": 104,
     "metadata": {},
     "output_type": "execute_result"
    }
   ],
   "source": [
    "# теория такая. если произвели эвтаназию или лошадб умерла, то боль была адская\n",
    "# и видно что если лошадь умерла то боль была 4 или 5\n",
    "df.groupby('pain')['outcome'].agg(lambda x: x.mode()[0])"
   ]
  },
  {
   "cell_type": "code",
   "execution_count": 105,
   "metadata": {},
   "outputs": [
    {
     "data": {
      "text/html": [
       "<div>\n",
       "<style scoped>\n",
       "    .dataframe tbody tr th:only-of-type {\n",
       "        vertical-align: middle;\n",
       "    }\n",
       "\n",
       "    .dataframe tbody tr th {\n",
       "        vertical-align: top;\n",
       "    }\n",
       "\n",
       "    .dataframe thead th {\n",
       "        text-align: right;\n",
       "    }\n",
       "</style>\n",
       "<table border=\"1\" class=\"dataframe\">\n",
       "  <thead>\n",
       "    <tr style=\"text-align: right;\">\n",
       "      <th></th>\n",
       "      <th>pain</th>\n",
       "    </tr>\n",
       "    <tr>\n",
       "      <th>outcome</th>\n",
       "      <th></th>\n",
       "    </tr>\n",
       "  </thead>\n",
       "  <tbody>\n",
       "    <tr>\n",
       "      <th>1.0</th>\n",
       "      <td>3.0</td>\n",
       "    </tr>\n",
       "    <tr>\n",
       "      <th>2.0</th>\n",
       "      <td>5.0</td>\n",
       "    </tr>\n",
       "    <tr>\n",
       "      <th>3.0</th>\n",
       "      <td>2.0</td>\n",
       "    </tr>\n",
       "  </tbody>\n",
       "</table>\n",
       "</div>"
      ],
      "text/plain": [
       "         pain\n",
       "outcome      \n",
       "1.0       3.0\n",
       "2.0       5.0\n",
       "3.0       2.0"
      ]
     },
     "execution_count": 105,
     "metadata": {},
     "output_type": "execute_result"
    }
   ],
   "source": [
    "df.groupby('outcome').agg({'pain': lambda x: x.mode()[0]})"
   ]
  },
  {
   "cell_type": "code",
   "execution_count": 107,
   "metadata": {},
   "outputs": [],
   "source": [
    "df.loc[(df['pain'].isna()) & (df['outcome'] == 2), 'pain'] = 5\n"
   ]
  },
  {
   "cell_type": "code",
   "execution_count": 108,
   "metadata": {},
   "outputs": [
    {
     "data": {
      "text/plain": [
       "surgery                        0\n",
       "age                            0\n",
       "rectal_temperature             0\n",
       "pulse                          0\n",
       "respiratory_rate               0\n",
       "temperature_of_extremities     0\n",
       "pain                          43\n",
       "outcome                        0\n",
       "temp_group                     0\n",
       "dtype: int64"
      ]
     },
     "execution_count": 108,
     "metadata": {},
     "output_type": "execute_result"
    }
   ],
   "source": [
    "df.isna().sum()"
   ]
  },
  {
   "cell_type": "code",
   "execution_count": 109,
   "metadata": {},
   "outputs": [
    {
     "data": {
      "text/plain": [
       "pain\n",
       "3.0    67\n",
       "2.0    59\n",
       "5.0    54\n",
       "4.0    39\n",
       "1.0    38\n",
       "Name: count, dtype: int64"
      ]
     },
     "execution_count": 109,
     "metadata": {},
     "output_type": "execute_result"
    }
   ],
   "source": [
    "df.pain.value_counts()"
   ]
  },
  {
   "cell_type": "code",
   "execution_count": 110,
   "metadata": {},
   "outputs": [
    {
     "data": {
      "text/plain": [
       "pain\n",
       "1.0    2.0\n",
       "2.0    1.0\n",
       "3.0    1.0\n",
       "4.0    1.0\n",
       "5.0    1.0\n",
       "Name: surgery, dtype: float64"
      ]
     },
     "execution_count": 110,
     "metadata": {},
     "output_type": "execute_result"
    }
   ],
   "source": [
    "# теория вот такая. если операции не было. то боль низкая\n",
    "df.groupby('pain')['surgery'].agg(lambda x: x.mode()[0])\n"
   ]
  },
  {
   "cell_type": "code",
   "execution_count": 113,
   "metadata": {},
   "outputs": [],
   "source": [
    "df.loc[(df['pain'].isna()) & (df['surgery'] == 2), 'pain'] = 1\n"
   ]
  },
  {
   "cell_type": "code",
   "execution_count": 116,
   "metadata": {},
   "outputs": [],
   "source": [
    "pain_mode = df['pain'].mode()[0]\n",
    "df['pain'].fillna(pain_mode, inplace=True)\n"
   ]
  },
  {
   "cell_type": "code",
   "execution_count": 117,
   "metadata": {},
   "outputs": [
    {
     "data": {
      "text/plain": [
       "pain\n",
       "3.0    94\n",
       "2.0    59\n",
       "5.0    54\n",
       "1.0    54\n",
       "4.0    39\n",
       "Name: count, dtype: int64"
      ]
     },
     "execution_count": 117,
     "metadata": {},
     "output_type": "execute_result"
    }
   ],
   "source": [
    "df.pain.value_counts()"
   ]
  },
  {
   "cell_type": "code",
   "execution_count": 118,
   "metadata": {},
   "outputs": [
    {
     "data": {
      "text/plain": [
       "surgery                       0\n",
       "age                           0\n",
       "rectal_temperature            0\n",
       "pulse                         0\n",
       "respiratory_rate              0\n",
       "temperature_of_extremities    0\n",
       "pain                          0\n",
       "outcome                       0\n",
       "temp_group                    0\n",
       "dtype: int64"
      ]
     },
     "execution_count": 118,
     "metadata": {},
     "output_type": "execute_result"
    }
   ],
   "source": [
    "df.isna().sum()"
   ]
  },
  {
   "cell_type": "code",
   "execution_count": 120,
   "metadata": {},
   "outputs": [
    {
     "data": {
      "text/plain": [
       "Index(['surgery', 'age', 'rectal_temperature', 'pulse', 'respiratory_rate',\n",
       "       'temperature_of_extremities', 'pain', 'outcome', 'temp_group'],\n",
       "      dtype='object')"
      ]
     },
     "execution_count": 120,
     "metadata": {},
     "output_type": "execute_result"
    }
   ],
   "source": [
    "\n",
    "df.columns"
   ]
  },
  {
   "cell_type": "code",
   "execution_count": 122,
   "metadata": {},
   "outputs": [],
   "source": [
    "clean_df = df[['surgery', 'age', 'rectal_temperature', 'pulse', 'respiratory_rate',\n",
    "       'temperature_of_extremities', 'pain', 'outcome']].copy()"
   ]
  },
  {
   "cell_type": "code",
   "execution_count": 125,
   "metadata": {},
   "outputs": [
    {
     "data": {
      "text/plain": [
       "surgery                       0\n",
       "age                           0\n",
       "rectal_temperature            0\n",
       "pulse                         0\n",
       "respiratory_rate              0\n",
       "temperature_of_extremities    0\n",
       "pain                          0\n",
       "outcome                       0\n",
       "dtype: int64"
      ]
     },
     "execution_count": 125,
     "metadata": {},
     "output_type": "execute_result"
    }
   ],
   "source": [
    "clean_df.isna().sum()"
   ]
  },
  {
   "cell_type": "code",
   "execution_count": 126,
   "metadata": {},
   "outputs": [],
   "source": [
    "clean_df.to_csv('horse_clean.csv')"
   ]
  },
  {
   "cell_type": "markdown",
   "metadata": {},
   "source": [
    "# если заполять все модой надо было\n",
    "    pain_mode = df['pain'].mode()[0]  \n",
    "    df['pain'].fillna(pain_mode, inplace=True)  \n",
    "    \n",
    "    temp_mode = df['temperature_of_extremities'].mode()[0]  \n",
    "    df['temperature_of_extremities'].fillna(temp_mode, inplace=True)"
   ]
  },
  {
   "cell_type": "code",
   "execution_count": null,
   "metadata": {},
   "outputs": [],
   "source": []
  }
 ],
 "metadata": {
  "kernelspec": {
   "display_name": "Python 3 (ipykernel)",
   "language": "python",
   "name": "python3"
  },
  "language_info": {
   "codemirror_mode": {
    "name": "ipython",
    "version": 3
   },
   "file_extension": ".py",
   "mimetype": "text/x-python",
   "name": "python",
   "nbconvert_exporter": "python",
   "pygments_lexer": "ipython3",
   "version": "3.11.7"
  }
 },
 "nbformat": 4,
 "nbformat_minor": 2
}
