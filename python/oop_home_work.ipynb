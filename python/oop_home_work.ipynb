{
 "cells": [
  {
   "metadata": {},
   "cell_type": "markdown",
   "source": "",
   "id": "2d3e6d7ebd16f5fe"
  },
  {
   "metadata": {},
   "cell_type": "markdown",
   "source": "# Task 1",
   "id": "64d43d7db438b42e"
  },
  {
   "cell_type": "code",
   "id": "initial_id",
   "metadata": {
    "collapsed": true,
    "ExecuteTime": {
     "end_time": "2024-09-21T18:06:03.684367Z",
     "start_time": "2024-09-21T18:06:03.435634Z"
    }
   },
   "source": [
    "import requests\n",
    "\n",
    "url = \"https://www.cbr-xml-daily.ru/daily_json.js\"\n",
    "response = requests.get(url)\n",
    "currencies = response.json()\n",
    "for currency, value in currencies['Valute'].items():\n",
    "    name = value['Name']\n",
    "    value = value['Value'] if value['Value'] > value['Previous'] else value['Previous']\n",
    "    print(f\"{name}: {value}\")\n"
   ],
   "outputs": [
    {
     "name": "stdout",
     "output_type": "stream",
     "text": [
      "Японских иен: 64.908\n"
     ]
    }
   ],
   "execution_count": 18
  },
  {
   "metadata": {
    "ExecuteTime": {
     "end_time": "2024-09-21T18:09:59.655620Z",
     "start_time": "2024-09-21T18:09:59.432372Z"
    }
   },
   "cell_type": "code",
   "source": [
    "import requests\n",
    "\n",
    "\n",
    "def get_currency_values():\n",
    "    \"\"\"Возвращает список пар (название, максимальное значение курса)\"\"\"\n",
    "    url = \"https://www.cbr-xml-daily.ru/daily_json.js\"\n",
    "    response = requests.get(url)\n",
    "    currencies = response.json()\n",
    "\n",
    "    result = []\n",
    "    for currency, value in currencies['Valute'].items():\n",
    "        name = value['Name']\n",
    "        max_value = max(value['Value'], value['Previous'])\n",
    "        result.append((name, max_value))\n",
    "\n",
    "    return result\n",
    "\n",
    "\n",
    "res = get_currency_values()\n"
   ],
   "id": "dfef3287ec6bbe0d",
   "outputs": [],
   "execution_count": 19
  },
  {
   "metadata": {
    "ExecuteTime": {
     "end_time": "2024-09-21T18:10:08.658590Z",
     "start_time": "2024-09-21T18:10:08.656609Z"
    }
   },
   "cell_type": "code",
   "source": [
    "for currency, value in res:\n",
    "    print(f\"{currency}: {value}\")"
   ],
   "id": "faf6cf8142c25dfa",
   "outputs": [
    {
     "name": "stdout",
     "output_type": "stream",
     "text": [
      "Австралийский доллар: 63.1243\n",
      "Азербайджанский манат: 54.5272\n",
      "Фунт стерлингов Соединенного королевства: 122.6749\n",
      "Армянских драмов: 23.907\n",
      "Белорусский рубль: 28.8333\n",
      "Болгарский лев: 52.8102\n",
      "Бразильский реал: 17.0865\n",
      "Венгерских форинтов: 26.2142\n",
      "Вьетнамских донгов: 38.3565\n",
      "Гонконгский доллар: 11.9147\n",
      "Грузинский лари: 34.1599\n",
      "Датская крона: 13.8469\n",
      "Дирхам ОАЭ: 25.2406\n",
      "Доллар США: 92.6962\n",
      "Евро: 103.3773\n",
      "Египетских фунтов: 19.1052\n",
      "Индийских рупий: 11.089\n",
      "Индонезийских рупий: 60.5644\n",
      "Казахстанских тенге: 19.3536\n",
      "Канадский доллар: 68.2628\n",
      "Катарский риал: 25.466\n",
      "Киргизских сомов: 10.9993\n",
      "Китайский юань: 13.1028\n",
      "Молдавских леев: 53.0791\n",
      "Новозеландский доллар: 57.722\n",
      "Норвежских крон: 88.5233\n",
      "Польский злотый: 24.2349\n",
      "Румынский лей: 20.8287\n",
      "СДР (специальные права заимствования): 125.2709\n",
      "Сингапурский доллар: 71.7823\n",
      "Таджикских сомони: 87.0109\n",
      "Таиландских батов: 27.9907\n",
      "Турецких лир: 27.225\n",
      "Новый туркменский манат: 26.4846\n",
      "Узбекских сумов: 72.7603\n",
      "Украинских гривен: 22.3629\n",
      "Чешских крон: 41.2295\n",
      "Шведских крон: 91.2636\n",
      "Швейцарский франк: 109.5829\n",
      "Сербских динаров: 88.3282\n",
      "Южноафриканских рэндов: 53.0693\n",
      "Вон Республики Корея: 69.644\n",
      "Японских иен: 64.908\n"
     ]
    }
   ],
   "execution_count": 20
  },
  {
   "metadata": {
    "ExecuteTime": {
     "end_time": "2024-09-21T18:12:51.361313Z",
     "start_time": "2024-09-21T18:12:51.354433Z"
    }
   },
   "cell_type": "code",
   "source": [
    "import requests\n",
    "\n",
    "\n",
    "class CurrencyRates:\n",
    "    def __init__(self, url=\"https://www.cbr-xml-daily.ru/daily_json.js\"):\n",
    "        self.url = url\n",
    "        self.currencies = {}\n",
    "\n",
    "    def fetch_data(self):\n",
    "        \"\"\"Запрашивает данные и сохраняет их\"\"\"\n",
    "        response = requests.get(self.url)\n",
    "        if response.status_code == 200:\n",
    "            self.currencies = response.json()\n",
    "        else:\n",
    "            raise Exception(f\"Не удалось получить данные. Код ошибки: {response.status_code}\")\n",
    "\n",
    "    def get_currency_values(self):\n",
    "        \"\"\"Возвращает список пар (название, максимальное значение курса)\"\"\"\n",
    "        if not self.currencies:\n",
    "            raise Exception(\"Данные еще не загружены. Вызовите fetch_data().\")\n",
    "\n",
    "        result = []\n",
    "        for currency, value in self.currencies['Valute'].items():\n",
    "            name = value['Name']\n",
    "            max_value = max(value['Value'], value['Previous'])\n",
    "            result.append((name, max_value))\n",
    "\n",
    "        return result\n"
   ],
   "id": "d47f21b56a13b943",
   "outputs": [],
   "execution_count": 22
  },
  {
   "metadata": {
    "ExecuteTime": {
     "end_time": "2024-09-21T18:13:04.277713Z",
     "start_time": "2024-09-21T18:13:03.944134Z"
    }
   },
   "cell_type": "code",
   "source": [
    "cr = CurrencyRates()\n",
    "cr.fetch_data()\n",
    "res = cr.get_currency_values()\n",
    "for currency, value in res:\n",
    "    print(f\"{currency}: {value}\")"
   ],
   "id": "96434b1a312b2931",
   "outputs": [
    {
     "name": "stdout",
     "output_type": "stream",
     "text": [
      "Австралийский доллар: 63.1243\n",
      "Азербайджанский манат: 54.5272\n",
      "Фунт стерлингов Соединенного королевства: 122.6749\n",
      "Армянских драмов: 23.907\n",
      "Белорусский рубль: 28.8333\n",
      "Болгарский лев: 52.8102\n",
      "Бразильский реал: 17.0865\n",
      "Венгерских форинтов: 26.2142\n",
      "Вьетнамских донгов: 38.3565\n",
      "Гонконгский доллар: 11.9147\n",
      "Грузинский лари: 34.1599\n",
      "Датская крона: 13.8469\n",
      "Дирхам ОАЭ: 25.2406\n",
      "Доллар США: 92.6962\n",
      "Евро: 103.3773\n",
      "Египетских фунтов: 19.1052\n",
      "Индийских рупий: 11.089\n",
      "Индонезийских рупий: 60.5644\n",
      "Казахстанских тенге: 19.3536\n",
      "Канадский доллар: 68.2628\n",
      "Катарский риал: 25.466\n",
      "Киргизских сомов: 10.9993\n",
      "Китайский юань: 13.1028\n",
      "Молдавских леев: 53.0791\n",
      "Новозеландский доллар: 57.722\n",
      "Норвежских крон: 88.5233\n",
      "Польский злотый: 24.2349\n",
      "Румынский лей: 20.8287\n",
      "СДР (специальные права заимствования): 125.2709\n",
      "Сингапурский доллар: 71.7823\n",
      "Таджикских сомони: 87.0109\n",
      "Таиландских батов: 27.9907\n",
      "Турецких лир: 27.225\n",
      "Новый туркменский манат: 26.4846\n",
      "Узбекских сумов: 72.7603\n",
      "Украинских гривен: 22.3629\n",
      "Чешских крон: 41.2295\n",
      "Шведских крон: 91.2636\n",
      "Швейцарский франк: 109.5829\n",
      "Сербских динаров: 88.3282\n",
      "Южноафриканских рэндов: 53.0693\n",
      "Вон Республики Корея: 69.644\n",
      "Японских иен: 64.908\n"
     ]
    }
   ],
   "execution_count": 23
  },
  {
   "metadata": {},
   "cell_type": "markdown",
   "source": "",
   "id": "38a5cbbb356437ac"
  },
  {
   "metadata": {},
   "cell_type": "markdown",
   "source": "# Task 2",
   "id": "77727d5f7575c621"
  },
  {
   "metadata": {
    "ExecuteTime": {
     "end_time": "2024-09-21T20:57:43.162096Z",
     "start_time": "2024-09-21T20:57:43.108786Z"
    }
   },
   "cell_type": "code",
   "source": [
    "import requests\n",
    "\n",
    "\n",
    "def my_sum(x, y):\n",
    "    return x + y\n",
    "\n",
    "\n",
    "class Rate:\n",
    "    def __init__(self, format='value', diff=False):\n",
    "        self.format = format\n",
    "        self.diff = diff\n",
    "\n",
    "    def exchange_rates(self):\n",
    "        \"\"\"\n",
    "        Возвращает ответ сервиса с информацией о валютах в виде:\n",
    "        \n",
    "        {\n",
    "            'AMD': {\n",
    "                'CharCode': 'AMD',\n",
    "                'ID': 'R01060',\n",
    "                'Name': 'Армянских драмов',\n",
    "                'Nominal': 100,\n",
    "                'NumCode': '051',\n",
    "                'Previous': 14.103,\n",
    "                'Value': 14.0879\n",
    "                },\n",
    "            ...\n",
    "        }\n",
    "        \"\"\"\n",
    "        r = requests.get('https://www.cbr-xml-daily.ru/daily_json.js')\n",
    "        return r.json()['Valute']\n",
    "\n",
    "    def make_format(self, currency):\n",
    "        \"\"\"\n",
    "        Возвращает информацию о валюте currency в двух вариантах:\n",
    "        - полная информация о валюте при self.format = 'full':\n",
    "        Rate('full').make_format('EUR')\n",
    "        {\n",
    "            'CharCode': 'EUR',\n",
    "            'ID': 'R01239',\n",
    "            'Name': 'Евро',\n",
    "            'Nominal': 1,\n",
    "            'NumCode': '978',\n",
    "            'Previous': 79.6765,\n",
    "            'Value': 79.4966\n",
    "        }\n",
    "        \n",
    "        Rate('value').make_format('EUR')\n",
    "        79.4966\n",
    "        \"\"\"\n",
    "        response = self.exchange_rates()\n",
    "\n",
    "        if currency in response:\n",
    "            if self.format == 'full':\n",
    "                return response[currency]\n",
    "\n",
    "            if self.format == 'value':\n",
    "                if self.diff:  # Изменил здесь\n",
    "                    return response[currency]['Value'] - response[currency]['Previous']\n",
    "                else:\n",
    "                    return response[currency]['Value']\n",
    "\n",
    "        return 'Error'\n",
    "\n",
    "    def eur(self):\n",
    "        \"\"\"Возвращает курс евро на сегодня в формате self.format\"\"\"\n",
    "        return self.make_format('EUR')\n",
    "\n",
    "    def usd(self):\n",
    "        \"\"\"Возвращает курс доллара на сегодня в формате self.format\"\"\"\n",
    "        return self.make_format('USD')\n",
    "\n",
    "    def AZN(self):\n",
    "        \"\"\"Возвращает курс азербайджанского маната на сегодня в формате self.format\"\"\"\n",
    "        return self.make_format('AZN')\n"
   ],
   "id": "9f0c0885f9f1ffef",
   "outputs": [],
   "execution_count": 1
  },
  {
   "metadata": {
    "ExecuteTime": {
     "end_time": "2024-09-21T20:58:50.404434Z",
     "start_time": "2024-09-21T20:58:49.641878Z"
    }
   },
   "cell_type": "code",
   "source": [
    "r_diff_true = Rate(diff=True)\n",
    "r_diff_false = Rate(diff=False)\n",
    "print(f\"EUR diff true: {r_diff_true.eur()}\")\n",
    "print(f\"EUR diff false: {r_diff_false.eur()}\")"
   ],
   "id": "6da2976457430e11",
   "outputs": [
    {
     "name": "stdout",
     "output_type": "stream",
     "text": [
      "EUR diff true: 0.12830000000001007\n",
      "EUR diff false: 103.3773\n"
     ]
    }
   ],
   "execution_count": 3
  },
  {
   "metadata": {},
   "cell_type": "markdown",
   "source": "# Task 3",
   "id": "9ccaf2445aa5e1a2"
  },
  {
   "metadata": {
    "ExecuteTime": {
     "end_time": "2024-09-21T22:02:58.182340Z",
     "start_time": "2024-09-21T22:02:58.177654Z"
    }
   },
   "cell_type": "code",
   "source": [
    "from abc import ABC, abstractmethod\n",
    "\n",
    "\n",
    "class Employee(ABC):\n",
    "    def __init__(self, name, seniority):\n",
    "        self.name = name\n",
    "        self.seniority = seniority\n",
    "\n",
    "        self.grade = 1\n",
    "\n",
    "    def grade_up(self):\n",
    "        \"\"\"Повышает уровень сотрудника\"\"\"\n",
    "        self.grade += 1\n",
    "\n",
    "    def publish_grade(self):\n",
    "        \"\"\"Публикация результатов аккредитации сотрудников\"\"\"\n",
    "        print(f\"{self.name} - grade: {self.grade}\")\n",
    "\n",
    "    @abstractmethod\n",
    "    def check_if_it_is_time_for_upgrade(self):\n",
    "        pass\n",
    "\n",
    "\n",
    "class Designer(Employee):\n",
    "    def __init__(self, name, seniority, awards=2):\n",
    "        \"\"\"Уже есть 2 премии. За каждую по два балла\"\"\"\n",
    "        super().__init__(name, seniority)\n",
    "        self.awards = awards\n",
    "        self.seniority += 2 * awards\n",
    "        self.points = self.seniority\n",
    "\n",
    "    def add_award(self):\n",
    "        \"\"\"Добавление премии. и сразу уведичение seniority на 2\"\"\"\n",
    "        self.awards += 1\n",
    "        self.seniority += 2\n",
    "        self.points += 2\n",
    "\n",
    "    def check_if_it_is_time_for_upgrade(self):\n",
    "        print(f\"Seniority: {self.seniority}, points: {self.points}\")\n",
    "        # if self.seniority % 7 == 0:\n",
    "        #     self.grade_up()\n",
    "        if self.points >= 7:\n",
    "            self.grade_up()\n",
    "            self.points -= 7\n",
    "\n",
    "        return self.publish_grade()\n",
    "\n",
    "designer = Designer('Maga', seniority=0)\n",
    "for i in range(20):\n",
    "    designer.add_award()\n",
    "    designer.check_if_it_is_time_for_upgrade()"
   ],
   "id": "b8b4fe3785b92e4a",
   "outputs": [
    {
     "name": "stdout",
     "output_type": "stream",
     "text": [
      "Seniority: 6, points: 6\n",
      "Maga - grade: 1\n",
      "Seniority: 8, points: 8\n",
      "Maga - grade: 2\n",
      "Seniority: 10, points: 3\n",
      "Maga - grade: 2\n",
      "Seniority: 12, points: 5\n",
      "Maga - grade: 2\n",
      "Seniority: 14, points: 7\n",
      "Maga - grade: 3\n",
      "Seniority: 16, points: 2\n",
      "Maga - grade: 3\n",
      "Seniority: 18, points: 4\n",
      "Maga - grade: 3\n",
      "Seniority: 20, points: 6\n",
      "Maga - grade: 3\n",
      "Seniority: 22, points: 8\n",
      "Maga - grade: 4\n",
      "Seniority: 24, points: 3\n",
      "Maga - grade: 4\n",
      "Seniority: 26, points: 5\n",
      "Maga - grade: 4\n",
      "Seniority: 28, points: 7\n",
      "Maga - grade: 5\n",
      "Seniority: 30, points: 2\n",
      "Maga - grade: 5\n",
      "Seniority: 32, points: 4\n",
      "Maga - grade: 5\n",
      "Seniority: 34, points: 6\n",
      "Maga - grade: 5\n",
      "Seniority: 36, points: 8\n",
      "Maga - grade: 6\n",
      "Seniority: 38, points: 3\n",
      "Maga - grade: 6\n",
      "Seniority: 40, points: 5\n",
      "Maga - grade: 6\n",
      "Seniority: 42, points: 7\n",
      "Maga - grade: 7\n",
      "Seniority: 44, points: 2\n",
      "Maga - grade: 7\n"
     ]
    }
   ],
   "execution_count": 15
  },
  {
   "metadata": {},
   "cell_type": "code",
   "outputs": [],
   "execution_count": null,
   "source": "",
   "id": "574ede78d085b79"
  }
 ],
 "metadata": {
  "kernelspec": {
   "display_name": "Python 3",
   "language": "python",
   "name": "python3"
  },
  "language_info": {
   "codemirror_mode": {
    "name": "ipython",
    "version": 2
   },
   "file_extension": ".py",
   "mimetype": "text/x-python",
   "name": "python",
   "nbconvert_exporter": "python",
   "pygments_lexer": "ipython2",
   "version": "2.7.6"
  }
 },
 "nbformat": 4,
 "nbformat_minor": 5
}
