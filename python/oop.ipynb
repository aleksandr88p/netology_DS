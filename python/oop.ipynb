{
 "cells": [
  {
   "cell_type": "markdown",
   "id": "7a966524",
   "metadata": {},
   "source": [
    " зачем классы?\n",
    " \n",
    "\n",
    "сейчас требования растут к аналитикам. И нужно решать красиво и оптимиизированно. А так же понимать чужой код\n",
    "если задачи простая то можно и без классов. А если логику надо расширять, то лучше использовать класс\n",
    "Класс если просто. ТО это набор функций(метод) и переменных(атрибутов) объединенных в одном объекте\n",
    "\n"
   ]
  },
  {
   "cell_type": "code",
   "execution_count": null,
   "id": "204b3943",
   "metadata": {},
   "outputs": [],
   "source": [
    "# а что если надо использовать z в func2? что бы не городить код и не сохранять везде в переменных, \n",
    "# проще создать класс\n",
    "def func1(x, z):\n",
    "    x += 1\n",
    "    z = z * 2\n",
    "    return x\n",
    "\n",
    "def func2(y):\n",
    "    print(y)"
   ]
  },
  {
   "cell_type": "code",
   "execution_count": 6,
   "id": "79ce9f0d",
   "metadata": {},
   "outputs": [],
   "source": [
    "class AnyName: # CamelCase\n",
    "    \n",
    "    def __init__(self): \n",
    "        # atributs\n",
    "        self.x = 0 # это атрбут. может выызываться в других методах\n",
    "        \n",
    "    # функции в классах, называются методы\n",
    "    def method_1(self):\n",
    "        self.x = 1 \n",
    "        \n",
    "    def method_2(self):\n",
    "        self.x += 1\n",
    "        print(self.x)"
   ]
  },
  {
   "cell_type": "code",
   "execution_count": 11,
   "id": "e05990a3",
   "metadata": {},
   "outputs": [],
   "source": [
    "a = AnyName()\n",
    "a.method_1()"
   ]
  },
  {
   "cell_type": "code",
   "execution_count": 16,
   "id": "4ddc37a2",
   "metadata": {},
   "outputs": [
    {
     "name": "stdout",
     "output_type": "stream",
     "text": [
      "6\n"
     ]
    }
   ],
   "source": [
    "a.method_2()"
   ]
  },
  {
   "cell_type": "code",
   "execution_count": 18,
   "id": "0579b228",
   "metadata": {},
   "outputs": [
    {
     "name": "stdout",
     "output_type": "stream",
     "text": [
      "9\n",
      "10\n"
     ]
    }
   ],
   "source": [
    "a.method_2()\n",
    "a.method_2()"
   ]
  },
  {
   "cell_type": "markdown",
   "id": "39202272",
   "metadata": {},
   "source": [
    "в классах для обработки ошибок метода init скорее всего не будет"
   ]
  },
  {
   "cell_type": "code",
   "execution_count": 12,
   "id": "ee8dfabd",
   "metadata": {},
   "outputs": [
    {
     "data": {
      "text/plain": [
       "11"
      ]
     },
     "execution_count": 12,
     "metadata": {},
     "output_type": "execute_result"
    }
   ],
   "source": [
    "class Person:\n",
    "    def __init__(self, age):\n",
    "        self.age = age  # Вызов setter, который присвоит значение в _age\n",
    "\n",
    "    @property\n",
    "    def age(self):\n",
    "        return self._age  # Возвращаем значение _age при обращении к person.age\n",
    "\n",
    "    @age.setter\n",
    "    def age(self, value):\n",
    "        if value < 0:\n",
    "            raise ValueError(\"Возраст не может быть отрицательным!\")\n",
    "        self._age = value  # Присваиваем значение в _age при изменении person.age\n",
    "\n",
    "        \n",
    "a = Person(age=11)\n",
    "a.age"
   ]
  },
  {
   "cell_type": "code",
   "execution_count": 5,
   "id": "5b990945",
   "metadata": {},
   "outputs": [
    {
     "name": "stdout",
     "output_type": "stream",
     "text": [
      "22.857142857142858\n"
     ]
    },
    {
     "data": {
      "text/plain": [
       "17.5"
      ]
     },
     "execution_count": 5,
     "metadata": {},
     "output_type": "execute_result"
    }
   ],
   "source": [
    "class Person:\n",
    "    def __init__(self, weight, height):\n",
    "        self._weight = weight  # Вес в килограммах\n",
    "        self._height = height  # Рост в метрах\n",
    "\n",
    "    @property\n",
    "    def bmi(self):\n",
    "        return self._weight / (self._height ** 2)  # Вычисляем BMI\n",
    "\n",
    "# Пример использования:\n",
    "person = Person(70, 1.75)\n",
    "print(person.bmi)  # Выведет примерно 22.86\n",
    "person._height = 2\n",
    "person.bmi"
   ]
  },
  {
   "cell_type": "code",
   "execution_count": null,
   "id": "671a666f",
   "metadata": {},
   "outputs": [],
   "source": []
  }
 ],
 "metadata": {
  "kernelspec": {
   "display_name": "Python 3 (ipykernel)",
   "language": "python",
   "name": "python3"
  },
  "language_info": {
   "codemirror_mode": {
    "name": "ipython",
    "version": 3
   },
   "file_extension": ".py",
   "mimetype": "text/x-python",
   "name": "python",
   "nbconvert_exporter": "python",
   "pygments_lexer": "ipython3",
   "version": "3.11.7"
  }
 },
 "nbformat": 4,
 "nbformat_minor": 5
}
