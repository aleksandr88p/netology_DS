{
 "nbformat": 4,
 "nbformat_minor": 0,
 "metadata": {
  "colab": {
   "provenance": [],
   "authorship_tag": "ABX9TyP/EVUpLjE5Or1r6STFelxH"
  },
  "kernelspec": {
   "name": "python3",
   "display_name": "Python 3 (ipykernel)",
   "language": "python"
  },
  "language_info": {
   "name": "python"
  }
 },
 "cells": [
  {
   "cell_type": "markdown",
   "source": [
    "Задание 1\n",
    "Дана переменная, в которой хранится словарь, содержащий гео-метки для каждого пользователя (пример структуры данных приведен ниже). Вам необходимо написать программу, которая выведет на экран множество уникальных гео-меток всех пользователей."
   ],
   "metadata": {
    "id": "ExztxtKZKOkB"
   }
  },
  {
   "cell_type": "code",
   "metadata": {
    "colab": {
     "base_uri": "https://localhost:8080/"
    },
    "id": "UuFnTRnxJvo2",
    "executionInfo": {
     "status": "ok",
     "timestamp": 1725572991342,
     "user_tz": -120,
     "elapsed": 289,
     "user": {
      "displayName": "Александр Пылаев",
      "userId": "03586457866037501454"
     }
    },
    "outputId": "471e0bd9-a742-46e6-f85b-cd800a98f89b",
    "ExecuteTime": {
     "end_time": "2024-09-08T13:30:18.152284Z",
     "start_time": "2024-09-08T13:30:18.145379Z"
    }
   },
   "source": [
    "ids = {'user1': [213, 213, 213, 15, 213],\n",
    "       'user2': [54, 54, 119, 119, 119],\n",
    "       'user3': [213, 98, 98, 35]}\n",
    "\n",
    "\n",
    "unique_geo_tags = set(tag for tags in ids.values() for tag in tags)\n",
    "print(unique_geo_tags)"
   ],
   "outputs": [
    {
     "name": "stdout",
     "output_type": "stream",
     "text": [
      "{98, 35, 15, 213, 54, 119}\n"
     ]
    }
   ],
   "execution_count": 1
  },
  {
   "cell_type": "markdown",
   "source": [
    "Задание 2\n",
    "Дана переменная, в которой хранится список поисковых запросов пользователя (пример структуры данных приведен ниже, но запросы потенциально могут быть любые). Вам необходимо написать программу, которая выведет на экран распределение количества слов в запросах в требуемом виде."
   ],
   "metadata": {
    "id": "KEQlENqHLbZN"
   }
  },
  {
   "cell_type": "code",
   "source": [
    "queries = [\n",
    "    'смотреть сериалы онлайн',\n",
    "    'новости спорта',\n",
    "    'афиша кино',\n",
    "    'курс доллара',\n",
    "    'сериалы этим летом',\n",
    "    'курс по питону',\n",
    "    'сериалы про спорт',\n",
    "    'сериалы про спорт  про спорт  про спорт',\n",
    "]\n",
    "\n",
    "percentages_word_count = {}\n",
    "for query in queries:\n",
    "    words_count = len(query.split())\n",
    "    if words_count in percentages_word_count:\n",
    "        percentages_word_count[words_count] += 1\n",
    "    else:\n",
    "        percentages_word_count[words_count] = 1\n",
    "\n",
    "for words_count, count in percentages_word_count.items():\n",
    "    percentage = count / len(queries) * 100\n",
    "    print(f'Поисковых запросов, содержащих {words_count} слов(а): {percentage:.2f}%')\n",
    "\n",
    "sorted_percentages = sorted(percentages_word_count.items(), key=lambda x: (x[1] / len(queries)) * 100)\n",
    "print()\n",
    "print('**********************************')\n",
    "print()\n",
    "for words_count, count in sorted_percentages:\n",
    "    percentage = count / len(queries) * 100\n",
    "    print(f'Поисковых запросов, содержащих {words_count} слов(а): {percentage:.2f}%')\n"
   ],
   "metadata": {
    "colab": {
     "base_uri": "https://localhost:8080/"
    },
    "id": "lHZb6H5uJ5Sc",
    "executionInfo": {
     "status": "ok",
     "timestamp": 1725573354827,
     "user_tz": -120,
     "elapsed": 385,
     "user": {
      "displayName": "Александр Пылаев",
      "userId": "03586457866037501454"
     }
    },
    "outputId": "d5ba2b91-e77b-44be-926d-25448a3f9d5e",
    "ExecuteTime": {
     "end_time": "2024-09-08T13:30:29.085291Z",
     "start_time": "2024-09-08T13:30:29.080038Z"
    }
   },
   "outputs": [
    {
     "name": "stdout",
     "output_type": "stream",
     "text": [
      "Поисковых запросов, содержащих 3 слов(а): 50.00%\n",
      "Поисковых запросов, содержащих 2 слов(а): 37.50%\n",
      "Поисковых запросов, содержащих 7 слов(а): 12.50%\n",
      "\n",
      "**********************************\n",
      "\n",
      "Поисковых запросов, содержащих 7 слов(а): 12.50%\n",
      "Поисковых запросов, содержащих 2 слов(а): 37.50%\n",
      "Поисковых запросов, содержащих 3 слов(а): 50.00%\n"
     ]
    }
   ],
   "execution_count": 2
  },
  {
   "cell_type": "markdown",
   "source": [
    "Задание 3\n",
    "Дана переменная, в которой хранится информация о затратах и доходе рекламных кампаний по различным источникам. Необходимо дополнить исходную структуру показателем ROI, который рассчитаем по формуле: ((revenue / cost) - 1) * 100"
   ],
   "metadata": {
    "id": "h3S7dP36PjRM"
   }
  },
  {
   "cell_type": "code",
   "source": [
    "results = {\n",
    "    'vk': {'revenue': 103, 'cost': 98},\n",
    "    'yandex': {'revenue': 179, 'cost': 153},\n",
    "    'facebook': {'revenue': 103, 'cost': 110},\n",
    "    'adwords': {'revenue': 35, 'cost': 34},\n",
    "    'twitter': {'revenue': 11, 'cost': 24},\n",
    "}\n",
    "\n",
    "def calculate_roi(revenue, cost):\n",
    "    try:\n",
    "        revenue = float(revenue)\n",
    "        cost = float(cost)\n",
    "        if cost == 0:\n",
    "            raise ZeroDivisionError(\"Cost can't be zero\")\n",
    "        return round((revenue / cost - 1) * 100, 2)\n",
    "    except (ValueError, ZeroDivisionError) as e:\n",
    "        print(f\"Error: {e}\")\n",
    "        return None\n",
    "\n",
    "for channel, stats in results.items():\n",
    "    stats['ROI'] = calculate_roi(stats['revenue'], stats['cost'])\n",
    "\n",
    "for channel, stats in sorted(results.items()):\n",
    "    print(channel, stats)\n"
   ],
   "metadata": {
    "colab": {
     "base_uri": "https://localhost:8080/"
    },
    "id": "fj88fPjnMXdr",
    "executionInfo": {
     "status": "ok",
     "timestamp": 1725574287479,
     "user_tz": -120,
     "elapsed": 301,
     "user": {
      "displayName": "Александр Пылаев",
      "userId": "03586457866037501454"
     }
    },
    "outputId": "4b5e8e78-2d31-4d84-e77d-b7a62ffa46d8"
   },
   "execution_count": 17,
   "outputs": [
    {
     "output_type": "stream",
     "name": "stdout",
     "text": [
      "adwords {'revenue': 35, 'cost': 34, 'ROI': 2.94}\n",
      "facebook {'revenue': 103, 'cost': 110, 'ROI': -6.36}\n",
      "twitter {'revenue': 11, 'cost': 24, 'ROI': -54.17}\n",
      "vk {'revenue': 103, 'cost': 98, 'ROI': 5.1}\n",
      "yandex {'revenue': 179, 'cost': 153, 'ROI': 16.99}\n"
     ]
    }
   ]
  },
  {
   "cell_type": "markdown",
   "source": [
    "Задание 4\n",
    "Дана переменная, в которой хранится статистика рекламных каналов по объемам продаж (пример структуры данных приведен ниже). Напишите программу, которая возвращает название канала с максимальным объемом продаж."
   ],
   "metadata": {
    "id": "dUb3UgtXQ_lu"
   }
  },
  {
   "cell_type": "code",
   "source": [
    "stats = {'facebook': 55, 'yandex': 115, 'vk': 120, 'google': 99, 'email': 42, 'ok': 98}\n",
    "\n",
    "sorted_stats = dict(sorted(stats.items(), key=lambda item: item[1]))\n",
    "max_stat = max(stats, key=stats.get)\n",
    "print(f\"Максимальный объем продаж на рекламном канале: {max_stat}\")"
   ],
   "metadata": {
    "colab": {
     "base_uri": "https://localhost:8080/"
    },
    "id": "oyoiFj0vQB8N",
    "executionInfo": {
     "status": "ok",
     "timestamp": 1725574610196,
     "user_tz": -120,
     "elapsed": 274,
     "user": {
      "displayName": "Александр Пылаев",
      "userId": "03586457866037501454"
     }
    },
    "outputId": "1f1572af-3eb1-4612-d2c8-d4fec1d9b54f"
   },
   "execution_count": 21,
   "outputs": [
    {
     "output_type": "stream",
     "name": "stdout",
     "text": [
      "Максимальный объем продаж на рекламном канале: vk\n"
     ]
    }
   ]
  },
  {
   "cell_type": "markdown",
   "source": [
    "Задание 5 (необязательно)\n",
    "Дан список произвольной длины. Необходимо написать код, который на основе исходного списка составит словарь такого уровня вложенности, какова длина исхондого списка."
   ],
   "metadata": {
    "id": "GwzOgnEFTIMU"
   }
  },
  {
   "cell_type": "code",
   "source": [
    "list1 = ['1', '2', '3', '4', '5']\n",
    "strange_dict = list1[-1]\n",
    "\n",
    "for item in reversed(list1[:-1]):\n",
    "    strange_dict = {item: strange_dict}\n",
    "\n",
    "print(strange_dict)"
   ],
   "metadata": {
    "colab": {
     "base_uri": "https://localhost:8080/"
    },
    "id": "RyekWpiPRBJH",
    "executionInfo": {
     "status": "ok",
     "timestamp": 1725575205686,
     "user_tz": -120,
     "elapsed": 306,
     "user": {
      "displayName": "Александр Пылаев",
      "userId": "03586457866037501454"
     }
    },
    "outputId": "05e490df-e39a-433d-f6fb-cc6e0c1fd920"
   },
   "execution_count": 27,
   "outputs": [
    {
     "output_type": "stream",
     "name": "stdout",
     "text": [
      "{'1': {'2': {'3': {'4': '5'}}}}\n"
     ]
    }
   ]
  },
  {
   "cell_type": "markdown",
   "source": [
    "Задание 6 (необязательно)\n",
    "Дана книга рецептов с информацией о том, сколько ингредиентов нужно для приготовления блюда в расчете на одну порцию (пример данных представлен ниже).\n",
    "Напишите программу, которая будет запрашивать у пользователя количество порций для приготовления этих блюд и отображать информацию о суммарном количестве требуемых ингредиентов в указанном виде.\n",
    "Внимание! Одинаковые ингредиенты с разными размерностями нужно считать раздельно!\n",
    "Пример работы программы:"
   ],
   "metadata": {
    "id": "wQGZ-34bTeVU"
   }
  },
  {
   "cell_type": "code",
   "source": [
    "\n",
    "\n",
    "cook_book = {\n",
    "  'салат': [\n",
    "     {'ingridient_name': 'сыр', 'quantity': 50, 'measure': 'гр'},\n",
    "     {'ingridient_name': 'томаты', 'quantity': 2, 'measure': 'шт'},\n",
    "     {'ingridient_name': 'огурцы', 'quantity': 20, 'measure': 'гр'},\n",
    "     {'ingridient_name': 'маслины', 'quantity': 10, 'measure': 'гр'},\n",
    "     {'ingridient_name': 'оливковое масло', 'quantity': 20, 'measure': 'мл'},\n",
    "     {'ingridient_name': 'салат', 'quantity': 10, 'measure': 'гр'},\n",
    "     {'ingridient_name': 'перец', 'quantity': 20, 'measure': 'гр'}\n",
    "    ],\n",
    "  'пицца': [\n",
    "     {'ingridient_name': 'сыр', 'quantity': 20, 'measure': 'гр'},\n",
    "     {'ingridient_name': 'колбаса', 'quantity': 30, 'measure': 'гр'},\n",
    "     {'ingridient_name': 'бекон', 'quantity': 30, 'measure': 'гр'},\n",
    "     {'ingridient_name': 'оливки', 'quantity': 10, 'measure': 'гр'},\n",
    "     {'ingridient_name': 'томаты', 'quantity': 20, 'measure': 'гр'},\n",
    "     {'ingridient_name': 'тесто', 'quantity': 100, 'measure': 'гр'},\n",
    "    ],\n",
    "  'лимонад': [\n",
    "     {'ingridient_name': 'лимон', 'quantity': 1, 'measure': 'шт'},\n",
    "     {'ingridient_name': 'вода', 'quantity': 200, 'measure': 'мл'},\n",
    "     {'ingridient_name': 'сахар', 'quantity': 10, 'measure': 'гр'},\n",
    "     {'ingridient_name': 'лайм', 'quantity': 20, 'measure': 'гр'},\n",
    "    ]\n",
    "}\n",
    "\n",
    "ingredient_dict = {}\n",
    "porcions = int(input('Введите количество порций: '))\n",
    "# porcions = 3\n",
    "\n",
    "for dish in cook_book.values():\n",
    "    for ingredient in dish:\n",
    "        name, quantity, mesaure = ingredient['ingridient_name'], ingredient['quantity'], ingredient['measure']\n",
    "        if name not in ingredient_dict:\n",
    "            ingredient_dict[name] = {'quantity': 0, 'measure': mesaure}\n",
    "        ingredient_dict[name]['quantity'] += quantity * porcions\n",
    "\n",
    "for name, ingredient in ingredient_dict.items():\n",
    "    print(f'{name.capitalize()}: {ingredient[\"quantity\"]} {ingredient[\"measure\"]}')"
   ],
   "metadata": {
    "colab": {
     "base_uri": "https://localhost:8080/"
    },
    "id": "3k8Py6liR--b",
    "executionInfo": {
     "status": "ok",
     "timestamp": 1725575754258,
     "user_tz": -120,
     "elapsed": 3298,
     "user": {
      "displayName": "Александр Пылаев",
      "userId": "03586457866037501454"
     }
    },
    "outputId": "7fe7fb93-c682-47cc-8abb-b48e1415ab1a"
   },
   "execution_count": 34,
   "outputs": [
    {
     "output_type": "stream",
     "name": "stdout",
     "text": [
      "Введите количество порций: 3\n",
      "Сыр: 210 гр\n",
      "Томаты: 66 шт\n",
      "Огурцы: 60 гр\n",
      "Маслины: 30 гр\n",
      "Оливковое масло: 60 мл\n",
      "Салат: 30 гр\n",
      "Перец: 60 гр\n",
      "Колбаса: 90 гр\n",
      "Бекон: 90 гр\n",
      "Оливки: 30 гр\n",
      "Тесто: 300 гр\n",
      "Лимон: 3 шт\n",
      "Вода: 600 мл\n",
      "Сахар: 30 гр\n",
      "Лайм: 60 гр\n"
     ]
    }
   ]
  },
  {
   "cell_type": "code",
   "source": [],
   "metadata": {
    "id": "KIiSQ27DU3Cj"
   },
   "execution_count": null,
   "outputs": []
  }
 ]
}
