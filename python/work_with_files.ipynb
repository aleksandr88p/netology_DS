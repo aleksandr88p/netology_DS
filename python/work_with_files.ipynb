{
 "cells": [
  {
   "cell_type": "code",
   "execution_count": 1,
   "metadata": {},
   "outputs": [],
   "source": [
    "import os\n",
    "import json"
   ]
  },
  {
   "cell_type": "code",
   "execution_count": 2,
   "metadata": {},
   "outputs": [],
   "source": [
    "p_log = 'Downloads/purchase_log.txt'\n",
    "visit_log = 'Downloads/visit_log.csv'"
   ]
  },
  {
   "cell_type": "code",
   "execution_count": 3,
   "metadata": {},
   "outputs": [],
   "source": [
    "purchases = {}\n",
    "with open (p_log, 'r', encoding='utf-8') as f:\n",
    "    for i, line in enumerate(f):\n",
    "        if line.strip():\n",
    "            try:\n",
    "                purchase = json.loads(line)\n",
    "                if purchase['user_id'] == 'user_id':\n",
    "                    continue\n",
    "                purchases[purchase['user_id']] = purchase['category']\n",
    "            except json.JSONDecodeError as e:\n",
    "                print(f\"error: {e}\")"
   ]
  },
  {
   "cell_type": "code",
   "execution_count": 9,
   "metadata": {},
   "outputs": [],
   "source": [
    "with open (visit_log, 'r', encoding='utf-8') as f:\n",
    "    with open('Downloads/funnel.csv', 'w', encoding='utf-8') as f2write:\n",
    "        for i, line in enumerate(f):\n",
    "            if line.strip():\n",
    "                user_id, source = line.strip().split(',')\n",
    "                if user_id in purchases:\n",
    "                    f2write.write(f\"{user_id},{source},{purchases[user_id]}\\n\")\n",
    "                else:\n",
    "                    f2write.write(f\"{user_id},{source},\\n\")\n"
   ]
  },
  {
   "cell_type": "code",
   "execution_count": null,
   "metadata": {},
   "outputs": [],
   "source": []
  }
 ],
 "metadata": {
  "kernelspec": {
   "display_name": "ai_products",
   "language": "python",
   "name": "python3"
  },
  "language_info": {
   "codemirror_mode": {
    "name": "ipython",
    "version": 3
   },
   "file_extension": ".py",
   "mimetype": "text/x-python",
   "name": "python",
   "nbconvert_exporter": "python",
   "pygments_lexer": "ipython3",
   "version": "3.11.9"
  }
 },
 "nbformat": 4,
 "nbformat_minor": 2
}
