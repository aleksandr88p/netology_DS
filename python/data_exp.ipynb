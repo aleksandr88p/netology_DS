{
 "cells": [
  {
   "cell_type": "code",
   "execution_count": 13,
   "metadata": {},
   "outputs": [],
   "source": [
    "from datetime import datetime, timedelta"
   ]
  },
  {
   "cell_type": "markdown",
   "metadata": {},
   "source": [
    "Задание 1\n",
    "Печатные газеты использовали свой формат дат для каждого выпуска. Для каждой газеты из списка напишите формат указанной даты для перевода в объект datetime:\n",
    "The Moscow Times — Wednesday, October 2, 2002\n",
    "The Guardian — Friday, 11.10.13\n",
    "Daily News — Thursday, 18 August 1977"
   ]
  },
  {
   "cell_type": "code",
   "execution_count": 3,
   "metadata": {},
   "outputs": [
    {
     "data": {
      "text/plain": [
       "datetime.datetime(2002, 10, 27, 0, 0)"
      ]
     },
     "execution_count": 3,
     "metadata": {},
     "output_type": "execute_result"
    }
   ],
   "source": [
    "moscow_time_str = \"Wednesday, October 27, 2002\"\n",
    "moscow_times_obj = datetime.strptime(moscow_time_str, \"%A, %B %d, %Y\")\n",
    "moscow_times_obj"
   ]
  },
  {
   "cell_type": "code",
   "execution_count": 4,
   "metadata": {},
   "outputs": [
    {
     "data": {
      "text/plain": [
       "datetime.datetime(2013, 12, 31, 0, 0)"
      ]
     },
     "execution_count": 4,
     "metadata": {},
     "output_type": "execute_result"
    }
   ],
   "source": [
    "gurardian_str = \"Friday, 31.12.13\"\n",
    "gurardian_obj = datetime.strptime(gurardian_str, \"%A, %d.%m.%y\")\n",
    "gurardian_obj\n"
   ]
  },
  {
   "cell_type": "code",
   "execution_count": 5,
   "metadata": {},
   "outputs": [
    {
     "data": {
      "text/plain": [
       "datetime.datetime(1977, 8, 18, 0, 0)"
      ]
     },
     "execution_count": 5,
     "metadata": {},
     "output_type": "execute_result"
    }
   ],
   "source": [
    "daily_news_str = \"Thursday, 18 August 1977\"\n",
    "daily_news_obj = datetime.strptime(daily_news_str, \"%A, %d %B %Y\")\n",
    "daily_news_obj"
   ]
  },
  {
   "cell_type": "markdown",
   "metadata": {},
   "source": [
    "Задание 2\n",
    "Дан поток дат в формате YYYY-MM-DD, в которых встречаются некорректные значения:\n",
    "stream = [‘2018-04-02’, ‘2018-02-29’, ‘2018-19-02’]\n",
    "\n",
    "Напишите функцию, которая проверяет эти даты на корректность. То есть для каждой даты возвращает True — дата корректна или False — некорректная."
   ]
  },
  {
   "cell_type": "code",
   "execution_count": 10,
   "metadata": {},
   "outputs": [
    {
     "name": "stdout",
     "output_type": "stream",
     "text": [
      "2018-04-02 00:00:00\n",
      "2020-02-29 00:00:00\n",
      "2018-19-02 is not a valid date format\n"
     ]
    }
   ],
   "source": [
    "dates = [\"2018-04-02\", \"2018-02-29\", \"2018-19-02\"]\n",
    "for date in dates:\n",
    "    try:\n",
    "        date_obj = datetime.strptime(date, \"%Y-%m-%d\")\n",
    "        print(date_obj)\n",
    "    except ValueError:\n",
    "        print(f\"{date} is not a valid date format\")\n",
    "\n",
    "    "
   ]
  },
  {
   "cell_type": "markdown",
   "metadata": {},
   "source": [
    "Напишите функцию date_range, которая возвращает список дат за период от start_date до end_date. Даты должны вводиться в формате YYYY-MM-DD. В случае неверного формата или при start_date > end_date должен возвращаться пустой список.\n",
    "\n"
   ]
  },
  {
   "cell_type": "code",
   "execution_count": 25,
   "metadata": {},
   "outputs": [
    {
     "data": {
      "text/plain": [
       "['2024-09-19',\n",
       " '2024-09-20',\n",
       " '2024-09-21',\n",
       " '2024-09-22',\n",
       " '2024-09-23',\n",
       " '2024-09-24',\n",
       " '2024-09-25',\n",
       " '2024-09-26',\n",
       " '2024-09-27',\n",
       " '2024-09-28',\n",
       " '2024-09-29']"
      ]
     },
     "execution_count": 25,
     "metadata": {},
     "output_type": "execute_result"
    }
   ],
   "source": [
    "\n",
    "def date_range(start_date: str, end_date: str) -> list:\n",
    "    all_dates = []\n",
    "    try:\n",
    "        start_date_obj = datetime.strptime(start_date, \"%Y-%m-%d\")\n",
    "        end_date_obj = datetime.strptime(end_date, \"%Y-%m-%d\")\n",
    "        for n in range(int((end_date_obj - start_date_obj).days)):\n",
    "            date_str = datetime.strftime(start_date_obj + timedelta(n), \"%Y-%m-%d\")\n",
    "            all_dates.append(date_str)\n",
    "        return all_dates\n",
    "    except ValueError:\n",
    "        print(f\"{start_date} or {end_date} is not a valid date format\")\n",
    "        return []\n",
    "\n",
    "\n",
    "\n",
    "\n",
    "all_dates = date_range(\"2024-09-19\", \"2024-09-30\")\n",
    "all_dates"
   ]
  },
  {
   "cell_type": "code",
   "execution_count": 21,
   "metadata": {},
   "outputs": [
    {
     "data": {
      "text/plain": [
       "datetime.datetime(2018, 4, 2, 0, 0)"
      ]
     },
     "execution_count": 21,
     "metadata": {},
     "output_type": "execute_result"
    }
   ],
   "source": [
    "dstr = \"2018-04-02\"\n",
    "dobj = datetime.strptime(dstr, \"%Y-%m-%d\")\n",
    "dobj"
   ]
  },
  {
   "cell_type": "code",
   "execution_count": 43,
   "metadata": {},
   "outputs": [
    {
     "data": {
      "text/plain": [
       "(['A100', 'A101', 'A102'],)"
      ]
     },
     "execution_count": 43,
     "metadata": {},
     "output_type": "execute_result"
    }
   ],
   "source": [
    "DEFAULT_USER_COUNT = 1\n",
    "def delete_and_return_last_user(region, default_list=[\"A100\", \"A101\", \"A102\"]):\n",
    "    element_to_delete = default_list[-1]\n",
    "    default_list.remove(element_to_delete)\n",
    "    return default_list[DEFAULT_USER_COUNT-2]\n",
    "\n",
    "\n",
    "delete_and_return_last_user.__defaults__\n"
   ]
  },
  {
   "cell_type": "code",
   "execution_count": 44,
   "metadata": {},
   "outputs": [
    {
     "data": {
      "text/plain": [
       "('A101', (['A100', 'A101'],))"
      ]
     },
     "execution_count": 44,
     "metadata": {},
     "output_type": "execute_result"
    }
   ],
   "source": [
    "\n",
    "delete_and_return_last_user(1), delete_and_return_last_user.__defaults__"
   ]
  },
  {
   "cell_type": "code",
   "execution_count": 45,
   "metadata": {},
   "outputs": [
    {
     "data": {
      "text/plain": [
       "('A100', (['A100'],))"
      ]
     },
     "execution_count": 45,
     "metadata": {},
     "output_type": "execute_result"
    }
   ],
   "source": [
    "\n",
    "delete_and_return_last_user(1), delete_and_return_last_user.__defaults__"
   ]
  },
  {
   "cell_type": "code",
   "execution_count": 46,
   "metadata": {},
   "outputs": [
    {
     "ename": "IndexError",
     "evalue": "list index out of range",
     "output_type": "error",
     "traceback": [
      "\u001b[0;31m---------------------------------------------------------------------------\u001b[0m",
      "\u001b[0;31mIndexError\u001b[0m                                Traceback (most recent call last)",
      "Cell \u001b[0;32mIn[46], line 1\u001b[0m\n\u001b[0;32m----> 1\u001b[0m delete_and_return_last_user(\u001b[38;5;241m1\u001b[39m), delete_and_return_last_user\u001b[38;5;241m.\u001b[39m\u001b[38;5;18m__defaults__\u001b[39m\n",
      "Cell \u001b[0;32mIn[43], line 5\u001b[0m, in \u001b[0;36mdelete_and_return_last_user\u001b[0;34m(region, default_list)\u001b[0m\n\u001b[1;32m      3\u001b[0m element_to_delete \u001b[38;5;241m=\u001b[39m default_list[\u001b[38;5;241m-\u001b[39m\u001b[38;5;241m1\u001b[39m]\n\u001b[1;32m      4\u001b[0m default_list\u001b[38;5;241m.\u001b[39mremove(element_to_delete)\n\u001b[0;32m----> 5\u001b[0m \u001b[38;5;28;01mreturn\u001b[39;00m default_list[DEFAULT_USER_COUNT\u001b[38;5;241m-\u001b[39m\u001b[38;5;241m2\u001b[39m]\n",
      "\u001b[0;31mIndexError\u001b[0m: list index out of range"
     ]
    }
   ],
   "source": [
    "delete_and_return_last_user(1), delete_and_return_last_user.__defaults__"
   ]
  },
  {
   "cell_type": "markdown",
   "metadata": {},
   "source": [
    "1) Что значит ошибка list index out of range?\n",
    "значит обратились к элементу списка которого нет, так как аргумент по умолчанию default_list меняется при каждом вызове. \n",
    "\n",
    "2) Почему при первом запуске функция работает корректно, а при втором — нет?\n",
    "функция и при втором запуске будет работать.\n",
    "она перестанет работать после второго запуска, так как лучше не использовть изменяемые объекты в качестве арг по умолчанию.\n",
    "место этого можно инициализировать список внутри функции, чтобы он создавался заново при каждом вызове, типа вот так:\n",
    "def delete_and_return_last_user(region, default_list=None):\n",
    "    if default_list is None:\n",
    "        default_list = ['A100', 'A101', 'A102'] \n",
    "    \n"
   ]
  },
  {
   "cell_type": "markdown",
   "metadata": {},
   "source": []
  }
 ],
 "metadata": {
  "kernelspec": {
   "display_name": "base",
   "language": "python",
   "name": "python3"
  },
  "language_info": {
   "codemirror_mode": {
    "name": "ipython",
    "version": 3
   },
   "file_extension": ".py",
   "mimetype": "text/x-python",
   "name": "python",
   "nbconvert_exporter": "python",
   "pygments_lexer": "ipython3",
   "version": "3.11.7"
  }
 },
 "nbformat": 4,
 "nbformat_minor": 2
}
