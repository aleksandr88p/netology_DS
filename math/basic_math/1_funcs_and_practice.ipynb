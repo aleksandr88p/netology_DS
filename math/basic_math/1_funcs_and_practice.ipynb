{
 "cells": [
  {
   "cell_type": "code",
   "execution_count": 12,
   "metadata": {},
   "outputs": [],
   "source": [
    "import sympy as sym"
   ]
  },
  {
   "cell_type": "markdown",
   "metadata": {},
   "source": [
    "# как аналитически вычислить производную с помощью sympy"
   ]
  },
  {
   "cell_type": "code",
   "execution_count": 13,
   "metadata": {},
   "outputs": [],
   "source": [
    "# теперь надо определить какие из параметров будут аналитическими\n",
    "x = sym.Symbol('x')"
   ]
  },
  {
   "cell_type": "code",
   "execution_count": 14,
   "metadata": {},
   "outputs": [
    {
     "data": {
      "text/latex": [
       "$\\displaystyle 3 x \\left(x^{2} + x\\right)^{3}$"
      ],
      "text/plain": [
       "3*x*(x**2 + x)**3"
      ]
     },
     "execution_count": 14,
     "metadata": {},
     "output_type": "execute_result"
    }
   ],
   "source": [
    "3*x*(x**2+x)**3"
   ]
  },
  {
   "cell_type": "code",
   "execution_count": 16,
   "metadata": {},
   "outputs": [
    {
     "data": {
      "text/latex": [
       "$\\displaystyle 3 x \\left(6 x + 3\\right) \\left(x^{2} + x\\right)^{2} + 3 \\left(x^{2} + x\\right)^{3}$"
      ],
      "text/plain": [
       "3*x*(6*x + 3)*(x**2 + x)**2 + 3*(x**2 + x)**3"
      ]
     },
     "execution_count": 16,
     "metadata": {},
     "output_type": "execute_result"
    }
   ],
   "source": [
    "res=sym.diff(3*x*(x**2+x)**3,x)\n",
    "res # аналитчкская производная"
   ]
  },
  {
   "cell_type": "code",
   "execution_count": 17,
   "metadata": {},
   "outputs": [
    {
     "data": {
      "text/latex": [
       "$\\displaystyle 132$"
      ],
      "text/plain": [
       "132"
      ]
     },
     "execution_count": 17,
     "metadata": {},
     "output_type": "execute_result"
    }
   ],
   "source": [
    "res.subs(x,1) # подстановка значения"
   ]
  },
  {
   "cell_type": "code",
   "execution_count": 2,
   "metadata": {},
   "outputs": [
    {
     "data": {
      "text/plain": [
       "132"
      ]
     },
     "execution_count": 2,
     "metadata": {},
     "output_type": "execute_result"
    }
   ],
   "source": [
    "3*1*(6*1 + 3)*(1**2 + 1)**2 + 3*(1**2 + 1)**3\n"
   ]
  },
  {
   "cell_type": "markdown",
   "metadata": {},
   "source": [
    "# Операции с векторами, часть 1\n",
    "    Условие задачи\n",
    "    Задайте вектор vec2=[1,2,3,4] , используя numpy.\n",
    "    В рамках задания также задан случайный вектор vec1. Выполните все поэлементные операции с векторами vec1 и vec2:\n",
    "\n",
    "    сложение;\n",
    "    вычитание из vec1 ;\n",
    "    умножение;\n",
    "    деление vec1.\n"
   ]
  },
  {
   "cell_type": "code",
   "execution_count": 3,
   "metadata": {},
   "outputs": [
    {
     "name": "stdout",
     "output_type": "stream",
     "text": [
      "Поэлементная сумма векторов [0.15416284 0.7400497  0.26331502 0.53373939] и [1 2 3 4] = [1.15416284 2.7400497  3.26331502 4.53373939]\n",
      "Поэлементная разность векторов [0.15416284 0.7400497  0.26331502 0.53373939] и [1 2 3 4] = [-0.84583716 -1.2599503  -2.73668498 -3.46626061]\n",
      "Поэлементное произведение векторов [0.15416284 0.7400497  0.26331502 0.53373939] и [1 2 3 4] = [0.15416284 1.48009939 0.78994505 2.13495757]\n",
      "Поэлементное деление векторов [0.15416284 0.7400497  0.26331502 0.53373939] и [1 2 3 4] = [0.15416284 0.37002485 0.08777167 0.13343485]\n"
     ]
    }
   ],
   "source": [
    "import numpy as np\n",
    "\n",
    "def seed(seed_value):\n",
    "    np.random.seed(seed_value)\n",
    "    vec_1 = np.random.rand(4)\n",
    "    return vec_1\n",
    "\n",
    "def vector_arithmetic(vec_1):\n",
    "    \n",
    "    vec_2 = np.array([1,2,3,4])\n",
    "    \n",
    "    addition_result = vec_1 + vec_2\n",
    "    subtraction_result = vec_1 - vec_2\n",
    "    elementwise_multiplication = vec_1 * vec_2\n",
    "    elementwise_division = vec_1 / vec_2\n",
    "    \n",
    "    return vec_2, addition_result, subtraction_result, elementwise_multiplication, elementwise_division   \n",
    "\n",
    "print(f\"Поэлементная сумма векторов {seed(12)} и {vector_arithmetic(seed(12))[0]} = {vector_arithmetic(seed(12))[1]}\")\n",
    "print(f\"Поэлементная разность векторов {seed(12)} и {vector_arithmetic(seed(12))[0]} = {vector_arithmetic(seed(12))[2]}\")\n",
    "print(f\"Поэлементное произведение векторов {seed(12)} и {vector_arithmetic(seed(12))[0]} = {vector_arithmetic(seed(12))[3]}\")\n",
    "print(f\"Поэлементное деление векторов {seed(12)} и {vector_arithmetic(seed(12))[0]} = {vector_arithmetic(seed(12))[4]}\")"
   ]
  },
  {
   "cell_type": "markdown",
   "metadata": {},
   "source": [
    "# задача 2\n",
    "    Условие задачи\n",
    "    Задайте вектор vec2=[5,4,3,2,1] , используя numpy.\n",
    "    В рамках задания также задан случайный вектор vec1 . Найдите скалярное произведение векторов vec1 и vec2 .\n",
    "    Прибавьте ко всем элементам вектора vec2 второй элемент вектора vec1 не используя цикл.\n",
    "    Умножьте все элементы вектора vec2 на последний элемент вектора vec1 не используя цикл."
   ]
  },
  {
   "cell_type": "code",
   "execution_count": 4,
   "metadata": {},
   "outputs": [
    {
     "name": "stdout",
     "output_type": "stream",
     "text": [
      "Скалярное произведение векторов [0.15416284 0.7400497  0.26331502 0.53373939 0.01457496] и [5 4 3 2 1] = 5.6030117927614\n",
      "Сумма 0.7400496965154048 и [5 4 3 2 1] = [5.7400497 4.7400497 3.7400497 2.7400497 1.7400497]\n",
      "Произведение 0.014574962485419674 и [5 4 3 2 1] = [0.07287481 0.05829985 0.04372489 0.02914992 0.01457496]\n"
     ]
    }
   ],
   "source": [
    "import numpy as np\n",
    "\n",
    "def seed(seed_value):\n",
    "    np.random.seed(seed_value)\n",
    "    vec_1 = np.random.rand(5)\n",
    "    return vec_1\n",
    "\n",
    "def vector_arithmetic(vec_1):\n",
    "    \n",
    "    vec_2 = np.array([5,4,3,2,1])\n",
    "    \n",
    "    dot_product = np.dot(vec_1, vec_2) # скалярное произведение\n",
    "    scalar_addition = vec_2 + vec_1[1] # прибавление второго элемента вектора vec1 к каждому элементу вектора vec2\n",
    "    scalar_multiplication = vec_2 * vec_1[-1] # умножение каждого элемента вектора vec2 на последний элемент вектора vec1\n",
    "\n",
    "    return vec_2, dot_product, scalar_addition, scalar_multiplication   \n",
    "\n",
    "print(f\"Скалярное произведение векторов {seed(12)} и {vector_arithmetic(seed(12))[0]} = {vector_arithmetic(seed(12))[1]}\")\n",
    "print(f\"Сумма {seed(12)[1]} и {vector_arithmetic(seed(12))[0]} = {vector_arithmetic(seed(12))[2]}\")\n",
    "print(f\"Произведение {seed(12)[-1]} и {vector_arithmetic(seed(12))[0]} = {vector_arithmetic(seed(12))[3]}\")"
   ]
  },
  {
   "cell_type": "code",
   "execution_count": 5,
   "metadata": {},
   "outputs": [
    {
     "data": {
      "text/plain": [
       "(array([5, 4, 3, 2, 1]),\n",
       " 5.6030117927614,\n",
       " array([5.7400497, 4.7400497, 3.7400497, 2.7400497, 1.7400497]),\n",
       " array([0.07287481, 0.05829985, 0.04372489, 0.02914992, 0.01457496]))"
      ]
     },
     "execution_count": 5,
     "metadata": {},
     "output_type": "execute_result"
    }
   ],
   "source": [
    "vector_arithmetic(seed(12))"
   ]
  },
  {
   "cell_type": "markdown",
   "metadata": {},
   "source": [
    "# задача 3 Косинус угла между векторами\n",
    "    Условие задачи\n",
    "    Найдите косинус угла между заданными векторами vec1 и vec2.\n",
    "\n",
    "    Для этого необходимо найти скалярное произведение и Евклидовы нормы каждого вектора. Результат, так называемая косинусная мера, может использоваться для определения похожести векторов.\n",
    "\n"
   ]
  },
  {
   "cell_type": "code",
   "execution_count": null,
   "metadata": {},
   "outputs": [],
   "source": [
    "import numpy as np\n",
    "\n",
    "def seed(seed_value):\n",
    "    np.random.seed(seed_value)\n",
    "    vec_1 = np.random.rand(6)\n",
    "    vec_2 = np.random.rand(6)\n",
    "    return vec_1, vec_2\n",
    "\n",
    "def cosine_similarity(vec_1, vec_2):\n",
    "\n",
    "    cosine_similarity = np.dot(vec_1, vec_2) / (np.linalg.norm(vec_1) * np.linalg.norm(vec_2))\n",
    "\n",
    "    return cosine_similarity\n",
    "\n",
    "print(f\"Косинус угла между векторами {seed(12)[0]} и {seed(12)[1]} = {cosine_similarity(seed(12)[0], seed(12)[1])}\")"
   ]
  },
  {
   "cell_type": "markdown",
   "metadata": {},
   "source": [
    "# задача 4 Телефонная матрица\n",
    "    Условие задачи\n",
    "    Задайте телефонную mat2=[[1,2,3],[4,5,6],[7,8,9]] , используя numpy.\n",
    "\n",
    "    В рамках задания также задана случайная матрица mat1 идентичной размерности. Выполните все поэлементные операции с векторами mat1 и mat2:\n",
    "\n",
    "    сложение;\n",
    "    вычитание из mat1 ;\n",
    "    умножение;\n",
    "    деление mat1 ;\n",
    "    матричное умножение.\n"
   ]
  },
  {
   "cell_type": "code",
   "execution_count": 6,
   "metadata": {},
   "outputs": [
    {
     "name": "stdout",
     "output_type": "stream",
     "text": [
      "Поэлементная сумма матриц [[0.15416284 0.7400497  0.26331502]\n",
      " [0.53373939 0.01457496 0.91874701]\n",
      " [0.90071485 0.03342143 0.95694934]] и [[1 2 3]\n",
      " [4 5 6]\n",
      " [7 8 9]] = [[1.15416284 2.7400497  3.26331502]\n",
      " [4.53373939 5.01457496 6.91874701]\n",
      " [7.90071485 8.03342143 9.95694934]]\n",
      "Поэлементная разность матриц [[0.15416284 0.7400497  0.26331502]\n",
      " [0.53373939 0.01457496 0.91874701]\n",
      " [0.90071485 0.03342143 0.95694934]] и [[1 2 3]\n",
      " [4 5 6]\n",
      " [7 8 9]] = [[-0.84583716 -1.2599503  -2.73668498]\n",
      " [-3.46626061 -4.98542504 -5.08125299]\n",
      " [-6.09928515 -7.96657857 -8.04305066]]\n",
      "Поэлементное произведение матриц [[0.15416284 0.7400497  0.26331502]\n",
      " [0.53373939 0.01457496 0.91874701]\n",
      " [0.90071485 0.03342143 0.95694934]] и [[1 2 3]\n",
      " [4 5 6]\n",
      " [7 8 9]] = [[0.15416284 1.48009939 0.78994505]\n",
      " [2.13495757 0.07287481 5.51248205]\n",
      " [6.30500398 0.26737142 8.61254403]]\n",
      "Поэлементная деление матриц [[0.15416284 0.7400497  0.26331502]\n",
      " [0.53373939 0.01457496 0.91874701]\n",
      " [0.90071485 0.03342143 0.95694934]] и [[1 2 3]\n",
      " [4 5 6]\n",
      " [7 8 9]] = [[0.15416284 0.37002485 0.08777167]\n",
      " [0.13343485 0.00291499 0.1531245 ]\n",
      " [0.12867355 0.00417768 0.1063277 ]]\n",
      "Матричное умножение [[0.15416284 0.7400497  0.26331502]\n",
      " [0.53373939 0.01457496 0.91874701]\n",
      " [0.90071485 0.03342143 0.95694934]] и [[1 2 3]\n",
      " [4 5 6]\n",
      " [7 8 9]] = [[ 4.95756673  6.11509429  7.27262184]\n",
      " [ 7.0232683   8.49032966  9.95739103]\n",
      " [ 7.73304592  9.62413154 11.51521715]]\n"
     ]
    }
   ],
   "source": [
    "import numpy as np\n",
    "\n",
    "def seed(seed_value):\n",
    "    np.random.seed(seed_value)\n",
    "    mat_1 = np.random.rand(3, 3)\n",
    "    return mat_1\n",
    "\n",
    "def matrix_arithmetic(mat_1):\n",
    "    # Задайте телефонную матрицу [[1, 2, 3],[4, 5, 6],[7, 8, 9]], используя numpy\n",
    "    # Выполните все поэлемнтные операции с матрицами mat_1 и mat_2:\n",
    "    # сложение, вычитание из mat_1, умножение и деление mat_1\n",
    "\n",
    "    mat_2 = np.array([[1, 2, 3],[4, 5, 6],[7, 8, 9]])\n",
    "\n",
    "    matrix_sum = mat_1 + mat_2\n",
    "    matrix_diff = mat_1 - mat_2\n",
    "    elementwise_product = mat_1 * mat_2\n",
    "    elementwise_division = mat_1 / mat_2\n",
    "    matrix_product = np.dot(mat_1, mat_2)\n",
    "\n",
    "    return mat_2, matrix_sum, matrix_diff, elementwise_product, elementwise_division, matrix_product\n",
    "\n",
    "print(f\"Поэлементная сумма матриц {seed(12)} и {matrix_arithmetic(seed(12))[0]} = {matrix_arithmetic(seed(12))[1]}\")\n",
    "print(f\"Поэлементная разность матриц {seed(12)} и {matrix_arithmetic(seed(12))[0]} = {matrix_arithmetic(seed(12))[2]}\")\n",
    "print(f\"Поэлементное произведение матриц {seed(12)} и {matrix_arithmetic(seed(12))[0]} = {matrix_arithmetic(seed(12))[3]}\")\n",
    "print(f\"Поэлементная деление матриц {seed(12)} и {matrix_arithmetic(seed(12))[0]} = {matrix_arithmetic(seed(12))[4]}\")\n",
    "print(f\"Матричное умножение {seed(12)} и {matrix_arithmetic(seed(12))[0]} = {matrix_arithmetic(seed(12))[5]}\")"
   ]
  },
  {
   "cell_type": "markdown",
   "metadata": {},
   "source": [
    "# задача 5 Матричное умножение\n",
    "    Условие задачи\n",
    "    Выполните матричное умножение для матрицы mat1 размерностью 3x4 и вектора vec1 размерностью 3. На выходе должен получиться вектор vec2 размерности 4.\n",
    "\n"
   ]
  },
  {
   "cell_type": "code",
   "execution_count": 7,
   "metadata": {},
   "outputs": [
    {
     "ename": "ValueError",
     "evalue": "shapes (3,4) and (3,) not aligned: 4 (dim 1) != 3 (dim 0)",
     "output_type": "error",
     "traceback": [
      "\u001b[0;31m---------------------------------------------------------------------------\u001b[0m",
      "\u001b[0;31mValueError\u001b[0m                                Traceback (most recent call last)",
      "Cell \u001b[0;32mIn[7], line 16\u001b[0m\n\u001b[1;32m     12\u001b[0m     vec_2 \u001b[38;5;241m=\u001b[39m np\u001b[38;5;241m.\u001b[39mdot(mat_1, vec_1)\n\u001b[1;32m     14\u001b[0m     \u001b[38;5;28;01mreturn\u001b[39;00m vec_2\n\u001b[0;32m---> 16\u001b[0m \u001b[38;5;28mprint\u001b[39m(\u001b[38;5;124mf\u001b[39m\u001b[38;5;124m\"\u001b[39m\u001b[38;5;124mМатричное умножение \u001b[39m\u001b[38;5;132;01m{\u001b[39;00mseed(\u001b[38;5;241m12\u001b[39m)[\u001b[38;5;241m0\u001b[39m]\u001b[38;5;132;01m}\u001b[39;00m\u001b[38;5;124m и \u001b[39m\u001b[38;5;132;01m{\u001b[39;00mseed(\u001b[38;5;241m12\u001b[39m)[\u001b[38;5;241m1\u001b[39m]\u001b[38;5;132;01m}\u001b[39;00m\u001b[38;5;124m = \u001b[39m\u001b[38;5;132;01m{\u001b[39;00mmatrix_arithmetic(seed(\u001b[38;5;241m12\u001b[39m)[\u001b[38;5;241m0\u001b[39m],seed(\u001b[38;5;241m12\u001b[39m)[\u001b[38;5;241m1\u001b[39m])\u001b[38;5;132;01m}\u001b[39;00m\u001b[38;5;124m\"\u001b[39m)\n",
      "Cell \u001b[0;32mIn[7], line 12\u001b[0m, in \u001b[0;36mmatrix_arithmetic\u001b[0;34m(vec_1, mat_1)\u001b[0m\n\u001b[1;32m     10\u001b[0m \u001b[38;5;28;01mdef\u001b[39;00m \u001b[38;5;21mmatrix_arithmetic\u001b[39m(vec_1, mat_1):\n\u001b[0;32m---> 12\u001b[0m     vec_2 \u001b[38;5;241m=\u001b[39m np\u001b[38;5;241m.\u001b[39mdot(mat_1, vec_1)\n\u001b[1;32m     14\u001b[0m     \u001b[38;5;28;01mreturn\u001b[39;00m vec_2\n",
      "\u001b[0;31mValueError\u001b[0m: shapes (3,4) and (3,) not aligned: 4 (dim 1) != 3 (dim 0)"
     ]
    }
   ],
   "source": [
    "import numpy as np\n",
    "\n",
    "def seed(seed_value):\n",
    "    np.random.seed(seed_value)\n",
    "    vec_1 = np.random.rand(3)\n",
    "    mat_1 = np.random.rand(3, 4)\n",
    "\n",
    "    return vec_1, mat_1\n",
    "\n",
    "def matrix_arithmetic(vec_1, mat_1):\n",
    "\n",
    "    vec_2 = np.dot(vec_1, mat_1)\n",
    "\n",
    "    return vec_2\n",
    "\n",
    "print(f\"Матричное умножение {seed(12)[0]} и {seed(12)[1]} = {matrix_arithmetic(seed(12)[0],seed(12)[1])}\")"
   ]
  }
 ],
 "metadata": {
  "kernelspec": {
   "display_name": "base",
   "language": "python",
   "name": "python3"
  },
  "language_info": {
   "codemirror_mode": {
    "name": "ipython",
    "version": 3
   },
   "file_extension": ".py",
   "mimetype": "text/x-python",
   "name": "python",
   "nbconvert_exporter": "python",
   "pygments_lexer": "ipython3",
   "version": "3.11.7"
  }
 },
 "nbformat": 4,
 "nbformat_minor": 2
}
