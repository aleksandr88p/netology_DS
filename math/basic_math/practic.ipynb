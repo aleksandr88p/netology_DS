{
 "cells": [
  {
   "cell_type": "code",
   "execution_count": 1,
   "metadata": {},
   "outputs": [],
   "source": [
    "import numpy as np"
   ]
  },
  {
   "cell_type": "code",
   "execution_count": 2,
   "metadata": {},
   "outputs": [],
   "source": [
    "# с помоцью функции np.array() создаю вектор\n",
    "v = np.array([1,2,3,np.pi, 5.25])"
   ]
  },
  {
   "cell_type": "code",
   "execution_count": 4,
   "metadata": {},
   "outputs": [
    {
     "data": {
      "text/plain": [
       "array([1.        , 2.        , 3.        , 3.14159265, 5.25      ])"
      ]
     },
     "execution_count": 4,
     "metadata": {},
     "output_type": "execute_result"
    }
   ],
   "source": [
    "v # вывод вектора и по умолчанию все целые числа преобразуются в float"
   ]
  },
  {
   "cell_type": "code",
   "execution_count": 9,
   "metadata": {},
   "outputs": [
    {
     "name": "stdout",
     "output_type": "stream",
     "text": [
      "(5,) 5\n",
      "1\n",
      "float64\n",
      "8\n",
      "40\n"
     ]
    }
   ],
   "source": [
    "# узнать размер вектора - это значит сколько элементов в векторе\n",
    "print(v.shape, v.size)\n",
    "# узнать размерность вектора - это значит сколько измерений в векторе\n",
    "print(v.ndim)\n",
    "# узнать тип данных - это значит какой тип данных используется в векторе\n",
    "print(v.dtype)\n",
    "# узнать размер элемента вектора - это значит сколько байт занимает один элемент вектора\n",
    "print(v.itemsize)\n",
    "# узнать размер вектора в байтах - это значит сколько байт занимает весь вектор\n",
    "print(v.nbytes)\n",
    "\n",
    "\n"
   ]
  },
  {
   "cell_type": "markdown",
   "metadata": {},
   "source": [
    "# визуализация вектора"
   ]
  },
  {
   "cell_type": "code",
   "execution_count": 10,
   "metadata": {},
   "outputs": [],
   "source": [
    "import matplotlib.pyplot as plt"
   ]
  },
  {
   "cell_type": "code",
   "execution_count": 12,
   "metadata": {},
   "outputs": [],
   "source": [
    "x1 = np.array([1,2])\n",
    "x2 = np.array([-1.5,1])\n",
    "x3 = np.array([0.5, -1.2])\n"
   ]
  },
  {
   "cell_type": "code",
   "execution_count": 19,
   "metadata": {},
   "outputs": [
    {
     "data": {
      "image/png": "[encoded data removed]",
      "text/plain": [
       "<Figure size 640x480 with 1 Axes>"
      ]
     },
     "metadata": {},
     "output_type": "display_data"
    }
   ],
   "source": [
    "plt.figure() # создание фигуры, простыми словами это окно с графиком\n",
    "# прописываю координаты каждого вектора. я там прописываю начало и конец вектора\n",
    "plt.plot(x1[0], x1[1], 'b+') # b - синий цвет, + - маркер\n",
    "plt.plot(x2[0], x2[1], 'r*') # r - красный цвет, * - маркер\n",
    "plt.plot(x3[0], x3[1], 'go') # g - зеленый цвет, o - маркер\n",
    "\n",
    "# добавление сетки\n",
    "plt.grid()\n",
    "\n",
    "plt.xlim(-3, 3) # ограничение по оси x\n",
    "plt.ylim(-3, 3) # ограничение по оси y\n",
    "\n",
    "# рисуем график\n",
    "plt.show()\n"
   ]
  },
  {
   "cell_type": "markdown",
   "metadata": {},
   "source": [
    "# математические операции с векторами"
   ]
  },
  {
   "cell_type": "code",
   "execution_count": 22,
   "metadata": {},
   "outputs": [
    {
     "name": "stdout",
     "output_type": "stream",
     "text": [
      "[4 5 3 7]\n",
      "[2 1 1 1]\n",
      "[ 3  6  2 12]\n",
      "[3.         1.5        2.         1.33333333]\n"
     ]
    }
   ],
   "source": [
    "a = np.array([3,3,2,4])\n",
    "b = np.array([1,2,1,3])\n",
    "\n",
    "# сложение векторов\n",
    "c = a + b\n",
    "print(c)\n",
    "\n",
    "# вычитание векторов\n",
    "d = a - b\n",
    "print(d)\n",
    "\n",
    "# умножение векторов(произведение координат исходных векторов)\n",
    "e = a * b\n",
    "print(e)\n",
    "\n",
    "# деление векторов\n",
    "f = a / b\n",
    "print(f)"
   ]
  },
  {
   "cell_type": "code",
   "execution_count": 26,
   "metadata": {},
   "outputs": [
    {
     "name": "stdout",
     "output_type": "stream",
     "text": [
      "23\n",
      "[ 3  6  2 12]\n",
      "23\n"
     ]
    }
   ],
   "source": [
    "# скалярное произведение векторов, вот как оно работает под капотом - это сумма произведений координат векторов, \n",
    "# тоесть 3*1 + 3*2 + 2*1 + 4*3 = 3 + 6 + 2 + 12 = 23\n",
    "g = np.dot(a, b)\n",
    "print(g)\n",
    "\n",
    "c = a * b\n",
    "print(c)\n",
    "print(sum(c))\n",
    "\n",
    "\n"
   ]
  },
  {
   "cell_type": "markdown",
   "metadata": {},
   "source": [
    "# нахождение угла между векторами\n",
    "    понадобится евклидова норма вектора - это корень из суммы квадратов координат вектора,\n",
    "    для этого используется функция np.linalg.norm()"
   ]
  },
  {
   "cell_type": "code",
   "execution_count": 31,
   "metadata": {},
   "outputs": [
    {
     "name": "stdout",
     "output_type": "stream",
     "text": [
      "6.164414002968976\n",
      "3.872983346207417\n"
     ]
    }
   ],
   "source": [
    "print(np.linalg.norm(a))\n",
    "print(np.linalg.norm(b))"
   ]
  },
  {
   "cell_type": "code",
   "execution_count": 37,
   "metadata": {},
   "outputs": [
    {
     "name": "stdout",
     "output_type": "stream",
     "text": [
      "0.9633639890708997\n"
     ]
    }
   ],
   "source": [
    "# нахождение угла между векторами\n",
    "angle = np.dot(a, b) / (np.linalg.norm(a) * np.linalg.norm(b))\n",
    "print(angle)\n",
    "\n",
    "\n",
    "\n",
    "\n",
    "\n"
   ]
  },
  {
   "cell_type": "code",
   "execution_count": 39,
   "metadata": {},
   "outputs": [
    {
     "name": "stdout",
     "output_type": "stream",
     "text": [
      "0.2715213509465357\n"
     ]
    }
   ],
   "source": [
    "arccos = np.arccos(angle) # нахождение угла между векторами\n",
    "print(arccos)\n",
    "\n",
    "\n",
    "\n"
   ]
  },
  {
   "cell_type": "code",
   "execution_count": 40,
   "metadata": {},
   "outputs": [
    {
     "data": {
      "text/plain": [
       "15.557027456926955"
      ]
     },
     "execution_count": 40,
     "metadata": {},
     "output_type": "execute_result"
    }
   ],
   "source": [
    "# для удобства конвертируем угол в градусы\n",
    "np.rad2deg(arccos)"
   ]
  },
  {
   "cell_type": "markdown",
   "metadata": {},
   "source": [
    "# Матрицы"
   ]
  },
  {
   "cell_type": "code",
   "execution_count": 41,
   "metadata": {},
   "outputs": [
    {
     "data": {
      "text/plain": [
       "array([[1, 2, 3],\n",
       "       [4, 5, 6],\n",
       "       [7, 8, 9]])"
      ]
     },
     "execution_count": 41,
     "metadata": {},
     "output_type": "execute_result"
    }
   ],
   "source": [
    "A1 = np.array([[1,2,3], [4,5,6], [7,8,9]])\n",
    "A1"
   ]
  },
  {
   "cell_type": "code",
   "execution_count": 45,
   "metadata": {},
   "outputs": [
    {
     "data": {
      "text/plain": [
       "array([[0.54805772, 0.41399831, 0.51745567],\n",
       "       [0.5959998 , 0.14089315, 0.11334464],\n",
       "       [0.35269655, 0.17616562, 0.50034525]])"
      ]
     },
     "execution_count": 45,
     "metadata": {},
     "output_type": "execute_result"
    }
   ],
   "source": [
    "# матрица создается случайным образом\n",
    "A2 = np.random.random((3,3))\n",
    "A2\n",
    "\n"
   ]
  },
  {
   "cell_type": "code",
   "execution_count": 46,
   "metadata": {},
   "outputs": [
    {
     "data": {
      "text/plain": [
       "array([[1.54805772, 2.41399831, 3.51745567],\n",
       "       [4.5959998 , 5.14089315, 6.11334464],\n",
       "       [7.35269655, 8.17616562, 9.50034525]])"
      ]
     },
     "execution_count": 46,
     "metadata": {},
     "output_type": "execute_result"
    }
   ],
   "source": [
    "A1 + A2\n",
    "\n"
   ]
  },
  {
   "cell_type": "code",
   "execution_count": 47,
   "metadata": {},
   "outputs": [
    {
     "data": {
      "text/plain": [
       "array([[0.45194228, 1.58600169, 2.48254433],\n",
       "       [3.4040002 , 4.85910685, 5.88665536],\n",
       "       [6.64730345, 7.82383438, 8.49965475]])"
      ]
     },
     "execution_count": 47,
     "metadata": {},
     "output_type": "execute_result"
    }
   ],
   "source": [
    "A1 - A2\n",
    "\n",
    "\n"
   ]
  },
  {
   "cell_type": "code",
   "execution_count": 48,
   "metadata": {},
   "outputs": [
    {
     "data": {
      "text/plain": [
       "array([[ 2,  4,  6],\n",
       "       [ 8, 10, 12],\n",
       "       [14, 16, 18]])"
      ]
     },
     "execution_count": 48,
     "metadata": {},
     "output_type": "execute_result"
    }
   ],
   "source": [
    "A1 * A2 # поэлементное умножение матриц"
   ]
  },
  {
   "cell_type": "code",
   "execution_count": 49,
   "metadata": {},
   "outputs": [
    {
     "data": {
      "text/plain": [
       "array([[ 2.79814697,  1.22428148,  2.24518072],\n",
       "       [ 7.28840919,  3.41745274,  5.63861742],\n",
       "       [11.7786714 ,  5.610624  ,  9.03205412]])"
      ]
     },
     "execution_count": 49,
     "metadata": {},
     "output_type": "execute_result"
    }
   ],
   "source": [
    "# матричное умножение матриц\n",
    "np.matmul(A1, A2)"
   ]
  },
  {
   "cell_type": "code",
   "execution_count": 50,
   "metadata": {},
   "outputs": [
    {
     "data": {
      "text/plain": [
       "array([[ 2.79814697,  1.22428148,  2.24518072],\n",
       "       [ 7.28840919,  3.41745274,  5.63861742],\n",
       "       [11.7786714 ,  5.610624  ,  9.03205412]])"
      ]
     },
     "execution_count": 50,
     "metadata": {},
     "output_type": "execute_result"
    }
   ],
   "source": [
    "A1 @ A2 # матричное умножение матриц"
   ]
  },
  {
   "cell_type": "code",
   "execution_count": 51,
   "metadata": {},
   "outputs": [
    {
     "data": {
      "text/plain": [
       "array([[5.82624069, 7.3057524 , 8.78526411],\n",
       "       [1.95298491, 2.8032225 , 3.65346009],\n",
       "       [4.5597758 , 5.58898323, 6.61819065]])"
      ]
     },
     "execution_count": 51,
     "metadata": {},
     "output_type": "execute_result"
    }
   ],
   "source": [
    "A2 @ A1\n"
   ]
  },
  {
   "cell_type": "code",
   "execution_count": 52,
   "metadata": {},
   "outputs": [
    {
     "data": {
      "text/plain": [
       "(3, 3)"
      ]
     },
     "execution_count": 52,
     "metadata": {},
     "output_type": "execute_result"
    }
   ],
   "source": [
    "A2.shape # размер матрицы"
   ]
  },
  {
   "cell_type": "code",
   "execution_count": 54,
   "metadata": {},
   "outputs": [
    {
     "name": "stdout",
     "output_type": "stream",
     "text": [
      "[[1. 0. 0.]\n",
      " [0. 1. 0.]\n",
      " [0. 0. 1.]]\n",
      "[[0. 0. 0.]\n",
      " [0. 0. 0.]\n",
      " [0. 0. 0.]]\n",
      "[[1. 1. 1.]\n",
      " [1. 1. 1.]\n",
      " [1. 1. 1.]]\n"
     ]
    }
   ],
   "source": [
    "A3 = np.eye(3) # единичная матрица\n",
    "A4 = np.zeros((3,3)) # нулевая матрица\n",
    "A5 = np.ones((3,3)) # матрица из единиц\n",
    "print(A3)\n",
    "print(A4)\n",
    "print(A5)\n",
    "\n"
   ]
  },
  {
   "cell_type": "code",
   "execution_count": null,
   "metadata": {},
   "outputs": [],
   "source": []
  }
 ],
 "metadata": {
  "kernelspec": {
   "display_name": "base",
   "language": "python",
   "name": "python3"
  },
  "language_info": {
   "codemirror_mode": {
    "name": "ipython",
    "version": 3
   },
   "file_extension": ".py",
   "mimetype": "text/x-python",
   "name": "python",
   "nbconvert_exporter": "python",
   "pygments_lexer": "ipython3",
   "version": "3.11.7"
  }
 },
 "nbformat": 4,
 "nbformat_minor": 2
}
