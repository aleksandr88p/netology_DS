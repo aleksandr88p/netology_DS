{
 "cells": [
  {
   "cell_type": "markdown",
   "metadata": {},
   "source": []
  },
  {
   "cell_type": "code",
   "execution_count": 18,
   "metadata": {},
   "outputs": [],
   "source": [
    "import requests\n",
    "\n",
    "cookies = {\n",
    "\n",
    "}\n",
    "\n",
    "headers = {\n",
    "    'User-Agent': 'Mozilla/5.0 (X11; Ubuntu; Linux x86_64; rv:132.0) Gecko/20100101 Firefox/132.0',\n",
    "    'Accept': 'application/json, text/plain, */*',\n",
    "    'Accept-Language': 'ru-RU,ru;q=0.8,en-US;q=0.5,en;q=0.3',\n",
    "    'Referer': 'https://habr.com/ru/search/?q=data+&target_type=posts&order=relevance',\n",
    "    'habr-user-uuid': '62Y9wdJ0cFHAZOQG21LKrpqxQExPW1lk2q81x0AGJ/irGryxh/h2McwLyK7KArysBpjCsDirUexMuiR1PslIXQ',\n",
    "    'x-app-version': '2.211.2',\n",
    "    'Sec-Fetch-Dest': 'empty',\n",
    "    'Sec-Fetch-Mode': 'cors',\n",
    "    'Sec-Fetch-Site': 'same-origin',\n",
    "    'Connection': 'keep-alive',\n",
    "    'Priority': 'u=0',\n",
    "}\n",
    "\n",
    "params = {\n",
    "    'query': 'python',\n",
    "    'order': 'relevance',\n",
    "    'fl': 'ru',\n",
    "    'hl': 'ru',\n",
    "    'page': '1',\n",
    "    'perPage': '20',\n",
    "}\n",
    "\n",
    "response = requests.get('https://habr.com/kek/v2/articles/', params=params, cookies=cookies, headers=headers)"
   ]
  },
  {
   "cell_type": "code",
   "execution_count": 19,
   "metadata": {},
   "outputs": [],
   "source": [
    "response_json = response.json()"
   ]
  },
  {
   "cell_type": "code",
   "execution_count": 20,
   "metadata": {},
   "outputs": [],
   "source": [
    "import json\n",
    "\n",
    "with open('habr.json', 'w', encoding='utf-8') as file:\n",
    "    json.dump(response_json, file, ensure_ascii=False, indent=4)\n"
   ]
  },
  {
   "cell_type": "code",
   "execution_count": 21,
   "metadata": {},
   "outputs": [],
   "source": [
    "with open('habr.json', 'r', encoding='utf-8') as file:\n",
    "    data = json.load(file)\n",
    "\n"
   ]
  },
  {
   "cell_type": "markdown",
   "metadata": {},
   "source": [
    "# решение с парсингом страницы а не json"
   ]
  },
  {
   "cell_type": "code",
   "execution_count": 50,
   "metadata": {},
   "outputs": [],
   "source": [
    "import requests\n",
    "from bs4 import BeautifulSoup\n",
    "import pandas as pd\n",
    "\n",
    "LINK = \"https://habr.com\""
   ]
  },
  {
   "cell_type": "code",
   "execution_count": 51,
   "metadata": {},
   "outputs": [],
   "source": [
    "def get_data(querry, page):\n",
    "    url = f\"https://habr.com/ru/search/page{str(page)}/?q={querry}&target_type=posts&order=relevance\"\n",
    "    response = requests.get(url)\n",
    "    return response.text\n",
    "\n"
   ]
  },
  {
   "cell_type": "code",
   "execution_count": 53,
   "metadata": {},
   "outputs": [],
   "source": [
    "def get_info(soup):\n",
    "    all_articles_habr = soup.find_all(\"article\", class_=\"tm-articles-list__item\")\n",
    "    articles = []\n",
    "    for article in all_articles_habr:\n",
    "        title = article.find(\"h2\").text\n",
    "        author_raw = article.find(\"span\", class_=\"tm-user-info__user\")\n",
    "        author = author_raw.find('a', class_='tm-user-info__username').text\n",
    "        sub_link = author_raw.find('a', class_='tm-article-datetime-published_link')['href']\n",
    "        date = author_raw.find('time')['datetime']\n",
    "        articles.append({\n",
    "            \"title\": title,\n",
    "            \"author\": author,\n",
    "            \"link\": LINK + sub_link,\n",
    "            \"date\": date\n",
    "        })\n",
    "    return articles"
   ]
  },
  {
   "cell_type": "code",
   "execution_count": 54,
   "metadata": {},
   "outputs": [
    {
     "data": {
      "text/plain": [
       "20"
      ]
     },
     "execution_count": 54,
     "metadata": {},
     "output_type": "execute_result"
    }
   ],
   "source": [
    "soup = BeautifulSoup(get_data(\"python\", 1), 'html.parser')\n",
    "\n",
    "all_articles = get_info(soup)\n",
    "len(all_articles)"
   ]
  },
  {
   "cell_type": "code",
   "execution_count": 56,
   "metadata": {},
   "outputs": [
    {
     "data": {
      "text/html": [
       "<div>\n",
       "<style scoped>\n",
       "    .dataframe tbody tr th:only-of-type {\n",
       "        vertical-align: middle;\n",
       "    }\n",
       "\n",
       "    .dataframe tbody tr th {\n",
       "        vertical-align: top;\n",
       "    }\n",
       "\n",
       "    .dataframe thead th {\n",
       "        text-align: right;\n",
       "    }\n",
       "</style>\n",
       "<table border=\"1\" class=\"dataframe\">\n",
       "  <thead>\n",
       "    <tr style=\"text-align: right;\">\n",
       "      <th></th>\n",
       "      <th>title</th>\n",
       "      <th>author</th>\n",
       "      <th>link</th>\n",
       "      <th>date</th>\n",
       "    </tr>\n",
       "  </thead>\n",
       "  <tbody>\n",
       "    <tr>\n",
       "      <th>0</th>\n",
       "      <td>Курс «Python для инженеров». Старт 3 потока 31...</td>\n",
       "      <td>Hedgehog_art</td>\n",
       "      <td>https://habr.com/ru/companies/slurm/news/646825/</td>\n",
       "      <td>2022-01-20T15:37:16.000Z</td>\n",
       "    </tr>\n",
       "    <tr>\n",
       "      <th>1</th>\n",
       "      <td>Жаждущим автоматизации: открытый урок «ChatOps...</td>\n",
       "      <td>geniyoctober</td>\n",
       "      <td>https://habr.com/ru/companies/slurm/news/595093/</td>\n",
       "      <td>2021-12-13T06:00:03.000Z</td>\n",
       "    </tr>\n",
       "    <tr>\n",
       "      <th>2</th>\n",
       "      <td>Открытый урок «Пишем Custom Prometheus Exporte...</td>\n",
       "      <td>Hedgehog_art</td>\n",
       "      <td>https://habr.com/ru/companies/slurm/news/645485/</td>\n",
       "      <td>2022-01-13T15:35:30.000Z</td>\n",
       "    </tr>\n",
       "    <tr>\n",
       "      <th>3</th>\n",
       "      <td>Microsoft представила дополнение Python Editor...</td>\n",
       "      <td>denis-19</td>\n",
       "      <td>https://habr.com/ru/news/761862/</td>\n",
       "      <td>2023-09-19T04:42:15.000Z</td>\n",
       "    </tr>\n",
       "    <tr>\n",
       "      <th>4</th>\n",
       "      <td>55% Python-разработчиков используют Linux-окру...</td>\n",
       "      <td>maybe_elf</td>\n",
       "      <td>https://habr.com/ru/news/840224/</td>\n",
       "      <td>2024-09-02T07:27:25.000Z</td>\n",
       "    </tr>\n",
       "  </tbody>\n",
       "</table>\n",
       "</div>"
      ],
      "text/plain": [
       "                                               title         author  \\\n",
       "0  Курс «Python для инженеров». Старт 3 потока 31...  Hedgehog_art    \n",
       "1  Жаждущим автоматизации: открытый урок «ChatOps...  geniyoctober    \n",
       "2  Открытый урок «Пишем Custom Prometheus Exporte...  Hedgehog_art    \n",
       "3  Microsoft представила дополнение Python Editor...      denis-19    \n",
       "4  55% Python-разработчиков используют Linux-окру...     maybe_elf    \n",
       "\n",
       "                                               link                      date  \n",
       "0  https://habr.com/ru/companies/slurm/news/646825/  2022-01-20T15:37:16.000Z  \n",
       "1  https://habr.com/ru/companies/slurm/news/595093/  2021-12-13T06:00:03.000Z  \n",
       "2  https://habr.com/ru/companies/slurm/news/645485/  2022-01-13T15:35:30.000Z  \n",
       "3                  https://habr.com/ru/news/761862/  2023-09-19T04:42:15.000Z  \n",
       "4                  https://habr.com/ru/news/840224/  2024-09-02T07:27:25.000Z  "
      ]
     },
     "execution_count": 56,
     "metadata": {},
     "output_type": "execute_result"
    }
   ],
   "source": [
    "df = pd.DataFrame(all_articles)\n",
    "df.to_csv('habr_python.csv', index=False)\n",
    "df.head()"
   ]
  },
  {
   "cell_type": "code",
   "execution_count": null,
   "metadata": {},
   "outputs": [],
   "source": []
  }
 ],
 "metadata": {
  "kernelspec": {
   "display_name": "base",
   "language": "python",
   "name": "python3"
  },
  "language_info": {
   "codemirror_mode": {
    "name": "ipython",
    "version": 3
   },
   "file_extension": ".py",
   "mimetype": "text/x-python",
   "name": "python",
   "nbconvert_exporter": "python",
   "pygments_lexer": "ipython3",
   "version": "3.11.7"
  }
 },
 "nbformat": 4,
 "nbformat_minor": 2
}
